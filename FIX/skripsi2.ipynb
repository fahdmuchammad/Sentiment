{
 "cells": [
  {
   "attachments": {},
   "cell_type": "markdown",
   "metadata": {},
   "source": [
    "# Sentiment Analysis Pilpres 2024 Naive bayes classifier\n",
    "M Fahd Ishamuddin\n",
    "<br>\n",
    "<br>\n",
    "\n",
    "41155050180048\n",
    "<hr>"
   ]
  },
  {
   "cell_type": "code",
   "execution_count": 49,
   "metadata": {},
   "outputs": [],
   "source": [
    "%matplotlib inline\n",
    "\n",
    "import re #regex\n",
    "import string #string\n",
    "import pandas as pd #dataframe\n",
    "import numpy as np #array dan matematika lainnya\n",
    "import matplotlib.pyplot as plt # data visualisasi\n",
    "import seaborn as sns #data visualisasi\n",
    "import collections\n",
    "import nltk #natural language toolkit\n",
    "from nltk.tokenize import word_tokenize #tokenisasi\n",
    "from nltk.sentiment import SentimentIntensityAnalyzer #intensitas sentimen \n",
    "from Sastrawi.StopWordRemover.StopWordRemoverFactory import StopWordRemoverFactory #stopword remover\n",
    "from Sastrawi.Stemmer.StemmerFactory import StemmerFactory #stemming"
   ]
  },
  {
   "cell_type": "code",
   "execution_count": 50,
   "metadata": {},
   "outputs": [
    {
     "name": "stdout",
     "output_type": "stream",
     "text": [
      "data ada sebanyak 5000 baris\n",
      "data1 ada sebanyak 112844 baris\n",
      "Index(['date', 'username', 'tweet'], dtype='object')\n",
      "date        object\n",
      "username    object\n",
      "tweet       object\n",
      "dtype: object\n",
      "Index(['date', 'tweet', 'username'], dtype='object')\n",
      "date        object\n",
      "tweet       object\n",
      "username    object\n",
      "dtype: object\n"
     ]
    }
   ],
   "source": [
    "data = pd.read_csv('2023sen11.csv')\n",
    "data1 = pd.read_csv('2022sen.csv')\n",
    "print('data ada sebanyak',len(data),'baris')\n",
    "print('data1 ada sebanyak',len(data1),'baris')\n",
    "data1 = data1.drop(['Unnamed: 0', 'id'], axis = 1)\n",
    "data = data.drop('Unnamed: 0', axis = 1)\n",
    "print(data.columns)\n",
    "print(data.dtypes)\n",
    "print(data1.columns)\n",
    "print(data1.dtypes)"
   ]
  },
  {
   "cell_type": "code",
   "execution_count": 51,
   "metadata": {},
   "outputs": [],
   "source": [
    "data = data.iloc[:,[0,2,1]]"
   ]
  },
  {
   "cell_type": "code",
   "execution_count": 52,
   "metadata": {},
   "outputs": [
    {
     "data": {
      "text/plain": [
       "Index(['date', 'tweet', 'username'], dtype='object')"
      ]
     },
     "execution_count": 52,
     "metadata": {},
     "output_type": "execute_result"
    }
   ],
   "source": [
    "data.columns"
   ]
  },
  {
   "attachments": {},
   "cell_type": "markdown",
   "metadata": {},
   "source": [
    "#### fix dataset"
   ]
  },
  {
   "cell_type": "code",
   "execution_count": 53,
   "metadata": {},
   "outputs": [
    {
     "name": "stdout",
     "output_type": "stream",
     "text": [
      "ada sebanyak 2254 data yang terduplikasi\n",
      "ada sebanyak 1993 data yang terduplikasi\n"
     ]
    }
   ],
   "source": [
    "duplikasi = len(data.tweet)-len(data.tweet.drop_duplicates())\n",
    "print(f'ada sebanyak {duplikasi} data yang terduplikasi')\n",
    "\n",
    "duplikasi1 = len(data1.tweet)-len(data1.tweet.drop_duplicates())\n",
    "print(f'ada sebanyak {duplikasi1} data yang terduplikasi')"
   ]
  },
  {
   "cell_type": "code",
   "execution_count": 54,
   "metadata": {},
   "outputs": [
    {
     "data": {
      "text/html": [
       "<div>\n",
       "<style scoped>\n",
       "    .dataframe tbody tr th:only-of-type {\n",
       "        vertical-align: middle;\n",
       "    }\n",
       "\n",
       "    .dataframe tbody tr th {\n",
       "        vertical-align: top;\n",
       "    }\n",
       "\n",
       "    .dataframe thead th {\n",
       "        text-align: right;\n",
       "    }\n",
       "</style>\n",
       "<table border=\"1\" class=\"dataframe\">\n",
       "  <thead>\n",
       "    <tr style=\"text-align: right;\">\n",
       "      <th></th>\n",
       "      <th>index</th>\n",
       "      <th>size</th>\n",
       "    </tr>\n",
       "  </thead>\n",
       "  <tbody>\n",
       "    <tr>\n",
       "      <th>2189</th>\n",
       "      <td>RT @PutraErlangga95: Hii tweps mari kita polli...</td>\n",
       "      <td>1848</td>\n",
       "    </tr>\n",
       "    <tr>\n",
       "      <th>784</th>\n",
       "      <td>Akademisi: Pasangan Prabowo-Erick Beri Efek Po...</td>\n",
       "      <td>36</td>\n",
       "    </tr>\n",
       "    <tr>\n",
       "      <th>786</th>\n",
       "      <td>Akademisi: Pasangan Prabowo-Erick Thohir Beri ...</td>\n",
       "      <td>36</td>\n",
       "    </tr>\n",
       "    <tr>\n",
       "      <th>1093</th>\n",
       "      <td>Gerindra Jatim Target Prabowo Harus Menang 65 ...</td>\n",
       "      <td>36</td>\n",
       "    </tr>\n",
       "    <tr>\n",
       "      <th>1140</th>\n",
       "      <td>Gerindra yakin pengaruh dukungan Presiden Joko...</td>\n",
       "      <td>11</td>\n",
       "    </tr>\n",
       "    <tr>\n",
       "      <th>...</th>\n",
       "      <td>...</td>\n",
       "      <td>...</td>\n",
       "    </tr>\n",
       "    <tr>\n",
       "      <th>926</th>\n",
       "      <td>Direktur Eksekutif Charta Politika Yunarto Wij...</td>\n",
       "      <td>1</td>\n",
       "    </tr>\n",
       "    <tr>\n",
       "      <th>927</th>\n",
       "      <td>Direktur Eksekutif Charta Politika Yunarto Wij...</td>\n",
       "      <td>1</td>\n",
       "    </tr>\n",
       "    <tr>\n",
       "      <th>928</th>\n",
       "      <td>Direktur Eksekutif Charta Politika Yunarto Wij...</td>\n",
       "      <td>1</td>\n",
       "    </tr>\n",
       "    <tr>\n",
       "      <th>929</th>\n",
       "      <td>Direktur Eksekutif Indikator Politik Indonesia...</td>\n",
       "      <td>1</td>\n",
       "    </tr>\n",
       "    <tr>\n",
       "      <th>2745</th>\n",
       "      <td>“Tak terbantahkan lagi, 90 persen relawan Pak ...</td>\n",
       "      <td>1</td>\n",
       "    </tr>\n",
       "  </tbody>\n",
       "</table>\n",
       "<p>2746 rows × 2 columns</p>\n",
       "</div>"
      ],
      "text/plain": [
       "                                                  index  size\n",
       "2189  RT @PutraErlangga95: Hii tweps mari kita polli...  1848\n",
       "784   Akademisi: Pasangan Prabowo-Erick Beri Efek Po...    36\n",
       "786   Akademisi: Pasangan Prabowo-Erick Thohir Beri ...    36\n",
       "1093  Gerindra Jatim Target Prabowo Harus Menang 65 ...    36\n",
       "1140  Gerindra yakin pengaruh dukungan Presiden Joko...    11\n",
       "...                                                 ...   ...\n",
       "926   Direktur Eksekutif Charta Politika Yunarto Wij...     1\n",
       "927   Direktur Eksekutif Charta Politika Yunarto Wij...     1\n",
       "928   Direktur Eksekutif Charta Politika Yunarto Wij...     1\n",
       "929   Direktur Eksekutif Indikator Politik Indonesia...     1\n",
       "2745  “Tak terbantahkan lagi, 90 persen relawan Pak ...     1\n",
       "\n",
       "[2746 rows x 2 columns]"
      ]
     },
     "execution_count": 54,
     "metadata": {},
     "output_type": "execute_result"
    }
   ],
   "source": [
    "x = data.groupby(data.tweet.tolist(), as_index=False).size()\n",
    "x.sort_values(by='size',ascending=False)\n",
    "\n"
   ]
  },
  {
   "cell_type": "code",
   "execution_count": 55,
   "metadata": {},
   "outputs": [
    {
     "name": "stdout",
     "output_type": "stream",
     "text": [
      "jadi ada tweet sebanyak 113 yang memiliki cuitan yang sama dengan total 2254 tweet\n"
     ]
    }
   ],
   "source": [
    "a = (x['size'] > 1).sum()\n",
    "print(f'jadi ada tweet sebanyak {a} yang memiliki cuitan yang sama dengan total {duplikasi} tweet')"
   ]
  },
  {
   "cell_type": "code",
   "execution_count": 56,
   "metadata": {},
   "outputs": [],
   "source": [
    "data = data.drop_duplicates(subset=['tweet'])"
   ]
  },
  {
   "cell_type": "code",
   "execution_count": 57,
   "metadata": {},
   "outputs": [
    {
     "data": {
      "text/plain": [
       "2746"
      ]
     },
     "execution_count": 57,
     "metadata": {},
     "output_type": "execute_result"
    }
   ],
   "source": [
    "len(data)"
   ]
  },
  {
   "cell_type": "code",
   "execution_count": 58,
   "metadata": {},
   "outputs": [
    {
     "data": {
      "text/html": [
       "<div>\n",
       "<style scoped>\n",
       "    .dataframe tbody tr th:only-of-type {\n",
       "        vertical-align: middle;\n",
       "    }\n",
       "\n",
       "    .dataframe tbody tr th {\n",
       "        vertical-align: top;\n",
       "    }\n",
       "\n",
       "    .dataframe thead th {\n",
       "        text-align: right;\n",
       "    }\n",
       "</style>\n",
       "<table border=\"1\" class=\"dataframe\">\n",
       "  <thead>\n",
       "    <tr style=\"text-align: right;\">\n",
       "      <th></th>\n",
       "      <th>index</th>\n",
       "      <th>size</th>\n",
       "    </tr>\n",
       "  </thead>\n",
       "  <tbody>\n",
       "    <tr>\n",
       "      <th>97150</th>\n",
       "      <td>Saya dukung di pilpres 2024 ya pak @ridwankamil</td>\n",
       "      <td>40</td>\n",
       "    </tr>\n",
       "    <tr>\n",
       "      <th>34625</th>\n",
       "      <td>@rkij_sukabumi @ridwankamil Saya dukung di pil...</td>\n",
       "      <td>34</td>\n",
       "    </tr>\n",
       "    <tr>\n",
       "      <th>38024</th>\n",
       "      <td>AHY Minim Prestasi Tapi Nekad Maju Pilpres htt...</td>\n",
       "      <td>32</td>\n",
       "    </tr>\n",
       "    <tr>\n",
       "      <th>41674</th>\n",
       "      <td>Anis merupakan sosok yang tidak cocok untuk me...</td>\n",
       "      <td>29</td>\n",
       "    </tr>\n",
       "    <tr>\n",
       "      <th>1145</th>\n",
       "      <td>#Mangkrak.\\nsiapa yang betah+doyan dikibulin d...</td>\n",
       "      <td>29</td>\n",
       "    </tr>\n",
       "    <tr>\n",
       "      <th>...</th>\n",
       "      <td>...</td>\n",
       "      <td>...</td>\n",
       "    </tr>\n",
       "    <tr>\n",
       "      <th>36973</th>\n",
       "      <td>@wawanjangkarmas @WagimanDeep212_ @jokowi Mash...</td>\n",
       "      <td>1</td>\n",
       "    </tr>\n",
       "    <tr>\n",
       "      <th>36972</th>\n",
       "      <td>@wawanalwan27 @TriSartopo @Mdy_Asmara1701 @ani...</td>\n",
       "      <td>1</td>\n",
       "    </tr>\n",
       "    <tr>\n",
       "      <th>36971</th>\n",
       "      <td>@wawan_purwandl @prabowo @cakimiNOW @gusyusufc...</td>\n",
       "      <td>1</td>\n",
       "    </tr>\n",
       "    <tr>\n",
       "      <th>36970</th>\n",
       "      <td>@wawan_purwandl @cakimiNOW Maju terus Gus Muha...</td>\n",
       "      <td>1</td>\n",
       "    </tr>\n",
       "    <tr>\n",
       "      <th>110849</th>\n",
       "      <td>𰤩 pilpres udh beberapa kali gagal. jadi ketua ...</td>\n",
       "      <td>1</td>\n",
       "    </tr>\n",
       "  </tbody>\n",
       "</table>\n",
       "<p>110850 rows × 2 columns</p>\n",
       "</div>"
      ],
      "text/plain": [
       "                                                    index  size\n",
       "97150     Saya dukung di pilpres 2024 ya pak @ridwankamil    40\n",
       "34625   @rkij_sukabumi @ridwankamil Saya dukung di pil...    34\n",
       "38024   AHY Minim Prestasi Tapi Nekad Maju Pilpres htt...    32\n",
       "41674   Anis merupakan sosok yang tidak cocok untuk me...    29\n",
       "1145    #Mangkrak.\\nsiapa yang betah+doyan dikibulin d...    29\n",
       "...                                                   ...   ...\n",
       "36973   @wawanjangkarmas @WagimanDeep212_ @jokowi Mash...     1\n",
       "36972   @wawanalwan27 @TriSartopo @Mdy_Asmara1701 @ani...     1\n",
       "36971   @wawan_purwandl @prabowo @cakimiNOW @gusyusufc...     1\n",
       "36970   @wawan_purwandl @cakimiNOW Maju terus Gus Muha...     1\n",
       "110849  𰤩 pilpres udh beberapa kali gagal. jadi ketua ...     1\n",
       "\n",
       "[110850 rows x 2 columns]"
      ]
     },
     "execution_count": 58,
     "metadata": {},
     "output_type": "execute_result"
    }
   ],
   "source": [
    "y = data1.groupby(data1.tweet.tolist(), as_index=False).size()\n",
    "y.sort_values(by='size',ascending=False)"
   ]
  },
  {
   "cell_type": "code",
   "execution_count": 59,
   "metadata": {},
   "outputs": [
    {
     "name": "stdout",
     "output_type": "stream",
     "text": [
      "jadi ada tweet sebanyak 843 yang memiliki cuitan yang sama dengan total 1993 tweet\n"
     ]
    }
   ],
   "source": [
    "b = (y['size'] > 1).sum()\n",
    "print(f'jadi ada tweet sebanyak {b} yang memiliki cuitan yang sama dengan total {duplikasi1} tweet')"
   ]
  },
  {
   "cell_type": "code",
   "execution_count": 60,
   "metadata": {},
   "outputs": [],
   "source": [
    "data1 = data1.drop_duplicates(subset=['tweet'])"
   ]
  },
  {
   "cell_type": "code",
   "execution_count": 61,
   "metadata": {},
   "outputs": [
    {
     "name": "stdout",
     "output_type": "stream",
     "text": [
      "ada sebanyak 0 data yang terduplikasi\n",
      "ada sebanyak 0 data yang terduplikasi\n"
     ]
    }
   ],
   "source": [
    "duplikasi = len(data.tweet)-len(data.tweet.drop_duplicates())\n",
    "print(f'ada sebanyak {duplikasi} data yang terduplikasi')\n",
    "\n",
    "duplikasi1 = len(data1.tweet)-len(data1.tweet.drop_duplicates())\n",
    "print(f'ada sebanyak {duplikasi1} data yang terduplikasi')"
   ]
  },
  {
   "cell_type": "code",
   "execution_count": 62,
   "metadata": {},
   "outputs": [
    {
     "data": {
      "text/plain": [
       "2746"
      ]
     },
     "execution_count": 62,
     "metadata": {},
     "output_type": "execute_result"
    }
   ],
   "source": [
    "len(data)"
   ]
  },
  {
   "cell_type": "code",
   "execution_count": 63,
   "metadata": {},
   "outputs": [
    {
     "data": {
      "text/plain": [
       "110851"
      ]
     },
     "execution_count": 63,
     "metadata": {},
     "output_type": "execute_result"
    }
   ],
   "source": [
    "len(data1)"
   ]
  },
  {
   "cell_type": "code",
   "execution_count": 64,
   "metadata": {},
   "outputs": [
    {
     "name": "stdout",
     "output_type": "stream",
     "text": [
      "                        date  \\\n",
      "0  2023-05-30 23:59:44+00:00   \n",
      "1  2023-05-30 23:59:24+00:00   \n",
      "2  2023-05-30 23:53:44+00:00   \n",
      "3  2023-05-30 23:52:00+00:00   \n",
      "4  2023-05-30 23:48:29+00:00   \n",
      "\n",
      "                                               tweet        username  \n",
      "0  @ReflyHZ @YouTube Resmi!!! Presiden Joko Widod...        AdeSaung  \n",
      "1  @tifsembiring Ini paling ada hubunganx dg pilp...     DewaSudana9  \n",
      "2  @PDemokrat Sepertinya pak jokowi head to head ...      maha_sakti  \n",
      "3  Elite Golkar Bicara Kans Duet Prabowo-Airlangg...  fadyahrismaaul  \n",
      "4  @dennyindrayana @KataBewe @nazaqistsha Terusla...        WiyonoHw  \n",
      "                        date  \\\n",
      "0  2022-12-30 23:50:32+00:00   \n",
      "1  2022-12-30 23:50:16+00:00   \n",
      "2  2022-12-30 23:40:27+00:00   \n",
      "3  2022-12-30 23:36:07+00:00   \n",
      "4  2022-12-30 23:26:47+00:00   \n",
      "\n",
      "                                               tweet         username  \n",
      "0  Berkat kinerja di BUMN, serta kedekatan dengan...        Fuad_Lha9  \n",
      "1  @ganjarpranowo menggandeng ulama hingga tokoh ...      iwan_tata98  \n",
      "2  Mantap 👍👍\\nElektabilitas Menteri BUMN Erick Th...        Lima8Satu  \n",
      "3  Baru Lolos Sebagai Peserta Pemilu 2024, Partai...  21BeritaTerkini  \n",
      "4  Agenda politik negara tuan rumah Piala Dunia 2...      rezakaisar3  \n"
     ]
    }
   ],
   "source": [
    "print(data.head(5))\n",
    "print(data1.head(5))"
   ]
  },
  {
   "cell_type": "code",
   "execution_count": 65,
   "metadata": {},
   "outputs": [],
   "source": [
    "df = pd.concat([data1, data])"
   ]
  },
  {
   "cell_type": "code",
   "execution_count": 66,
   "metadata": {},
   "outputs": [
    {
     "data": {
      "text/plain": [
       "113597"
      ]
     },
     "execution_count": 66,
     "metadata": {},
     "output_type": "execute_result"
    }
   ],
   "source": [
    "len(df)"
   ]
  },
  {
   "attachments": {},
   "cell_type": "markdown",
   "metadata": {},
   "source": [
    "## pelabelan"
   ]
  },
  {
   "cell_type": "code",
   "execution_count": 67,
   "metadata": {},
   "outputs": [],
   "source": [
    "def preprocess_tweet2(tweet):\n",
    "    EMOJI_PATTERN = re.compile(\n",
    "    \"([\"\n",
    "    \"\\U0001F1E0-\\U0001F1FF\"  # flags (iOS)\n",
    "    \"\\U0001F300-\\U0001F5FF\"  # symbols & pictographs\n",
    "    \"\\U0001F600-\\U0001F64F\"  # emoticons\n",
    "    \"\\U0001F680-\\U0001F6FF\"  # transport & map symbols\n",
    "    \"\\U0001F700-\\U0001F77F\"  # alchemical symbols\n",
    "    \"\\U0001F780-\\U0001F7FF\"  # Geometric Shapes Extended\n",
    "    \"\\U0001F800-\\U0001F8FF\"  # Supplemental Arrows-C\n",
    "    \"\\U0001F900-\\U0001F9FF\"  # Supplemental Symbols and Pictographs\n",
    "    \"\\U0001FA00-\\U0001FA6F\"  # Chess Symbols\n",
    "    \"\\U0001FA70-\\U0001FAFF\"  # Symbols and Pictographs Extended-A\n",
    "    \"\\U00002702-\\U000027B0\"  # Dingbats\n",
    "    \"])\")\n",
    "    tweet = re.sub(r'[0-9]+','', str(tweet))\n",
    "    tweet = tweet.lower()  # convert to lower case\n",
    "    tweet = re.sub(r\"http\\S+|www\\S+|https\\S+\", '', tweet, flags=re.MULTILINE)  # remove URLs\n",
    "    tweet = re.sub(r'\\@\\w+|\\#\\w+', '', tweet)  # remove mentions and hashtags\n",
    "    tweet = re.sub(r'\\d+', '', tweet) # remove numbers\n",
    "    tweet = re.sub(r'\\.',' ', tweet) #\n",
    "    tweet = tweet.translate(str.maketrans(\"\", \"\", string.punctuation))  # remove punctuations\n",
    "    tweet = tweet.strip()\n",
    "    tweet = re.sub(EMOJI_PATTERN, r'', tweet)\n",
    "    tweet = re.sub(r'\\n+', '', tweet)\n",
    "    return tweet\n",
    "df['tweet']=df['tweet'].apply(preprocess_tweet2)\n"
   ]
  },
  {
   "cell_type": "code",
   "execution_count": 68,
   "metadata": {},
   "outputs": [
    {
     "data": {
      "text/plain": [
       "113597"
      ]
     },
     "execution_count": 68,
     "metadata": {},
     "output_type": "execute_result"
    }
   ],
   "source": [
    "len(df)"
   ]
  },
  {
   "cell_type": "code",
   "execution_count": 94,
   "metadata": {},
   "outputs": [],
   "source": [
    "from nltk.tokenize import word_tokenize\n",
    "def labelling(tweet):\n",
    "    # tweet = preprocess_tweet(tweet)\n",
    "    clean_tokens = word_tokenize(tweet) #tokenize\n",
    "    # clean_tokens = [stemmer.stem(word) for word in tweet_tokens if word not in stopwords] #stemming & stopword removal\n",
    "    positive_words = open(\"positive.txt\").read().splitlines()\n",
    "    negative_words = open(\"negative.txt\").read().splitlines()\n",
    "    positive_count = sum([1 for word in clean_tokens if word in positive_words])\n",
    "    negative_count = sum([1 for word in clean_tokens if word in negative_words])\n",
    "    if positive_count > negative_count:\n",
    "        return 'Positive'\n",
    "    elif positive_count < negative_count:\n",
    "        return 'Negative'\n",
    "    else:\n",
    "        return 'Neutral'\n",
    "df['sentiment'] = df['tweet'].apply(labelling)"
   ]
  },
  {
   "cell_type": "code",
   "execution_count": 109,
   "metadata": {},
   "outputs": [
    {
     "data": {
      "text/plain": [
       "Neutral     39224\n",
       "Positive    36498\n",
       "Negative    18864\n",
       "Name: sentiment, dtype: int64"
      ]
     },
     "execution_count": 109,
     "metadata": {},
     "output_type": "execute_result"
    }
   ],
   "source": [
    "df.sentiment.value_counts()"
   ]
  },
  {
   "cell_type": "code",
   "execution_count": 70,
   "metadata": {},
   "outputs": [],
   "source": [
    "from nltk.tokenize import word_tokenize\n",
    "\n",
    "def tokenize_column(text):\n",
    "    if isinstance(text, str):  # Memastikan bahwa text adalah string\n",
    "        return word_tokenize(text)\n",
    "    else:\n",
    "        return []  # Mengembalikan list kosong jika text bukan string\n",
    "\n",
    "# Contoh penggunaan:\n",
    "df['tweet'] = df['tweet'].apply(tokenize_column)"
   ]
  },
  {
   "cell_type": "code",
   "execution_count": 71,
   "metadata": {},
   "outputs": [
    {
     "name": "stdout",
     "output_type": "stream",
     "text": [
      "                           date  \\\n",
      "0     2022-12-30 23:50:32+00:00   \n",
      "1     2022-12-30 23:50:16+00:00   \n",
      "2     2022-12-30 23:40:27+00:00   \n",
      "3     2022-12-30 23:36:07+00:00   \n",
      "4     2022-12-30 23:26:47+00:00   \n",
      "...                         ...   \n",
      "4934  2023-05-29 00:35:39+00:00   \n",
      "4966  2023-05-29 00:22:55+00:00   \n",
      "4970  2023-05-29 00:21:33+00:00   \n",
      "4986  2023-05-29 00:17:19+00:00   \n",
      "4989  2023-05-29 00:16:05+00:00   \n",
      "\n",
      "                                                  tweet         username  \\\n",
      "0     berkat bumn perintah elektabilitas tingkat das...        Fuad_Lha9   \n",
      "1     gandeng ulama tokoh agama suasana adem jelang ...      iwan_tata98   \n",
      "2     mantap elektabilitas menteri bumn erick thohir...        Lima8Satu   \n",
      "3          lolos milu partai ummat bahas dukung pilpres  21BeritaTerkini   \n",
      "4     agenda politik negara tuan rumah piala dunia j...      rezakaisar3   \n",
      "...                                                 ...              ...   \n",
      "4934              rezim oligarki itutapi capres bertand  zainalarifin083   \n",
      "4966  th mrk yg dukung bowo kalah pilpres sdh loh ru...        GembrixNv   \n",
      "4970  knp kuasa mati jegal anies ga jd nyapres klo a...     ElizarIrnold   \n",
      "4986  denny caper aja manfaat momen musim panas poli...    tubanesse_man   \n",
      "4989  ayo menang bpk anies rasyid baswedan dlm pilpr...    puji_setyanto   \n",
      "\n",
      "     sentiment  \n",
      "0     Positive  \n",
      "1     Positive  \n",
      "2      Neutral  \n",
      "3     Positive  \n",
      "4     Positive  \n",
      "...        ...  \n",
      "4934  Positive  \n",
      "4966  Negative  \n",
      "4970  Positive  \n",
      "4986  Negative  \n",
      "4989   Neutral  \n",
      "\n",
      "[113597 rows x 4 columns]\n"
     ]
    }
   ],
   "source": [
    "stemmer = StemmerFactory().create_stemmer()\n",
    "stopword_remover = StopWordRemoverFactory().create_stop_word_remover()\n",
    "def stem_stopword(batch):\n",
    "    # Menerapkan stemming pada setiap teks dalam batch\n",
    "    stemmed_batch = [stemmer.stem(text) for text in batch]\n",
    "\n",
    "    # Melakukan penghapusan stopwords pada setiap teks dalam batch\n",
    "    cleaned_batch = [stopword_remover.remove(text) for text in stemmed_batch]\n",
    "\n",
    "    return cleaned_batch\n",
    "\n",
    "# Ukuran batch yang diinginkan\n",
    "batch_size = 1000\n",
    "\n",
    "# Menghitung jumlah batch yang diperlukan\n",
    "num_batches = len(df) // batch_size + 1\n",
    "\n",
    "preprocessed_data = []\n",
    "for i in range(num_batches):\n",
    "    start_idx = i * batch_size\n",
    "    end_idx = (i + 1) * batch_size\n",
    "    batch_data = df['tweet'].iloc[start_idx:end_idx].astype(str)\n",
    "\n",
    "    preprocessed_batch = stem_stopword(batch_data)\n",
    "    preprocessed_data.extend(preprocessed_batch)\n",
    "\n",
    "# Menambahkan hasil preprocessing ke dalam DataFrame\n",
    "df['tweet'] = preprocessed_data\n",
    "\n",
    "# Hasil preprocessing data\n",
    "print(df)"
   ]
  },
  {
   "cell_type": "code",
   "execution_count": 72,
   "metadata": {},
   "outputs": [
    {
     "data": {
      "text/plain": [
       "Positive    50650\n",
       "Neutral     36871\n",
       "Negative    26076\n",
       "Name: sentiment, dtype: int64"
      ]
     },
     "execution_count": 72,
     "metadata": {},
     "output_type": "execute_result"
    }
   ],
   "source": [
    "df.sentiment.value_counts()"
   ]
  },
  {
   "cell_type": "code",
   "execution_count": 91,
   "metadata": {},
   "outputs": [],
   "source": [
    "pd = pd.dropna()"
   ]
  },
  {
   "cell_type": "code",
   "execution_count": 108,
   "metadata": {},
   "outputs": [
    {
     "name": "stdout",
     "output_type": "stream",
     "text": [
      "ada sebanyak 0 data yang terduplikasi\n"
     ]
    }
   ],
   "source": [
    "dat = len(df.tweet)-len(df.tweet.drop_duplicates())\n",
    "print(f'ada sebanyak {dat} data yang terduplikasi')"
   ]
  },
  {
   "cell_type": "code",
   "execution_count": 107,
   "metadata": {},
   "outputs": [],
   "source": [
    "df = df.drop_duplicates(subset=['tweet'])"
   ]
  },
  {
   "cell_type": "code",
   "execution_count": 168,
   "metadata": {},
   "outputs": [
    {
     "name": "stdout",
     "output_type": "stream",
     "text": [
      "Akurasi: 69.98%\n"
     ]
    }
   ],
   "source": [
    "from sklearn.naive_bayes import MultinomialNB\n",
    "from sklearn.model_selection import train_test_split\n",
    "from sklearn.metrics import classification_report, confusion_matrix, accuracy_score, f1_score, precision_score, recall_score, plot_confusion_matrix\n",
    "from sklearn.feature_extraction.text import CountVectorizer\n",
    "from sklearn.feature_extraction.text import TfidfVectorizer\n",
    "from sklearn.pipeline import Pipeline\n",
    "import numpy as np\n",
    "import seaborn as sns\n",
    "import matplotlib.pyplot as plt\n",
    "\n",
    "vectorizer = CountVectorizer()\n",
    "\n",
    "# Melakukan transformasi teks menjadi vektor fitur\n",
    "X = vectorizer.fit_transform(df['tweet'])\n",
    "# Y = vectorizer.fit_transform(data['sentiment'])\n",
    "X_train, X_test, y_train, y_test = train_test_split(X, df['sentiment'], test_size=0.2, random_state=33)\n",
    "naive_bayes = MultinomialNB()\n",
    "training = naive_bayes.fit(X_train, y_train)\n",
    "prediction =  naive_bayes.predict(X_test)\n",
    "test_yhat = training.predict(X_test)\n",
    "test_acc = accuracy_score(y_test, test_yhat)\n",
    "# Menghitung akurasi\n",
    "accuracy = accuracy_score(y_test, test_yhat)\n",
    "print(\"Akurasi: {:.2f}%\".format(accuracy * 100))"
   ]
  },
  {
   "cell_type": "code",
   "execution_count": 169,
   "metadata": {},
   "outputs": [
    {
     "name": "stdout",
     "output_type": "stream",
     "text": [
      ">1, test: 0.700\n",
      ">2, test: 0.700\n",
      ">3, test: 0.700\n",
      ">4, test: 0.700\n",
      ">5, test: 0.700\n",
      ">6, test: 0.700\n",
      ">7, test: 0.700\n",
      ">8, test: 0.700\n",
      ">9, test: 0.700\n",
      ">10, test: 0.700\n",
      ">11, test: 0.700\n",
      ">12, test: 0.700\n",
      ">13, test: 0.700\n",
      ">14, test: 0.700\n",
      ">15, test: 0.700\n",
      ">16, test: 0.700\n",
      ">17, test: 0.700\n",
      ">18, test: 0.700\n",
      ">19, test: 0.700\n",
      ">20, test: 0.700\n"
     ]
    },
    {
     "data": {
      "image/png": "[encoded data removed]",
      "text/plain": [
       "<Figure size 432x288 with 1 Axes>"
      ]
     },
     "metadata": {
      "needs_background": "light"
     },
     "output_type": "display_data"
    }
   ],
   "source": [
    "train_scores, test_scores = list(), list()\n",
    "X_train, X_test, y_train, y_test = train_test_split(X, df['sentiment'], test_size=0.2, random_state=33)\n",
    "# define the tree depths to evaluate\n",
    "values = [i for i in range(1, 21)]\n",
    "# evaluate a decision tree for each depth\n",
    "for i in values:\n",
    " # configure the model\n",
    " training = naive_bayes.fit(X_train, y_train)\n",
    " test_yhat = training.predict(X_test)\n",
    " test_acc = accuracy_score(y_test, test_yhat)\n",
    " test_scores.append(test_acc)\n",
    " # summarize progress\n",
    " print('>%d, test: %.3f' % (i, test_acc))\n",
    "# plot of train and test scores vs tree depth\n",
    "# plt.plot(values, train_scores, '-o', label='Train')\n",
    "plt.plot(values, test_scores, '-o', label='Test')\n",
    "plt.legend()\n",
    "plt.show()"
   ]
  },
  {
   "cell_type": "code",
   "execution_count": 170,
   "metadata": {},
   "outputs": [
    {
     "name": "stdout",
     "output_type": "stream",
     "text": [
      "0.6998097050428164\n"
     ]
    }
   ],
   "source": [
    "test_yhat = training.predict(X_test)\n",
    "test_acc = accuracy_score(y_test, test_yhat)\n",
    "print(test_acc)"
   ]
  },
  {
   "cell_type": "code",
   "execution_count": 171,
   "metadata": {},
   "outputs": [
    {
     "name": "stderr",
     "output_type": "stream",
     "text": [
      "/opt/anaconda3/lib/python3.9/site-packages/sklearn/utils/deprecation.py:87: FutureWarning: Function plot_confusion_matrix is deprecated; Function `plot_confusion_matrix` is deprecated in 1.0 and will be removed in 1.2. Use one of the class methods: ConfusionMatrixDisplay.from_predictions or ConfusionMatrixDisplay.from_estimator.\n",
      "  warnings.warn(msg, category=FutureWarning)\n"
     ]
    },
    {
     "name": "stdout",
     "output_type": "stream",
     "text": [
      "[[2652 1063  132]\n",
      " [1336 4986 1410]\n",
      " [ 694 1044 5601]]\n"
     ]
    },
    {
     "data": {
      "image/png": "[encoded data removed]",
      "text/plain": [
       "<Figure size 432x288 with 2 Axes>"
      ]
     },
     "metadata": {
      "needs_background": "light"
     },
     "output_type": "display_data"
    }
   ],
   "source": [
    "class_names = df['sentiment'].unique()\n",
    "disp = plot_confusion_matrix(training, X_test, y_test,\n",
    "                              display_labels=class_names,\n",
    "                              cmap=plt.cm.Blues, values_format='d')\n",
    "disp.ax_.set_title(\"Confusion Matrix\")\n",
    "print(disp.confusion_matrix)\n",
    "\n",
    "plt.show()"
   ]
  },
  {
   "cell_type": "code",
   "execution_count": 80,
   "metadata": {},
   "outputs": [],
   "source": [
    "pd = pd.read_csv('datagablabel1.csv')"
   ]
  },
  {
   "cell_type": "code",
   "execution_count": 172,
   "metadata": {},
   "outputs": [
    {
     "data": {
      "text/plain": [
       "Neutral     39222\n",
       "Positive    36498\n",
       "Negative    18864\n",
       "Name: sentiment, dtype: int64"
      ]
     },
     "execution_count": 172,
     "metadata": {},
     "output_type": "execute_result"
    }
   ],
   "source": [
    "pd.sentiment.value_counts()"
   ]
  },
  {
   "cell_type": "code",
   "execution_count": 155,
   "metadata": {},
   "outputs": [
    {
     "data": {
      "text/plain": [
       "Neutral     39224\n",
       "Positive    36498\n",
       "Negative    18864\n",
       "Name: sentiment, dtype: int64"
      ]
     },
     "execution_count": 155,
     "metadata": {},
     "output_type": "execute_result"
    }
   ],
   "source": [
    "df.sentiment.value_counts()"
   ]
  },
  {
   "cell_type": "code",
   "execution_count": 173,
   "metadata": {},
   "outputs": [
    {
     "data": {
      "text/plain": [
       "(75668, 55508)"
      ]
     },
     "execution_count": 173,
     "metadata": {},
     "output_type": "execute_result"
    }
   ],
   "source": [
    "X_train.shape"
   ]
  },
  {
   "cell_type": "code",
   "execution_count": 174,
   "metadata": {},
   "outputs": [
    {
     "name": "stdout",
     "output_type": "stream",
     "text": [
      "Accuracy: 0.6998\n",
      "Confusion matrix:\n",
      " [[2652 1063  132]\n",
      " [1336 4986 1410]\n",
      " [ 694 1044 5601]]\n",
      "              precision    recall  f1-score   support\n",
      "\n",
      "    Negative       0.57      0.69      0.62      3847\n",
      "     Neutral       0.70      0.64      0.67      7732\n",
      "    Positive       0.78      0.76      0.77      7339\n",
      "\n",
      "    accuracy                           0.70     18918\n",
      "   macro avg       0.68      0.70      0.69     18918\n",
      "weighted avg       0.71      0.70      0.70     18918\n",
      "\n"
     ]
    }
   ],
   "source": [
    "acc_mnb = accuracy_score(y_test, test_yhat)\n",
    "print(\"Accuracy: {0:.4f}\".format(acc_mnb))\n",
    "\n",
    "conf_matrix_mnb = confusion_matrix(y_test, test_yhat)\n",
    "print(\"Confusion matrix:\\n {}\".format(conf_matrix_mnb))\n",
    "print(classification_report(y_test, test_yhat))"
   ]
  },
  {
   "cell_type": "code",
   "execution_count": 161,
   "metadata": {},
   "outputs": [
    {
     "name": "stdout",
     "output_type": "stream",
     "text": [
      "Accuracy: 0.6986\n",
      "Confusion matrix:\n",
      " [[2578 1040  134]\n",
      " [1364 5012 1417]\n",
      " [ 721 1026 5626]]\n",
      "              precision    recall  f1-score   support\n",
      "\n",
      "    Negative       0.55      0.69      0.61      3752\n",
      "     Neutral       0.71      0.64      0.67      7793\n",
      "    Positive       0.78      0.76      0.77      7373\n",
      "\n",
      "    accuracy                           0.70     18918\n",
      "   macro avg       0.68      0.70      0.69     18918\n",
      "weighted avg       0.71      0.70      0.70     18918\n",
      "\n"
     ]
    }
   ],
   "source": [
    "acc_mnb = accuracy_score(y_test, test_yhat)\n",
    "print(\"Accuracy: {0:.4f}\".format(acc_mnb))\n",
    "\n",
    "conf_matrix_mnb = confusion_matrix(y_test, test_yhat)\n",
    "print(\"Confusion matrix:\\n {}\".format(conf_matrix_mnb))\n",
    "print(classification_report(y_test, test_yhat))"
   ]
  },
  {
   "cell_type": "code",
   "execution_count": 162,
   "metadata": {},
   "outputs": [
    {
     "name": "stdout",
     "output_type": "stream",
     "text": [
      "Iterasi 1: 0.6986996511259118\n",
      "Iterasi 2: 0.6902949571836346\n",
      "Iterasi 3: 0.7018712337456391\n",
      "Iterasi 4: 0.7019769531662966\n",
      "Iterasi 5: 0.6998097050428164\n",
      "5\n",
      "Rata-rata skor akurasi: 69.85 %\n"
     ]
    },
    {
     "data": {
      "text/plain": [
       "[<matplotlib.lines.Line2D at 0x7f9400fb75e0>]"
      ]
     },
     "execution_count": 162,
     "metadata": {},
     "output_type": "execute_result"
    },
    {
     "data": {
      "image/png": "[encoded data removed]",
      "text/plain": [
       "<Figure size 432x288 with 1 Axes>"
      ]
     },
     "metadata": {
      "needs_background": "light"
     },
     "output_type": "display_data"
    }
   ],
   "source": [
    "from sklearn.model_selection import ShuffleSplit\n",
    "from sklearn.model_selection import cross_val_score\n",
    "shuffle_split = ShuffleSplit(n_splits=5, test_size=0.2, random_state=2)\n",
    "\n",
    "# Melakukan cross-validation dengan ShuffleSplit\n",
    "scores = cross_val_score(naive_bayes, X, df['sentiment'], cv=shuffle_split, scoring='accuracy')\n",
    "x = []\n",
    "# Menampilkan skor akurasi untuk setiap iterasi cross-validation\n",
    "for i, score in enumerate(scores):\n",
    "    print(f\"Iterasi {i+1}: {score}\")\n",
    "    x.append(score)\n",
    "\n",
    "# Menampilkan rata-rata skor akurasi dari cross-validation\n",
    "print(len(x))\n",
    "print(\"Rata-rata skor akurasi: {:.2f} %\".format(scores.mean()*100))\n",
    "plt.plot(range(len(x)), x, marker='o')"
   ]
  },
  {
   "cell_type": "code",
   "execution_count": 163,
   "metadata": {},
   "outputs": [
    {
     "name": "stdout",
     "output_type": "stream",
     "text": [
      "Akurasi:69.86%\n",
      "Presisi: 70.69%\n",
      "Recall:69.86%\n",
      "F1-score:70.06%\n",
      "Persentase Klasifikasi:\n",
      "Positif: 37.9%\n",
      "Negatif: 24.6%\n",
      "Netral: 37.4%\n"
     ]
    }
   ],
   "source": [
    "from sklearn.metrics import accuracy_score, precision_score, recall_score, f1_score\n",
    "\n",
    "# Melakukan prediksi pada data uji\n",
    "y_pred = naive_bayes.predict(X_test)\n",
    "\n",
    "# Menghitung dan menampilkan akurasi\n",
    "accuracy = accuracy_score(y_test, y_pred)\n",
    "print(\"Akurasi:{:.2f}%\".format(accuracy * 100))\n",
    "\n",
    "# Menghitung dan menampilkan presisi\n",
    "precision = precision_score(y_test, y_pred, average='weighted')\n",
    "print(\"Presisi: {:.2f}%\".format(precision * 100))\n",
    "\n",
    "# Menghitung dan menampilkan recall\n",
    "recall = recall_score(y_test, y_pred, average='weighted')\n",
    "print(\"Recall:{:.2f}%\".format(recall * 100))\n",
    "\n",
    "# Menghitung dan menampilkan F1-score\n",
    "f1 = f1_score(y_test, y_pred, average='weighted')\n",
    "print(\"F1-score:{:.2f}%\".format(f1 * 100))\n",
    "positive_count = (y_pred == 'Positive').sum()\n",
    "negative_count = (y_pred == 'Negative').sum()\n",
    "neutral_count = (y_pred == 'Neutral').sum()\n",
    "total_count = len(y_pred)\n",
    "positive_percentage = (positive_count / total_count) * 100\n",
    "negative_percentage = (negative_count / total_count) * 100\n",
    "neutral_percentage = (neutral_count / total_count) * 100\n",
    "    # Tampilkan hasil\n",
    "print(\"Persentase Klasifikasi:\")\n",
    "print(\"Positif: {:.1f}%\".format(positive_percentage))\n",
    "print(\"Negatif: {:.1f}%\".format(negative_percentage))\n",
    "print(\"Netral: {:.1f}%\".format(neutral_percentage))"
   ]
  }
 ],
 "metadata": {
  "kernelspec": {
   "display_name": "base",
   "language": "python",
   "name": "python3"
  },
  "language_info": {
   "codemirror_mode": {
    "name": "ipython",
    "version": 3
   },
   "file_extension": ".py",
   "mimetype": "text/x-python",
   "name": "python",
   "nbconvert_exporter": "python",
   "pygments_lexer": "ipython3",
   "version": "3.9.12"
  },
  "orig_nbformat": 4
 },
 "nbformat": 4,
 "nbformat_minor": 2
}
