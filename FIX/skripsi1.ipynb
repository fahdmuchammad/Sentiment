{
 "cells": [
  {
   "attachments": {},
   "cell_type": "markdown",
   "metadata": {},
   "source": [
    "# SENTIMEN ANALISIS PILPRES 2024\n",
    "Muchammad Fahd Ishamuddin\n",
    "41155050180048"
   ]
  },
  {
   "cell_type": "code",
   "execution_count": 97,
   "metadata": {},
   "outputs": [],
   "source": [
    "%matplotlib inline\n",
    "\n",
    "import re\n",
    "import string\n",
    "import pandas as pd\n",
    "import numpy as np\n",
    "import matplotlib.pyplot as plt\n",
    "import seaborn as sns\n",
    "import collections\n",
    "import nltk\n",
    "from nltk.tokenize import word_tokenize\n",
    "from nltk.sentiment import SentimentIntensityAnalyzer\n",
    "from Sastrawi.StopWordRemover.StopWordRemoverFactory import StopWordRemoverFactory\n",
    "from Sastrawi.Stemmer.StemmerFactory import StemmerFactory"
   ]
  },
  {
   "cell_type": "code",
   "execution_count": 302,
   "metadata": {},
   "outputs": [
    {
     "name": "stdout",
     "output_type": "stream",
     "text": [
      "data ada sebanyak 93882 baris\n"
     ]
    },
    {
     "data": {
      "text/plain": [
       "date         object\n",
       "id          float64\n",
       "tweet        object\n",
       "username     object\n",
       "dtype: object"
      ]
     },
     "execution_count": 302,
     "metadata": {},
     "output_type": "execute_result"
    }
   ],
   "source": [
    "data = pd.read_csv('2022pilpres.csv')\n",
    "print('data ada sebanyak',len(data),'baris')\n",
    "data = data.drop('Unnamed: 0', axis = 1)\n",
    "data.columns\n",
    "data.dtypes"
   ]
  },
  {
   "cell_type": "code",
   "execution_count": 303,
   "metadata": {},
   "outputs": [
    {
     "data": {
      "text/plain": [
       "date        0\n",
       "id          3\n",
       "tweet       3\n",
       "username    6\n",
       "dtype: int64"
      ]
     },
     "execution_count": 303,
     "metadata": {},
     "output_type": "execute_result"
    }
   ],
   "source": [
    "data.isnull().sum()"
   ]
  },
  {
   "cell_type": "code",
   "execution_count": 304,
   "metadata": {},
   "outputs": [
    {
     "data": {
      "text/plain": [
       "93876"
      ]
     },
     "execution_count": 304,
     "metadata": {},
     "output_type": "execute_result"
    }
   ],
   "source": [
    "data = data.dropna()\n",
    "data.isnull().sum()\n",
    "len(data)"
   ]
  },
  {
   "cell_type": "code",
   "execution_count": 305,
   "metadata": {},
   "outputs": [
    {
     "data": {
      "text/plain": [
       "'Baru Lolos Sebagai Peserta Pemilu 2024, Partai Ummat Mau Bahas soal Dukungan Pilpres 2 Bulan Lagi https://t.co/5JDqsJAclq'"
      ]
     },
     "execution_count": 305,
     "metadata": {},
     "output_type": "execute_result"
    }
   ],
   "source": [
    "data.tweet.iloc[3]"
   ]
  },
  {
   "cell_type": "code",
   "execution_count": 306,
   "metadata": {},
   "outputs": [
    {
     "name": "stdout",
     "output_type": "stream",
     "text": [
      "ada sebanyak 3153 data yang terduplikasi\n"
     ]
    }
   ],
   "source": [
    "duplikasi = len(data.tweet)-len(data.tweet.drop_duplicates())\n",
    "print(f'ada sebanyak {duplikasi} data yang terduplikasi')"
   ]
  },
  {
   "cell_type": "code",
   "execution_count": 307,
   "metadata": {},
   "outputs": [
    {
     "data": {
      "text/html": [
       "<div>\n",
       "<style scoped>\n",
       "    .dataframe tbody tr th:only-of-type {\n",
       "        vertical-align: middle;\n",
       "    }\n",
       "\n",
       "    .dataframe tbody tr th {\n",
       "        vertical-align: top;\n",
       "    }\n",
       "\n",
       "    .dataframe thead th {\n",
       "        text-align: right;\n",
       "    }\n",
       "</style>\n",
       "<table border=\"1\" class=\"dataframe\">\n",
       "  <thead>\n",
       "    <tr style=\"text-align: right;\">\n",
       "      <th></th>\n",
       "      <th>index</th>\n",
       "      <th>size</th>\n",
       "    </tr>\n",
       "  </thead>\n",
       "  <tbody>\n",
       "    <tr>\n",
       "      <th>86025</th>\n",
       "      <td>Tumbangkan rezim oligarki! Dukung aniesbasweda...</td>\n",
       "      <td>48</td>\n",
       "    </tr>\n",
       "    <tr>\n",
       "      <th>40994</th>\n",
       "      <td>Indonesia menolak Capres dan Cawapres yang did...</td>\n",
       "      <td>48</td>\n",
       "    </tr>\n",
       "    <tr>\n",
       "      <th>27176</th>\n",
       "      <td>Bersama aniesbaswedan kita tegakkan sistem khi...</td>\n",
       "      <td>47</td>\n",
       "    </tr>\n",
       "    <tr>\n",
       "      <th>40981</th>\n",
       "      <td>Indonesia damai tanpa kaum intoleran, kaum rad...</td>\n",
       "      <td>47</td>\n",
       "    </tr>\n",
       "    <tr>\n",
       "      <th>53688</th>\n",
       "      <td>Menangkan aniesbaswedan pada #Pilpres2024! Wuj...</td>\n",
       "      <td>47</td>\n",
       "    </tr>\n",
       "    <tr>\n",
       "      <th>...</th>\n",
       "      <td>...</td>\n",
       "      <td>...</td>\n",
       "    </tr>\n",
       "    <tr>\n",
       "      <th>30360</th>\n",
       "      <td>Demokrat Dinilai Tidak Pede Bisa Usung Calon I...</td>\n",
       "      <td>1</td>\n",
       "    </tr>\n",
       "    <tr>\n",
       "      <th>30359</th>\n",
       "      <td>Demokrat Dinilai Tidak Pede Bisa Usung Calon I...</td>\n",
       "      <td>1</td>\n",
       "    </tr>\n",
       "    <tr>\n",
       "      <th>30358</th>\n",
       "      <td>Demokrat Dinilai Tidak Pede Bisa Usung Calon I...</td>\n",
       "      <td>1</td>\n",
       "    </tr>\n",
       "    <tr>\n",
       "      <th>30357</th>\n",
       "      <td>Demokrat Dengar Ada 'Genderuwo' Ingin Jegal An...</td>\n",
       "      <td>1</td>\n",
       "    </tr>\n",
       "    <tr>\n",
       "      <th>90722</th>\n",
       "      <td>🥹\\nWarta Ekonomi: Rocky Gerung Sebut Anies Bas...</td>\n",
       "      <td>1</td>\n",
       "    </tr>\n",
       "  </tbody>\n",
       "</table>\n",
       "<p>90723 rows × 2 columns</p>\n",
       "</div>"
      ],
      "text/plain": [
       "                                                   index  size\n",
       "86025  Tumbangkan rezim oligarki! Dukung aniesbasweda...    48\n",
       "40994  Indonesia menolak Capres dan Cawapres yang did...    48\n",
       "27176  Bersama aniesbaswedan kita tegakkan sistem khi...    47\n",
       "40981  Indonesia damai tanpa kaum intoleran, kaum rad...    47\n",
       "53688  Menangkan aniesbaswedan pada #Pilpres2024! Wuj...    47\n",
       "...                                                  ...   ...\n",
       "30360  Demokrat Dinilai Tidak Pede Bisa Usung Calon I...     1\n",
       "30359  Demokrat Dinilai Tidak Pede Bisa Usung Calon I...     1\n",
       "30358  Demokrat Dinilai Tidak Pede Bisa Usung Calon I...     1\n",
       "30357  Demokrat Dengar Ada 'Genderuwo' Ingin Jegal An...     1\n",
       "90722  🥹\\nWarta Ekonomi: Rocky Gerung Sebut Anies Bas...     1\n",
       "\n",
       "[90723 rows x 2 columns]"
      ]
     },
     "execution_count": 307,
     "metadata": {},
     "output_type": "execute_result"
    }
   ],
   "source": [
    "x = data.groupby(data.tweet.tolist(), as_index=False).size()\n",
    "x.sort_values(by='size',ascending=False)\n"
   ]
  },
  {
   "cell_type": "code",
   "execution_count": 308,
   "metadata": {},
   "outputs": [
    {
     "name": "stdout",
     "output_type": "stream",
     "text": [
      "jadi ada tweet sebanyak 815 yang memiliki cuitan yang sama dengan total 3153 tweet\n"
     ]
    }
   ],
   "source": [
    "a = (x['size'] > 1).sum()\n",
    "print(f'jadi ada tweet sebanyak {a} yang memiliki cuitan yang sama dengan total {duplikasi} tweet')"
   ]
  },
  {
   "cell_type": "code",
   "execution_count": 309,
   "metadata": {},
   "outputs": [],
   "source": [
    "data = data.drop_duplicates(subset=['tweet'])"
   ]
  },
  {
   "cell_type": "code",
   "execution_count": 310,
   "metadata": {},
   "outputs": [
    {
     "name": "stdout",
     "output_type": "stream",
     "text": [
      "ada sebanyak 0 data yang terduplikasi\n"
     ]
    }
   ],
   "source": [
    "duplikasi = len(data.tweet)-len(data.tweet.drop_duplicates())\n",
    "print(f'ada sebanyak {duplikasi} data yang terduplikasi')"
   ]
  },
  {
   "cell_type": "code",
   "execution_count": 311,
   "metadata": {},
   "outputs": [
    {
     "data": {
      "text/html": [
       "<div>\n",
       "<style scoped>\n",
       "    .dataframe tbody tr th:only-of-type {\n",
       "        vertical-align: middle;\n",
       "    }\n",
       "\n",
       "    .dataframe tbody tr th {\n",
       "        vertical-align: top;\n",
       "    }\n",
       "\n",
       "    .dataframe thead th {\n",
       "        text-align: right;\n",
       "    }\n",
       "</style>\n",
       "<table border=\"1\" class=\"dataframe\">\n",
       "  <thead>\n",
       "    <tr style=\"text-align: right;\">\n",
       "      <th></th>\n",
       "      <th>index</th>\n",
       "      <th>size</th>\n",
       "    </tr>\n",
       "  </thead>\n",
       "  <tbody>\n",
       "    <tr>\n",
       "      <th>0</th>\n",
       "      <td>! Boom ! Airlangga - Ganjar pasangan ideal di ...</td>\n",
       "      <td>1</td>\n",
       "    </tr>\n",
       "    <tr>\n",
       "      <th>60511</th>\n",
       "      <td>PPP Riau Pasang Foto Anies Baswedan , Bakal Us...</td>\n",
       "      <td>1</td>\n",
       "    </tr>\n",
       "    <tr>\n",
       "      <th>60487</th>\n",
       "      <td>PPP Masih Pertimbangkan Erick, Ganjar, Sandiag...</td>\n",
       "      <td>1</td>\n",
       "    </tr>\n",
       "    <tr>\n",
       "      <th>60486</th>\n",
       "      <td>PPP Maluku Usulkan Duet Ganjar-Anies di Pilpre...</td>\n",
       "      <td>1</td>\n",
       "    </tr>\n",
       "    <tr>\n",
       "      <th>60485</th>\n",
       "      <td>PPP Maluku Usulkan Duet Ganjar-Anies di Pilpre...</td>\n",
       "      <td>1</td>\n",
       "    </tr>\n",
       "    <tr>\n",
       "      <th>...</th>\n",
       "      <td>...</td>\n",
       "      <td>...</td>\n",
       "    </tr>\n",
       "    <tr>\n",
       "      <th>30239</th>\n",
       "      <td>Demokrat Buka Pintu, Undang Parpol Lain Berkoa...</td>\n",
       "      <td>1</td>\n",
       "    </tr>\n",
       "    <tr>\n",
       "      <th>30238</th>\n",
       "      <td>Demokrat Bongkar Faktor yang Bikin Publik Bosa...</td>\n",
       "      <td>1</td>\n",
       "    </tr>\n",
       "    <tr>\n",
       "      <th>30237</th>\n",
       "      <td>Demokrat Bidik Anies Baswedan sebagai Bacapres...</td>\n",
       "      <td>1</td>\n",
       "    </tr>\n",
       "    <tr>\n",
       "      <th>30236</th>\n",
       "      <td>Demokrat Bersyukur AHY Dianggap Pantas Jadi Ca...</td>\n",
       "      <td>1</td>\n",
       "    </tr>\n",
       "    <tr>\n",
       "      <th>90722</th>\n",
       "      <td>🥹\\nWarta Ekonomi: Rocky Gerung Sebut Anies Bas...</td>\n",
       "      <td>1</td>\n",
       "    </tr>\n",
       "  </tbody>\n",
       "</table>\n",
       "<p>90723 rows × 2 columns</p>\n",
       "</div>"
      ],
      "text/plain": [
       "                                                   index  size\n",
       "0      ! Boom ! Airlangga - Ganjar pasangan ideal di ...     1\n",
       "60511  PPP Riau Pasang Foto Anies Baswedan , Bakal Us...     1\n",
       "60487  PPP Masih Pertimbangkan Erick, Ganjar, Sandiag...     1\n",
       "60486  PPP Maluku Usulkan Duet Ganjar-Anies di Pilpre...     1\n",
       "60485  PPP Maluku Usulkan Duet Ganjar-Anies di Pilpre...     1\n",
       "...                                                  ...   ...\n",
       "30239  Demokrat Buka Pintu, Undang Parpol Lain Berkoa...     1\n",
       "30238  Demokrat Bongkar Faktor yang Bikin Publik Bosa...     1\n",
       "30237  Demokrat Bidik Anies Baswedan sebagai Bacapres...     1\n",
       "30236  Demokrat Bersyukur AHY Dianggap Pantas Jadi Ca...     1\n",
       "90722  🥹\\nWarta Ekonomi: Rocky Gerung Sebut Anies Bas...     1\n",
       "\n",
       "[90723 rows x 2 columns]"
      ]
     },
     "execution_count": 311,
     "metadata": {},
     "output_type": "execute_result"
    }
   ],
   "source": [
    "x = data.groupby(data.tweet.tolist(), as_index=False).size()\n",
    "x.sort_values(by='size',ascending=False)"
   ]
  },
  {
   "cell_type": "code",
   "execution_count": 313,
   "metadata": {},
   "outputs": [
    {
     "data": {
      "text/plain": [
       "90723"
      ]
     },
     "execution_count": 313,
     "metadata": {},
     "output_type": "execute_result"
    }
   ],
   "source": [
    "len(data)"
   ]
  },
  {
   "cell_type": "code",
   "execution_count": 314,
   "metadata": {},
   "outputs": [
    {
     "name": "stdout",
     "output_type": "stream",
     "text": [
      "               usename  count\n",
      "0            Fuad_Lha9     21\n",
      "1          iwan_tata98      4\n",
      "2            Lima8Satu     33\n",
      "3      21BeritaTerkini    204\n",
      "4          rezakaisar3      4\n",
      "...                ...    ...\n",
      "21876        EdwinSltg      1\n",
      "21877     MemenWongso3      1\n",
      "21878    wahyu_minarno      1\n",
      "21879        Azhari25_      1\n",
      "21880       ninovendri      1\n",
      "\n",
      "[21881 rows x 2 columns]\n",
      "<class 'pandas.core.frame.DataFrame'>\n",
      "RangeIndex: 21881 entries, 0 to 21880\n",
      "Data columns (total 2 columns):\n",
      " #   Column   Non-Null Count  Dtype \n",
      "---  ------   --------------  ----- \n",
      " 0   usename  21881 non-null  object\n",
      " 1   count    21881 non-null  int64 \n",
      "dtypes: int64(1), object(1)\n",
      "memory usage: 342.0+ KB\n"
     ]
    },
    {
     "data": {
      "text/plain": [
       "jpnncom          1121\n",
       "fajaronline       984\n",
       "detikcom          654\n",
       "WartaEkonomi      644\n",
       "Indopolitika      449\n",
       "                 ... \n",
       "nonafren21          1\n",
       "adaaaqua1           1\n",
       "ajinoera            1\n",
       "Jundi72717202       1\n",
       "ninovendri          1\n",
       "Name: username, Length: 21881, dtype: int64"
      ]
     },
     "execution_count": 314,
     "metadata": {},
     "output_type": "execute_result"
    }
   ],
   "source": [
    "x= data.username\n",
    "c={}\n",
    "q=0\n",
    "for name in x:\n",
    "    c[name] = c.get(name,0)+1\n",
    "# print(c)\n",
    "c = pd.DataFrame({'usename':c.keys(),'count':c.values()})\n",
    "print (c)\n",
    "c.info()\n",
    "c.to_csv('username_count1.csv')\n",
    "data.username.value_counts()"
   ]
  },
  {
   "cell_type": "code",
   "execution_count": 315,
   "metadata": {},
   "outputs": [
    {
     "data": {
      "text/html": [
       "<div>\n",
       "<style scoped>\n",
       "    .dataframe tbody tr th:only-of-type {\n",
       "        vertical-align: middle;\n",
       "    }\n",
       "\n",
       "    .dataframe tbody tr th {\n",
       "        vertical-align: top;\n",
       "    }\n",
       "\n",
       "    .dataframe thead th {\n",
       "        text-align: right;\n",
       "    }\n",
       "</style>\n",
       "<table border=\"1\" class=\"dataframe\">\n",
       "  <thead>\n",
       "    <tr style=\"text-align: right;\">\n",
       "      <th></th>\n",
       "      <th>date</th>\n",
       "      <th>id</th>\n",
       "      <th>tweet</th>\n",
       "      <th>username</th>\n",
       "    </tr>\n",
       "  </thead>\n",
       "  <tbody>\n",
       "    <tr>\n",
       "      <th>0</th>\n",
       "      <td>2022-12-30 23:50:32+00:00</td>\n",
       "      <td>1.608974e+18</td>\n",
       "      <td>Berkat kinerja di BUMN, serta kedekatan dengan...</td>\n",
       "      <td>Fuad_Lha9</td>\n",
       "    </tr>\n",
       "    <tr>\n",
       "      <th>1</th>\n",
       "      <td>2022-12-30 23:50:16+00:00</td>\n",
       "      <td>1.608974e+18</td>\n",
       "      <td>@ganjarpranowo menggandeng ulama hingga tokoh ...</td>\n",
       "      <td>iwan_tata98</td>\n",
       "    </tr>\n",
       "    <tr>\n",
       "      <th>2</th>\n",
       "      <td>2022-12-30 23:40:27+00:00</td>\n",
       "      <td>1.608971e+18</td>\n",
       "      <td>Mantap 👍👍\\nElektabilitas Menteri BUMN Erick Th...</td>\n",
       "      <td>Lima8Satu</td>\n",
       "    </tr>\n",
       "    <tr>\n",
       "      <th>3</th>\n",
       "      <td>2022-12-30 23:36:07+00:00</td>\n",
       "      <td>1.608970e+18</td>\n",
       "      <td>Baru Lolos Sebagai Peserta Pemilu 2024, Partai...</td>\n",
       "      <td>21BeritaTerkini</td>\n",
       "    </tr>\n",
       "    <tr>\n",
       "      <th>4</th>\n",
       "      <td>2022-12-30 23:26:47+00:00</td>\n",
       "      <td>1.608968e+18</td>\n",
       "      <td>Agenda politik negara tuan rumah Piala Dunia 2...</td>\n",
       "      <td>rezakaisar3</td>\n",
       "    </tr>\n",
       "    <tr>\n",
       "      <th>...</th>\n",
       "      <td>...</td>\n",
       "      <td>...</td>\n",
       "      <td>...</td>\n",
       "      <td>...</td>\n",
       "    </tr>\n",
       "    <tr>\n",
       "      <th>93877</th>\n",
       "      <td>2022-01-01 03:05:00+00:00</td>\n",
       "      <td>1.477114e+18</td>\n",
       "      <td>PA 212  Novel Bamukmin mengaku sudah mantap ma...</td>\n",
       "      <td>sjahtie</td>\n",
       "    </tr>\n",
       "    <tr>\n",
       "      <th>93878</th>\n",
       "      <td>2022-01-01 02:24:46+00:00</td>\n",
       "      <td>1.477103e+18</td>\n",
       "      <td>PKS Ingin Ada 3 Poros Koalisi di Pilpres 2024 ...</td>\n",
       "      <td>jawapos</td>\n",
       "    </tr>\n",
       "    <tr>\n",
       "      <th>93879</th>\n",
       "      <td>2022-01-01 02:08:17+00:00</td>\n",
       "      <td>1.477099e+18</td>\n",
       "      <td>@Listy9021 @BNPTRI @BPIPRI MET tahun baru Sis,...</td>\n",
       "      <td>BANGSAygSUJUD</td>\n",
       "    </tr>\n",
       "    <tr>\n",
       "      <th>93880</th>\n",
       "      <td>2022-01-01 00:38:55+00:00</td>\n",
       "      <td>1.477077e+18</td>\n",
       "      <td>Bursa Pilpres 2024, Anies Baswedan Makin Melej...</td>\n",
       "      <td>teropongmetro</td>\n",
       "    </tr>\n",
       "    <tr>\n",
       "      <th>93881</th>\n",
       "      <td>2022-01-01 00:37:00+00:00</td>\n",
       "      <td>1.477076e+18</td>\n",
       "      <td>PKS Inginkan Banyak Tokoh Berkualitas Ikut dal...</td>\n",
       "      <td>ninovendri</td>\n",
       "    </tr>\n",
       "  </tbody>\n",
       "</table>\n",
       "<p>90723 rows × 4 columns</p>\n",
       "</div>"
      ],
      "text/plain": [
       "                            date            id  \\\n",
       "0      2022-12-30 23:50:32+00:00  1.608974e+18   \n",
       "1      2022-12-30 23:50:16+00:00  1.608974e+18   \n",
       "2      2022-12-30 23:40:27+00:00  1.608971e+18   \n",
       "3      2022-12-30 23:36:07+00:00  1.608970e+18   \n",
       "4      2022-12-30 23:26:47+00:00  1.608968e+18   \n",
       "...                          ...           ...   \n",
       "93877  2022-01-01 03:05:00+00:00  1.477114e+18   \n",
       "93878  2022-01-01 02:24:46+00:00  1.477103e+18   \n",
       "93879  2022-01-01 02:08:17+00:00  1.477099e+18   \n",
       "93880  2022-01-01 00:38:55+00:00  1.477077e+18   \n",
       "93881  2022-01-01 00:37:00+00:00  1.477076e+18   \n",
       "\n",
       "                                                   tweet         username  \n",
       "0      Berkat kinerja di BUMN, serta kedekatan dengan...        Fuad_Lha9  \n",
       "1      @ganjarpranowo menggandeng ulama hingga tokoh ...      iwan_tata98  \n",
       "2      Mantap 👍👍\\nElektabilitas Menteri BUMN Erick Th...        Lima8Satu  \n",
       "3      Baru Lolos Sebagai Peserta Pemilu 2024, Partai...  21BeritaTerkini  \n",
       "4      Agenda politik negara tuan rumah Piala Dunia 2...      rezakaisar3  \n",
       "...                                                  ...              ...  \n",
       "93877  PA 212  Novel Bamukmin mengaku sudah mantap ma...          sjahtie  \n",
       "93878  PKS Ingin Ada 3 Poros Koalisi di Pilpres 2024 ...          jawapos  \n",
       "93879  @Listy9021 @BNPTRI @BPIPRI MET tahun baru Sis,...    BANGSAygSUJUD  \n",
       "93880  Bursa Pilpres 2024, Anies Baswedan Makin Melej...    teropongmetro  \n",
       "93881  PKS Inginkan Banyak Tokoh Berkualitas Ikut dal...       ninovendri  \n",
       "\n",
       "[90723 rows x 4 columns]"
      ]
     },
     "execution_count": 315,
     "metadata": {},
     "output_type": "execute_result"
    }
   ],
   "source": [
    "data"
   ]
  },
  {
   "cell_type": "code",
   "execution_count": 316,
   "metadata": {},
   "outputs": [],
   "source": [
    "def preprocess_tweet2(tweet):\n",
    "    EMOJI_PATTERN = re.compile(\n",
    "    \"([\"\n",
    "    \"\\U0001F1E0-\\U0001F1FF\"  # flags (iOS)\n",
    "    \"\\U0001F300-\\U0001F5FF\"  # symbols & pictographs\n",
    "    \"\\U0001F600-\\U0001F64F\"  # emoticons\n",
    "    \"\\U0001F680-\\U0001F6FF\"  # transport & map symbols\n",
    "    \"\\U0001F700-\\U0001F77F\"  # alchemical symbols\n",
    "    \"\\U0001F780-\\U0001F7FF\"  # Geometric Shapes Extended\n",
    "    \"\\U0001F800-\\U0001F8FF\"  # Supplemental Arrows-C\n",
    "    \"\\U0001F900-\\U0001F9FF\"  # Supplemental Symbols and Pictographs\n",
    "    \"\\U0001FA00-\\U0001FA6F\"  # Chess Symbols\n",
    "    \"\\U0001FA70-\\U0001FAFF\"  # Symbols and Pictographs Extended-A\n",
    "    \"\\U00002702-\\U000027B0\"  # Dingbats\n",
    "    \"])\")\n",
    "    tweet = re.sub(r'[0-9]+','', str(tweet))\n",
    "    tweet = tweet.lower()  # convert to lower case\n",
    "    tweet = re.sub(r\"http\\S+|www\\S+|https\\S+\", '', tweet, flags=re.MULTILINE)  # remove URLs\n",
    "    tweet = re.sub(r'\\@\\w+|\\#\\w+', '', tweet)  # remove mentions and hashtags\n",
    "    tweet = re.sub(r'\\d+', '', tweet) # remove numbers\n",
    "    tweet = re.sub(r'\\.',' ', tweet) #\n",
    "    tweet = tweet.translate(str.maketrans(\"\", \"\", string.punctuation))  # remove punctuations\n",
    "    tweet = tweet.strip()\n",
    "    tweet = re.sub(EMOJI_PATTERN, r'', tweet)\n",
    "    tweet = re.sub(r'\\n+', '', tweet)\n",
    "    tweet = re.sub(r'\\brt', '', tweet)\n",
    "    return tweet\n",
    "data['tweet']=data['tweet'].apply(preprocess_tweet2)"
   ]
  },
  {
   "cell_type": "code",
   "execution_count": 318,
   "metadata": {},
   "outputs": [
    {
     "data": {
      "text/plain": [
       "'peneliti utama politik badan riset dan inovasi nasional brin siti zuhro mendukung puan maharani untuk menjadi calon presiden di pilpres  puan capres pdip'"
      ]
     },
     "execution_count": 318,
     "metadata": {},
     "output_type": "execute_result"
    }
   ],
   "source": [
    "data.tweet.iloc[43]"
   ]
  },
  {
   "cell_type": "code",
   "execution_count": 273,
   "metadata": {},
   "outputs": [
    {
     "name": "stderr",
     "output_type": "stream",
     "text": [
      "100%|██████████| 110849/110849 [00:00<00:00, 1918362.78it/s]\n"
     ]
    }
   ],
   "source": [
    "from tqdm import tqdm\n",
    "data['tweet'] = tqdm(data['tweet'].apply(preprocess_tweet2))"
   ]
  },
  {
   "cell_type": "code",
   "execution_count": 319,
   "metadata": {},
   "outputs": [
    {
     "data": {
      "text/html": [
       "<div>\n",
       "<style scoped>\n",
       "    .dataframe tbody tr th:only-of-type {\n",
       "        vertical-align: middle;\n",
       "    }\n",
       "\n",
       "    .dataframe tbody tr th {\n",
       "        vertical-align: top;\n",
       "    }\n",
       "\n",
       "    .dataframe thead th {\n",
       "        text-align: right;\n",
       "    }\n",
       "</style>\n",
       "<table border=\"1\" class=\"dataframe\">\n",
       "  <thead>\n",
       "    <tr style=\"text-align: right;\">\n",
       "      <th></th>\n",
       "      <th>date</th>\n",
       "      <th>id</th>\n",
       "      <th>tweet</th>\n",
       "      <th>username</th>\n",
       "    </tr>\n",
       "  </thead>\n",
       "  <tbody>\n",
       "    <tr>\n",
       "      <th>0</th>\n",
       "      <td>2022-12-30 23:50:32+00:00</td>\n",
       "      <td>1.608974e+18</td>\n",
       "      <td>berkat kinerja di bumn serta kedekatan dengan ...</td>\n",
       "      <td>Fuad_Lha9</td>\n",
       "    </tr>\n",
       "    <tr>\n",
       "      <th>1</th>\n",
       "      <td>2022-12-30 23:50:16+00:00</td>\n",
       "      <td>1.608974e+18</td>\n",
       "      <td>menggandeng ulama hingga tokoh agama dalam mem...</td>\n",
       "      <td>iwan_tata98</td>\n",
       "    </tr>\n",
       "    <tr>\n",
       "      <th>2</th>\n",
       "      <td>2022-12-30 23:40:27+00:00</td>\n",
       "      <td>1.608971e+18</td>\n",
       "      <td>mantap elektabilitas menteri bumn erick thohir...</td>\n",
       "      <td>Lima8Satu</td>\n",
       "    </tr>\n",
       "    <tr>\n",
       "      <th>3</th>\n",
       "      <td>2022-12-30 23:36:07+00:00</td>\n",
       "      <td>1.608970e+18</td>\n",
       "      <td>baru lolos sebagai peserta pemilu  partai umma...</td>\n",
       "      <td>21BeritaTerkini</td>\n",
       "    </tr>\n",
       "    <tr>\n",
       "      <th>4</th>\n",
       "      <td>2022-12-30 23:26:47+00:00</td>\n",
       "      <td>1.608968e+18</td>\n",
       "      <td>agenda politik negara tuan rumah piala dunia  ...</td>\n",
       "      <td>rezakaisar3</td>\n",
       "    </tr>\n",
       "    <tr>\n",
       "      <th>...</th>\n",
       "      <td>...</td>\n",
       "      <td>...</td>\n",
       "      <td>...</td>\n",
       "      <td>...</td>\n",
       "    </tr>\n",
       "    <tr>\n",
       "      <th>93877</th>\n",
       "      <td>2022-01-01 03:05:00+00:00</td>\n",
       "      <td>1.477114e+18</td>\n",
       "      <td>pa   novel bamukmin mengaku sudah mantap maju ...</td>\n",
       "      <td>sjahtie</td>\n",
       "    </tr>\n",
       "    <tr>\n",
       "      <th>93878</th>\n",
       "      <td>2022-01-01 02:24:46+00:00</td>\n",
       "      <td>1.477103e+18</td>\n",
       "      <td>pks ingin ada  poros koalisi di pilpres</td>\n",
       "      <td>jawapos</td>\n",
       "    </tr>\n",
       "    <tr>\n",
       "      <th>93879</th>\n",
       "      <td>2022-01-01 02:08:17+00:00</td>\n",
       "      <td>1.477099e+18</td>\n",
       "      <td>met tahun baru sis semoga tahun ini damai meli...</td>\n",
       "      <td>BANGSAygSUJUD</td>\n",
       "    </tr>\n",
       "    <tr>\n",
       "      <th>93880</th>\n",
       "      <td>2022-01-01 00:38:55+00:00</td>\n",
       "      <td>1.477077e+18</td>\n",
       "      <td>bursa pilpres  anies baswedan makin melejit  l...</td>\n",
       "      <td>teropongmetro</td>\n",
       "    </tr>\n",
       "    <tr>\n",
       "      <th>93881</th>\n",
       "      <td>2022-01-01 00:37:00+00:00</td>\n",
       "      <td>1.477076e+18</td>\n",
       "      <td>pks inginkan banyak tokoh berkualitas ikut dal...</td>\n",
       "      <td>ninovendri</td>\n",
       "    </tr>\n",
       "  </tbody>\n",
       "</table>\n",
       "<p>90723 rows × 4 columns</p>\n",
       "</div>"
      ],
      "text/plain": [
       "                            date            id  \\\n",
       "0      2022-12-30 23:50:32+00:00  1.608974e+18   \n",
       "1      2022-12-30 23:50:16+00:00  1.608974e+18   \n",
       "2      2022-12-30 23:40:27+00:00  1.608971e+18   \n",
       "3      2022-12-30 23:36:07+00:00  1.608970e+18   \n",
       "4      2022-12-30 23:26:47+00:00  1.608968e+18   \n",
       "...                          ...           ...   \n",
       "93877  2022-01-01 03:05:00+00:00  1.477114e+18   \n",
       "93878  2022-01-01 02:24:46+00:00  1.477103e+18   \n",
       "93879  2022-01-01 02:08:17+00:00  1.477099e+18   \n",
       "93880  2022-01-01 00:38:55+00:00  1.477077e+18   \n",
       "93881  2022-01-01 00:37:00+00:00  1.477076e+18   \n",
       "\n",
       "                                                   tweet         username  \n",
       "0      berkat kinerja di bumn serta kedekatan dengan ...        Fuad_Lha9  \n",
       "1      menggandeng ulama hingga tokoh agama dalam mem...      iwan_tata98  \n",
       "2      mantap elektabilitas menteri bumn erick thohir...        Lima8Satu  \n",
       "3      baru lolos sebagai peserta pemilu  partai umma...  21BeritaTerkini  \n",
       "4      agenda politik negara tuan rumah piala dunia  ...      rezakaisar3  \n",
       "...                                                  ...              ...  \n",
       "93877  pa   novel bamukmin mengaku sudah mantap maju ...          sjahtie  \n",
       "93878            pks ingin ada  poros koalisi di pilpres          jawapos  \n",
       "93879  met tahun baru sis semoga tahun ini damai meli...    BANGSAygSUJUD  \n",
       "93880  bursa pilpres  anies baswedan makin melejit  l...    teropongmetro  \n",
       "93881  pks inginkan banyak tokoh berkualitas ikut dal...       ninovendri  \n",
       "\n",
       "[90723 rows x 4 columns]"
      ]
     },
     "execution_count": 319,
     "metadata": {},
     "output_type": "execute_result"
    }
   ],
   "source": [
    "data"
   ]
  },
  {
   "cell_type": "code",
   "execution_count": 320,
   "metadata": {},
   "outputs": [
    {
     "name": "stdout",
     "output_type": "stream",
     "text": [
      "ada sebanyak 14909 data yang terduplikasi\n"
     ]
    }
   ],
   "source": [
    "duplikasi = len(data.tweet)-len(data.tweet.drop_duplicates())\n",
    "print(f'ada sebanyak {duplikasi} data yang terduplikasi')"
   ]
  },
  {
   "cell_type": "code",
   "execution_count": 321,
   "metadata": {},
   "outputs": [
    {
     "name": "stdout",
     "output_type": "stream",
     "text": [
      "ada sebanyak 0 data yang terduplikasi\n"
     ]
    }
   ],
   "source": [
    "data = data.drop_duplicates(subset=['tweet'])\n",
    "\n",
    "duplikasi = len(data.tweet)-len(data.tweet.drop_duplicates())\n",
    "print(f'ada sebanyak {duplikasi} data yang terduplikasi')"
   ]
  },
  {
   "cell_type": "code",
   "execution_count": 322,
   "metadata": {},
   "outputs": [
    {
     "name": "stderr",
     "output_type": "stream",
     "text": [
      "/var/folders/md/n3wx2h2116zfry84m6sz4k5w0000gn/T/ipykernel_33805/2330011971.py:10: SettingWithCopyWarning: \n",
      "A value is trying to be set on a copy of a slice from a DataFrame.\n",
      "Try using .loc[row_indexer,col_indexer] = value instead\n",
      "\n",
      "See the caveats in the documentation: https://pandas.pydata.org/pandas-docs/stable/user_guide/indexing.html#returning-a-view-versus-a-copy\n",
      "  data['tweet'] = data['tweet'].apply(tokenize_column)\n"
     ]
    }
   ],
   "source": [
    "from nltk.tokenize import word_tokenize\n",
    "\n",
    "def tokenize_column(text):\n",
    "    if isinstance(text, str):  # Memastikan bahwa text adalah string\n",
    "        return word_tokenize(text)\n",
    "    else:\n",
    "        return []  # Mengembalikan list kosong jika text bukan string\n",
    "\n",
    "# Contoh penggunaan:\n",
    "data['tweet'] = data['tweet'].apply(tokenize_column)"
   ]
  },
  {
   "cell_type": "code",
   "execution_count": 323,
   "metadata": {},
   "outputs": [
    {
     "data": {
      "text/html": [
       "<div>\n",
       "<style scoped>\n",
       "    .dataframe tbody tr th:only-of-type {\n",
       "        vertical-align: middle;\n",
       "    }\n",
       "\n",
       "    .dataframe tbody tr th {\n",
       "        vertical-align: top;\n",
       "    }\n",
       "\n",
       "    .dataframe thead th {\n",
       "        text-align: right;\n",
       "    }\n",
       "</style>\n",
       "<table border=\"1\" class=\"dataframe\">\n",
       "  <thead>\n",
       "    <tr style=\"text-align: right;\">\n",
       "      <th></th>\n",
       "      <th>date</th>\n",
       "      <th>id</th>\n",
       "      <th>tweet</th>\n",
       "      <th>username</th>\n",
       "    </tr>\n",
       "  </thead>\n",
       "  <tbody>\n",
       "    <tr>\n",
       "      <th>0</th>\n",
       "      <td>2022-12-30 23:50:32+00:00</td>\n",
       "      <td>1.608974e+18</td>\n",
       "      <td>[berkat, kinerja, di, bumn, serta, kedekatan, ...</td>\n",
       "      <td>Fuad_Lha9</td>\n",
       "    </tr>\n",
       "    <tr>\n",
       "      <th>1</th>\n",
       "      <td>2022-12-30 23:50:16+00:00</td>\n",
       "      <td>1.608974e+18</td>\n",
       "      <td>[menggandeng, ulama, hingga, tokoh, agama, dal...</td>\n",
       "      <td>iwan_tata98</td>\n",
       "    </tr>\n",
       "    <tr>\n",
       "      <th>2</th>\n",
       "      <td>2022-12-30 23:40:27+00:00</td>\n",
       "      <td>1.608971e+18</td>\n",
       "      <td>[mantap, elektabilitas, menteri, bumn, erick, ...</td>\n",
       "      <td>Lima8Satu</td>\n",
       "    </tr>\n",
       "    <tr>\n",
       "      <th>3</th>\n",
       "      <td>2022-12-30 23:36:07+00:00</td>\n",
       "      <td>1.608970e+18</td>\n",
       "      <td>[baru, lolos, sebagai, peserta, pemilu, partai...</td>\n",
       "      <td>21BeritaTerkini</td>\n",
       "    </tr>\n",
       "    <tr>\n",
       "      <th>4</th>\n",
       "      <td>2022-12-30 23:26:47+00:00</td>\n",
       "      <td>1.608968e+18</td>\n",
       "      <td>[agenda, politik, negara, tuan, rumah, piala, ...</td>\n",
       "      <td>rezakaisar3</td>\n",
       "    </tr>\n",
       "    <tr>\n",
       "      <th>...</th>\n",
       "      <td>...</td>\n",
       "      <td>...</td>\n",
       "      <td>...</td>\n",
       "      <td>...</td>\n",
       "    </tr>\n",
       "    <tr>\n",
       "      <th>93876</th>\n",
       "      <td>2022-01-01 03:29:34+00:00</td>\n",
       "      <td>1.477120e+18</td>\n",
       "      <td>[mbak, puan, memang, keren, sekali, rakyat, ti...</td>\n",
       "      <td>AswanaAktivix</td>\n",
       "    </tr>\n",
       "    <tr>\n",
       "      <th>93877</th>\n",
       "      <td>2022-01-01 03:05:00+00:00</td>\n",
       "      <td>1.477114e+18</td>\n",
       "      <td>[pa, novel, bamukmin, mengaku, sudah, mantap, ...</td>\n",
       "      <td>sjahtie</td>\n",
       "    </tr>\n",
       "    <tr>\n",
       "      <th>93879</th>\n",
       "      <td>2022-01-01 02:08:17+00:00</td>\n",
       "      <td>1.477099e+18</td>\n",
       "      <td>[met, tahun, baru, sis, semoga, tahun, ini, da...</td>\n",
       "      <td>BANGSAygSUJUD</td>\n",
       "    </tr>\n",
       "    <tr>\n",
       "      <th>93880</th>\n",
       "      <td>2022-01-01 00:38:55+00:00</td>\n",
       "      <td>1.477077e+18</td>\n",
       "      <td>[bursa, pilpres, anies, baswedan, makin, melej...</td>\n",
       "      <td>teropongmetro</td>\n",
       "    </tr>\n",
       "    <tr>\n",
       "      <th>93881</th>\n",
       "      <td>2022-01-01 00:37:00+00:00</td>\n",
       "      <td>1.477076e+18</td>\n",
       "      <td>[pks, inginkan, banyak, tokoh, berkualitas, ik...</td>\n",
       "      <td>ninovendri</td>\n",
       "    </tr>\n",
       "  </tbody>\n",
       "</table>\n",
       "<p>75814 rows × 4 columns</p>\n",
       "</div>"
      ],
      "text/plain": [
       "                            date            id  \\\n",
       "0      2022-12-30 23:50:32+00:00  1.608974e+18   \n",
       "1      2022-12-30 23:50:16+00:00  1.608974e+18   \n",
       "2      2022-12-30 23:40:27+00:00  1.608971e+18   \n",
       "3      2022-12-30 23:36:07+00:00  1.608970e+18   \n",
       "4      2022-12-30 23:26:47+00:00  1.608968e+18   \n",
       "...                          ...           ...   \n",
       "93876  2022-01-01 03:29:34+00:00  1.477120e+18   \n",
       "93877  2022-01-01 03:05:00+00:00  1.477114e+18   \n",
       "93879  2022-01-01 02:08:17+00:00  1.477099e+18   \n",
       "93880  2022-01-01 00:38:55+00:00  1.477077e+18   \n",
       "93881  2022-01-01 00:37:00+00:00  1.477076e+18   \n",
       "\n",
       "                                                   tweet         username  \n",
       "0      [berkat, kinerja, di, bumn, serta, kedekatan, ...        Fuad_Lha9  \n",
       "1      [menggandeng, ulama, hingga, tokoh, agama, dal...      iwan_tata98  \n",
       "2      [mantap, elektabilitas, menteri, bumn, erick, ...        Lima8Satu  \n",
       "3      [baru, lolos, sebagai, peserta, pemilu, partai...  21BeritaTerkini  \n",
       "4      [agenda, politik, negara, tuan, rumah, piala, ...      rezakaisar3  \n",
       "...                                                  ...              ...  \n",
       "93876  [mbak, puan, memang, keren, sekali, rakyat, ti...    AswanaAktivix  \n",
       "93877  [pa, novel, bamukmin, mengaku, sudah, mantap, ...          sjahtie  \n",
       "93879  [met, tahun, baru, sis, semoga, tahun, ini, da...    BANGSAygSUJUD  \n",
       "93880  [bursa, pilpres, anies, baswedan, makin, melej...    teropongmetro  \n",
       "93881  [pks, inginkan, banyak, tokoh, berkualitas, ik...       ninovendri  \n",
       "\n",
       "[75814 rows x 4 columns]"
      ]
     },
     "execution_count": 323,
     "metadata": {},
     "output_type": "execute_result"
    }
   ],
   "source": [
    "data"
   ]
  },
  {
   "cell_type": "code",
   "execution_count": 324,
   "metadata": {},
   "outputs": [
    {
     "name": "stdout",
     "output_type": "stream",
     "text": [
      "                            date            id  \\\n",
      "0      2022-12-30 23:50:32+00:00  1.608974e+18   \n",
      "1      2022-12-30 23:50:16+00:00  1.608974e+18   \n",
      "2      2022-12-30 23:40:27+00:00  1.608971e+18   \n",
      "3      2022-12-30 23:36:07+00:00  1.608970e+18   \n",
      "4      2022-12-30 23:26:47+00:00  1.608968e+18   \n",
      "...                          ...           ...   \n",
      "93876  2022-01-01 03:29:34+00:00  1.477120e+18   \n",
      "93877  2022-01-01 03:05:00+00:00  1.477114e+18   \n",
      "93879  2022-01-01 02:08:17+00:00  1.477099e+18   \n",
      "93880  2022-01-01 00:38:55+00:00  1.477077e+18   \n",
      "93881  2022-01-01 00:37:00+00:00  1.477076e+18   \n",
      "\n",
      "                                                   tweet         username  \n",
      "0      berkat bumn perintah elektabilitas tingkat das...        Fuad_Lha9  \n",
      "1      gandeng ulama tokoh agama suasana adem jelang ...      iwan_tata98  \n",
      "2      mantap elektabilitas menteri bumn erick thohir...        Lima8Satu  \n",
      "3           lolos milu partai ummat bahas dukung pilpres  21BeritaTerkini  \n",
      "4      agenda politik negara tuan rumah piala dunia j...      rezakaisar3  \n",
      "...                                                  ...              ...  \n",
      "93876  mbak puan keren rakyat suguh baliho beras grat...    AswanaAktivix  \n",
      "93877  pa novel bamukmin mantap maju pd pilpres novel...          sjahtie  \n",
      "93879  met tahun sis moga tahun damai liput tahun tia...    BANGSAygSUJUD  \n",
      "93880                 bursa pilpres anies baswedan lejit    teropongmetro  \n",
      "93881          pks tokoh kualitas pilih presiden pilpres       ninovendri  \n",
      "\n",
      "[75814 rows x 4 columns]\n"
     ]
    },
    {
     "name": "stderr",
     "output_type": "stream",
     "text": [
      "/var/folders/md/n3wx2h2116zfry84m6sz4k5w0000gn/T/ipykernel_33805/29094851.py:28: SettingWithCopyWarning: \n",
      "A value is trying to be set on a copy of a slice from a DataFrame.\n",
      "Try using .loc[row_indexer,col_indexer] = value instead\n",
      "\n",
      "See the caveats in the documentation: https://pandas.pydata.org/pandas-docs/stable/user_guide/indexing.html#returning-a-view-versus-a-copy\n",
      "  data['tweet'] = preprocessed_data\n"
     ]
    }
   ],
   "source": [
    "stemmer = StemmerFactory().create_stemmer()\n",
    "stopword_remover = StopWordRemoverFactory().create_stop_word_remover()\n",
    "def stem_stopword(batch):\n",
    "    # Menerapkan stemming pada setiap teks dalam batch\n",
    "    stemmed_batch = [stemmer.stem(text) for text in batch]\n",
    "\n",
    "    # Melakukan penghapusan stopwords pada setiap teks dalam batch\n",
    "    cleaned_batch = [stopword_remover.remove(text) for text in stemmed_batch]\n",
    "\n",
    "    return cleaned_batch\n",
    "\n",
    "# Ukuran batch yang diinginkan\n",
    "batch_size = 1000\n",
    "\n",
    "# Menghitung jumlah batch yang diperlukan\n",
    "num_batches = len(data) // batch_size + 1\n",
    "\n",
    "preprocessed_data = []\n",
    "for i in range(num_batches):\n",
    "    start_idx = i * batch_size\n",
    "    end_idx = (i + 1) * batch_size\n",
    "    batch_data = data['tweet'].iloc[start_idx:end_idx].astype(str)\n",
    "\n",
    "    preprocessed_batch = stem_stopword(batch_data)\n",
    "    preprocessed_data.extend(preprocessed_batch)\n",
    "\n",
    "# Menambahkan hasil preprocessing ke dalam DataFrame\n",
    "data['tweet'] = preprocessed_data\n",
    "\n",
    "# Hasil preprocessing data\n",
    "print(data)"
   ]
  },
  {
   "cell_type": "code",
   "execution_count": 61,
   "metadata": {},
   "outputs": [],
   "source": [
    "data.to_csv('scrap_stoop1.csv')"
   ]
  },
  {
   "cell_type": "code",
   "execution_count": 325,
   "metadata": {},
   "outputs": [
    {
     "name": "stdout",
     "output_type": "stream",
     "text": [
      "ada sebanyak 2530 data yang terduplikasi\n"
     ]
    }
   ],
   "source": [
    "duplikasi = len(data.tweet)-len(data.tweet.drop_duplicates())\n",
    "print(f'ada sebanyak {duplikasi} data yang terduplikasi')"
   ]
  },
  {
   "cell_type": "code",
   "execution_count": 326,
   "metadata": {},
   "outputs": [
    {
     "name": "stdout",
     "output_type": "stream",
     "text": [
      "ada sebanyak 0 data yang terduplikasi\n"
     ]
    }
   ],
   "source": [
    "data = data.drop_duplicates(subset=['tweet'])\n",
    "\n",
    "duplikasi = len(data.tweet)-len(data.tweet.drop_duplicates())\n",
    "print(f'ada sebanyak {duplikasi} data yang terduplikasi')"
   ]
  },
  {
   "cell_type": "code",
   "execution_count": 327,
   "metadata": {},
   "outputs": [
    {
     "data": {
      "text/plain": [
       "date        0\n",
       "id          0\n",
       "tweet       0\n",
       "username    0\n",
       "dtype: int64"
      ]
     },
     "execution_count": 327,
     "metadata": {},
     "output_type": "execute_result"
    }
   ],
   "source": [
    "data.isnull().sum()"
   ]
  },
  {
   "cell_type": "code",
   "execution_count": 112,
   "metadata": {},
   "outputs": [],
   "source": [
    "data.to_csv('stemstopclean1.csv')"
   ]
  },
  {
   "cell_type": "code",
   "execution_count": 3,
   "metadata": {},
   "outputs": [],
   "source": [
    "data = pd.read_csv('stemstopclean.csv')"
   ]
  },
  {
   "cell_type": "code",
   "execution_count": 328,
   "metadata": {},
   "outputs": [
    {
     "name": "stdout",
     "output_type": "stream",
     "text": [
      "date        0\n",
      "id          0\n",
      "tweet       0\n",
      "username    0\n",
      "dtype: int64\n"
     ]
    },
    {
     "data": {
      "text/plain": [
       "73284"
      ]
     },
     "execution_count": 328,
     "metadata": {},
     "output_type": "execute_result"
    }
   ],
   "source": [
    "data = data.dropna()\n",
    "print(data.isnull().sum())\n",
    "len(data)"
   ]
  },
  {
   "cell_type": "code",
   "execution_count": 126,
   "metadata": {},
   "outputs": [],
   "source": [
    "# def tokenize_column(text):\n",
    "#     if isinstance(text, str):  # Memastikan bahwa text adalah string\n",
    "#         return word_tokenize(text)\n",
    "#     else:\n",
    "#         return []  # Mengembalikan list kosong jika text bukan string\n",
    "\n",
    "# # Contoh penggunaan:\n",
    "# data['tweet'] = data['tweet'].apply(tokenize_column)"
   ]
  },
  {
   "cell_type": "code",
   "execution_count": 226,
   "metadata": {},
   "outputs": [
    {
     "name": "stdout",
     "output_type": "stream",
     "text": [
      "1656\n"
     ]
    }
   ],
   "source": [
    "# bar = data[data['tweet'].str.contains('golkar')]\n",
    "# print(len(bar))"
   ]
  },
  {
   "cell_type": "code",
   "execution_count": 329,
   "metadata": {},
   "outputs": [],
   "source": [
    "from nltk.tokenize import word_tokenize\n",
    "def labelling(tweet):\n",
    "    # tweet = preprocess_tweet(tweet)\n",
    "    clean_tokens = word_tokenize(tweet) #tokenize\n",
    "    # clean_tokens = [stemmer.stem(word) for word in tweet_tokens if word not in stopwords] #stemming & stopword removal\n",
    "    positive_words = open(\"positive.txt\").read().splitlines()\n",
    "    negative_words = open(\"negative.txt\").read().splitlines()\n",
    "    positive_count = sum([1 for word in clean_tokens if word in positive_words])\n",
    "    negative_count = sum([1 for word in clean_tokens if word in negative_words])\n",
    "    if positive_count > negative_count:\n",
    "        return 'Positive'\n",
    "    elif positive_count < negative_count:\n",
    "        return 'Negative'\n",
    "    else:\n",
    "        return 'Neutral'\n",
    "data['sentiment'] = data['tweet'].apply(labelling)"
   ]
  },
  {
   "cell_type": "code",
   "execution_count": 56,
   "metadata": {},
   "outputs": [
    {
     "name": "stdout",
     "output_type": "stream",
     "text": [
      "Requirement already satisfied: sastrawi in /opt/anaconda3/lib/python3.9/site-packages (1.0.1)\n",
      "\u001b[33mWARNING: Error parsing requirements for platformdirs: [Errno 2] No such file or directory: '/Users/fahdmuchammad/.local/lib/python3.9/site-packages/platformdirs-2.6.0.dist-info/METADATA'\u001b[0m\n",
      "Note: you may need to restart the kernel to use updated packages.\n"
     ]
    }
   ],
   "source": [
    "%pip install sastrawi"
   ]
  },
  {
   "cell_type": "code",
   "execution_count": 58,
   "metadata": {},
   "outputs": [
    {
     "ename": "ModuleNotFoundError",
     "evalue": "No module named 'Sastrawi.Normalisasi'",
     "output_type": "error",
     "traceback": [
      "\u001b[0;31m---------------------------------------------------------------------------\u001b[0m",
      "\u001b[0;31mModuleNotFoundError\u001b[0m                       Traceback (most recent call last)",
      "\u001b[1;32m/Users/fahdmuchammad/Documents/SENTIMENT_PILPRES_TA/FIX/skripsi1.ipynb Cell 35\u001b[0m in \u001b[0;36m<cell line: 1>\u001b[0;34m()\u001b[0m\n\u001b[0;32m----> <a href='vscode-notebook-cell:/Users/fahdmuchammad/Documents/SENTIMENT_PILPRES_TA/FIX/skripsi1.ipynb#X66sZmlsZQ%3D%3D?line=0'>1</a>\u001b[0m \u001b[39mfrom\u001b[39;00m \u001b[39mSastrawi\u001b[39;00m\u001b[39m.\u001b[39;00m\u001b[39mNormalisasi\u001b[39;00m \u001b[39mimport\u001b[39;00m Normalisasi \u001b[39mas\u001b[39;00m norm\n\u001b[1;32m      <a href='vscode-notebook-cell:/Users/fahdmuchammad/Documents/SENTIMENT_PILPRES_TA/FIX/skripsi1.ipynb#X66sZmlsZQ%3D%3D?line=1'>2</a>\u001b[0m teks \u001b[39m=\u001b[39m \u001b[39m\"\u001b[39m\u001b[39mSaya mau bljr yg bner\u001b[39m\u001b[39m\"\u001b[39m\n\u001b[1;32m      <a href='vscode-notebook-cell:/Users/fahdmuchammad/Documents/SENTIMENT_PILPRES_TA/FIX/skripsi1.ipynb#X66sZmlsZQ%3D%3D?line=3'>4</a>\u001b[0m \u001b[39m# Normalisasi teks\u001b[39;00m\n",
      "\u001b[0;31mModuleNotFoundError\u001b[0m: No module named 'Sastrawi.Normalisasi'"
     ]
    }
   ],
   "source": [
    "from Sastrawi.Normalisasi import Normalisasi\n",
    "teks = \"Saya mau bljr yg bner\"\n",
    "\n",
    "# Normalisasi teks\n",
    "teks_normalisasi = norm().normalize(teks)\n",
    "\n",
    "# Output hasil normalisasi\n",
    "print(teks_normalisasi)"
   ]
  },
  {
   "cell_type": "code",
   "execution_count": 285,
   "metadata": {},
   "outputs": [
    {
     "ename": "KeyError",
     "evalue": "\"['level_0', 'index'] not found in axis\"",
     "output_type": "error",
     "traceback": [
      "\u001b[0;31m---------------------------------------------------------------------------\u001b[0m",
      "\u001b[0;31mKeyError\u001b[0m                                  Traceback (most recent call last)",
      "\u001b[1;32m/Users/fahdmuchammad/Documents/SENTIMENT_PILPRES_TA/FIX/skripsi1.ipynb Cell 37\u001b[0m in \u001b[0;36m<cell line: 1>\u001b[0;34m()\u001b[0m\n\u001b[0;32m----> <a href='vscode-notebook-cell:/Users/fahdmuchammad/Documents/SENTIMENT_PILPRES_TA/FIX/skripsi1.ipynb#X50sZmlsZQ%3D%3D?line=0'>1</a>\u001b[0m data\u001b[39m=\u001b[39mdata\u001b[39m.\u001b[39;49mdrop(columns\u001b[39m=\u001b[39;49m[\u001b[39m'\u001b[39;49m\u001b[39mlevel_0\u001b[39;49m\u001b[39m'\u001b[39;49m,\u001b[39m'\u001b[39;49m\u001b[39mindex\u001b[39;49m\u001b[39m'\u001b[39;49m])\n\u001b[1;32m      <a href='vscode-notebook-cell:/Users/fahdmuchammad/Documents/SENTIMENT_PILPRES_TA/FIX/skripsi1.ipynb#X50sZmlsZQ%3D%3D?line=1'>2</a>\u001b[0m data\n",
      "File \u001b[0;32m/opt/anaconda3/lib/python3.9/site-packages/pandas/util/_decorators.py:311\u001b[0m, in \u001b[0;36mdeprecate_nonkeyword_arguments.<locals>.decorate.<locals>.wrapper\u001b[0;34m(*args, **kwargs)\u001b[0m\n\u001b[1;32m    305\u001b[0m \u001b[39mif\u001b[39;00m \u001b[39mlen\u001b[39m(args) \u001b[39m>\u001b[39m num_allow_args:\n\u001b[1;32m    306\u001b[0m     warnings\u001b[39m.\u001b[39mwarn(\n\u001b[1;32m    307\u001b[0m         msg\u001b[39m.\u001b[39mformat(arguments\u001b[39m=\u001b[39marguments),\n\u001b[1;32m    308\u001b[0m         \u001b[39mFutureWarning\u001b[39;00m,\n\u001b[1;32m    309\u001b[0m         stacklevel\u001b[39m=\u001b[39mstacklevel,\n\u001b[1;32m    310\u001b[0m     )\n\u001b[0;32m--> 311\u001b[0m \u001b[39mreturn\u001b[39;00m func(\u001b[39m*\u001b[39;49margs, \u001b[39m*\u001b[39;49m\u001b[39m*\u001b[39;49mkwargs)\n",
      "File \u001b[0;32m/opt/anaconda3/lib/python3.9/site-packages/pandas/core/frame.py:4954\u001b[0m, in \u001b[0;36mDataFrame.drop\u001b[0;34m(self, labels, axis, index, columns, level, inplace, errors)\u001b[0m\n\u001b[1;32m   4806\u001b[0m \u001b[39m@deprecate_nonkeyword_arguments\u001b[39m(version\u001b[39m=\u001b[39m\u001b[39mNone\u001b[39;00m, allowed_args\u001b[39m=\u001b[39m[\u001b[39m\"\u001b[39m\u001b[39mself\u001b[39m\u001b[39m\"\u001b[39m, \u001b[39m\"\u001b[39m\u001b[39mlabels\u001b[39m\u001b[39m\"\u001b[39m])\n\u001b[1;32m   4807\u001b[0m \u001b[39mdef\u001b[39;00m \u001b[39mdrop\u001b[39m(\n\u001b[1;32m   4808\u001b[0m     \u001b[39mself\u001b[39m,\n\u001b[0;32m   (...)\u001b[0m\n\u001b[1;32m   4815\u001b[0m     errors: \u001b[39mstr\u001b[39m \u001b[39m=\u001b[39m \u001b[39m\"\u001b[39m\u001b[39mraise\u001b[39m\u001b[39m\"\u001b[39m,\n\u001b[1;32m   4816\u001b[0m ):\n\u001b[1;32m   4817\u001b[0m     \u001b[39m\"\"\"\u001b[39;00m\n\u001b[1;32m   4818\u001b[0m \u001b[39m    Drop specified labels from rows or columns.\u001b[39;00m\n\u001b[1;32m   4819\u001b[0m \n\u001b[0;32m   (...)\u001b[0m\n\u001b[1;32m   4952\u001b[0m \u001b[39m            weight  1.0     0.8\u001b[39;00m\n\u001b[1;32m   4953\u001b[0m \u001b[39m    \"\"\"\u001b[39;00m\n\u001b[0;32m-> 4954\u001b[0m     \u001b[39mreturn\u001b[39;00m \u001b[39msuper\u001b[39;49m()\u001b[39m.\u001b[39;49mdrop(\n\u001b[1;32m   4955\u001b[0m         labels\u001b[39m=\u001b[39;49mlabels,\n\u001b[1;32m   4956\u001b[0m         axis\u001b[39m=\u001b[39;49maxis,\n\u001b[1;32m   4957\u001b[0m         index\u001b[39m=\u001b[39;49mindex,\n\u001b[1;32m   4958\u001b[0m         columns\u001b[39m=\u001b[39;49mcolumns,\n\u001b[1;32m   4959\u001b[0m         level\u001b[39m=\u001b[39;49mlevel,\n\u001b[1;32m   4960\u001b[0m         inplace\u001b[39m=\u001b[39;49minplace,\n\u001b[1;32m   4961\u001b[0m         errors\u001b[39m=\u001b[39;49merrors,\n\u001b[1;32m   4962\u001b[0m     )\n",
      "File \u001b[0;32m/opt/anaconda3/lib/python3.9/site-packages/pandas/core/generic.py:4267\u001b[0m, in \u001b[0;36mNDFrame.drop\u001b[0;34m(self, labels, axis, index, columns, level, inplace, errors)\u001b[0m\n\u001b[1;32m   4265\u001b[0m \u001b[39mfor\u001b[39;00m axis, labels \u001b[39min\u001b[39;00m axes\u001b[39m.\u001b[39mitems():\n\u001b[1;32m   4266\u001b[0m     \u001b[39mif\u001b[39;00m labels \u001b[39mis\u001b[39;00m \u001b[39mnot\u001b[39;00m \u001b[39mNone\u001b[39;00m:\n\u001b[0;32m-> 4267\u001b[0m         obj \u001b[39m=\u001b[39m obj\u001b[39m.\u001b[39;49m_drop_axis(labels, axis, level\u001b[39m=\u001b[39;49mlevel, errors\u001b[39m=\u001b[39;49merrors)\n\u001b[1;32m   4269\u001b[0m \u001b[39mif\u001b[39;00m inplace:\n\u001b[1;32m   4270\u001b[0m     \u001b[39mself\u001b[39m\u001b[39m.\u001b[39m_update_inplace(obj)\n",
      "File \u001b[0;32m/opt/anaconda3/lib/python3.9/site-packages/pandas/core/generic.py:4311\u001b[0m, in \u001b[0;36mNDFrame._drop_axis\u001b[0;34m(self, labels, axis, level, errors, consolidate, only_slice)\u001b[0m\n\u001b[1;32m   4309\u001b[0m         new_axis \u001b[39m=\u001b[39m axis\u001b[39m.\u001b[39mdrop(labels, level\u001b[39m=\u001b[39mlevel, errors\u001b[39m=\u001b[39merrors)\n\u001b[1;32m   4310\u001b[0m     \u001b[39melse\u001b[39;00m:\n\u001b[0;32m-> 4311\u001b[0m         new_axis \u001b[39m=\u001b[39m axis\u001b[39m.\u001b[39;49mdrop(labels, errors\u001b[39m=\u001b[39;49merrors)\n\u001b[1;32m   4312\u001b[0m     indexer \u001b[39m=\u001b[39m axis\u001b[39m.\u001b[39mget_indexer(new_axis)\n\u001b[1;32m   4314\u001b[0m \u001b[39m# Case for non-unique axis\u001b[39;00m\n\u001b[1;32m   4315\u001b[0m \u001b[39melse\u001b[39;00m:\n",
      "File \u001b[0;32m/opt/anaconda3/lib/python3.9/site-packages/pandas/core/indexes/base.py:6644\u001b[0m, in \u001b[0;36mIndex.drop\u001b[0;34m(self, labels, errors)\u001b[0m\n\u001b[1;32m   6642\u001b[0m \u001b[39mif\u001b[39;00m mask\u001b[39m.\u001b[39many():\n\u001b[1;32m   6643\u001b[0m     \u001b[39mif\u001b[39;00m errors \u001b[39m!=\u001b[39m \u001b[39m\"\u001b[39m\u001b[39mignore\u001b[39m\u001b[39m\"\u001b[39m:\n\u001b[0;32m-> 6644\u001b[0m         \u001b[39mraise\u001b[39;00m \u001b[39mKeyError\u001b[39;00m(\u001b[39mf\u001b[39m\u001b[39m\"\u001b[39m\u001b[39m{\u001b[39;00m\u001b[39mlist\u001b[39m(labels[mask])\u001b[39m}\u001b[39;00m\u001b[39m not found in axis\u001b[39m\u001b[39m\"\u001b[39m)\n\u001b[1;32m   6645\u001b[0m     indexer \u001b[39m=\u001b[39m indexer[\u001b[39m~\u001b[39mmask]\n\u001b[1;32m   6646\u001b[0m \u001b[39mreturn\u001b[39;00m \u001b[39mself\u001b[39m\u001b[39m.\u001b[39mdelete(indexer)\n",
      "\u001b[0;31mKeyError\u001b[0m: \"['level_0', 'index'] not found in axis\""
     ]
    }
   ],
   "source": [
    "data=data.drop(columns=['level_0','index'])\n",
    "data"
   ]
  },
  {
   "cell_type": "code",
   "execution_count": 1,
   "metadata": {},
   "outputs": [
    {
     "ename": "NameError",
     "evalue": "name 'data' is not defined",
     "output_type": "error",
     "traceback": [
      "\u001b[0;31m---------------------------------------------------------------------------\u001b[0m",
      "\u001b[0;31mNameError\u001b[0m                                 Traceback (most recent call last)",
      "\u001b[1;32m/Users/fahdmuchammad/Documents/SENTIMENT_PILPRES_TA/FIX/skripsi1.ipynb Cell 35\u001b[0m in \u001b[0;36m<cell line: 1>\u001b[0;34m()\u001b[0m\n\u001b[0;32m----> <a href='vscode-notebook-cell:/Users/fahdmuchammad/Documents/SENTIMENT_PILPRES_TA/FIX/skripsi1.ipynb#X46sZmlsZQ%3D%3D?line=0'>1</a>\u001b[0m data\u001b[39m.\u001b[39mto_csv(\u001b[39m'\u001b[39m\u001b[39mdatasiap2.csv\u001b[39m\u001b[39m'\u001b[39m)\n",
      "\u001b[0;31mNameError\u001b[0m: name 'data' is not defined"
     ]
    }
   ],
   "source": [
    "data.to_csv('datasiap2.csv')"
   ]
  },
  {
   "cell_type": "code",
   "execution_count": 330,
   "metadata": {},
   "outputs": [
    {
     "data": {
      "text/html": [
       "<div>\n",
       "<style scoped>\n",
       "    .dataframe tbody tr th:only-of-type {\n",
       "        vertical-align: middle;\n",
       "    }\n",
       "\n",
       "    .dataframe tbody tr th {\n",
       "        vertical-align: top;\n",
       "    }\n",
       "\n",
       "    .dataframe thead th {\n",
       "        text-align: right;\n",
       "    }\n",
       "</style>\n",
       "<table border=\"1\" class=\"dataframe\">\n",
       "  <thead>\n",
       "    <tr style=\"text-align: right;\">\n",
       "      <th></th>\n",
       "      <th>date</th>\n",
       "      <th>id</th>\n",
       "      <th>tweet</th>\n",
       "      <th>username</th>\n",
       "      <th>sentiment</th>\n",
       "    </tr>\n",
       "  </thead>\n",
       "  <tbody>\n",
       "    <tr>\n",
       "      <th>0</th>\n",
       "      <td>2022-12-30 23:50:32+00:00</td>\n",
       "      <td>1.608974e+18</td>\n",
       "      <td>berkat bumn perintah elektabilitas tingkat das...</td>\n",
       "      <td>Fuad_Lha9</td>\n",
       "      <td>Positive</td>\n",
       "    </tr>\n",
       "    <tr>\n",
       "      <th>1</th>\n",
       "      <td>2022-12-30 23:50:16+00:00</td>\n",
       "      <td>1.608974e+18</td>\n",
       "      <td>gandeng ulama tokoh agama suasana adem jelang ...</td>\n",
       "      <td>iwan_tata98</td>\n",
       "      <td>Positive</td>\n",
       "    </tr>\n",
       "    <tr>\n",
       "      <th>2</th>\n",
       "      <td>2022-12-30 23:40:27+00:00</td>\n",
       "      <td>1.608971e+18</td>\n",
       "      <td>mantap elektabilitas menteri bumn erick thohir...</td>\n",
       "      <td>Lima8Satu</td>\n",
       "      <td>Neutral</td>\n",
       "    </tr>\n",
       "    <tr>\n",
       "      <th>3</th>\n",
       "      <td>2022-12-30 23:36:07+00:00</td>\n",
       "      <td>1.608970e+18</td>\n",
       "      <td>lolos milu partai ummat bahas dukung pilpres</td>\n",
       "      <td>21BeritaTerkini</td>\n",
       "      <td>Neutral</td>\n",
       "    </tr>\n",
       "    <tr>\n",
       "      <th>4</th>\n",
       "      <td>2022-12-30 23:26:47+00:00</td>\n",
       "      <td>1.608968e+18</td>\n",
       "      <td>agenda politik negara tuan rumah piala dunia j...</td>\n",
       "      <td>rezakaisar3</td>\n",
       "      <td>Positive</td>\n",
       "    </tr>\n",
       "    <tr>\n",
       "      <th>...</th>\n",
       "      <td>...</td>\n",
       "      <td>...</td>\n",
       "      <td>...</td>\n",
       "      <td>...</td>\n",
       "      <td>...</td>\n",
       "    </tr>\n",
       "    <tr>\n",
       "      <th>93875</th>\n",
       "      <td>2022-01-01 03:36:41+00:00</td>\n",
       "      <td>1.477122e+18</td>\n",
       "      <td>kelompok narasi bodoh yg percaya yg dukung pil...</td>\n",
       "      <td>benzz1203</td>\n",
       "      <td>Negative</td>\n",
       "    </tr>\n",
       "    <tr>\n",
       "      <th>93876</th>\n",
       "      <td>2022-01-01 03:29:34+00:00</td>\n",
       "      <td>1.477120e+18</td>\n",
       "      <td>mbak puan keren rakyat suguh baliho beras grat...</td>\n",
       "      <td>AswanaAktivix</td>\n",
       "      <td>Positive</td>\n",
       "    </tr>\n",
       "    <tr>\n",
       "      <th>93877</th>\n",
       "      <td>2022-01-01 03:05:00+00:00</td>\n",
       "      <td>1.477114e+18</td>\n",
       "      <td>pa novel bamukmin mantap maju pd pilpres novel...</td>\n",
       "      <td>sjahtie</td>\n",
       "      <td>Positive</td>\n",
       "    </tr>\n",
       "    <tr>\n",
       "      <th>93879</th>\n",
       "      <td>2022-01-01 02:08:17+00:00</td>\n",
       "      <td>1.477099e+18</td>\n",
       "      <td>met tahun sis moga tahun damai liput tahun tia...</td>\n",
       "      <td>BANGSAygSUJUD</td>\n",
       "      <td>Positive</td>\n",
       "    </tr>\n",
       "    <tr>\n",
       "      <th>93881</th>\n",
       "      <td>2022-01-01 00:37:00+00:00</td>\n",
       "      <td>1.477076e+18</td>\n",
       "      <td>pks tokoh kualitas pilih presiden pilpres</td>\n",
       "      <td>ninovendri</td>\n",
       "      <td>Positive</td>\n",
       "    </tr>\n",
       "  </tbody>\n",
       "</table>\n",
       "<p>73284 rows × 5 columns</p>\n",
       "</div>"
      ],
      "text/plain": [
       "                            date            id  \\\n",
       "0      2022-12-30 23:50:32+00:00  1.608974e+18   \n",
       "1      2022-12-30 23:50:16+00:00  1.608974e+18   \n",
       "2      2022-12-30 23:40:27+00:00  1.608971e+18   \n",
       "3      2022-12-30 23:36:07+00:00  1.608970e+18   \n",
       "4      2022-12-30 23:26:47+00:00  1.608968e+18   \n",
       "...                          ...           ...   \n",
       "93875  2022-01-01 03:36:41+00:00  1.477122e+18   \n",
       "93876  2022-01-01 03:29:34+00:00  1.477120e+18   \n",
       "93877  2022-01-01 03:05:00+00:00  1.477114e+18   \n",
       "93879  2022-01-01 02:08:17+00:00  1.477099e+18   \n",
       "93881  2022-01-01 00:37:00+00:00  1.477076e+18   \n",
       "\n",
       "                                                   tweet         username  \\\n",
       "0      berkat bumn perintah elektabilitas tingkat das...        Fuad_Lha9   \n",
       "1      gandeng ulama tokoh agama suasana adem jelang ...      iwan_tata98   \n",
       "2      mantap elektabilitas menteri bumn erick thohir...        Lima8Satu   \n",
       "3           lolos milu partai ummat bahas dukung pilpres  21BeritaTerkini   \n",
       "4      agenda politik negara tuan rumah piala dunia j...      rezakaisar3   \n",
       "...                                                  ...              ...   \n",
       "93875  kelompok narasi bodoh yg percaya yg dukung pil...        benzz1203   \n",
       "93876  mbak puan keren rakyat suguh baliho beras grat...    AswanaAktivix   \n",
       "93877  pa novel bamukmin mantap maju pd pilpres novel...          sjahtie   \n",
       "93879  met tahun sis moga tahun damai liput tahun tia...    BANGSAygSUJUD   \n",
       "93881          pks tokoh kualitas pilih presiden pilpres       ninovendri   \n",
       "\n",
       "      sentiment  \n",
       "0      Positive  \n",
       "1      Positive  \n",
       "2       Neutral  \n",
       "3       Neutral  \n",
       "4      Positive  \n",
       "...         ...  \n",
       "93875  Negative  \n",
       "93876  Positive  \n",
       "93877  Positive  \n",
       "93879  Positive  \n",
       "93881  Positive  \n",
       "\n",
       "[73284 rows x 5 columns]"
      ]
     },
     "execution_count": 330,
     "metadata": {},
     "output_type": "execute_result"
    }
   ],
   "source": [
    "data"
   ]
  },
  {
   "cell_type": "code",
   "execution_count": 332,
   "metadata": {},
   "outputs": [
    {
     "data": {
      "text/plain": [
       "Neutral     32202\n",
       "Positive    29495\n",
       "Negative    11587\n",
       "Name: sentiment, dtype: int64"
      ]
     },
     "execution_count": 332,
     "metadata": {},
     "output_type": "execute_result"
    }
   ],
   "source": [
    "data.sentiment.value_counts()"
   ]
  },
  {
   "cell_type": "code",
   "execution_count": 198,
   "metadata": {},
   "outputs": [],
   "source": [
    "data = data.reset_index()"
   ]
  },
  {
   "cell_type": "code",
   "execution_count": 288,
   "metadata": {},
   "outputs": [
    {
     "data": {
      "text/plain": [
       "93626"
      ]
     },
     "execution_count": 288,
     "metadata": {},
     "output_type": "execute_result"
    }
   ],
   "source": [
    "len(data)"
   ]
  },
  {
   "cell_type": "code",
   "execution_count": 333,
   "metadata": {},
   "outputs": [
    {
     "data": {
      "text/html": [
       "<div>\n",
       "<style scoped>\n",
       "    .dataframe tbody tr th:only-of-type {\n",
       "        vertical-align: middle;\n",
       "    }\n",
       "\n",
       "    .dataframe tbody tr th {\n",
       "        vertical-align: top;\n",
       "    }\n",
       "\n",
       "    .dataframe thead th {\n",
       "        text-align: right;\n",
       "    }\n",
       "</style>\n",
       "<table border=\"1\" class=\"dataframe\">\n",
       "  <thead>\n",
       "    <tr style=\"text-align: right;\">\n",
       "      <th></th>\n",
       "      <th>date</th>\n",
       "      <th>id</th>\n",
       "      <th>tweet</th>\n",
       "      <th>username</th>\n",
       "      <th>sentiment</th>\n",
       "    </tr>\n",
       "  </thead>\n",
       "  <tbody>\n",
       "    <tr>\n",
       "      <th>0</th>\n",
       "      <td>2022-12-30 23:50:32+00:00</td>\n",
       "      <td>1.608974e+18</td>\n",
       "      <td>berkat bumn perintah elektabilitas tingkat das...</td>\n",
       "      <td>Fuad_Lha9</td>\n",
       "      <td>Positive</td>\n",
       "    </tr>\n",
       "    <tr>\n",
       "      <th>1</th>\n",
       "      <td>2022-12-30 23:50:16+00:00</td>\n",
       "      <td>1.608974e+18</td>\n",
       "      <td>gandeng ulama tokoh agama suasana adem jelang ...</td>\n",
       "      <td>iwan_tata98</td>\n",
       "      <td>Positive</td>\n",
       "    </tr>\n",
       "    <tr>\n",
       "      <th>2</th>\n",
       "      <td>2022-12-30 23:40:27+00:00</td>\n",
       "      <td>1.608971e+18</td>\n",
       "      <td>mantap elektabilitas menteri bumn erick thohir...</td>\n",
       "      <td>Lima8Satu</td>\n",
       "      <td>Neutral</td>\n",
       "    </tr>\n",
       "    <tr>\n",
       "      <th>3</th>\n",
       "      <td>2022-12-30 23:36:07+00:00</td>\n",
       "      <td>1.608970e+18</td>\n",
       "      <td>lolos milu partai ummat bahas dukung pilpres</td>\n",
       "      <td>21BeritaTerkini</td>\n",
       "      <td>Neutral</td>\n",
       "    </tr>\n",
       "    <tr>\n",
       "      <th>4</th>\n",
       "      <td>2022-12-30 23:26:47+00:00</td>\n",
       "      <td>1.608968e+18</td>\n",
       "      <td>agenda politik negara tuan rumah piala dunia j...</td>\n",
       "      <td>rezakaisar3</td>\n",
       "      <td>Positive</td>\n",
       "    </tr>\n",
       "    <tr>\n",
       "      <th>...</th>\n",
       "      <td>...</td>\n",
       "      <td>...</td>\n",
       "      <td>...</td>\n",
       "      <td>...</td>\n",
       "      <td>...</td>\n",
       "    </tr>\n",
       "    <tr>\n",
       "      <th>93875</th>\n",
       "      <td>2022-01-01 03:36:41+00:00</td>\n",
       "      <td>1.477122e+18</td>\n",
       "      <td>kelompok narasi bodoh yg percaya yg dukung pil...</td>\n",
       "      <td>benzz1203</td>\n",
       "      <td>Negative</td>\n",
       "    </tr>\n",
       "    <tr>\n",
       "      <th>93876</th>\n",
       "      <td>2022-01-01 03:29:34+00:00</td>\n",
       "      <td>1.477120e+18</td>\n",
       "      <td>mbak puan keren rakyat suguh baliho beras grat...</td>\n",
       "      <td>AswanaAktivix</td>\n",
       "      <td>Positive</td>\n",
       "    </tr>\n",
       "    <tr>\n",
       "      <th>93877</th>\n",
       "      <td>2022-01-01 03:05:00+00:00</td>\n",
       "      <td>1.477114e+18</td>\n",
       "      <td>pa novel bamukmin mantap maju pd pilpres novel...</td>\n",
       "      <td>sjahtie</td>\n",
       "      <td>Positive</td>\n",
       "    </tr>\n",
       "    <tr>\n",
       "      <th>93879</th>\n",
       "      <td>2022-01-01 02:08:17+00:00</td>\n",
       "      <td>1.477099e+18</td>\n",
       "      <td>met tahun sis moga tahun damai liput tahun tia...</td>\n",
       "      <td>BANGSAygSUJUD</td>\n",
       "      <td>Positive</td>\n",
       "    </tr>\n",
       "    <tr>\n",
       "      <th>93881</th>\n",
       "      <td>2022-01-01 00:37:00+00:00</td>\n",
       "      <td>1.477076e+18</td>\n",
       "      <td>pks tokoh kualitas pilih presiden pilpres</td>\n",
       "      <td>ninovendri</td>\n",
       "      <td>Positive</td>\n",
       "    </tr>\n",
       "  </tbody>\n",
       "</table>\n",
       "<p>73284 rows × 5 columns</p>\n",
       "</div>"
      ],
      "text/plain": [
       "                            date            id  \\\n",
       "0      2022-12-30 23:50:32+00:00  1.608974e+18   \n",
       "1      2022-12-30 23:50:16+00:00  1.608974e+18   \n",
       "2      2022-12-30 23:40:27+00:00  1.608971e+18   \n",
       "3      2022-12-30 23:36:07+00:00  1.608970e+18   \n",
       "4      2022-12-30 23:26:47+00:00  1.608968e+18   \n",
       "...                          ...           ...   \n",
       "93875  2022-01-01 03:36:41+00:00  1.477122e+18   \n",
       "93876  2022-01-01 03:29:34+00:00  1.477120e+18   \n",
       "93877  2022-01-01 03:05:00+00:00  1.477114e+18   \n",
       "93879  2022-01-01 02:08:17+00:00  1.477099e+18   \n",
       "93881  2022-01-01 00:37:00+00:00  1.477076e+18   \n",
       "\n",
       "                                                   tweet         username  \\\n",
       "0      berkat bumn perintah elektabilitas tingkat das...        Fuad_Lha9   \n",
       "1      gandeng ulama tokoh agama suasana adem jelang ...      iwan_tata98   \n",
       "2      mantap elektabilitas menteri bumn erick thohir...        Lima8Satu   \n",
       "3           lolos milu partai ummat bahas dukung pilpres  21BeritaTerkini   \n",
       "4      agenda politik negara tuan rumah piala dunia j...      rezakaisar3   \n",
       "...                                                  ...              ...   \n",
       "93875  kelompok narasi bodoh yg percaya yg dukung pil...        benzz1203   \n",
       "93876  mbak puan keren rakyat suguh baliho beras grat...    AswanaAktivix   \n",
       "93877  pa novel bamukmin mantap maju pd pilpres novel...          sjahtie   \n",
       "93879  met tahun sis moga tahun damai liput tahun tia...    BANGSAygSUJUD   \n",
       "93881          pks tokoh kualitas pilih presiden pilpres       ninovendri   \n",
       "\n",
       "      sentiment  \n",
       "0      Positive  \n",
       "1      Positive  \n",
       "2       Neutral  \n",
       "3       Neutral  \n",
       "4      Positive  \n",
       "...         ...  \n",
       "93875  Negative  \n",
       "93876  Positive  \n",
       "93877  Positive  \n",
       "93879  Positive  \n",
       "93881  Positive  \n",
       "\n",
       "[73284 rows x 5 columns]"
      ]
     },
     "execution_count": 333,
     "metadata": {},
     "output_type": "execute_result"
    }
   ],
   "source": [
    "data"
   ]
  },
  {
   "cell_type": "code",
   "execution_count": 249,
   "metadata": {},
   "outputs": [
    {
     "data": {
      "image/png": "[encoded data removed]",
      "text/plain": [
       "<Figure size 432x288 with 1 Axes>"
      ]
     },
     "metadata": {},
     "output_type": "display_data"
    }
   ],
   "source": [
    "p = 42427\n",
    "net = 32934\n",
    "neg = 21220\n",
    "labels = ['Positive ['+str(p)+']' , 'Neutral ['+str(net)+']','Negative ['+str(neg)+']']\n",
    "size = [p,net,neg]\n",
    "colors = [\"#81F495\",\"#A9E4EF\",\"#FF3C38\"]\n",
    "patches, texts = plt.pie(size, colors=colors, startangle=90)\n",
    "plt.style.use('default')\n",
    "plt.legend(labels)\n",
    "plt.title('Number of tweet')\n",
    "plt.axis('equal')\n",
    "plt.show()"
   ]
  },
  {
   "cell_type": "code",
   "execution_count": 76,
   "metadata": {},
   "outputs": [
    {
     "data": {
      "text/plain": [
       "(381, 3283)"
      ]
     },
     "execution_count": 76,
     "metadata": {},
     "output_type": "execute_result"
    }
   ],
   "source": [
    "# X_train.shape\n",
    "# X_train.shape\n",
    "# y_train.shape\n",
    "X_test.shape\n",
    "# y_test.shape"
   ]
  },
  {
   "cell_type": "code",
   "execution_count": 356,
   "metadata": {},
   "outputs": [
    {
     "name": "stdout",
     "output_type": "stream",
     "text": [
      "epoch: 1 acc: 0.7054168372219948\n",
      "epoch: 2 acc: 0.7026879519716196\n",
      "epoch: 3 acc: 0.703643061809251\n",
      "epoch: 4 acc: 0.7052803929594761\n",
      "epoch: 5 acc: 0.6905444126074498\n",
      "epoch: 6 acc: 0.703643061809251\n",
      "epoch: 7 acc: 0.7106017191977078\n"
     ]
    },
    {
     "data": {
      "image/png": "[encoded data removed]",
      "text/plain": [
       "<Figure size 640x480 with 1 Axes>"
      ]
     },
     "metadata": {},
     "output_type": "display_data"
    },
    {
     "name": "stdout",
     "output_type": "stream",
     "text": [
      "Akurasi: 71.06%\n"
     ]
    }
   ],
   "source": [
    "from sklearn.naive_bayes import MultinomialNB\n",
    "from sklearn.model_selection import train_test_split\n",
    "from sklearn.metrics import classification_report, confusion_matrix, accuracy_score, f1_score, precision_score, recall_score, plot_confusion_matrix\n",
    "from sklearn.feature_extraction.text import CountVectorizer\n",
    "from sklearn.feature_extraction.text import TfidfVectorizer\n",
    "from sklearn.pipeline import Pipeline\n",
    "import numpy as np\n",
    "import seaborn as sns\n",
    "import matplotlib.pyplot as plt\n",
    "\n",
    "vectorizer = TfidfVectorizer()\n",
    "\n",
    "# Melakukan transformasi teks menjadi vektor fitur\n",
    "X = vectorizer.fit_transform(data['tweet'].astype(str))\n",
    "# Y = vectorizer.fit_transform(data['sentiment'])\n",
    "\n",
    "epoch = 7\n",
    "accuracy_values = np.zeros(epoch)\n",
    "# Membagi data menjadi data latih dan data uji\n",
    "for epochs in range(epoch):\n",
    "    X_train, X_test, y_train, y_test = train_test_split(X, data['sentiment'], test_size=0.1, random_state=None)\n",
    "    naive_bayes = MultinomialNB()\n",
    "    training = naive_bayes.fit(X_train, y_train)\n",
    "    prediction =  naive_bayes.predict(X_test)\n",
    "\n",
    "    accuracy = accuracy_score(y_test, prediction)\n",
    "    accuracy_values[epochs] = accuracy\n",
    "\n",
    "    print(\"epoch:\", epochs + 1, \"acc:\", accuracy)\n",
    "plt.plot(range(1,epoch + 1), accuracy_values, marker='o')\n",
    "plt.xlabel('epoch')\n",
    "plt.ylabel('Accuracy')\n",
    "plt.title('ACC per Epoch')\n",
    "plt.show()\n",
    "\n",
    "\n",
    "\n",
    "y_pred = naive_bayes.predict(X_test)\n",
    "\n",
    "# Menghitung akurasi\n",
    "accuracy = accuracy_score(y_test, y_pred)\n",
    "print(\"Akurasi: {:.2f}%\".format(accuracy * 100))"
   ]
  },
  {
   "cell_type": "code",
   "execution_count": 251,
   "metadata": {},
   "outputs": [
    {
     "name": "stdout",
     "output_type": "stream",
     "text": [
      "  (0, 2531)\t1\n",
      "  (0, 2402)\t1\n",
      "  (0, 1249)\t1\n",
      "  (0, 3225)\t1\n",
      "  (0, 480)\t4\n",
      "  (0, 2744)\t1\n",
      "  (0, 655)\t1\n",
      "  (0, 1798)\t1\n",
      "  (0, 783)\t1\n",
      "  (0, 2378)\t1\n",
      "  (0, 410)\t1\n",
      "  (1, 1064)\t1\n",
      "  (1, 624)\t1\n",
      "  (1, 2307)\t1\n",
      "  (1, 1109)\t1\n",
      "  (1, 683)\t1\n",
      "  (1, 768)\t1\n",
      "  (1, 1737)\t1\n",
      "  (1, 131)\t1\n",
      "  (1, 680)\t1\n",
      "  (1, 2898)\t1\n",
      "  (2, 624)\t1\n",
      "  (2, 2307)\t1\n",
      "  (2, 1251)\t1\n",
      "  (2, 1024)\t2\n",
      "  :\t:\n",
      "  (1898, 785)\t1\n",
      "  (1899, 2307)\t1\n",
      "  (1899, 2892)\t1\n",
      "  (1899, 1872)\t1\n",
      "  (1899, 3123)\t1\n",
      "  (1899, 473)\t1\n",
      "  (1899, 387)\t1\n",
      "  (1900, 2307)\t1\n",
      "  (1900, 131)\t1\n",
      "  (1900, 1251)\t1\n",
      "  (1900, 1782)\t1\n",
      "  (1900, 468)\t1\n",
      "  (1900, 2369)\t1\n",
      "  (1900, 1559)\t1\n",
      "  (1901, 2307)\t1\n",
      "  (1901, 131)\t1\n",
      "  (1901, 858)\t1\n",
      "  (1901, 3024)\t1\n",
      "  (1901, 1694)\t1\n",
      "  (1901, 1498)\t1\n",
      "  (1901, 775)\t1\n",
      "  (1901, 1198)\t1\n",
      "  (1901, 969)\t1\n",
      "  (1901, 3106)\t1\n",
      "  (1901, 66)\t1\n"
     ]
    }
   ],
   "source": [
    "print(X)"
   ]
  },
  {
   "cell_type": "code",
   "execution_count": 344,
   "metadata": {},
   "outputs": [
    {
     "name": "stdout",
     "output_type": "stream",
     "text": [
      "Iterasi 1: 0.7097830536225952\n",
      "Iterasi 2: 0.708691499522445\n",
      "Iterasi 3: 0.7085550552599263\n",
      "Iterasi 4: 0.7208350388866148\n",
      "Iterasi 5: 0.7142857142857143\n",
      "Iterasi 6: 0.7140128257606768\n",
      "Iterasi 7: 0.7095101650975576\n",
      "Iterasi 8: 0.7014599536089507\n",
      "Iterasi 9: 0.7071906126347387\n",
      "Iterasi 10: 0.7155137126483831\n",
      "10\n",
      "Rata-rata skor akurasi: 71.10 %\n",
      "Skor tertinggi: 72.08 %\n"
     ]
    },
    {
     "data": {
      "text/plain": [
       "[<matplotlib.lines.Line2D at 0x7fdc96ee5e20>]"
      ]
     },
     "execution_count": 344,
     "metadata": {},
     "output_type": "execute_result"
    },
    {
     "data": {
      "image/png": "[encoded data removed]",
      "text/plain": [
       "<Figure size 640x480 with 1 Axes>"
      ]
     },
     "metadata": {},
     "output_type": "display_data"
    }
   ],
   "source": [
    "from sklearn.model_selection import ShuffleSplit\n",
    "from sklearn.model_selection import cross_val_score\n",
    "shuffle_split = ShuffleSplit(n_splits=10, test_size=0.1, random_state=2)\n",
    "\n",
    "# Melakukan cross-validation dengan ShuffleSplit\n",
    "scores = cross_val_score(naive_bayes, X, data['sentiment'], cv=shuffle_split, scoring='accuracy')\n",
    "x = []\n",
    "# Menampilkan skor akurasi untuk setiap iterasi cross-validation\n",
    "for i, score in enumerate(scores):\n",
    "    print(f\"Iterasi {i+1}: {score}\")\n",
    "    x.append(score)\n",
    "\n",
    "# Menampilkan rata-rata skor akurasi dari cross-validation\n",
    "print(len(x))\n",
    "print(\"Rata-rata skor akurasi: {:.2f} %\".format(scores.mean()*100))\n",
    "print(\"Skor tertinggi: {:.2f} %\".format(scores.max()*100))\n",
    "plt.plot(range(len(x)), x, marker='o')"
   ]
  },
  {
   "cell_type": "code",
   "execution_count": 345,
   "metadata": {},
   "outputs": [
    {
     "name": "stdout",
     "output_type": "stream",
     "text": [
      "Accuracy: 0.7146\n",
      "Confusion matrix:\n",
      " [[ 724  387   50]\n",
      " [ 462 2182  580]\n",
      " [ 204  409 2331]]\n",
      "              precision    recall  f1-score   support\n",
      "\n",
      "    Negative       0.52      0.62      0.57      1161\n",
      "     Neutral       0.73      0.68      0.70      3224\n",
      "    Positive       0.79      0.79      0.79      2944\n",
      "\n",
      "    accuracy                           0.71      7329\n",
      "   macro avg       0.68      0.70      0.69      7329\n",
      "weighted avg       0.72      0.71      0.72      7329\n",
      "\n"
     ]
    }
   ],
   "source": [
    "acc_mnb = accuracy_score(y_test, y_pred)\n",
    "print(\"Accuracy: {0:.4f}\".format(acc_mnb))\n",
    "\n",
    "conf_matrix_mnb = confusion_matrix(y_test, y_pred)\n",
    "print(\"Confusion matrix:\\n {}\".format(conf_matrix_mnb))\n",
    "print(classification_report(y_test, y_pred))"
   ]
  },
  {
   "cell_type": "code",
   "execution_count": 346,
   "metadata": {},
   "outputs": [
    {
     "name": "stderr",
     "output_type": "stream",
     "text": [
      "/opt/anaconda3/lib/python3.9/site-packages/sklearn/utils/deprecation.py:87: FutureWarning: Function plot_confusion_matrix is deprecated; Function `plot_confusion_matrix` is deprecated in 1.0 and will be removed in 1.2. Use one of the class methods: ConfusionMatrixDisplay.from_predictions or ConfusionMatrixDisplay.from_estimator.\n",
      "  warnings.warn(msg, category=FutureWarning)\n"
     ]
    },
    {
     "name": "stdout",
     "output_type": "stream",
     "text": [
      "[[ 724  387   50]\n",
      " [ 462 2182  580]\n",
      " [ 204  409 2331]]\n"
     ]
    },
    {
     "data": {
      "image/png": "[encoded data removed]",
      "text/plain": [
       "<Figure size 640x480 with 2 Axes>"
      ]
     },
     "metadata": {},
     "output_type": "display_data"
    }
   ],
   "source": [
    "class_names = sorted(data['sentiment'].unique())\n",
    "disp = plot_confusion_matrix(training, X_test, y_test,\n",
    "                              display_labels=class_names,\n",
    "                              cmap=plt.cm.Blues, values_format='d')\n",
    "disp.ax_.set_title(\"Confusion Matrix\")\n",
    "print(disp.confusion_matrix)\n",
    "\n",
    "plt.show()"
   ]
  },
  {
   "cell_type": "code",
   "execution_count": 355,
   "metadata": {},
   "outputs": [
    {
     "name": "stderr",
     "output_type": "stream",
     "text": [
      "/opt/anaconda3/lib/python3.9/site-packages/sklearn/utils/deprecation.py:87: FutureWarning: Function plot_confusion_matrix is deprecated; Function `plot_confusion_matrix` is deprecated in 1.0 and will be removed in 1.2. Use one of the class methods: ConfusionMatrixDisplay.from_predictions or ConfusionMatrixDisplay.from_estimator.\n",
      "  warnings.warn(msg, category=FutureWarning)\n"
     ]
    },
    {
     "name": "stdout",
     "output_type": "stream",
     "text": [
      "[[ 6952  3082   392]\n",
      " [ 2685 21753  4540]\n",
      " [ 1377  2844 22330]]\n"
     ]
    },
    {
     "data": {
      "image/png": "[encoded data removed]",
      "text/plain": [
       "<Figure size 640x480 with 2 Axes>"
      ]
     },
     "metadata": {},
     "output_type": "display_data"
    }
   ],
   "source": [
    "class_names = sorted(data['sentiment'].unique())\n",
    "disp = plot_confusion_matrix(training, X_train, y_train,\n",
    "                              display_labels=class_names,\n",
    "                              cmap=plt.cm.Blues, values_format='d')\n",
    "disp.ax_.set_title(\"Confusion Matrix\")\n",
    "print(disp.confusion_matrix)\n",
    "\n",
    "plt.show()"
   ]
  },
  {
   "cell_type": "code",
   "execution_count": 347,
   "metadata": {},
   "outputs": [
    {
     "name": "stdout",
     "output_type": "stream",
     "text": [
      "Akurasi:71.46%\n",
      "Presisi: 72.11%\n",
      "Recall:71.46%\n",
      "F1-score:71.66%\n",
      "Persentase Klasifikasi:\n",
      "Positif: 40.4%\n",
      "Negatif: 19.0%\n",
      "Netral: 40.6%\n"
     ]
    }
   ],
   "source": [
    "from sklearn.metrics import accuracy_score, precision_score, recall_score, f1_score\n",
    "\n",
    "# Melakukan prediksi pada data uji\n",
    "y_pred = naive_bayes.predict(X_test)\n",
    "\n",
    "# Menghitung dan menampilkan akurasi\n",
    "accuracy = accuracy_score(y_test, y_pred)\n",
    "print(\"Akurasi:{:.2f}%\".format(accuracy * 100))\n",
    "\n",
    "# Menghitung dan menampilkan presisi\n",
    "precision = precision_score(y_test, y_pred, average='weighted')\n",
    "print(\"Presisi: {:.2f}%\".format(precision * 100))\n",
    "\n",
    "# Menghitung dan menampilkan recall\n",
    "recall = recall_score(y_test, y_pred, average='weighted')\n",
    "print(\"Recall:{:.2f}%\".format(recall * 100))\n",
    "\n",
    "# Menghitung dan menampilkan F1-score\n",
    "f1 = f1_score(y_test, y_pred, average='weighted')\n",
    "print(\"F1-score:{:.2f}%\".format(f1 * 100))\n",
    "positive_count = (y_pred == 'Positive').sum()\n",
    "negative_count = (y_pred == 'Negative').sum()\n",
    "neutral_count = (y_pred == 'Neutral').sum()\n",
    "total_count = len(y_pred)\n",
    "positive_percentage = (positive_count / total_count) * 100\n",
    "negative_percentage = (negative_count / total_count) * 100\n",
    "neutral_percentage = (neutral_count / total_count) * 100\n",
    "    # Tampilkan hasil\n",
    "print(\"Persentase Klasifikasi:\")\n",
    "print(\"Positif: {:.1f}%\".format(positive_percentage))\n",
    "print(\"Negatif: {:.1f}%\".format(negative_percentage))\n",
    "print(\"Netral: {:.1f}%\".format(neutral_percentage))"
   ]
  },
  {
   "cell_type": "code",
   "execution_count": 70,
   "metadata": {},
   "outputs": [
    {
     "name": "stdout",
     "output_type": "stream",
     "text": [
      "  (0, 44081)\t1\n",
      "  (0, 2259)\t1\n",
      "  (0, 4341)\t1\n",
      "  (0, 46305)\t1\n",
      "  (0, 41001)\t1\n",
      "  (0, 42423)\t1\n",
      "  (1, 44081)\t1\n",
      "  (1, 14088)\t1\n",
      "  (1, 52015)\t1\n",
      "  (1, 45812)\t1\n",
      "  (1, 26378)\t1\n",
      "  (1, 50037)\t1\n",
      "  (1, 49794)\t1\n",
      "  (1, 21902)\t1\n",
      "  (1, 8496)\t1\n",
      "  (2, 44081)\t1\n",
      "  (2, 30161)\t1\n",
      "  (2, 31526)\t1\n",
      "  (2, 4065)\t1\n",
      "  (2, 47861)\t1\n",
      "  (2, 8279)\t1\n",
      "  (2, 2185)\t1\n",
      "  (2, 3278)\t1\n",
      "  (2, 52591)\t1\n",
      "  (2, 1023)\t1\n",
      "  :\t:\n",
      "  (19311, 32366)\t1\n",
      "  (19311, 18858)\t1\n",
      "  (19311, 2203)\t1\n",
      "  (19311, 26741)\t1\n",
      "  (19311, 32491)\t1\n",
      "  (19311, 25148)\t1\n",
      "  (19311, 15334)\t1\n",
      "  (19311, 17690)\t1\n",
      "  (19311, 27370)\t1\n",
      "  (19311, 27923)\t1\n",
      "  (19311, 6292)\t1\n",
      "  (19311, 35773)\t1\n",
      "  (19311, 27862)\t1\n",
      "  (19311, 43964)\t1\n",
      "  (19312, 44081)\t2\n",
      "  (19312, 23606)\t1\n",
      "  (19312, 19362)\t1\n",
      "  (19312, 29731)\t1\n",
      "  (19312, 29081)\t1\n",
      "  (19312, 57142)\t1\n",
      "  (19312, 35389)\t1\n",
      "  (19312, 2203)\t1\n",
      "  (19312, 20260)\t1\n",
      "  (19312, 49964)\t1\n",
      "  (19312, 51788)\t1\n"
     ]
    }
   ],
   "source": [
    "print(X_test)"
   ]
  },
  {
   "cell_type": "code",
   "execution_count": 256,
   "metadata": {},
   "outputs": [
    {
     "name": "stdout",
     "output_type": "stream",
     "text": [
      "[[4.92592551e-04 9.99128103e-01 3.79304137e-04]\n",
      " [4.17316959e-02 2.07432118e-01 7.50836186e-01]\n",
      " [1.76896247e-02 7.68204617e-01 2.14105758e-01]\n",
      " ...\n",
      " [2.77868872e-02 9.28564564e-01 4.36485485e-02]\n",
      " [5.97038058e-03 5.15861534e-01 4.78168085e-01]\n",
      " [2.11299176e-09 9.99160687e-01 8.39310760e-04]]\n"
     ]
    }
   ],
   "source": [
    "print(training.predict_proba(X_test))"
   ]
  },
  {
   "cell_type": "code",
   "execution_count": 136,
   "metadata": {},
   "outputs": [
    {
     "name": "stdout",
     "output_type": "stream",
     "text": [
      "Hasil Prediksi:  Neutral [[0.38761695 0.50546669 0.10691636]]\n",
      "\n",
      "Hasil Prediksi:  Neutral [[0.34792548 0.45307563 0.19899889]]\n",
      "\n",
      "Hasil Prediksi:  Positive [[0.115965   0.41002893 0.47400607]]\n",
      "\n",
      "Hasil Prediksi:  Negative [[0.56159277 0.14766027 0.29074696]]\n",
      "\n",
      "Hasil Prediksi:  Positive [[0.01595928 0.01096382 0.9730769 ]]\n",
      "\n",
      "Hasil Prediksi:  Neutral [[0.18205214 0.51017664 0.30777122]]\n",
      "\n"
     ]
    }
   ],
   "source": [
    "while True:\n",
    "    # Memasukkan input teks\n",
    "    input_text = input(\"Masukkan teks (atau ketik 'selesai' untuk keluar): \")\n",
    "    \n",
    "    # Keluar dari loop jika pengguna memasukkan 'selesai'\n",
    "    if input_text.lower() == 'selesai':\n",
    "        break\n",
    "    \n",
    "    # Melakukan transformasi teks input menjadi vektor fitur\n",
    "    X_input = vectorizer.transform([input_text])\n",
    "    \n",
    "    # Melakukan prediksi pada input\n",
    "    pred = naive_bayes.predict(X_input)\n",
    "    positive_count = (y_pred == 'Positive').sum()\n",
    "    negative_count = (y_pred == 'Negative').sum()\n",
    "    neutral_count = (y_pred == 'Neutral').sum()\n",
    "    na = training.predict_proba(X_input)\n",
    "    # Menampilkan hasil prediksi\n",
    "    print(\"Hasil Prediksi: \", pred[0], na)\n",
    "    print()"
   ]
  },
  {
   "cell_type": "code",
   "execution_count": 348,
   "metadata": {},
   "outputs": [
    {
     "data": {
      "text/plain": [
       "'puan maharani sosok usung pdi juang capres cawapres pilpres pdip diniliai cetak sejarah andai usung puan puan capres pdip'"
      ]
     },
     "execution_count": 348,
     "metadata": {},
     "output_type": "execute_result"
    }
   ],
   "source": [
    "data.tweet.iloc[43]"
   ]
  },
  {
   "cell_type": "code",
   "execution_count": 96,
   "metadata": {},
   "outputs": [
    {
     "name": "stdout",
     "output_type": "stream",
     "text": [
      "Hasil Prediksi:  Neutral\n",
      "\n"
     ]
    }
   ],
   "source": [
    "while True:\n",
    "    # Memasukkan input teks\n",
    "    input_text = input(\"Masukkan teks (atau ketik 'selesai' untuk keluar): \")\n",
    "    \n",
    "    # Keluar dari loop jika pengguna memasukkan 'selesai'\n",
    "    if input_text.lower() == 'selesai':\n",
    "        break\n",
    "    \n",
    "    # Melakukan transformasi teks input menjadi vektor fitur\n",
    "    X_input = vectorizer.transform([input_text])\n",
    "    \n",
    "    # Melakukan prediksi pada input\n",
    "    y_pred = naive_bayes.predict(X_input)\n",
    "    \n",
    "    # Menampilkan hasil prediksi\n",
    "    print(\"Hasil Prediksi: \", y_pred[0])\n",
    "    print()"
   ]
  },
  {
   "cell_type": "code",
   "execution_count": 157,
   "metadata": {},
   "outputs": [],
   "source": [
    "X_train, X_test, y_train, y_test = train_test_split(X, data['sentiment'], test_size=0.2, random_state=None)\n",
    "naive_bayes = MultinomialNB()\n",
    "training = naive_bayes.fit(X_train, y_train)"
   ]
  },
  {
   "cell_type": "code",
   "execution_count": 362,
   "metadata": {},
   "outputs": [
    {
     "data": {
      "image/png": "[encoded data removed]",
      "text/plain": [
       "<Figure size 640x480 with 1 Axes>"
      ]
     },
     "metadata": {},
     "output_type": "display_data"
    },
    {
     "name": "stdout",
     "output_type": "stream",
     "text": [
      "0.05566315837033109\n"
     ]
    }
   ],
   "source": [
    "import matplotlib.pyplot as plt\n",
    "from sklearn.naive_bayes import MultinomialNB\n",
    "from sklearn.metrics import accuracy_score\n",
    "\n",
    "# Melatih model Naive Bayes\n",
    "model = MultinomialNB()\n",
    "model.fit(X_train, y_train)\n",
    "\n",
    "# Memprediksi label pada data latih dan data uji\n",
    "y_train_pred = model.predict(X_train)\n",
    "y_test_pred = model.predict(X_test)\n",
    "\n",
    "# Menghitung akurasi pada data latih dan data uji\n",
    "akurasi_train = accuracy_score(y_train, y_train_pred)\n",
    "akurasi_test = accuracy_score(y_test, y_test_pred)\n",
    "\n",
    "# Membuat grafik akurasi\n",
    "labels = ['Training Accuracy', 'Test Accuracy']\n",
    "values = [akurasi_train, akurasi_test]\n",
    "\n",
    "plt.bar(labels, values)\n",
    "plt.xlabel('Dataset')\n",
    "plt.ylabel('Accuracy')\n",
    "plt.title('Naive Bayes Accuracy')\n",
    "plt.show()\n",
    "\n",
    "print(akurasi_train - akurasi_test)"
   ]
  },
  {
   "cell_type": "code",
   "execution_count": 361,
   "metadata": {},
   "outputs": [
    {
     "name": "stdout",
     "output_type": "stream",
     "text": [
      "[0.1665905  0.12689568 0.11100255 0.0979127  0.09155383 0.08659774\n",
      " 0.08306567 0.08306107 0.08419846 0.08165257]\n"
     ]
    },
    {
     "data": {
      "image/png": "[encoded data removed]",
      "text/plain": [
       "<Figure size 800x600 with 1 Axes>"
      ]
     },
     "metadata": {},
     "output_type": "display_data"
    }
   ],
   "source": [
    "import numpy as np\n",
    "import matplotlib.pyplot as plt\n",
    "from sklearn.model_selection import learning_curve\n",
    "\n",
    "def plot_learning_curve(estimator, X, y):\n",
    "    train_sizes, train_scores, test_scores = learning_curve(estimator, X, y, cv=15, train_sizes=np.linspace(0.1, 1.0, 10))\n",
    "\n",
    "    train_scores_mean = np.mean(train_scores, axis=1)\n",
    "    train_scores_std = np.std(train_scores, axis=1)\n",
    "    test_scores_mean = np.mean(test_scores, axis=1)\n",
    "    test_scores_std = np.std(test_scores, axis=1)\n",
    "\n",
    "    plt.figure(figsize=(8, 6))\n",
    "    plt.title('Learning Curve')\n",
    "    plt.xlabel('Training Examples')\n",
    "    plt.ylabel('Score')\n",
    "    plt.grid(True)\n",
    "    plt.fill_between(train_sizes, train_scores_mean - train_scores_std, train_scores_mean + train_scores_std, alpha=0.1, color='r')\n",
    "    plt.fill_between(train_sizes, test_scores_mean - test_scores_std, test_scores_mean + test_scores_std, alpha=0.1, color='g')\n",
    "    plt.plot(train_sizes, train_scores_mean, 'o-', color='r', label='Training Score')\n",
    "    plt.plot(train_sizes, test_scores_mean, 'o-', color='g', label='Cross-Validation Score')\n",
    "    print(train_scores_mean - test_scores_mean)\n",
    "    plt.legend(loc='best')\n",
    "    plt.show()\n",
    "\n",
    "# Contoh penggunaan\n",
    "estimator = MultinomialNB()\n",
    "plot_learning_curve(estimator, X, data['sentiment'])\n"
   ]
  },
  {
   "cell_type": "code",
   "execution_count": 342,
   "metadata": {},
   "outputs": [
    {
     "ename": "ValueError",
     "evalue": "Cannot center sparse matrices: pass `with_mean=False` instead. See docstring for motivation and alternatives.",
     "output_type": "error",
     "traceback": [
      "\u001b[0;31m---------------------------------------------------------------------------\u001b[0m",
      "\u001b[0;31mValueError\u001b[0m                                Traceback (most recent call last)",
      "\u001b[1;32m/Users/fahdmuchammad/Documents/SENTIMENT_PILPRES_TA/FIX/skripsi1.ipynb Cell 60\u001b[0m in \u001b[0;36m<cell line: 4>\u001b[0;34m()\u001b[0m\n\u001b[1;32m      <a href='vscode-notebook-cell:/Users/fahdmuchammad/Documents/SENTIMENT_PILPRES_TA/FIX/skripsi1.ipynb#Y113sZmlsZQ%3D%3D?line=0'>1</a>\u001b[0m \u001b[39mfrom\u001b[39;00m \u001b[39msklearn\u001b[39;00m\u001b[39m.\u001b[39;00m\u001b[39mpreprocessing\u001b[39;00m \u001b[39mimport\u001b[39;00m StandardScaler\n\u001b[1;32m      <a href='vscode-notebook-cell:/Users/fahdmuchammad/Documents/SENTIMENT_PILPRES_TA/FIX/skripsi1.ipynb#Y113sZmlsZQ%3D%3D?line=2'>3</a>\u001b[0m scaler \u001b[39m=\u001b[39m StandardScaler()\n\u001b[0;32m----> <a href='vscode-notebook-cell:/Users/fahdmuchammad/Documents/SENTIMENT_PILPRES_TA/FIX/skripsi1.ipynb#Y113sZmlsZQ%3D%3D?line=3'>4</a>\u001b[0m X_train_scaled \u001b[39m=\u001b[39m scaler\u001b[39m.\u001b[39;49mfit_transform(X_train)\n\u001b[1;32m      <a href='vscode-notebook-cell:/Users/fahdmuchammad/Documents/SENTIMENT_PILPRES_TA/FIX/skripsi1.ipynb#Y113sZmlsZQ%3D%3D?line=4'>5</a>\u001b[0m X_test_scaled \u001b[39m=\u001b[39m scaler\u001b[39m.\u001b[39mtransform(X_test)\n\u001b[1;32m      <a href='vscode-notebook-cell:/Users/fahdmuchammad/Documents/SENTIMENT_PILPRES_TA/FIX/skripsi1.ipynb#Y113sZmlsZQ%3D%3D?line=6'>7</a>\u001b[0m \u001b[39m# Latih model Naive Bayes dengan fitur-fitur yang sudah dinormalisasi\u001b[39;00m\n",
      "File \u001b[0;32m/opt/anaconda3/lib/python3.9/site-packages/sklearn/base.py:852\u001b[0m, in \u001b[0;36mTransformerMixin.fit_transform\u001b[0;34m(self, X, y, **fit_params)\u001b[0m\n\u001b[1;32m    848\u001b[0m \u001b[39m# non-optimized default implementation; override when a better\u001b[39;00m\n\u001b[1;32m    849\u001b[0m \u001b[39m# method is possible for a given clustering algorithm\u001b[39;00m\n\u001b[1;32m    850\u001b[0m \u001b[39mif\u001b[39;00m y \u001b[39mis\u001b[39;00m \u001b[39mNone\u001b[39;00m:\n\u001b[1;32m    851\u001b[0m     \u001b[39m# fit method of arity 1 (unsupervised transformation)\u001b[39;00m\n\u001b[0;32m--> 852\u001b[0m     \u001b[39mreturn\u001b[39;00m \u001b[39mself\u001b[39;49m\u001b[39m.\u001b[39;49mfit(X, \u001b[39m*\u001b[39;49m\u001b[39m*\u001b[39;49mfit_params)\u001b[39m.\u001b[39mtransform(X)\n\u001b[1;32m    853\u001b[0m \u001b[39melse\u001b[39;00m:\n\u001b[1;32m    854\u001b[0m     \u001b[39m# fit method of arity 2 (supervised transformation)\u001b[39;00m\n\u001b[1;32m    855\u001b[0m     \u001b[39mreturn\u001b[39;00m \u001b[39mself\u001b[39m\u001b[39m.\u001b[39mfit(X, y, \u001b[39m*\u001b[39m\u001b[39m*\u001b[39mfit_params)\u001b[39m.\u001b[39mtransform(X)\n",
      "File \u001b[0;32m/opt/anaconda3/lib/python3.9/site-packages/sklearn/preprocessing/_data.py:806\u001b[0m, in \u001b[0;36mStandardScaler.fit\u001b[0;34m(self, X, y, sample_weight)\u001b[0m\n\u001b[1;32m    804\u001b[0m \u001b[39m# Reset internal state before fitting\u001b[39;00m\n\u001b[1;32m    805\u001b[0m \u001b[39mself\u001b[39m\u001b[39m.\u001b[39m_reset()\n\u001b[0;32m--> 806\u001b[0m \u001b[39mreturn\u001b[39;00m \u001b[39mself\u001b[39;49m\u001b[39m.\u001b[39;49mpartial_fit(X, y, sample_weight)\n",
      "File \u001b[0;32m/opt/anaconda3/lib/python3.9/site-packages/sklearn/preprocessing/_data.py:870\u001b[0m, in \u001b[0;36mStandardScaler.partial_fit\u001b[0;34m(self, X, y, sample_weight)\u001b[0m\n\u001b[1;32m    868\u001b[0m \u001b[39mif\u001b[39;00m sparse\u001b[39m.\u001b[39missparse(X):\n\u001b[1;32m    869\u001b[0m     \u001b[39mif\u001b[39;00m \u001b[39mself\u001b[39m\u001b[39m.\u001b[39mwith_mean:\n\u001b[0;32m--> 870\u001b[0m         \u001b[39mraise\u001b[39;00m \u001b[39mValueError\u001b[39;00m(\n\u001b[1;32m    871\u001b[0m             \u001b[39m\"\u001b[39m\u001b[39mCannot center sparse matrices: pass `with_mean=False` \u001b[39m\u001b[39m\"\u001b[39m\n\u001b[1;32m    872\u001b[0m             \u001b[39m\"\u001b[39m\u001b[39minstead. See docstring for motivation and alternatives.\u001b[39m\u001b[39m\"\u001b[39m\n\u001b[1;32m    873\u001b[0m         )\n\u001b[1;32m    874\u001b[0m     sparse_constructor \u001b[39m=\u001b[39m (\n\u001b[1;32m    875\u001b[0m         sparse\u001b[39m.\u001b[39mcsr_matrix \u001b[39mif\u001b[39;00m X\u001b[39m.\u001b[39mformat \u001b[39m==\u001b[39m \u001b[39m\"\u001b[39m\u001b[39mcsr\u001b[39m\u001b[39m\"\u001b[39m \u001b[39melse\u001b[39;00m sparse\u001b[39m.\u001b[39mcsc_matrix\n\u001b[1;32m    876\u001b[0m     )\n\u001b[1;32m    878\u001b[0m     \u001b[39mif\u001b[39;00m \u001b[39mself\u001b[39m\u001b[39m.\u001b[39mwith_std:\n\u001b[1;32m    879\u001b[0m         \u001b[39m# First pass\u001b[39;00m\n",
      "\u001b[0;31mValueError\u001b[0m: Cannot center sparse matrices: pass `with_mean=False` instead. See docstring for motivation and alternatives."
     ]
    }
   ],
   "source": [
    "from sklearn.preprocessing import StandardScaler\n",
    "\n",
    "scaler = StandardScaler()\n",
    "X_train_scaled = scaler.fit_transform(X_train)\n",
    "X_test_scaled = scaler.transform(X_test)\n",
    "\n",
    "# Latih model Naive Bayes dengan fitur-fitur yang sudah dinormalisasi\n",
    "model = MultinomialNB()\n",
    "model.fit(X_train_scaled, y_train)\n",
    "\n",
    "# Evaluasi model pada data uji\n",
    "accuracy = model.score(X_test_scaled, y_test)"
   ]
  }
 ],
 "metadata": {
  "kernelspec": {
   "display_name": "base",
   "language": "python",
   "name": "python3"
  },
  "language_info": {
   "codemirror_mode": {
    "name": "ipython",
    "version": 3
   },
   "file_extension": ".py",
   "mimetype": "text/x-python",
   "name": "python",
   "nbconvert_exporter": "python",
   "pygments_lexer": "ipython3",
   "version": "3.9.12"
  },
  "orig_nbformat": 4
 },
 "nbformat": 4,
 "nbformat_minor": 2
}
