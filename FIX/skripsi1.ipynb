{
 "cells": [
  {
   "attachments": {},
   "cell_type": "markdown",
   "metadata": {},
   "source": [
    "# SENTIMEN ANALISIS PILPRES 2024\n",
    "Muchammad Fahd Ishamuddin\n",
    "41155050180048"
   ]
  },
  {
   "cell_type": "code",
   "execution_count": 1,
   "metadata": {},
   "outputs": [],
   "source": [
    "%matplotlib inline\n",
    "\n",
    "import re\n",
    "import string\n",
    "import pandas as pd\n",
    "import numpy as np\n",
    "import matplotlib.pyplot as plt\n",
    "import seaborn as sns\n",
    "import collections\n",
    "import nltk\n",
    "from nltk.tokenize import word_tokenize\n",
    "from nltk.sentiment import SentimentIntensityAnalyzer\n",
    "from Sastrawi.StopWordRemover.StopWordRemoverFactory import StopWordRemoverFactory\n",
    "from Sastrawi.Stemmer.StemmerFactory import StemmerFactory"
   ]
  },
  {
   "cell_type": "code",
   "execution_count": 88,
   "metadata": {},
   "outputs": [
    {
     "name": "stdout",
     "output_type": "stream",
     "text": [
      "data ada sebanyak 5000 baris\n"
     ]
    },
    {
     "data": {
      "text/plain": [
       "date        object\n",
       "username    object\n",
       "tweet       object\n",
       "dtype: object"
      ]
     },
     "execution_count": 88,
     "metadata": {},
     "output_type": "execute_result"
    }
   ],
   "source": [
    "data = pd.read_csv('2023sen11.csv')\n",
    "print('data ada sebanyak',len(data),'baris')\n",
    "data = data.drop('Unnamed: 0', axis = 1)\n",
    "data.columns\n",
    "data.dtypes"
   ]
  },
  {
   "cell_type": "code",
   "execution_count": 89,
   "metadata": {},
   "outputs": [
    {
     "data": {
      "text/plain": [
       "date        0\n",
       "username    0\n",
       "tweet       0\n",
       "dtype: int64"
      ]
     },
     "execution_count": 89,
     "metadata": {},
     "output_type": "execute_result"
    }
   ],
   "source": [
    "data.isnull().sum()"
   ]
  },
  {
   "cell_type": "code",
   "execution_count": 90,
   "metadata": {},
   "outputs": [
    {
     "data": {
      "text/plain": [
       "5000"
      ]
     },
     "execution_count": 90,
     "metadata": {},
     "output_type": "execute_result"
    }
   ],
   "source": [
    "data = data.dropna()\n",
    "data.isnull().sum()\n",
    "len(data)"
   ]
  },
  {
   "cell_type": "code",
   "execution_count": 91,
   "metadata": {},
   "outputs": [
    {
     "data": {
      "text/plain": [
       "'Elite Golkar Bicara Kans Duet Prabowo-Airlangga di Pilpres 2024. pilpres2024 dekade08 mendingprabowo terusmajubersamaprabowo'"
      ]
     },
     "execution_count": 91,
     "metadata": {},
     "output_type": "execute_result"
    }
   ],
   "source": [
    "data.tweet.iloc[3]"
   ]
  },
  {
   "cell_type": "code",
   "execution_count": 92,
   "metadata": {},
   "outputs": [
    {
     "name": "stdout",
     "output_type": "stream",
     "text": [
      "ada sebanyak 2254 data yang terduplikasi\n"
     ]
    }
   ],
   "source": [
    "duplikasi = len(data.tweet)-len(data.tweet.drop_duplicates())\n",
    "print(f'ada sebanyak {duplikasi} data yang terduplikasi')"
   ]
  },
  {
   "cell_type": "code",
   "execution_count": 93,
   "metadata": {},
   "outputs": [
    {
     "data": {
      "text/html": [
       "<div>\n",
       "<style scoped>\n",
       "    .dataframe tbody tr th:only-of-type {\n",
       "        vertical-align: middle;\n",
       "    }\n",
       "\n",
       "    .dataframe tbody tr th {\n",
       "        vertical-align: top;\n",
       "    }\n",
       "\n",
       "    .dataframe thead th {\n",
       "        text-align: right;\n",
       "    }\n",
       "</style>\n",
       "<table border=\"1\" class=\"dataframe\">\n",
       "  <thead>\n",
       "    <tr style=\"text-align: right;\">\n",
       "      <th></th>\n",
       "      <th>index</th>\n",
       "      <th>size</th>\n",
       "    </tr>\n",
       "  </thead>\n",
       "  <tbody>\n",
       "    <tr>\n",
       "      <th>2189</th>\n",
       "      <td>RT @PutraErlangga95: Hii tweps mari kita polli...</td>\n",
       "      <td>1848</td>\n",
       "    </tr>\n",
       "    <tr>\n",
       "      <th>784</th>\n",
       "      <td>Akademisi: Pasangan Prabowo-Erick Beri Efek Po...</td>\n",
       "      <td>36</td>\n",
       "    </tr>\n",
       "    <tr>\n",
       "      <th>786</th>\n",
       "      <td>Akademisi: Pasangan Prabowo-Erick Thohir Beri ...</td>\n",
       "      <td>36</td>\n",
       "    </tr>\n",
       "    <tr>\n",
       "      <th>1093</th>\n",
       "      <td>Gerindra Jatim Target Prabowo Harus Menang 65 ...</td>\n",
       "      <td>36</td>\n",
       "    </tr>\n",
       "    <tr>\n",
       "      <th>1140</th>\n",
       "      <td>Gerindra yakin pengaruh dukungan Presiden Joko...</td>\n",
       "      <td>11</td>\n",
       "    </tr>\n",
       "    <tr>\n",
       "      <th>...</th>\n",
       "      <td>...</td>\n",
       "      <td>...</td>\n",
       "    </tr>\n",
       "    <tr>\n",
       "      <th>926</th>\n",
       "      <td>Direktur Eksekutif Charta Politika Yunarto Wij...</td>\n",
       "      <td>1</td>\n",
       "    </tr>\n",
       "    <tr>\n",
       "      <th>927</th>\n",
       "      <td>Direktur Eksekutif Charta Politika Yunarto Wij...</td>\n",
       "      <td>1</td>\n",
       "    </tr>\n",
       "    <tr>\n",
       "      <th>928</th>\n",
       "      <td>Direktur Eksekutif Charta Politika Yunarto Wij...</td>\n",
       "      <td>1</td>\n",
       "    </tr>\n",
       "    <tr>\n",
       "      <th>929</th>\n",
       "      <td>Direktur Eksekutif Indikator Politik Indonesia...</td>\n",
       "      <td>1</td>\n",
       "    </tr>\n",
       "    <tr>\n",
       "      <th>2745</th>\n",
       "      <td>“Tak terbantahkan lagi, 90 persen relawan Pak ...</td>\n",
       "      <td>1</td>\n",
       "    </tr>\n",
       "  </tbody>\n",
       "</table>\n",
       "<p>2746 rows × 2 columns</p>\n",
       "</div>"
      ],
      "text/plain": [
       "                                                  index  size\n",
       "2189  RT @PutraErlangga95: Hii tweps mari kita polli...  1848\n",
       "784   Akademisi: Pasangan Prabowo-Erick Beri Efek Po...    36\n",
       "786   Akademisi: Pasangan Prabowo-Erick Thohir Beri ...    36\n",
       "1093  Gerindra Jatim Target Prabowo Harus Menang 65 ...    36\n",
       "1140  Gerindra yakin pengaruh dukungan Presiden Joko...    11\n",
       "...                                                 ...   ...\n",
       "926   Direktur Eksekutif Charta Politika Yunarto Wij...     1\n",
       "927   Direktur Eksekutif Charta Politika Yunarto Wij...     1\n",
       "928   Direktur Eksekutif Charta Politika Yunarto Wij...     1\n",
       "929   Direktur Eksekutif Indikator Politik Indonesia...     1\n",
       "2745  “Tak terbantahkan lagi, 90 persen relawan Pak ...     1\n",
       "\n",
       "[2746 rows x 2 columns]"
      ]
     },
     "execution_count": 93,
     "metadata": {},
     "output_type": "execute_result"
    }
   ],
   "source": [
    "x = data.groupby(data.tweet.tolist(), as_index=False).size()\n",
    "x.sort_values(by='size',ascending=False)\n"
   ]
  },
  {
   "cell_type": "code",
   "execution_count": 94,
   "metadata": {},
   "outputs": [
    {
     "name": "stdout",
     "output_type": "stream",
     "text": [
      "jadi ada tweet sebanyak 113 yang memiliki cuitan yang sama dengan total 2254 tweet\n"
     ]
    }
   ],
   "source": [
    "a = (x['size'] > 1).sum()\n",
    "print(f'jadi ada tweet sebanyak {a} yang memiliki cuitan yang sama dengan total {duplikasi} tweet')"
   ]
  },
  {
   "cell_type": "code",
   "execution_count": 95,
   "metadata": {},
   "outputs": [],
   "source": [
    "data = data.drop_duplicates(subset=['tweet'])"
   ]
  },
  {
   "cell_type": "code",
   "execution_count": 96,
   "metadata": {},
   "outputs": [
    {
     "name": "stdout",
     "output_type": "stream",
     "text": [
      "ada sebanyak 0 data yang terduplikasi\n"
     ]
    }
   ],
   "source": [
    "duplikasi = len(data.tweet)-len(data.tweet.drop_duplicates())\n",
    "print(f'ada sebanyak {duplikasi} data yang terduplikasi')"
   ]
  },
  {
   "cell_type": "code",
   "execution_count": 97,
   "metadata": {},
   "outputs": [
    {
     "data": {
      "text/html": [
       "<div>\n",
       "<style scoped>\n",
       "    .dataframe tbody tr th:only-of-type {\n",
       "        vertical-align: middle;\n",
       "    }\n",
       "\n",
       "    .dataframe tbody tr th {\n",
       "        vertical-align: top;\n",
       "    }\n",
       "\n",
       "    .dataframe thead th {\n",
       "        text-align: right;\n",
       "    }\n",
       "</style>\n",
       "<table border=\"1\" class=\"dataframe\">\n",
       "  <thead>\n",
       "    <tr style=\"text-align: right;\">\n",
       "      <th></th>\n",
       "      <th>index</th>\n",
       "      <th>size</th>\n",
       "    </tr>\n",
       "  </thead>\n",
       "  <tbody>\n",
       "    <tr>\n",
       "      <th>0</th>\n",
       "      <td>\" ujar Direktur LSI Djayadi Hanan dalam Rilis ...</td>\n",
       "      <td>1</td>\n",
       "    </tr>\n",
       "    <tr>\n",
       "      <th>1833</th>\n",
       "      <td>Menurutnya, Jokowi hanya ingin memberikan kese...</td>\n",
       "      <td>1</td>\n",
       "    </tr>\n",
       "    <tr>\n",
       "      <th>1825</th>\n",
       "      <td>Menurut dia, pengusungan Ridwan Kamil di Pilpr...</td>\n",
       "      <td>1</td>\n",
       "    </tr>\n",
       "    <tr>\n",
       "      <th>1826</th>\n",
       "      <td>Menurutnya,  Prabowo memiliki kelebihan, diant...</td>\n",
       "      <td>1</td>\n",
       "    </tr>\n",
       "    <tr>\n",
       "      <th>1827</th>\n",
       "      <td>Menurutnya,  Prabowo memiliki kelebihan, diant...</td>\n",
       "      <td>1</td>\n",
       "    </tr>\n",
       "    <tr>\n",
       "      <th>...</th>\n",
       "      <td>...</td>\n",
       "      <td>...</td>\n",
       "    </tr>\n",
       "    <tr>\n",
       "      <th>917</th>\n",
       "      <td>Dia optimis dengan unggul di berbagai survei, ...</td>\n",
       "      <td>1</td>\n",
       "    </tr>\n",
       "    <tr>\n",
       "      <th>918</th>\n",
       "      <td>Dia optimis dengan unggul di berbagai survei, ...</td>\n",
       "      <td>1</td>\n",
       "    </tr>\n",
       "    <tr>\n",
       "      <th>919</th>\n",
       "      <td>Diantaranya adalah karena Menteri Pertahanan t...</td>\n",
       "      <td>1</td>\n",
       "    </tr>\n",
       "    <tr>\n",
       "      <th>920</th>\n",
       "      <td>Diantaranya adalah karena Menteri Pertahanan t...</td>\n",
       "      <td>1</td>\n",
       "    </tr>\n",
       "    <tr>\n",
       "      <th>2745</th>\n",
       "      <td>“Tak terbantahkan lagi, 90 persen relawan Pak ...</td>\n",
       "      <td>1</td>\n",
       "    </tr>\n",
       "  </tbody>\n",
       "</table>\n",
       "<p>2746 rows × 2 columns</p>\n",
       "</div>"
      ],
      "text/plain": [
       "                                                  index  size\n",
       "0     \" ujar Direktur LSI Djayadi Hanan dalam Rilis ...     1\n",
       "1833  Menurutnya, Jokowi hanya ingin memberikan kese...     1\n",
       "1825  Menurut dia, pengusungan Ridwan Kamil di Pilpr...     1\n",
       "1826  Menurutnya,  Prabowo memiliki kelebihan, diant...     1\n",
       "1827  Menurutnya,  Prabowo memiliki kelebihan, diant...     1\n",
       "...                                                 ...   ...\n",
       "917   Dia optimis dengan unggul di berbagai survei, ...     1\n",
       "918   Dia optimis dengan unggul di berbagai survei, ...     1\n",
       "919   Diantaranya adalah karena Menteri Pertahanan t...     1\n",
       "920   Diantaranya adalah karena Menteri Pertahanan t...     1\n",
       "2745  “Tak terbantahkan lagi, 90 persen relawan Pak ...     1\n",
       "\n",
       "[2746 rows x 2 columns]"
      ]
     },
     "execution_count": 97,
     "metadata": {},
     "output_type": "execute_result"
    }
   ],
   "source": [
    "x = data.groupby(data.tweet.tolist(), as_index=False).size()\n",
    "x.sort_values(by='size',ascending=False)"
   ]
  },
  {
   "cell_type": "code",
   "execution_count": 98,
   "metadata": {},
   "outputs": [
    {
     "data": {
      "text/plain": [
       "2746"
      ]
     },
     "execution_count": 98,
     "metadata": {},
     "output_type": "execute_result"
    }
   ],
   "source": [
    "len(data)"
   ]
  },
  {
   "cell_type": "code",
   "execution_count": 99,
   "metadata": {},
   "outputs": [
    {
     "name": "stdout",
     "output_type": "stream",
     "text": [
      "             usename  count\n",
      "0           AdeSaung      4\n",
      "1        DewaSudana9      1\n",
      "2         maha_sakti      1\n",
      "3     fadyahrismaaul     18\n",
      "4           WiyonoHw      1\n",
      "..               ...    ...\n",
      "650  BrandyB28890640      1\n",
      "651   fakhranrahmat_      1\n",
      "652        truemalau      1\n",
      "653    syarifuddina3      1\n",
      "654    puji_setyanto      1\n",
      "\n",
      "[655 rows x 2 columns]\n",
      "<class 'pandas.core.frame.DataFrame'>\n",
      "RangeIndex: 655 entries, 0 to 654\n",
      "Data columns (total 2 columns):\n",
      " #   Column   Non-Null Count  Dtype \n",
      "---  ------   --------------  ----- \n",
      " 0   usename  655 non-null    object\n",
      " 1   count    655 non-null    int64 \n",
      "dtypes: int64(1), object(1)\n",
      "memory usage: 10.4+ KB\n"
     ]
    },
    {
     "data": {
      "text/plain": [
       "alexander_sakti    38\n",
       "artiasdeby3        38\n",
       "fachriman13        38\n",
       "moammarfatahil1    37\n",
       "raisshaanjani      37\n",
       "                   ..\n",
       "maplelattev         1\n",
       "politikngaji2       1\n",
       "DwiNina93           1\n",
       "maggotagram         1\n",
       "puji_setyanto       1\n",
       "Name: username, Length: 655, dtype: int64"
      ]
     },
     "execution_count": 99,
     "metadata": {},
     "output_type": "execute_result"
    }
   ],
   "source": [
    "x= data.username\n",
    "c={}\n",
    "q=0\n",
    "for name in x:\n",
    "    c[name] = c.get(name,0)+1\n",
    "# print(c)\n",
    "c = pd.DataFrame({'usename':c.keys(),'count':c.values()})\n",
    "print (c)\n",
    "c.info()\n",
    "c.to_csv('username_count1.csv')\n",
    "data.username.value_counts()"
   ]
  },
  {
   "cell_type": "code",
   "execution_count": 100,
   "metadata": {},
   "outputs": [
    {
     "data": {
      "text/html": [
       "<div>\n",
       "<style scoped>\n",
       "    .dataframe tbody tr th:only-of-type {\n",
       "        vertical-align: middle;\n",
       "    }\n",
       "\n",
       "    .dataframe tbody tr th {\n",
       "        vertical-align: top;\n",
       "    }\n",
       "\n",
       "    .dataframe thead th {\n",
       "        text-align: right;\n",
       "    }\n",
       "</style>\n",
       "<table border=\"1\" class=\"dataframe\">\n",
       "  <thead>\n",
       "    <tr style=\"text-align: right;\">\n",
       "      <th></th>\n",
       "      <th>date</th>\n",
       "      <th>username</th>\n",
       "      <th>tweet</th>\n",
       "    </tr>\n",
       "  </thead>\n",
       "  <tbody>\n",
       "    <tr>\n",
       "      <th>0</th>\n",
       "      <td>2023-05-30 23:59:44+00:00</td>\n",
       "      <td>AdeSaung</td>\n",
       "      <td>@ReflyHZ @YouTube Resmi!!! Presiden Joko Widod...</td>\n",
       "    </tr>\n",
       "    <tr>\n",
       "      <th>1</th>\n",
       "      <td>2023-05-30 23:59:24+00:00</td>\n",
       "      <td>DewaSudana9</td>\n",
       "      <td>@tifsembiring Ini paling ada hubunganx dg pilp...</td>\n",
       "    </tr>\n",
       "    <tr>\n",
       "      <th>2</th>\n",
       "      <td>2023-05-30 23:53:44+00:00</td>\n",
       "      <td>maha_sakti</td>\n",
       "      <td>@PDemokrat Sepertinya pak jokowi head to head ...</td>\n",
       "    </tr>\n",
       "    <tr>\n",
       "      <th>3</th>\n",
       "      <td>2023-05-30 23:52:00+00:00</td>\n",
       "      <td>fadyahrismaaul</td>\n",
       "      <td>Elite Golkar Bicara Kans Duet Prabowo-Airlangg...</td>\n",
       "    </tr>\n",
       "    <tr>\n",
       "      <th>4</th>\n",
       "      <td>2023-05-30 23:48:29+00:00</td>\n",
       "      <td>WiyonoHw</td>\n",
       "      <td>@dennyindrayana @KataBewe @nazaqistsha Terusla...</td>\n",
       "    </tr>\n",
       "    <tr>\n",
       "      <th>...</th>\n",
       "      <td>...</td>\n",
       "      <td>...</td>\n",
       "      <td>...</td>\n",
       "    </tr>\n",
       "    <tr>\n",
       "      <th>4934</th>\n",
       "      <td>2023-05-29 00:35:39+00:00</td>\n",
       "      <td>zainalarifin083</td>\n",
       "      <td>@DokterTifa Maunya rezim dan oligarki seperti ...</td>\n",
       "    </tr>\n",
       "    <tr>\n",
       "      <th>4966</th>\n",
       "      <td>2023-05-29 00:22:55+00:00</td>\n",
       "      <td>GembrixNv</td>\n",
       "      <td>@NgkongRoses @prabowo @erickthohir th g mrk yg...</td>\n",
       "    </tr>\n",
       "    <tr>\n",
       "      <th>4970</th>\n",
       "      <td>2023-05-29 00:21:33+00:00</td>\n",
       "      <td>ElizarIrnold</td>\n",
       "      <td>@kangdede78 @aniesbaswedan Terus knp penguasa ...</td>\n",
       "    </tr>\n",
       "    <tr>\n",
       "      <th>4986</th>\n",
       "      <td>2023-05-29 00:17:19+00:00</td>\n",
       "      <td>tubanesse_man</td>\n",
       "      <td>@yunartowijaya Denny cuma caper aja memanfaatk...</td>\n",
       "    </tr>\n",
       "    <tr>\n",
       "      <th>4989</th>\n",
       "      <td>2023-05-29 00:16:05+00:00</td>\n",
       "      <td>puji_setyanto</td>\n",
       "      <td>@ekogilidesign @WagimanDeep212_ Ayo menangkan ...</td>\n",
       "    </tr>\n",
       "  </tbody>\n",
       "</table>\n",
       "<p>2746 rows × 3 columns</p>\n",
       "</div>"
      ],
      "text/plain": [
       "                           date         username  \\\n",
       "0     2023-05-30 23:59:44+00:00         AdeSaung   \n",
       "1     2023-05-30 23:59:24+00:00      DewaSudana9   \n",
       "2     2023-05-30 23:53:44+00:00       maha_sakti   \n",
       "3     2023-05-30 23:52:00+00:00   fadyahrismaaul   \n",
       "4     2023-05-30 23:48:29+00:00         WiyonoHw   \n",
       "...                         ...              ...   \n",
       "4934  2023-05-29 00:35:39+00:00  zainalarifin083   \n",
       "4966  2023-05-29 00:22:55+00:00        GembrixNv   \n",
       "4970  2023-05-29 00:21:33+00:00     ElizarIrnold   \n",
       "4986  2023-05-29 00:17:19+00:00    tubanesse_man   \n",
       "4989  2023-05-29 00:16:05+00:00    puji_setyanto   \n",
       "\n",
       "                                                  tweet  \n",
       "0     @ReflyHZ @YouTube Resmi!!! Presiden Joko Widod...  \n",
       "1     @tifsembiring Ini paling ada hubunganx dg pilp...  \n",
       "2     @PDemokrat Sepertinya pak jokowi head to head ...  \n",
       "3     Elite Golkar Bicara Kans Duet Prabowo-Airlangg...  \n",
       "4     @dennyindrayana @KataBewe @nazaqistsha Terusla...  \n",
       "...                                                 ...  \n",
       "4934  @DokterTifa Maunya rezim dan oligarki seperti ...  \n",
       "4966  @NgkongRoses @prabowo @erickthohir th g mrk yg...  \n",
       "4970  @kangdede78 @aniesbaswedan Terus knp penguasa ...  \n",
       "4986  @yunartowijaya Denny cuma caper aja memanfaatk...  \n",
       "4989  @ekogilidesign @WagimanDeep212_ Ayo menangkan ...  \n",
       "\n",
       "[2746 rows x 3 columns]"
      ]
     },
     "execution_count": 100,
     "metadata": {},
     "output_type": "execute_result"
    }
   ],
   "source": [
    "data"
   ]
  },
  {
   "cell_type": "code",
   "execution_count": 101,
   "metadata": {},
   "outputs": [],
   "source": [
    "def preprocess_tweet2(tweet):\n",
    "    EMOJI_PATTERN = re.compile(\n",
    "    \"([\"\n",
    "    \"\\U0001F1E0-\\U0001F1FF\"  # flags (iOS)\n",
    "    \"\\U0001F300-\\U0001F5FF\"  # symbols & pictographs\n",
    "    \"\\U0001F600-\\U0001F64F\"  # emoticons\n",
    "    \"\\U0001F680-\\U0001F6FF\"  # transport & map symbols\n",
    "    \"\\U0001F700-\\U0001F77F\"  # alchemical symbols\n",
    "    \"\\U0001F780-\\U0001F7FF\"  # Geometric Shapes Extended\n",
    "    \"\\U0001F800-\\U0001F8FF\"  # Supplemental Arrows-C\n",
    "    \"\\U0001F900-\\U0001F9FF\"  # Supplemental Symbols and Pictographs\n",
    "    \"\\U0001FA00-\\U0001FA6F\"  # Chess Symbols\n",
    "    \"\\U0001FA70-\\U0001FAFF\"  # Symbols and Pictographs Extended-A\n",
    "    \"\\U00002702-\\U000027B0\"  # Dingbats\n",
    "    \"])\")\n",
    "    tweet = re.sub(r'[0-9]+','', str(tweet))\n",
    "    tweet = tweet.lower()  # convert to lower case\n",
    "    tweet = re.sub(r\"http\\S+|www\\S+|https\\S+\", '', tweet, flags=re.MULTILINE)  # remove URLs\n",
    "    tweet = re.sub(r'\\@\\w+|\\#\\w+', '', tweet)  # remove mentions and hashtags\n",
    "    tweet = re.sub(r'\\d+', '', tweet) # remove numbers\n",
    "    tweet = re.sub(r'\\.',' ', tweet) #\n",
    "    tweet = tweet.translate(str.maketrans(\"\", \"\", string.punctuation))  # remove punctuations\n",
    "    tweet = tweet.strip()\n",
    "    tweet = re.sub(EMOJI_PATTERN, r'', tweet)\n",
    "    tweet = re.sub(r'\\n+', '', tweet)\n",
    "    return tweet\n",
    "data['tweet']=data['tweet'].apply(preprocess_tweet2)"
   ]
  },
  {
   "cell_type": "code",
   "execution_count": 102,
   "metadata": {},
   "outputs": [
    {
     "name": "stderr",
     "output_type": "stream",
     "text": [
      "100%|██████████| 2746/2746 [00:00<00:00, 1797091.40it/s]\n"
     ]
    }
   ],
   "source": [
    "from tqdm import tqdm\n",
    "data['tweet'] = tqdm(data['tweet'].apply(preprocess_tweet2))"
   ]
  },
  {
   "cell_type": "code",
   "execution_count": 103,
   "metadata": {},
   "outputs": [
    {
     "data": {
      "text/html": [
       "<div>\n",
       "<style scoped>\n",
       "    .dataframe tbody tr th:only-of-type {\n",
       "        vertical-align: middle;\n",
       "    }\n",
       "\n",
       "    .dataframe tbody tr th {\n",
       "        vertical-align: top;\n",
       "    }\n",
       "\n",
       "    .dataframe thead th {\n",
       "        text-align: right;\n",
       "    }\n",
       "</style>\n",
       "<table border=\"1\" class=\"dataframe\">\n",
       "  <thead>\n",
       "    <tr style=\"text-align: right;\">\n",
       "      <th></th>\n",
       "      <th>date</th>\n",
       "      <th>username</th>\n",
       "      <th>tweet</th>\n",
       "    </tr>\n",
       "  </thead>\n",
       "  <tbody>\n",
       "    <tr>\n",
       "      <th>0</th>\n",
       "      <td>2023-05-30 23:59:44+00:00</td>\n",
       "      <td>AdeSaung</td>\n",
       "      <td>resmi presiden joko widodo  cawe cawe katanya ...</td>\n",
       "    </tr>\n",
       "    <tr>\n",
       "      <th>1</th>\n",
       "      <td>2023-05-30 23:59:24+00:00</td>\n",
       "      <td>DewaSudana9</td>\n",
       "      <td>ini paling ada hubunganx dg pilpres indonesia ...</td>\n",
       "    </tr>\n",
       "    <tr>\n",
       "      <th>2</th>\n",
       "      <td>2023-05-30 23:53:44+00:00</td>\n",
       "      <td>maha_sakti</td>\n",
       "      <td>sepertinya pak jokowi head to head dg pak sby ...</td>\n",
       "    </tr>\n",
       "    <tr>\n",
       "      <th>3</th>\n",
       "      <td>2023-05-30 23:52:00+00:00</td>\n",
       "      <td>fadyahrismaaul</td>\n",
       "      <td>elite golkar bicara kans duet prabowoairlangga...</td>\n",
       "    </tr>\n",
       "    <tr>\n",
       "      <th>4</th>\n",
       "      <td>2023-05-30 23:48:29+00:00</td>\n",
       "      <td>WiyonoHw</td>\n",
       "      <td>teruslah perjuangkan  arah yg benar menuju  pi...</td>\n",
       "    </tr>\n",
       "    <tr>\n",
       "      <th>...</th>\n",
       "      <td>...</td>\n",
       "      <td>...</td>\n",
       "      <td>...</td>\n",
       "    </tr>\n",
       "    <tr>\n",
       "      <th>4934</th>\n",
       "      <td>2023-05-29 00:35:39+00:00</td>\n",
       "      <td>zainalarifin083</td>\n",
       "      <td>maunya rezim dan oligarki seperti itutapi dapa...</td>\n",
       "    </tr>\n",
       "    <tr>\n",
       "      <th>4966</th>\n",
       "      <td>2023-05-29 00:22:55+00:00</td>\n",
       "      <td>GembrixNv</td>\n",
       "      <td>th g mrk yg dukung pak bowo dia kalah pilpres ...</td>\n",
       "    </tr>\n",
       "    <tr>\n",
       "      <th>4970</th>\n",
       "      <td>2023-05-29 00:21:33+00:00</td>\n",
       "      <td>ElizarIrnold</td>\n",
       "      <td>terus knp penguasa matian jegal pak anies agar...</td>\n",
       "    </tr>\n",
       "    <tr>\n",
       "      <th>4986</th>\n",
       "      <td>2023-05-29 00:17:19+00:00</td>\n",
       "      <td>tubanesse_man</td>\n",
       "      <td>denny cuma caper aja memanfaatkan momen musim ...</td>\n",
       "    </tr>\n",
       "    <tr>\n",
       "      <th>4989</th>\n",
       "      <td>2023-05-29 00:16:05+00:00</td>\n",
       "      <td>puji_setyanto</td>\n",
       "      <td>ayo menangkan bpk anies rasyid baswedan dlm pi...</td>\n",
       "    </tr>\n",
       "  </tbody>\n",
       "</table>\n",
       "<p>2746 rows × 3 columns</p>\n",
       "</div>"
      ],
      "text/plain": [
       "                           date         username  \\\n",
       "0     2023-05-30 23:59:44+00:00         AdeSaung   \n",
       "1     2023-05-30 23:59:24+00:00      DewaSudana9   \n",
       "2     2023-05-30 23:53:44+00:00       maha_sakti   \n",
       "3     2023-05-30 23:52:00+00:00   fadyahrismaaul   \n",
       "4     2023-05-30 23:48:29+00:00         WiyonoHw   \n",
       "...                         ...              ...   \n",
       "4934  2023-05-29 00:35:39+00:00  zainalarifin083   \n",
       "4966  2023-05-29 00:22:55+00:00        GembrixNv   \n",
       "4970  2023-05-29 00:21:33+00:00     ElizarIrnold   \n",
       "4986  2023-05-29 00:17:19+00:00    tubanesse_man   \n",
       "4989  2023-05-29 00:16:05+00:00    puji_setyanto   \n",
       "\n",
       "                                                  tweet  \n",
       "0     resmi presiden joko widodo  cawe cawe katanya ...  \n",
       "1     ini paling ada hubunganx dg pilpres indonesia ...  \n",
       "2     sepertinya pak jokowi head to head dg pak sby ...  \n",
       "3     elite golkar bicara kans duet prabowoairlangga...  \n",
       "4     teruslah perjuangkan  arah yg benar menuju  pi...  \n",
       "...                                                 ...  \n",
       "4934  maunya rezim dan oligarki seperti itutapi dapa...  \n",
       "4966  th g mrk yg dukung pak bowo dia kalah pilpres ...  \n",
       "4970  terus knp penguasa matian jegal pak anies agar...  \n",
       "4986  denny cuma caper aja memanfaatkan momen musim ...  \n",
       "4989  ayo menangkan bpk anies rasyid baswedan dlm pi...  \n",
       "\n",
       "[2746 rows x 3 columns]"
      ]
     },
     "execution_count": 103,
     "metadata": {},
     "output_type": "execute_result"
    }
   ],
   "source": [
    "data"
   ]
  },
  {
   "cell_type": "code",
   "execution_count": 104,
   "metadata": {},
   "outputs": [
    {
     "name": "stdout",
     "output_type": "stream",
     "text": [
      "ada sebanyak 1753 data yang terduplikasi\n"
     ]
    }
   ],
   "source": [
    "duplikasi = len(data.tweet)-len(data.tweet.drop_duplicates())\n",
    "print(f'ada sebanyak {duplikasi} data yang terduplikasi')"
   ]
  },
  {
   "cell_type": "code",
   "execution_count": 105,
   "metadata": {},
   "outputs": [
    {
     "name": "stdout",
     "output_type": "stream",
     "text": [
      "ada sebanyak 0 data yang terduplikasi\n"
     ]
    }
   ],
   "source": [
    "data = data.drop_duplicates(subset=['tweet'])\n",
    "\n",
    "duplikasi = len(data.tweet)-len(data.tweet.drop_duplicates())\n",
    "print(f'ada sebanyak {duplikasi} data yang terduplikasi')"
   ]
  },
  {
   "cell_type": "code",
   "execution_count": 106,
   "metadata": {},
   "outputs": [
    {
     "name": "stderr",
     "output_type": "stream",
     "text": [
      "/var/folders/md/n3wx2h2116zfry84m6sz4k5w0000gn/T/ipykernel_11294/2330011971.py:10: SettingWithCopyWarning: \n",
      "A value is trying to be set on a copy of a slice from a DataFrame.\n",
      "Try using .loc[row_indexer,col_indexer] = value instead\n",
      "\n",
      "See the caveats in the documentation: https://pandas.pydata.org/pandas-docs/stable/user_guide/indexing.html#returning-a-view-versus-a-copy\n",
      "  data['tweet'] = data['tweet'].apply(tokenize_column)\n"
     ]
    }
   ],
   "source": [
    "from nltk.tokenize import word_tokenize\n",
    "\n",
    "def tokenize_column(text):\n",
    "    if isinstance(text, str):  # Memastikan bahwa text adalah string\n",
    "        return word_tokenize(text)\n",
    "    else:\n",
    "        return []  # Mengembalikan list kosong jika text bukan string\n",
    "\n",
    "# Contoh penggunaan:\n",
    "data['tweet'] = data['tweet'].apply(tokenize_column)"
   ]
  },
  {
   "cell_type": "code",
   "execution_count": 107,
   "metadata": {},
   "outputs": [
    {
     "data": {
      "text/html": [
       "<div>\n",
       "<style scoped>\n",
       "    .dataframe tbody tr th:only-of-type {\n",
       "        vertical-align: middle;\n",
       "    }\n",
       "\n",
       "    .dataframe tbody tr th {\n",
       "        vertical-align: top;\n",
       "    }\n",
       "\n",
       "    .dataframe thead th {\n",
       "        text-align: right;\n",
       "    }\n",
       "</style>\n",
       "<table border=\"1\" class=\"dataframe\">\n",
       "  <thead>\n",
       "    <tr style=\"text-align: right;\">\n",
       "      <th></th>\n",
       "      <th>date</th>\n",
       "      <th>username</th>\n",
       "      <th>tweet</th>\n",
       "    </tr>\n",
       "  </thead>\n",
       "  <tbody>\n",
       "    <tr>\n",
       "      <th>0</th>\n",
       "      <td>2023-05-30 23:59:44+00:00</td>\n",
       "      <td>AdeSaung</td>\n",
       "      <td>[resmi, presiden, joko, widodo, cawe, cawe, ka...</td>\n",
       "    </tr>\n",
       "    <tr>\n",
       "      <th>1</th>\n",
       "      <td>2023-05-30 23:59:24+00:00</td>\n",
       "      <td>DewaSudana9</td>\n",
       "      <td>[ini, paling, ada, hubunganx, dg, pilpres, ind...</td>\n",
       "    </tr>\n",
       "    <tr>\n",
       "      <th>2</th>\n",
       "      <td>2023-05-30 23:53:44+00:00</td>\n",
       "      <td>maha_sakti</td>\n",
       "      <td>[sepertinya, pak, jokowi, head, to, head, dg, ...</td>\n",
       "    </tr>\n",
       "    <tr>\n",
       "      <th>3</th>\n",
       "      <td>2023-05-30 23:52:00+00:00</td>\n",
       "      <td>fadyahrismaaul</td>\n",
       "      <td>[elite, golkar, bicara, kans, duet, prabowoair...</td>\n",
       "    </tr>\n",
       "    <tr>\n",
       "      <th>4</th>\n",
       "      <td>2023-05-30 23:48:29+00:00</td>\n",
       "      <td>WiyonoHw</td>\n",
       "      <td>[teruslah, perjuangkan, arah, yg, benar, menuj...</td>\n",
       "    </tr>\n",
       "    <tr>\n",
       "      <th>...</th>\n",
       "      <td>...</td>\n",
       "      <td>...</td>\n",
       "      <td>...</td>\n",
       "    </tr>\n",
       "    <tr>\n",
       "      <th>4934</th>\n",
       "      <td>2023-05-29 00:35:39+00:00</td>\n",
       "      <td>zainalarifin083</td>\n",
       "      <td>[maunya, rezim, dan, oligarki, seperti, itutap...</td>\n",
       "    </tr>\n",
       "    <tr>\n",
       "      <th>4966</th>\n",
       "      <td>2023-05-29 00:22:55+00:00</td>\n",
       "      <td>GembrixNv</td>\n",
       "      <td>[th, g, mrk, yg, dukung, pak, bowo, dia, kalah...</td>\n",
       "    </tr>\n",
       "    <tr>\n",
       "      <th>4970</th>\n",
       "      <td>2023-05-29 00:21:33+00:00</td>\n",
       "      <td>ElizarIrnold</td>\n",
       "      <td>[terus, knp, penguasa, matian, jegal, pak, ani...</td>\n",
       "    </tr>\n",
       "    <tr>\n",
       "      <th>4986</th>\n",
       "      <td>2023-05-29 00:17:19+00:00</td>\n",
       "      <td>tubanesse_man</td>\n",
       "      <td>[denny, cuma, caper, aja, memanfaatkan, momen,...</td>\n",
       "    </tr>\n",
       "    <tr>\n",
       "      <th>4989</th>\n",
       "      <td>2023-05-29 00:16:05+00:00</td>\n",
       "      <td>puji_setyanto</td>\n",
       "      <td>[ayo, menangkan, bpk, anies, rasyid, baswedan,...</td>\n",
       "    </tr>\n",
       "  </tbody>\n",
       "</table>\n",
       "<p>993 rows × 3 columns</p>\n",
       "</div>"
      ],
      "text/plain": [
       "                           date         username  \\\n",
       "0     2023-05-30 23:59:44+00:00         AdeSaung   \n",
       "1     2023-05-30 23:59:24+00:00      DewaSudana9   \n",
       "2     2023-05-30 23:53:44+00:00       maha_sakti   \n",
       "3     2023-05-30 23:52:00+00:00   fadyahrismaaul   \n",
       "4     2023-05-30 23:48:29+00:00         WiyonoHw   \n",
       "...                         ...              ...   \n",
       "4934  2023-05-29 00:35:39+00:00  zainalarifin083   \n",
       "4966  2023-05-29 00:22:55+00:00        GembrixNv   \n",
       "4970  2023-05-29 00:21:33+00:00     ElizarIrnold   \n",
       "4986  2023-05-29 00:17:19+00:00    tubanesse_man   \n",
       "4989  2023-05-29 00:16:05+00:00    puji_setyanto   \n",
       "\n",
       "                                                  tweet  \n",
       "0     [resmi, presiden, joko, widodo, cawe, cawe, ka...  \n",
       "1     [ini, paling, ada, hubunganx, dg, pilpres, ind...  \n",
       "2     [sepertinya, pak, jokowi, head, to, head, dg, ...  \n",
       "3     [elite, golkar, bicara, kans, duet, prabowoair...  \n",
       "4     [teruslah, perjuangkan, arah, yg, benar, menuj...  \n",
       "...                                                 ...  \n",
       "4934  [maunya, rezim, dan, oligarki, seperti, itutap...  \n",
       "4966  [th, g, mrk, yg, dukung, pak, bowo, dia, kalah...  \n",
       "4970  [terus, knp, penguasa, matian, jegal, pak, ani...  \n",
       "4986  [denny, cuma, caper, aja, memanfaatkan, momen,...  \n",
       "4989  [ayo, menangkan, bpk, anies, rasyid, baswedan,...  \n",
       "\n",
       "[993 rows x 3 columns]"
      ]
     },
     "execution_count": 107,
     "metadata": {},
     "output_type": "execute_result"
    }
   ],
   "source": [
    "data"
   ]
  },
  {
   "cell_type": "code",
   "execution_count": 108,
   "metadata": {},
   "outputs": [
    {
     "name": "stdout",
     "output_type": "stream",
     "text": [
      "                           date         username  \\\n",
      "0     2023-05-30 23:59:44+00:00         AdeSaung   \n",
      "1     2023-05-30 23:59:24+00:00      DewaSudana9   \n",
      "2     2023-05-30 23:53:44+00:00       maha_sakti   \n",
      "3     2023-05-30 23:52:00+00:00   fadyahrismaaul   \n",
      "4     2023-05-30 23:48:29+00:00         WiyonoHw   \n",
      "...                         ...              ...   \n",
      "4934  2023-05-29 00:35:39+00:00  zainalarifin083   \n",
      "4966  2023-05-29 00:22:55+00:00        GembrixNv   \n",
      "4970  2023-05-29 00:21:33+00:00     ElizarIrnold   \n",
      "4986  2023-05-29 00:17:19+00:00    tubanesse_man   \n",
      "4989  2023-05-29 00:16:05+00:00    puji_setyanto   \n",
      "\n",
      "                                                  tweet  \n",
      "0     resmi presiden joko widodo cawe cawe sih cawe ...  \n",
      "1     hubunganx dg pilpres indonesia dmn eliktabilit...  \n",
      "2       jokowi head to head dg sby pilpres demokrat aja  \n",
      "3     elite golkar bicara kans duet prabowoairlangga...  \n",
      "4                       juang arah yg pilpres yg jurdil  \n",
      "...                                                 ...  \n",
      "4934              rezim oligarki itutapi capres bertand  \n",
      "4966  th mrk yg dukung bowo kalah pilpres sdh loh ru...  \n",
      "4970  knp kuasa mati jegal anies ga jd nyapres klo a...  \n",
      "4986  denny caper aja manfaat momen musim panas poli...  \n",
      "4989  ayo menang bpk anies rasyid baswedan dlm pilpr...  \n",
      "\n",
      "[993 rows x 3 columns]\n"
     ]
    },
    {
     "name": "stderr",
     "output_type": "stream",
     "text": [
      "/var/folders/md/n3wx2h2116zfry84m6sz4k5w0000gn/T/ipykernel_11294/29094851.py:28: SettingWithCopyWarning: \n",
      "A value is trying to be set on a copy of a slice from a DataFrame.\n",
      "Try using .loc[row_indexer,col_indexer] = value instead\n",
      "\n",
      "See the caveats in the documentation: https://pandas.pydata.org/pandas-docs/stable/user_guide/indexing.html#returning-a-view-versus-a-copy\n",
      "  data['tweet'] = preprocessed_data\n"
     ]
    }
   ],
   "source": [
    "stemmer = StemmerFactory().create_stemmer()\n",
    "stopword_remover = StopWordRemoverFactory().create_stop_word_remover()\n",
    "def stem_stopword(batch):\n",
    "    # Menerapkan stemming pada setiap teks dalam batch\n",
    "    stemmed_batch = [stemmer.stem(text) for text in batch]\n",
    "\n",
    "    # Melakukan penghapusan stopwords pada setiap teks dalam batch\n",
    "    cleaned_batch = [stopword_remover.remove(text) for text in stemmed_batch]\n",
    "\n",
    "    return cleaned_batch\n",
    "\n",
    "# Ukuran batch yang diinginkan\n",
    "batch_size = 1000\n",
    "\n",
    "# Menghitung jumlah batch yang diperlukan\n",
    "num_batches = len(data) // batch_size + 1\n",
    "\n",
    "preprocessed_data = []\n",
    "for i in range(num_batches):\n",
    "    start_idx = i * batch_size\n",
    "    end_idx = (i + 1) * batch_size\n",
    "    batch_data = data['tweet'].iloc[start_idx:end_idx].astype(str)\n",
    "\n",
    "    preprocessed_batch = stem_stopword(batch_data)\n",
    "    preprocessed_data.extend(preprocessed_batch)\n",
    "\n",
    "# Menambahkan hasil preprocessing ke dalam DataFrame\n",
    "data['tweet'] = preprocessed_data\n",
    "\n",
    "# Hasil preprocessing data\n",
    "print(data)"
   ]
  },
  {
   "cell_type": "code",
   "execution_count": 61,
   "metadata": {},
   "outputs": [],
   "source": [
    "data.to_csv('scrap_stoop1.csv')"
   ]
  },
  {
   "cell_type": "code",
   "execution_count": 109,
   "metadata": {},
   "outputs": [
    {
     "name": "stdout",
     "output_type": "stream",
     "text": [
      "ada sebanyak 35 data yang terduplikasi\n"
     ]
    }
   ],
   "source": [
    "duplikasi = len(data.tweet)-len(data.tweet.drop_duplicates())\n",
    "print(f'ada sebanyak {duplikasi} data yang terduplikasi')"
   ]
  },
  {
   "cell_type": "code",
   "execution_count": 110,
   "metadata": {},
   "outputs": [
    {
     "name": "stdout",
     "output_type": "stream",
     "text": [
      "ada sebanyak 0 data yang terduplikasi\n"
     ]
    }
   ],
   "source": [
    "data = data.drop_duplicates(subset=['tweet'])\n",
    "\n",
    "duplikasi = len(data.tweet)-len(data.tweet.drop_duplicates())\n",
    "print(f'ada sebanyak {duplikasi} data yang terduplikasi')"
   ]
  },
  {
   "cell_type": "code",
   "execution_count": 111,
   "metadata": {},
   "outputs": [
    {
     "data": {
      "text/plain": [
       "date        0\n",
       "username    0\n",
       "tweet       0\n",
       "dtype: int64"
      ]
     },
     "execution_count": 111,
     "metadata": {},
     "output_type": "execute_result"
    }
   ],
   "source": [
    "data.isnull().sum()"
   ]
  },
  {
   "cell_type": "code",
   "execution_count": 112,
   "metadata": {},
   "outputs": [],
   "source": [
    "data.to_csv('stemstopclean1.csv')"
   ]
  },
  {
   "cell_type": "code",
   "execution_count": 127,
   "metadata": {},
   "outputs": [],
   "source": [
    "data = pd.read_csv('stemstopclean.csv')"
   ]
  },
  {
   "cell_type": "code",
   "execution_count": 128,
   "metadata": {},
   "outputs": [
    {
     "name": "stdout",
     "output_type": "stream",
     "text": [
      "Unnamed: 0    0\n",
      "date          0\n",
      "id            0\n",
      "tweet         0\n",
      "username      0\n",
      "dtype: int64\n"
     ]
    },
    {
     "data": {
      "text/plain": [
       "96562"
      ]
     },
     "execution_count": 128,
     "metadata": {},
     "output_type": "execute_result"
    }
   ],
   "source": [
    "data = data.dropna()\n",
    "print(data.isnull().sum())\n",
    "len(data)"
   ]
  },
  {
   "cell_type": "code",
   "execution_count": 126,
   "metadata": {},
   "outputs": [],
   "source": [
    "# def tokenize_column(text):\n",
    "#     if isinstance(text, str):  # Memastikan bahwa text adalah string\n",
    "#         return word_tokenize(text)\n",
    "#     else:\n",
    "#         return []  # Mengembalikan list kosong jika text bukan string\n",
    "\n",
    "# # Contoh penggunaan:\n",
    "# data['tweet'] = data['tweet'].apply(tokenize_column)"
   ]
  },
  {
   "cell_type": "code",
   "execution_count": 226,
   "metadata": {},
   "outputs": [
    {
     "name": "stdout",
     "output_type": "stream",
     "text": [
      "1656\n"
     ]
    }
   ],
   "source": [
    "# bar = data[data['tweet'].str.contains('golkar')]\n",
    "# print(len(bar))"
   ]
  },
  {
   "cell_type": "code",
   "execution_count": 129,
   "metadata": {},
   "outputs": [],
   "source": [
    "from nltk.tokenize import word_tokenize\n",
    "def labelling(tweet):\n",
    "    # tweet = preprocess_tweet(tweet)\n",
    "    clean_tokens = word_tokenize(tweet) #tokenize\n",
    "    # clean_tokens = [stemmer.stem(word) for word in tweet_tokens if word not in stopwords] #stemming & stopword removal\n",
    "    positive_words = open(\"positive.txt\").read().splitlines()\n",
    "    negative_words = open(\"negative.txt\").read().splitlines()\n",
    "    positive_count = sum([1 for word in clean_tokens if word in positive_words])\n",
    "    negative_count = sum([1 for word in clean_tokens if word in negative_words])\n",
    "    if positive_count > negative_count:\n",
    "        return 'Positive'\n",
    "    elif positive_count < negative_count:\n",
    "        return 'Negative'\n",
    "    else:\n",
    "        return 'Neutral'\n",
    "data['sentiment'] = data['tweet'].apply(labelling)"
   ]
  },
  {
   "cell_type": "code",
   "execution_count": 130,
   "metadata": {},
   "outputs": [
    {
     "data": {
      "text/html": [
       "<div>\n",
       "<style scoped>\n",
       "    .dataframe tbody tr th:only-of-type {\n",
       "        vertical-align: middle;\n",
       "    }\n",
       "\n",
       "    .dataframe tbody tr th {\n",
       "        vertical-align: top;\n",
       "    }\n",
       "\n",
       "    .dataframe thead th {\n",
       "        text-align: right;\n",
       "    }\n",
       "</style>\n",
       "<table border=\"1\" class=\"dataframe\">\n",
       "  <thead>\n",
       "    <tr style=\"text-align: right;\">\n",
       "      <th></th>\n",
       "      <th>Unnamed: 0</th>\n",
       "      <th>date</th>\n",
       "      <th>id</th>\n",
       "      <th>tweet</th>\n",
       "      <th>username</th>\n",
       "      <th>sentiment</th>\n",
       "    </tr>\n",
       "  </thead>\n",
       "  <tbody>\n",
       "    <tr>\n",
       "      <th>0</th>\n",
       "      <td>0</td>\n",
       "      <td>2022-12-30 23:50:32+00:00</td>\n",
       "      <td>1.608974e+18</td>\n",
       "      <td>berkat kerja bumn dekat perintah buat elektabi...</td>\n",
       "      <td>Fuad_Lha9</td>\n",
       "      <td>Positive</td>\n",
       "    </tr>\n",
       "    <tr>\n",
       "      <th>1</th>\n",
       "      <td>1</td>\n",
       "      <td>2022-12-30 23:50:16+00:00</td>\n",
       "      <td>1.608974e+18</td>\n",
       "      <td>gandeng ulama hingga tokoh agama beri suasana ...</td>\n",
       "      <td>iwan_tata98</td>\n",
       "      <td>Positive</td>\n",
       "    </tr>\n",
       "    <tr>\n",
       "      <th>2</th>\n",
       "      <td>2</td>\n",
       "      <td>2022-12-30 23:40:27+00:00</td>\n",
       "      <td>1.608971e+18</td>\n",
       "      <td>mantap elektabilitas menteri bumn erick thohir...</td>\n",
       "      <td>Lima8Satu</td>\n",
       "      <td>Neutral</td>\n",
       "    </tr>\n",
       "    <tr>\n",
       "      <th>3</th>\n",
       "      <td>3</td>\n",
       "      <td>2022-12-30 23:36:07+00:00</td>\n",
       "      <td>1.608970e+18</td>\n",
       "      <td>baru lolos bagai milu partai ummat mau bahas s...</td>\n",
       "      <td>21BeritaTerkini</td>\n",
       "      <td>Neutral</td>\n",
       "    </tr>\n",
       "    <tr>\n",
       "      <th>4</th>\n",
       "      <td>4</td>\n",
       "      <td>2022-12-30 23:26:47+00:00</td>\n",
       "      <td>1.608968e+18</td>\n",
       "      <td>agenda politik negara tuan rumah piala dunia j...</td>\n",
       "      <td>rezakaisar3</td>\n",
       "      <td>Positive</td>\n",
       "    </tr>\n",
       "    <tr>\n",
       "      <th>...</th>\n",
       "      <td>...</td>\n",
       "      <td>...</td>\n",
       "      <td>...</td>\n",
       "      <td>...</td>\n",
       "      <td>...</td>\n",
       "      <td>...</td>\n",
       "    </tr>\n",
       "    <tr>\n",
       "      <th>96558</th>\n",
       "      <td>112839</td>\n",
       "      <td>2022-01-01 02:06:49+00:00</td>\n",
       "      <td>1.477099e+18</td>\n",
       "      <td>aneh nih orang hoax waktu pilpres aja percaya ...</td>\n",
       "      <td>laelatul</td>\n",
       "      <td>Neutral</td>\n",
       "    </tr>\n",
       "    <tr>\n",
       "      <th>96559</th>\n",
       "      <td>112840</td>\n",
       "      <td>2022-01-01 01:55:42+00:00</td>\n",
       "      <td>1.477096e+18</td>\n",
       "      <td>hahahahaha bls tweet niiih tunjuk yg bisa move...</td>\n",
       "      <td>amira_suud</td>\n",
       "      <td>Neutral</td>\n",
       "    </tr>\n",
       "    <tr>\n",
       "      <th>96560</th>\n",
       "      <td>112841</td>\n",
       "      <td>2022-01-01 01:49:00+00:00</td>\n",
       "      <td>1.477094e+18</td>\n",
       "      <td>wkwkwkwkwkwwk junjung nya keok pilpres bilang ...</td>\n",
       "      <td>samuelmengi86</td>\n",
       "      <td>Neutral</td>\n",
       "    </tr>\n",
       "    <tr>\n",
       "      <th>96561</th>\n",
       "      <td>112842</td>\n",
       "      <td>2022-01-01 00:38:55+00:00</td>\n",
       "      <td>1.477077e+18</td>\n",
       "      <td>bursa pilpres anies baswedan makin lejit lewat</td>\n",
       "      <td>teropongmetro</td>\n",
       "      <td>Negative</td>\n",
       "    </tr>\n",
       "    <tr>\n",
       "      <th>96562</th>\n",
       "      <td>112843</td>\n",
       "      <td>2022-01-01 00:37:00+00:00</td>\n",
       "      <td>1.477076e+18</td>\n",
       "      <td>pks banyak tokoh kualitas ikut pilih presiden ...</td>\n",
       "      <td>ninovendri</td>\n",
       "      <td>Positive</td>\n",
       "    </tr>\n",
       "  </tbody>\n",
       "</table>\n",
       "<p>96562 rows × 6 columns</p>\n",
       "</div>"
      ],
      "text/plain": [
       "       Unnamed: 0                       date            id  \\\n",
       "0               0  2022-12-30 23:50:32+00:00  1.608974e+18   \n",
       "1               1  2022-12-30 23:50:16+00:00  1.608974e+18   \n",
       "2               2  2022-12-30 23:40:27+00:00  1.608971e+18   \n",
       "3               3  2022-12-30 23:36:07+00:00  1.608970e+18   \n",
       "4               4  2022-12-30 23:26:47+00:00  1.608968e+18   \n",
       "...           ...                        ...           ...   \n",
       "96558      112839  2022-01-01 02:06:49+00:00  1.477099e+18   \n",
       "96559      112840  2022-01-01 01:55:42+00:00  1.477096e+18   \n",
       "96560      112841  2022-01-01 01:49:00+00:00  1.477094e+18   \n",
       "96561      112842  2022-01-01 00:38:55+00:00  1.477077e+18   \n",
       "96562      112843  2022-01-01 00:37:00+00:00  1.477076e+18   \n",
       "\n",
       "                                                   tweet         username  \\\n",
       "0      berkat kerja bumn dekat perintah buat elektabi...        Fuad_Lha9   \n",
       "1      gandeng ulama hingga tokoh agama beri suasana ...      iwan_tata98   \n",
       "2      mantap elektabilitas menteri bumn erick thohir...        Lima8Satu   \n",
       "3      baru lolos bagai milu partai ummat mau bahas s...  21BeritaTerkini   \n",
       "4      agenda politik negara tuan rumah piala dunia j...      rezakaisar3   \n",
       "...                                                  ...              ...   \n",
       "96558  aneh nih orang hoax waktu pilpres aja percaya ...         laelatul   \n",
       "96559  hahahahaha bls tweet niiih tunjuk yg bisa move...       amira_suud   \n",
       "96560  wkwkwkwkwkwwk junjung nya keok pilpres bilang ...    samuelmengi86   \n",
       "96561     bursa pilpres anies baswedan makin lejit lewat    teropongmetro   \n",
       "96562  pks banyak tokoh kualitas ikut pilih presiden ...       ninovendri   \n",
       "\n",
       "      sentiment  \n",
       "0      Positive  \n",
       "1      Positive  \n",
       "2       Neutral  \n",
       "3       Neutral  \n",
       "4      Positive  \n",
       "...         ...  \n",
       "96558   Neutral  \n",
       "96559   Neutral  \n",
       "96560   Neutral  \n",
       "96561  Negative  \n",
       "96562  Positive  \n",
       "\n",
       "[96562 rows x 6 columns]"
      ]
     },
     "execution_count": 130,
     "metadata": {},
     "output_type": "execute_result"
    }
   ],
   "source": [
    "data"
   ]
  },
  {
   "cell_type": "code",
   "execution_count": 1,
   "metadata": {},
   "outputs": [
    {
     "ename": "NameError",
     "evalue": "name 'data' is not defined",
     "output_type": "error",
     "traceback": [
      "\u001b[0;31m---------------------------------------------------------------------------\u001b[0m",
      "\u001b[0;31mNameError\u001b[0m                                 Traceback (most recent call last)",
      "\u001b[1;32m/Users/fahdmuchammad/Documents/SENTIMENT_PILPRES_TA/FIX/skripsi1.ipynb Cell 35\u001b[0m in \u001b[0;36m<cell line: 1>\u001b[0;34m()\u001b[0m\n\u001b[0;32m----> <a href='vscode-notebook-cell:/Users/fahdmuchammad/Documents/SENTIMENT_PILPRES_TA/FIX/skripsi1.ipynb#X46sZmlsZQ%3D%3D?line=0'>1</a>\u001b[0m data\u001b[39m.\u001b[39mto_csv(\u001b[39m'\u001b[39m\u001b[39mdatasiap2.csv\u001b[39m\u001b[39m'\u001b[39m)\n",
      "\u001b[0;31mNameError\u001b[0m: name 'data' is not defined"
     ]
    }
   ],
   "source": [
    "data.to_csv('datasiap2.csv')"
   ]
  },
  {
   "cell_type": "code",
   "execution_count": 131,
   "metadata": {},
   "outputs": [
    {
     "data": {
      "text/plain": [
       "Positive    42420\n",
       "Neutral     32927\n",
       "Negative    21215\n",
       "Name: sentiment, dtype: int64"
      ]
     },
     "execution_count": 131,
     "metadata": {},
     "output_type": "execute_result"
    }
   ],
   "source": [
    "data.sentiment.value_counts()"
   ]
  },
  {
   "cell_type": "code",
   "execution_count": 132,
   "metadata": {},
   "outputs": [
    {
     "data": {
      "text/plain": [
       "96562"
      ]
     },
     "execution_count": 132,
     "metadata": {},
     "output_type": "execute_result"
    }
   ],
   "source": [
    "len(data)"
   ]
  },
  {
   "cell_type": "code",
   "execution_count": 32,
   "metadata": {},
   "outputs": [
    {
     "data": {
      "image/png": "[encoded data removed]",
      "text/plain": [
       "<Figure size 432x288 with 1 Axes>"
      ]
     },
     "metadata": {},
     "output_type": "display_data"
    }
   ],
   "source": [
    "p = 42427\n",
    "net = 32934\n",
    "neg = 21220\n",
    "labels = ['Positive ['+str(p)+']' , 'Neutral ['+str(net)+']','Negative ['+str(neg)+']']\n",
    "size = [p,net,neg]\n",
    "colors = [\"#81F495\",\"#A9E4EF\",\"#FF3C38\"]\n",
    "patches, texts = plt.pie(size, colors=colors, startangle=90)\n",
    "plt.style.use('default')\n",
    "plt.legend(labels)\n",
    "plt.title('Number of tweet')\n",
    "plt.axis('equal')\n",
    "plt.show()"
   ]
  },
  {
   "cell_type": "code",
   "execution_count": 135,
   "metadata": {},
   "outputs": [
    {
     "name": "stdout",
     "output_type": "stream",
     "text": [
      "Akurasi: 66.34%\n"
     ]
    }
   ],
   "source": [
    "from sklearn.naive_bayes import MultinomialNB\n",
    "from sklearn.model_selection import train_test_split\n",
    "from sklearn.metrics import classification_report, confusion_matrix, accuracy_score, f1_score, precision_score, recall_score, plot_confusion_matrix\n",
    "from sklearn.feature_extraction.text import CountVectorizer\n",
    "from sklearn.feature_extraction.text import TfidfVectorizer\n",
    "from sklearn.pipeline import Pipeline\n",
    "import numpy as np\n",
    "import seaborn as sns\n",
    "import matplotlib.pyplot as plt\n",
    "\n",
    "vectorizer = CountVectorizer()\n",
    "\n",
    "# Melakukan transformasi teks menjadi vektor fitur\n",
    "X = vectorizer.fit_transform(data['tweet'])\n",
    "\n",
    "# Membagi data menjadi data latih dan data uji\n",
    "X_train, X_test, y_train, y_test = train_test_split(X, data['sentiment'], test_size=0.3, random_state=1)\n",
    "\n",
    "# Membuat objek Naive Bayes\n",
    "naive_bayes = MultinomialNB()\n",
    "\n",
    "# Melakukan pelatihan model Naive Bayes\n",
    "training = naive_bayes.fit(X_train, y_train)\n",
    "\n",
    "# Melakukan prediksi pada data uji\n",
    "y_pred = naive_bayes.predict(X_test)\n",
    "\n",
    "# Menghitung akurasi\n",
    "accuracy = accuracy_score(y_test, y_pred)\n",
    "print(\"Akurasi: {:.2f}%\".format(accuracy * 100))"
   ]
  },
  {
   "cell_type": "code",
   "execution_count": 136,
   "metadata": {},
   "outputs": [
    {
     "name": "stdout",
     "output_type": "stream",
     "text": [
      "Iterasi 1: 0.66097131614373\n",
      "Iterasi 2: 0.658796727762245\n",
      "Iterasi 3: 0.6685305995650823\n",
      "Iterasi 4: 0.6640778709744227\n",
      "Iterasi 5: 0.6626281453867661\n",
      "Iterasi 6: 0.6601429015222119\n",
      "Iterasi 7: 0.6670808739774257\n",
      "Iterasi 8: 0.6726726726726727\n",
      "Iterasi 9: 0.6589002795899348\n",
      "Iterasi 10: 0.6585896241068655\n",
      "Iterasi 11: 0.6657347002174588\n",
      "Iterasi 12: 0.6616961789375583\n",
      "Iterasi 13: 0.6667702184943565\n",
      "Iterasi 14: 0.6640778709744227\n",
      "Iterasi 15: 0.6611784197991094\n",
      "Iterasi 16: 0.6597286942114529\n",
      "Iterasi 17: 0.6635601118359739\n",
      "Iterasi 18: 0.6657347002174588\n",
      "Iterasi 19: 0.6616961789375583\n",
      "Iterasi 20: 0.6518587553070312\n",
      "Iterasi 21: 0.6606606606606606\n",
      "Iterasi 22: 0.6664595630112872\n",
      "Iterasi 23: 0.6697732214973594\n",
      "Rata-rata skor akurasi: 66.31 %\n"
     ]
    }
   ],
   "source": [
    "from sklearn.model_selection import ShuffleSplit\n",
    "from sklearn.model_selection import cross_val_score\n",
    "shuffle_split = ShuffleSplit(n_splits=23, test_size=0.1, random_state=2)\n",
    "\n",
    "# Melakukan cross-validation dengan ShuffleSplit\n",
    "scores = cross_val_score(naive_bayes, X, data['sentiment'], cv=shuffle_split, scoring='accuracy')\n",
    "\n",
    "# Menampilkan skor akurasi untuk setiap iterasi cross-validation\n",
    "for i, score in enumerate(scores):\n",
    "    print(f\"Iterasi {i+1}: {score}\")\n",
    "\n",
    "# Menampilkan rata-rata skor akurasi dari cross-validation\n",
    "print(\"Rata-rata skor akurasi: {:.2f} %\".format(scores.mean()*100))"
   ]
  },
  {
   "cell_type": "code",
   "execution_count": 137,
   "metadata": {},
   "outputs": [
    {
     "name": "stdout",
     "output_type": "stream",
     "text": [
      "Accuracy: 0.6634\n",
      "Confusion matrix:\n",
      " [[4424 1471  485]\n",
      " [2290 4830 2745]\n",
      " [1430 1329 9965]]\n",
      "              precision    recall  f1-score   support\n",
      "\n",
      "    Negative       0.54      0.69      0.61      6380\n",
      "     Neutral       0.63      0.49      0.55      9865\n",
      "    Positive       0.76      0.78      0.77     12724\n",
      "\n",
      "    accuracy                           0.66     28969\n",
      "   macro avg       0.64      0.66      0.64     28969\n",
      "weighted avg       0.67      0.66      0.66     28969\n",
      "\n"
     ]
    }
   ],
   "source": [
    "acc_mnb = accuracy_score(y_test, y_pred)\n",
    "print(\"Accuracy: {0:.4f}\".format(acc_mnb))\n",
    "\n",
    "conf_matrix_mnb = confusion_matrix(y_test, y_pred)\n",
    "print(\"Confusion matrix:\\n {}\".format(conf_matrix_mnb))\n",
    "print(classification_report(y_test, y_pred))"
   ]
  },
  {
   "cell_type": "code",
   "execution_count": 138,
   "metadata": {},
   "outputs": [
    {
     "name": "stderr",
     "output_type": "stream",
     "text": [
      "/opt/anaconda3/lib/python3.9/site-packages/sklearn/utils/deprecation.py:87: FutureWarning: Function plot_confusion_matrix is deprecated; Function `plot_confusion_matrix` is deprecated in 1.0 and will be removed in 1.2. Use one of the class methods: ConfusionMatrixDisplay.from_predictions or ConfusionMatrixDisplay.from_estimator.\n",
      "  warnings.warn(msg, category=FutureWarning)\n"
     ]
    },
    {
     "name": "stdout",
     "output_type": "stream",
     "text": [
      "[[4424 1471  485]\n",
      " [2290 4830 2745]\n",
      " [1430 1329 9965]]\n"
     ]
    },
    {
     "data": {
      "image/png": "[encoded data removed]",
      "text/plain": [
       "<Figure size 432x288 with 2 Axes>"
      ]
     },
     "metadata": {
      "needs_background": "light"
     },
     "output_type": "display_data"
    }
   ],
   "source": [
    "class_names = data['sentiment'].unique()\n",
    "disp = plot_confusion_matrix(training, X_test, y_test,\n",
    "                              display_labels=class_names,\n",
    "                              cmap=plt.cm.Blues, values_format='d')\n",
    "disp.ax_.set_title(\"Confusion Matrix\")\n",
    "print(disp.confusion_matrix)\n",
    "\n",
    "plt.show()"
   ]
  },
  {
   "cell_type": "code",
   "execution_count": 125,
   "metadata": {},
   "outputs": [
    {
     "name": "stdout",
     "output_type": "stream",
     "text": [
      "Akurasi:72.92%\n",
      "Presisi: 73.00%\n",
      "Recall:72.92%\n",
      "F1-score:72.88%\n",
      "Persentase Klasifikasi:\n",
      "Positif: 33.3%\n",
      "Negatif: 18.8%\n",
      "Netral: 47.9%\n"
     ]
    }
   ],
   "source": [
    "from sklearn.metrics import accuracy_score, precision_score, recall_score, f1_score\n",
    "\n",
    "# Melakukan prediksi pada data uji\n",
    "y_pred = naive_bayes.predict(X_test)\n",
    "\n",
    "# Menghitung dan menampilkan akurasi\n",
    "accuracy = accuracy_score(y_test, y_pred)\n",
    "print(\"Akurasi:{:.2f}%\".format(accuracy * 100))\n",
    "\n",
    "# Menghitung dan menampilkan presisi\n",
    "precision = precision_score(y_test, y_pred, average='weighted')\n",
    "print(\"Presisi: {:.2f}%\".format(precision * 100))\n",
    "\n",
    "# Menghitung dan menampilkan recall\n",
    "recall = recall_score(y_test, y_pred, average='weighted')\n",
    "print(\"Recall:{:.2f}%\".format(recall * 100))\n",
    "\n",
    "# Menghitung dan menampilkan F1-score\n",
    "f1 = f1_score(y_test, y_pred, average='weighted')\n",
    "print(\"F1-score:{:.2f}%\".format(f1 * 100))\n",
    "positive_count = (y_pred == 'Positive').sum()\n",
    "negative_count = (y_pred == 'Negative').sum()\n",
    "neutral_count = (y_pred == 'Neutral').sum()\n",
    "total_count = len(y_pred)\n",
    "positive_percentage = (positive_count / total_count) * 100\n",
    "negative_percentage = (negative_count / total_count) * 100\n",
    "neutral_percentage = (neutral_count / total_count) * 100\n",
    "    # Tampilkan hasil\n",
    "print(\"Persentase Klasifikasi:\")\n",
    "print(\"Positif: {:.1f}%\".format(positive_percentage))\n",
    "print(\"Negatif: {:.1f}%\".format(negative_percentage))\n",
    "print(\"Netral: {:.1f}%\".format(neutral_percentage))"
   ]
  },
  {
   "cell_type": "code",
   "execution_count": 126,
   "metadata": {},
   "outputs": [
    {
     "name": "stdout",
     "output_type": "stream",
     "text": [
      "['Positive' 'Negative' 'Negative' 'Neutral' 'Neutral' 'Neutral' 'Neutral'\n",
      " 'Negative' 'Neutral' 'Positive' 'Positive' 'Positive' 'Neutral'\n",
      " 'Positive' 'Positive' 'Neutral' 'Positive' 'Neutral' 'Negative' 'Neutral'\n",
      " 'Neutral' 'Neutral' 'Neutral' 'Neutral' 'Neutral' 'Neutral' 'Neutral'\n",
      " 'Neutral' 'Positive' 'Negative' 'Positive' 'Neutral' 'Neutral' 'Neutral'\n",
      " 'Neutral' 'Positive' 'Positive' 'Negative' 'Positive' 'Neutral'\n",
      " 'Positive' 'Neutral' 'Positive' 'Positive' 'Neutral' 'Neutral' 'Positive'\n",
      " 'Positive' 'Positive' 'Negative' 'Neutral' 'Positive' 'Neutral'\n",
      " 'Positive' 'Positive' 'Neutral' 'Positive' 'Neutral' 'Neutral' 'Positive'\n",
      " 'Positive' 'Positive' 'Neutral' 'Neutral' 'Negative' 'Positive'\n",
      " 'Negative' 'Neutral' 'Neutral' 'Negative' 'Neutral' 'Negative' 'Negative'\n",
      " 'Neutral' 'Negative' 'Neutral' 'Negative' 'Positive' 'Neutral' 'Negative'\n",
      " 'Neutral' 'Negative' 'Positive' 'Neutral' 'Neutral' 'Positive' 'Neutral'\n",
      " 'Neutral' 'Positive' 'Positive' 'Positive' 'Negative' 'Negative'\n",
      " 'Neutral' 'Neutral' 'Neutral']\n"
     ]
    }
   ],
   "source": [
    "print(y_pred)"
   ]
  },
  {
   "cell_type": "code",
   "execution_count": 70,
   "metadata": {},
   "outputs": [
    {
     "name": "stdout",
     "output_type": "stream",
     "text": [
      "Persentase Klasifikasi:\n",
      "Positif: 28.39%\n",
      "Negatif: 15.48%\n",
      "Netral: 56.13%\n",
      "Hasil Prediksi:  Neutral\n",
      "\n",
      "Persentase Klasifikasi:\n",
      "Positif: 28.39%\n",
      "Negatif: 15.48%\n",
      "Netral: 56.13%\n",
      "Hasil Prediksi:  Positive\n",
      "\n",
      "Persentase Klasifikasi:\n",
      "Positif: 28.39%\n",
      "Negatif: 15.48%\n",
      "Netral: 56.13%\n",
      "Hasil Prediksi:  Negative\n",
      "\n"
     ]
    }
   ],
   "source": [
    "while True:\n",
    "    # Memasukkan input teks\n",
    "    input_text = input(\"Masukkan teks (atau ketik 'selesai' untuk keluar): \")\n",
    "    \n",
    "    # Keluar dari loop jika pengguna memasukkan 'selesai'\n",
    "    if input_text.lower() == 'selesai':\n",
    "        break\n",
    "    \n",
    "    # Melakukan transformasi teks input menjadi vektor fitur\n",
    "    X_input = vectorizer.transform([input_text])\n",
    "    \n",
    "    # Melakukan prediksi pada input\n",
    "    pred = naive_bayes.predict(X_input)\n",
    "    positive_count = (y_pred == 'Positive').sum()\n",
    "    negative_count = (y_pred == 'Negative').sum()\n",
    "    neutral_count = (y_pred == 'Neutral').sum()\n",
    "    total_count = len(y_pred)\n",
    "    positive_percentage = (positive_count / total_count) * 100\n",
    "    negative_percentage = (negative_count / total_count) * 100\n",
    "    neutral_percentage = (neutral_count / total_count) * 100\n",
    "    # Tampilkan hasil\n",
    "    print(\"Persentase Klasifikasi:\")\n",
    "    print(\"Positif: {:.2f}%\".format(positive_percentage))\n",
    "    print(\"Negatif: {:.2f}%\".format(negative_percentage))\n",
    "    print(\"Netral: {:.2f}%\".format(neutral_percentage))\n",
    "    \n",
    "    # Menampilkan hasil prediksi\n",
    "    print(\"Hasil Prediksi: \", pred[0])\n",
    "    print()"
   ]
  },
  {
   "cell_type": "code",
   "execution_count": 71,
   "metadata": {},
   "outputs": [
    {
     "ename": "IndexError",
     "evalue": "single positional indexer is out-of-bounds",
     "output_type": "error",
     "traceback": [
      "\u001b[0;31m---------------------------------------------------------------------------\u001b[0m",
      "\u001b[0;31mIndexError\u001b[0m                                Traceback (most recent call last)",
      "\u001b[1;32m/Users/fahdmuchammad/Documents/SENTIMENT_PILPRES_TA/FIX/skripsi1.ipynb Cell 45\u001b[0m in \u001b[0;36m<cell line: 1>\u001b[0;34m()\u001b[0m\n\u001b[0;32m----> <a href='vscode-notebook-cell:/Users/fahdmuchammad/Documents/SENTIMENT_PILPRES_TA/FIX/skripsi1.ipynb#X62sZmlsZQ%3D%3D?line=0'>1</a>\u001b[0m data\u001b[39m.\u001b[39;49miloc[\u001b[39m45422\u001b[39;49m]\n",
      "File \u001b[0;32m/opt/anaconda3/lib/python3.9/site-packages/pandas/core/indexing.py:967\u001b[0m, in \u001b[0;36m_LocationIndexer.__getitem__\u001b[0;34m(self, key)\u001b[0m\n\u001b[1;32m    964\u001b[0m axis \u001b[39m=\u001b[39m \u001b[39mself\u001b[39m\u001b[39m.\u001b[39maxis \u001b[39mor\u001b[39;00m \u001b[39m0\u001b[39m\n\u001b[1;32m    966\u001b[0m maybe_callable \u001b[39m=\u001b[39m com\u001b[39m.\u001b[39mapply_if_callable(key, \u001b[39mself\u001b[39m\u001b[39m.\u001b[39mobj)\n\u001b[0;32m--> 967\u001b[0m \u001b[39mreturn\u001b[39;00m \u001b[39mself\u001b[39;49m\u001b[39m.\u001b[39;49m_getitem_axis(maybe_callable, axis\u001b[39m=\u001b[39;49maxis)\n",
      "File \u001b[0;32m/opt/anaconda3/lib/python3.9/site-packages/pandas/core/indexing.py:1520\u001b[0m, in \u001b[0;36m_iLocIndexer._getitem_axis\u001b[0;34m(self, key, axis)\u001b[0m\n\u001b[1;32m   1517\u001b[0m     \u001b[39mraise\u001b[39;00m \u001b[39mTypeError\u001b[39;00m(\u001b[39m\"\u001b[39m\u001b[39mCannot index by location index with a non-integer key\u001b[39m\u001b[39m\"\u001b[39m)\n\u001b[1;32m   1519\u001b[0m \u001b[39m# validate the location\u001b[39;00m\n\u001b[0;32m-> 1520\u001b[0m \u001b[39mself\u001b[39;49m\u001b[39m.\u001b[39;49m_validate_integer(key, axis)\n\u001b[1;32m   1522\u001b[0m \u001b[39mreturn\u001b[39;00m \u001b[39mself\u001b[39m\u001b[39m.\u001b[39mobj\u001b[39m.\u001b[39m_ixs(key, axis\u001b[39m=\u001b[39maxis)\n",
      "File \u001b[0;32m/opt/anaconda3/lib/python3.9/site-packages/pandas/core/indexing.py:1452\u001b[0m, in \u001b[0;36m_iLocIndexer._validate_integer\u001b[0;34m(self, key, axis)\u001b[0m\n\u001b[1;32m   1450\u001b[0m len_axis \u001b[39m=\u001b[39m \u001b[39mlen\u001b[39m(\u001b[39mself\u001b[39m\u001b[39m.\u001b[39mobj\u001b[39m.\u001b[39m_get_axis(axis))\n\u001b[1;32m   1451\u001b[0m \u001b[39mif\u001b[39;00m key \u001b[39m>\u001b[39m\u001b[39m=\u001b[39m len_axis \u001b[39mor\u001b[39;00m key \u001b[39m<\u001b[39m \u001b[39m-\u001b[39mlen_axis:\n\u001b[0;32m-> 1452\u001b[0m     \u001b[39mraise\u001b[39;00m \u001b[39mIndexError\u001b[39;00m(\u001b[39m\"\u001b[39m\u001b[39msingle positional indexer is out-of-bounds\u001b[39m\u001b[39m\"\u001b[39m)\n",
      "\u001b[0;31mIndexError\u001b[0m: single positional indexer is out-of-bounds"
     ]
    }
   ],
   "source": [
    "data.iloc[45422]"
   ]
  },
  {
   "cell_type": "code",
   "execution_count": 54,
   "metadata": {},
   "outputs": [
    {
     "name": "stdout",
     "output_type": "stream",
     "text": [
      "Hasil Prediksi:  Neutral\n",
      "\n"
     ]
    }
   ],
   "source": [
    "while True:\n",
    "    # Memasukkan input teks\n",
    "    input_text = input(\"Masukkan teks (atau ketik 'selesai' untuk keluar): \")\n",
    "    \n",
    "    # Keluar dari loop jika pengguna memasukkan 'selesai'\n",
    "    if input_text.lower() == 'selesai':\n",
    "        break\n",
    "    \n",
    "    # Melakukan transformasi teks input menjadi vektor fitur\n",
    "    X_input = vectorizer.transform([input_text])\n",
    "    \n",
    "    # Melakukan prediksi pada input\n",
    "    y_pred = naive_bayes.predict(X_input)\n",
    "    \n",
    "    # Menampilkan hasil prediksi\n",
    "    print(\"Hasil Prediksi: \", y_pred[0])\n",
    "    print()"
   ]
  }
 ],
 "metadata": {
  "kernelspec": {
   "display_name": "base",
   "language": "python",
   "name": "python3"
  },
  "language_info": {
   "codemirror_mode": {
    "name": "ipython",
    "version": 3
   },
   "file_extension": ".py",
   "mimetype": "text/x-python",
   "name": "python",
   "nbconvert_exporter": "python",
   "pygments_lexer": "ipython3",
   "version": "3.9.12"
  },
  "orig_nbformat": 4
 },
 "nbformat": 4,
 "nbformat_minor": 2
}
