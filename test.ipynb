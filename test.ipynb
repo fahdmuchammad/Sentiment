{
 "cells": [
  {
   "attachments": {},
   "cell_type": "markdown",
   "metadata": {},
   "source": [
    "## SENTIMENT ANALYSIS PILPRES 2024 PADA MEDIA SOSIAL TWITTER DENGAN NAIVE BAYES CLASSIFIER\n",
    "\n",
    "**MUCHAMMAD FAHD ISHAMUUDIN**\n",
    "\n",
    "\n",
    "**41155050180048**"
   ]
  },
  {
   "cell_type": "code",
   "execution_count": 1,
   "metadata": {},
   "outputs": [],
   "source": [
    "%matplotlib inline\n",
    "\n",
    "import pandas as pd\n",
    "import numpy as np\n",
    "import matplotlib.pyplot as plt\n",
    "import seaborn as sns\n",
    "import collections\n",
    "import nltk\n",
    "from nltk.tokenize import word_tokenize\n",
    "from nltk.sentiment import SentimentIntensityAnalyzer\n"
   ]
  },
  {
   "cell_type": "code",
   "execution_count": 2,
   "metadata": {},
   "outputs": [
    {
     "name": "stdout",
     "output_type": "stream",
     "text": [
      "  Unnamed: 0                       date            id  \\\n",
      "0          0  2022-12-30 23:50:32+00:00  1.608974e+18   \n",
      "1          1  2022-12-30 23:50:16+00:00  1.608974e+18   \n",
      "2          2  2022-12-30 23:40:27+00:00  1.608971e+18   \n",
      "3          3  2022-12-30 23:36:07+00:00  1.608970e+18   \n",
      "4          4  2022-12-30 23:26:47+00:00  1.608968e+18   \n",
      "\n",
      "                                               tweet         username  \n",
      "0  Berkat kinerja di BUMN, serta kedekatan dengan...        Fuad_Lha9  \n",
      "1  @ganjarpranowo menggandeng ulama hingga tokoh ...      iwan_tata98  \n",
      "2  Mantap 👍👍\\nElektabilitas Menteri BUMN Erick Th...        Lima8Satu  \n",
      "3  Baru Lolos Sebagai Peserta Pemilu 2024, Partai...  21BeritaTerkini  \n",
      "4  Agenda politik negara tuan rumah Piala Dunia 2...      rezakaisar3  \n",
      "      Unnamed: 0                       date            id  \\\n",
      "93877      93874  2022-01-01 03:05:00+00:00  1.477114e+18   \n",
      "93878      93875  2022-01-01 02:24:46+00:00  1.477103e+18   \n",
      "93879      93876  2022-01-01 02:08:17+00:00  1.477099e+18   \n",
      "93880      93877  2022-01-01 00:38:55+00:00  1.477077e+18   \n",
      "93881      93878  2022-01-01 00:37:00+00:00  1.477076e+18   \n",
      "\n",
      "                                                   tweet       username  \n",
      "93877  PA 212  Novel Bamukmin mengaku sudah mantap ma...        sjahtie  \n",
      "93878  PKS Ingin Ada 3 Poros Koalisi di Pilpres 2024 ...        jawapos  \n",
      "93879  @Listy9021 @BNPTRI @BPIPRI MET tahun baru Sis,...  BANGSAygSUJUD  \n",
      "93880  Bursa Pilpres 2024, Anies Baswedan Makin Melej...  teropongmetro  \n",
      "93881  PKS Inginkan Banyak Tokoh Berkualitas Ikut dal...     ninovendri  \n",
      "Index(['Unnamed: 0', 'date', 'id', 'tweet', 'username'], dtype='object')\n"
     ]
    }
   ],
   "source": [
    "pilpres = pd.read_csv('2022pilpres.csv')\n",
    "print(pilpres.head())\n",
    "print(pilpres.tail())\n",
    "print(pilpres.columns)"
   ]
  },
  {
   "cell_type": "code",
   "execution_count": 3,
   "metadata": {},
   "outputs": [
    {
     "data": {
      "text/plain": [
       "93882"
      ]
     },
     "execution_count": 3,
     "metadata": {},
     "output_type": "execute_result"
    }
   ],
   "source": [
    "len(pilpres)"
   ]
  },
  {
   "cell_type": "code",
   "execution_count": 4,
   "metadata": {},
   "outputs": [
    {
     "data": {
      "text/plain": [
       "'Megawati Soekarnoputri, diyakini bakal tetap mencalonkan Ketua DPR RI Puan Maharani sebagai capres di Pilpres 2024. Puan akan melaju menjadi capres &amp; berhadapan DGN Anies Baswedan.\\n\\nPuan Capres PDIP\\nhttps://t.co/g367x0BM1P'"
      ]
     },
     "execution_count": 4,
     "metadata": {},
     "output_type": "execute_result"
    }
   ],
   "source": [
    "pilpres.loc[45,'tweet']"
   ]
  },
  {
   "cell_type": "code",
   "execution_count": 5,
   "metadata": {},
   "outputs": [
    {
     "name": "stdout",
     "output_type": "stream",
     "text": [
      "megawati soekarnoputri, diyakini bakal tetap mencalonkan ketua dpr ri puan maharani sebagai capres di pilpres 2024. puan akan melaju menjadi capres &amp; berhadapan dgn anies baswedan.\n",
      "\n",
      "puan capres pdip\n",
      "https://t.co/g367x0bm1p\n"
     ]
    }
   ],
   "source": [
    "x = 'Megawati Soekarnoputri, diyakini bakal tetap mencalonkan Ketua DPR RI Puan Maharani sebagai capres di Pilpres 2024. Puan akan melaju menjadi capres &amp; berhadapan DGN Anies Baswedan.\\n\\nPuan Capres PDIP\\nhttps://t.co/g367x0BM1P'\n",
    "print(x.lower())"
   ]
  },
  {
   "cell_type": "code",
   "execution_count": 6,
   "metadata": {},
   "outputs": [
    {
     "name": "stdout",
     "output_type": "stream",
     "text": [
      "<class 'pandas.core.frame.DataFrame'>\n",
      "RangeIndex: 93882 entries, 0 to 93881\n",
      "Data columns (total 5 columns):\n",
      " #   Column      Non-Null Count  Dtype  \n",
      "---  ------      --------------  -----  \n",
      " 0   Unnamed: 0  93882 non-null  object \n",
      " 1   date        93882 non-null  object \n",
      " 2   id          93879 non-null  float64\n",
      " 3   tweet       93879 non-null  object \n",
      " 4   username    93876 non-null  object \n",
      "dtypes: float64(1), object(4)\n",
      "memory usage: 3.6+ MB\n",
      "None\n"
     ]
    }
   ],
   "source": [
    "print(pilpres.info())"
   ]
  },
  {
   "cell_type": "code",
   "execution_count": 7,
   "metadata": {},
   "outputs": [],
   "source": [
    "del pilpres['Unnamed: 0']\n"
   ]
  },
  {
   "cell_type": "code",
   "execution_count": 8,
   "metadata": {},
   "outputs": [
    {
     "name": "stdout",
     "output_type": "stream",
     "text": [
      "<class 'pandas.core.frame.DataFrame'>\n",
      "RangeIndex: 93882 entries, 0 to 93881\n",
      "Data columns (total 4 columns):\n",
      " #   Column    Non-Null Count  Dtype  \n",
      "---  ------    --------------  -----  \n",
      " 0   date      93882 non-null  object \n",
      " 1   id        93879 non-null  float64\n",
      " 2   tweet     93879 non-null  object \n",
      " 3   username  93876 non-null  object \n",
      "dtypes: float64(1), object(3)\n",
      "memory usage: 2.9+ MB\n",
      "None\n"
     ]
    },
    {
     "data": {
      "text/plain": [
       "93882"
      ]
     },
     "execution_count": 8,
     "metadata": {},
     "output_type": "execute_result"
    }
   ],
   "source": [
    "print(pilpres.info())\n",
    "len(pilpres)"
   ]
  },
  {
   "cell_type": "code",
   "execution_count": 9,
   "metadata": {},
   "outputs": [
    {
     "data": {
      "text/plain": [
       "date        30\n",
       "id          30\n",
       "tweet       30\n",
       "username    30\n",
       "dtype: int64"
      ]
     },
     "execution_count": 9,
     "metadata": {},
     "output_type": "execute_result"
    }
   ],
   "source": [
    "pilpres[pilpres['username']=='jo_anezt'].count()"
   ]
  },
  {
   "cell_type": "code",
   "execution_count": 10,
   "metadata": {},
   "outputs": [
    {
     "name": "stdout",
     "output_type": "stream",
     "text": [
      "                             date            id  \\\n",
      "count                       93882  9.387900e+04   \n",
      "unique                      90553           NaN   \n",
      "top     2022-04-21 08:00:02+00:00           NaN   \n",
      "freq                          218           NaN   \n",
      "mean                          NaN  1.557322e+18   \n",
      "std                           NaN  3.586852e+16   \n",
      "min                           NaN  1.477076e+18   \n",
      "25%                           NaN  1.529718e+18   \n",
      "50%                           NaN  1.565171e+18   \n",
      "75%                           NaN  1.586947e+18   \n",
      "max                           NaN  1.608974e+18   \n",
      "\n",
      "                                                    tweet username  \n",
      "count                                               93879    93876  \n",
      "unique                                              90724    21941  \n",
      "top     Indonesia menolak Capres dan Cawapres yang did...  jpnncom  \n",
      "freq                                                   48     1121  \n",
      "mean                                                  NaN      NaN  \n",
      "std                                                   NaN      NaN  \n",
      "min                                                   NaN      NaN  \n",
      "25%                                                   NaN      NaN  \n",
      "50%                                                   NaN      NaN  \n",
      "75%                                                   NaN      NaN  \n",
      "max                                                   NaN      NaN  \n"
     ]
    }
   ],
   "source": [
    "print(pilpres.describe(include='all'))"
   ]
  },
  {
   "cell_type": "code",
   "execution_count": 11,
   "metadata": {},
   "outputs": [
    {
     "data": {
      "text/plain": [
       "date        0\n",
       "id          3\n",
       "tweet       3\n",
       "username    6\n",
       "dtype: int64"
      ]
     },
     "execution_count": 11,
     "metadata": {},
     "output_type": "execute_result"
    }
   ],
   "source": [
    "pilpres.isna().sum()"
   ]
  },
  {
   "cell_type": "code",
   "execution_count": 12,
   "metadata": {},
   "outputs": [
    {
     "name": "stdout",
     "output_type": "stream",
     "text": [
      "['Fuad_Lha9' 'iwan_tata98' 'Lima8Satu' ... 'wahyu_minarno' 'Azhari25_'\n",
      " 'ninovendri']\n"
     ]
    }
   ],
   "source": [
    "print(pilpres.username.unique())"
   ]
  },
  {
   "cell_type": "code",
   "execution_count": 13,
   "metadata": {},
   "outputs": [
    {
     "name": "stdout",
     "output_type": "stream",
     "text": [
      "3157\n"
     ]
    }
   ],
   "source": [
    "print(pilpres.tweet.duplicated(keep='first').sum())"
   ]
  },
  {
   "attachments": {},
   "cell_type": "markdown",
   "metadata": {},
   "source": [
    "## CLEANING DATA\n",
    "untuk melakukan sentimen analisis yang benar maka harus melakukan pembersihan data agar bisa menghindari bias"
   ]
  },
  {
   "cell_type": "code",
   "execution_count": 14,
   "metadata": {},
   "outputs": [
    {
     "data": {
      "text/plain": [
       "93876"
      ]
     },
     "execution_count": 14,
     "metadata": {},
     "output_type": "execute_result"
    }
   ],
   "source": [
    "#karena yang null hanya ada 6 baris dari 92308 data, maka sebaiknya drop row karena hanya sekian persen dari data dan tidak memiliki pengaruh besar pada hasil sentiment nanti\n",
    "pil = pilpres.dropna()\n",
    "len(pil)"
   ]
  },
  {
   "cell_type": "code",
   "execution_count": 15,
   "metadata": {},
   "outputs": [
    {
     "name": "stdout",
     "output_type": "stream",
     "text": [
      "date        0\n",
      "id          0\n",
      "tweet       0\n",
      "username    0\n",
      "dtype: int64\n",
      "                        date            id  \\\n",
      "0  2022-12-30 23:50:32+00:00  1.608974e+18   \n",
      "1  2022-12-30 23:50:16+00:00  1.608974e+18   \n",
      "2  2022-12-30 23:40:27+00:00  1.608971e+18   \n",
      "3  2022-12-30 23:36:07+00:00  1.608970e+18   \n",
      "4  2022-12-30 23:26:47+00:00  1.608968e+18   \n",
      "\n",
      "                                               tweet         username  \n",
      "0  Berkat kinerja di BUMN, serta kedekatan dengan...        Fuad_Lha9  \n",
      "1  @ganjarpranowo menggandeng ulama hingga tokoh ...      iwan_tata98  \n",
      "2  Mantap 👍👍\\nElektabilitas Menteri BUMN Erick Th...        Lima8Satu  \n",
      "3  Baru Lolos Sebagai Peserta Pemilu 2024, Partai...  21BeritaTerkini  \n",
      "4  Agenda politik negara tuan rumah Piala Dunia 2...      rezakaisar3  \n"
     ]
    }
   ],
   "source": [
    "#pengecekan apakah masih ada baris yang null\n",
    "pil.isnull().sum()\n",
    "print(pil.isnull().sum())\n",
    "print(pil.head())"
   ]
  },
  {
   "attachments": {},
   "cell_type": "markdown",
   "metadata": {},
   "source": [
    "# MENGHAPUS TWEET MASSAL YANG SAMA #\n",
    "agar tidak mendapatkan bias maka harus menghapus tweet yang sama yang dilakukan oleh multi account"
   ]
  },
  {
   "cell_type": "code",
   "execution_count": 16,
   "metadata": {},
   "outputs": [
    {
     "name": "stdout",
     "output_type": "stream",
     "text": [
      "                        date            id  \\\n",
      "0  2022-12-30 23:50:32+00:00  1.608974e+18   \n",
      "1  2022-12-30 23:50:16+00:00  1.608974e+18   \n",
      "2  2022-12-30 23:40:27+00:00  1.608971e+18   \n",
      "3  2022-12-30 23:36:07+00:00  1.608970e+18   \n",
      "4  2022-12-30 23:26:47+00:00  1.608968e+18   \n",
      "\n",
      "                                               tweet         username  \n",
      "0  Berkat kinerja di BUMN, serta kedekatan dengan...        Fuad_Lha9  \n",
      "1  @ganjarpranowo menggandeng ulama hingga tokoh ...      iwan_tata98  \n",
      "2  Mantap 👍👍\\nElektabilitas Menteri BUMN Erick Th...        Lima8Satu  \n",
      "3  Baru Lolos Sebagai Peserta Pemilu 2024, Partai...  21BeritaTerkini  \n",
      "4  Agenda politik negara tuan rumah Piala Dunia 2...      rezakaisar3  \n"
     ]
    },
    {
     "data": {
      "text/plain": [
       "90723"
      ]
     },
     "execution_count": 16,
     "metadata": {},
     "output_type": "execute_result"
    }
   ],
   "source": [
    "pil1 = pil.drop_duplicates(subset='tweet')\n",
    "print(pil1.head())\n",
    "len(pil1)"
   ]
  },
  {
   "cell_type": "code",
   "execution_count": 17,
   "metadata": {},
   "outputs": [
    {
     "name": "stdout",
     "output_type": "stream",
     "text": [
      "0\n"
     ]
    }
   ],
   "source": [
    "type(pil1)\n",
    "print(pil1.tweet.duplicated().sum())"
   ]
  },
  {
   "cell_type": "code",
   "execution_count": 18,
   "metadata": {},
   "outputs": [],
   "source": [
    "import re\n",
    "import string\n",
    "\n",
    "def preprocess_tweet(tweet):\n",
    "    tweet = re.sub(r'[0-9]+','', str(tweet))\n",
    "    tweet = tweet.lower()\n",
    "    tweet = re.sub(r'http\\S+', '', tweet, flags=re.MULTILINE)\n",
    "    tweet = re.sub(r'@[A-Za-z0-9_]+', '', tweet)\n",
    "    tweet = re.sub(r'#[A-Za-z0-9_]+', '', tweet)\n",
    "    tweet = re.sub(r'\\d+', '', tweet)\n",
    "    tweet = tweet.translate(str.maketrans('', '', string.punctuation))\n",
    "    tweet = re.sub(r'\\s+', ' ', tweet)\n",
    "    tweet = tweet.strip()\n",
    "    return tweet"
   ]
  },
  {
   "cell_type": "code",
   "execution_count": 19,
   "metadata": {},
   "outputs": [],
   "source": [
    "pilpres['tweet'] = pilpres['tweet'].apply(preprocess_tweet)"
   ]
  },
  {
   "cell_type": "code",
   "execution_count": 20,
   "metadata": {},
   "outputs": [
    {
     "name": "stdout",
     "output_type": "stream",
     "text": [
      "0    berkat kinerja di bumn serta kedekatan dengan ...\n",
      "1    menggandeng ulama hingga tokoh agama dalam mem...\n",
      "2    mantap 👍👍 elektabilitas menteri bumn erick tho...\n",
      "3    baru lolos sebagai peserta pemilu partai ummat...\n",
      "4    agenda politik negara tuan rumah piala dunia j...\n",
      "Name: tweet, dtype: object\n"
     ]
    }
   ],
   "source": [
    "print(pilpres['tweet'].head())"
   ]
  },
  {
   "cell_type": "code",
   "execution_count": 21,
   "metadata": {},
   "outputs": [
    {
     "name": "stdout",
     "output_type": "stream",
     "text": [
      "Collecting Sastrawi\n",
      "  Using cached Sastrawi-1.0.1-py2.py3-none-any.whl (209 kB)\n",
      "Installing collected packages: Sastrawi\n",
      "Successfully installed Sastrawi-1.0.1\n"
     ]
    }
   ],
   "source": [
    "%pip install Sastrawi"
   ]
  },
  {
   "cell_type": "code",
   "execution_count": 22,
   "metadata": {},
   "outputs": [
    {
     "name": "stdout",
     "output_type": "stream",
     "text": [
      "Requirement already satisfied: nltk in /Users/fahdmuchammad/opt/miniconda3/lib/python3.9/site-packages (3.7)\n",
      "Requirement already satisfied: click in /Users/fahdmuchammad/opt/miniconda3/lib/python3.9/site-packages (from nltk) (8.1.3)\n",
      "Requirement already satisfied: joblib in /Users/fahdmuchammad/opt/miniconda3/lib/python3.9/site-packages (from nltk) (1.2.0)\n",
      "Requirement already satisfied: regex>=2021.8.3 in /Users/fahdmuchammad/opt/miniconda3/lib/python3.9/site-packages (from nltk) (2022.10.31)\n",
      "Requirement already satisfied: tqdm in /Users/fahdmuchammad/opt/miniconda3/lib/python3.9/site-packages (from nltk) (4.63.0)\n"
     ]
    }
   ],
   "source": [
    "!pip install nltk"
   ]
  },
  {
   "cell_type": "code",
   "execution_count": 24,
   "metadata": {},
   "outputs": [
    {
     "name": "stderr",
     "output_type": "stream",
     "text": [
      "[nltk_data] Downloading package punkt to\n",
      "[nltk_data]     /Users/fahdmuchammad/nltk_data...\n",
      "[nltk_data]   Unzipping tokenizers/punkt.zip.\n"
     ]
    },
    {
     "data": {
      "text/plain": [
       "True"
      ]
     },
     "execution_count": 24,
     "metadata": {},
     "output_type": "execute_result"
    }
   ],
   "source": [
    "nltk.download('punkt')"
   ]
  },
  {
   "cell_type": "code",
   "execution_count": 27,
   "metadata": {},
   "outputs": [],
   "source": [
    "from Sastrawi.StopWordRemover.StopWordRemoverFactory import StopWordRemoverFactory\n",
    "from Sastrawi.Stemmer.StemmerFactory import StemmerFactory\n",
    "from nltk import word_tokenize\n",
    "\n",
    "factory = StopWordRemoverFactory()\n",
    "stopwords = factory.get_stop_words()\n",
    "factory = StemmerFactory()\n",
    "stemmer = factory.create_stemmer()\n",
    "\n",
    "def preprocess_tweet(tweet):\n",
    "    tweet = re.sub(r'[0-9]+','', str(tweet))\n",
    "    tweet = tweet.lower()  # convert to lower case\n",
    "    tweet = re.sub(r\"http\\S+|www\\S+|https\\S+\", '', tweet, flags=re.MULTILINE)  # remove URLs\n",
    "    tweet = re.sub(r'\\@\\w+|\\#', '', tweet)  # remove mentions and hashtags\n",
    "    tweet = re.sub(r'\\d+', '', tweet)  # remove numbers\n",
    "    tweet = tweet.translate(str.maketrans(\"\", \"\", string.punctuation))  # remove punctuations\n",
    "    tweet = tweet.strip()\n",
    "    return tweet\n",
    "\n",
    "def sentiment_analysis(tweet):\n",
    "    tweet = preprocess_tweet(tweet)\n",
    "    tweet_tokens = word_tokenize(tweet)\n",
    "    clean_tokens = [stemmer.stem(word) for word in tweet_tokens if word not in stopwords]\n",
    "    positive_words = open(\"positive.txt\").read().splitlines()\n",
    "    negative_words = open(\"negative.txt\").read().splitlines()\n",
    "    positive_count = sum([1 for word in clean_tokens if word in positive_words])\n",
    "    negative_count = sum([1 for word in clean_tokens if word in negative_words])\n",
    "    if positive_count > negative_count:\n",
    "        return 'Positive'\n",
    "    elif positive_count < negative_count:\n",
    "        return 'Negative'\n",
    "    else:\n",
    "        return 'Neutral'\n",
    "\n",
    "pilpres['sentiment'] = pilpres['tweet'].apply(sentiment_analysis)"
   ]
  },
  {
   "cell_type": "code",
   "execution_count": 28,
   "metadata": {},
   "outputs": [
    {
     "data": {
      "text/html": [
       "<div>\n",
       "<style scoped>\n",
       "    .dataframe tbody tr th:only-of-type {\n",
       "        vertical-align: middle;\n",
       "    }\n",
       "\n",
       "    .dataframe tbody tr th {\n",
       "        vertical-align: top;\n",
       "    }\n",
       "\n",
       "    .dataframe thead th {\n",
       "        text-align: right;\n",
       "    }\n",
       "</style>\n",
       "<table border=\"1\" class=\"dataframe\">\n",
       "  <thead>\n",
       "    <tr style=\"text-align: right;\">\n",
       "      <th></th>\n",
       "      <th>date</th>\n",
       "      <th>id</th>\n",
       "      <th>tweet</th>\n",
       "      <th>username</th>\n",
       "      <th>sentiment</th>\n",
       "    </tr>\n",
       "  </thead>\n",
       "  <tbody>\n",
       "    <tr>\n",
       "      <th>0</th>\n",
       "      <td>2022-12-30 23:50:32+00:00</td>\n",
       "      <td>1.608974e+18</td>\n",
       "      <td>berkat kinerja di bumn serta kedekatan dengan ...</td>\n",
       "      <td>Fuad_Lha9</td>\n",
       "      <td>Positive</td>\n",
       "    </tr>\n",
       "    <tr>\n",
       "      <th>1</th>\n",
       "      <td>2022-12-30 23:50:16+00:00</td>\n",
       "      <td>1.608974e+18</td>\n",
       "      <td>menggandeng ulama hingga tokoh agama dalam mem...</td>\n",
       "      <td>iwan_tata98</td>\n",
       "      <td>Positive</td>\n",
       "    </tr>\n",
       "    <tr>\n",
       "      <th>2</th>\n",
       "      <td>2022-12-30 23:40:27+00:00</td>\n",
       "      <td>1.608971e+18</td>\n",
       "      <td>mantap 👍👍 elektabilitas menteri bumn erick tho...</td>\n",
       "      <td>Lima8Satu</td>\n",
       "      <td>Neutral</td>\n",
       "    </tr>\n",
       "    <tr>\n",
       "      <th>3</th>\n",
       "      <td>2022-12-30 23:36:07+00:00</td>\n",
       "      <td>1.608970e+18</td>\n",
       "      <td>baru lolos sebagai peserta pemilu partai ummat...</td>\n",
       "      <td>21BeritaTerkini</td>\n",
       "      <td>Neutral</td>\n",
       "    </tr>\n",
       "    <tr>\n",
       "      <th>4</th>\n",
       "      <td>2022-12-30 23:26:47+00:00</td>\n",
       "      <td>1.608968e+18</td>\n",
       "      <td>agenda politik negara tuan rumah piala dunia j...</td>\n",
       "      <td>rezakaisar3</td>\n",
       "      <td>Positive</td>\n",
       "    </tr>\n",
       "  </tbody>\n",
       "</table>\n",
       "</div>"
      ],
      "text/plain": [
       "                        date            id  \\\n",
       "0  2022-12-30 23:50:32+00:00  1.608974e+18   \n",
       "1  2022-12-30 23:50:16+00:00  1.608974e+18   \n",
       "2  2022-12-30 23:40:27+00:00  1.608971e+18   \n",
       "3  2022-12-30 23:36:07+00:00  1.608970e+18   \n",
       "4  2022-12-30 23:26:47+00:00  1.608968e+18   \n",
       "\n",
       "                                               tweet         username  \\\n",
       "0  berkat kinerja di bumn serta kedekatan dengan ...        Fuad_Lha9   \n",
       "1  menggandeng ulama hingga tokoh agama dalam mem...      iwan_tata98   \n",
       "2  mantap 👍👍 elektabilitas menteri bumn erick tho...        Lima8Satu   \n",
       "3  baru lolos sebagai peserta pemilu partai ummat...  21BeritaTerkini   \n",
       "4  agenda politik negara tuan rumah piala dunia j...      rezakaisar3   \n",
       "\n",
       "  sentiment  \n",
       "0  Positive  \n",
       "1  Positive  \n",
       "2   Neutral  \n",
       "3   Neutral  \n",
       "4  Positive  "
      ]
     },
     "execution_count": 28,
     "metadata": {},
     "output_type": "execute_result"
    }
   ],
   "source": [
    "pilpres.head()"
   ]
  },
  {
   "cell_type": "code",
   "execution_count": 29,
   "metadata": {},
   "outputs": [],
   "source": [
    "pilpres.to_csv('barunihh.csv', index=False)"
   ]
  },
  {
   "cell_type": "code",
   "execution_count": 30,
   "metadata": {},
   "outputs": [
    {
     "data": {
      "text/plain": [
       "Positive    46131\n",
       "Neutral     33199\n",
       "Negative    14552\n",
       "Name: sentiment, dtype: int64"
      ]
     },
     "execution_count": 30,
     "metadata": {},
     "output_type": "execute_result"
    }
   ],
   "source": [
    "pilpres.sentiment.value_counts()"
   ]
  },
  {
   "attachments": {},
   "cell_type": "markdown",
   "metadata": {},
   "source": [
    "DATA TWEET Duplicate sudah dihapus"
   ]
  }
 ],
 "metadata": {
  "kernelspec": {
   "display_name": "Python 3",
   "language": "python",
   "name": "python3"
  },
  "language_info": {
   "codemirror_mode": {
    "name": "ipython",
    "version": 3
   },
   "file_extension": ".py",
   "mimetype": "text/x-python",
   "name": "python",
   "nbconvert_exporter": "python",
   "pygments_lexer": "ipython3",
   "version": "3.9.12"
  },
  "orig_nbformat": 4,
  "vscode": {
   "interpreter": {
    "hash": "40d3a090f54c6569ab1632332b64b2c03c39dcf918b08424e98f38b5ae0af88f"
   }
  }
 },
 "nbformat": 4,
 "nbformat_minor": 2
}
