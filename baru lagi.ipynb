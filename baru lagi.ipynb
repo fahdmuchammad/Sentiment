{
 "cells": [
  {
   "attachments": {},
   "cell_type": "markdown",
   "metadata": {},
   "source": [
    "## SENTIMENT ANALYSIS PILPRES 2024 PADA MEDIA SOSIAL TWITTER DENGAN NAIVE BAYES CLASSIFIER\n",
    "\n",
    "**MUCHAMMAD FAHD ISHAMUUDIN**\n",
    "\n",
    "\n",
    "**41155050180048**"
   ]
  },
  {
   "cell_type": "code",
   "execution_count": 1,
   "metadata": {},
   "outputs": [],
   "source": [
    "%matplotlib inline\n",
    "\n",
    "import pandas as pd\n",
    "import numpy as np\n",
    "import matplotlib.pyplot as plt\n",
    "import seaborn as sns\n",
    "import collections\n",
    "import nltk\n",
    "from nltk.tokenize import word_tokenize\n",
    "from nltk.sentiment import SentimentIntensityAnalyzer\n"
   ]
  },
  {
   "cell_type": "code",
   "execution_count": 2,
   "metadata": {},
   "outputs": [
    {
     "name": "stdout",
     "output_type": "stream",
     "text": [
      "  Unnamed: 0                       date            id  \\\n",
      "0          0  2022-12-30 23:50:32+00:00  1.608974e+18   \n",
      "1          1  2022-12-30 23:50:16+00:00  1.608974e+18   \n",
      "2          2  2022-12-30 23:40:27+00:00  1.608971e+18   \n",
      "3          3  2022-12-30 23:36:07+00:00  1.608970e+18   \n",
      "4          4  2022-12-30 23:26:47+00:00  1.608968e+18   \n",
      "\n",
      "                                               tweet         username  \n",
      "0  Berkat kinerja di BUMN, serta kedekatan dengan...        Fuad_Lha9  \n",
      "1  @ganjarpranowo menggandeng ulama hingga tokoh ...      iwan_tata98  \n",
      "2  Mantap 👍👍\\nElektabilitas Menteri BUMN Erick Th...        Lima8Satu  \n",
      "3  Baru Lolos Sebagai Peserta Pemilu 2024, Partai...  21BeritaTerkini  \n",
      "4  Agenda politik negara tuan rumah Piala Dunia 2...      rezakaisar3  \n",
      "      Unnamed: 0                       date            id  \\\n",
      "93877      93874  2022-01-01 03:05:00+00:00  1.477114e+18   \n",
      "93878      93875  2022-01-01 02:24:46+00:00  1.477103e+18   \n",
      "93879      93876  2022-01-01 02:08:17+00:00  1.477099e+18   \n",
      "93880      93877  2022-01-01 00:38:55+00:00  1.477077e+18   \n",
      "93881      93878  2022-01-01 00:37:00+00:00  1.477076e+18   \n",
      "\n",
      "                                                   tweet       username  \n",
      "93877  PA 212  Novel Bamukmin mengaku sudah mantap ma...        sjahtie  \n",
      "93878  PKS Ingin Ada 3 Poros Koalisi di Pilpres 2024 ...        jawapos  \n",
      "93879  @Listy9021 @BNPTRI @BPIPRI MET tahun baru Sis,...  BANGSAygSUJUD  \n",
      "93880  Bursa Pilpres 2024, Anies Baswedan Makin Melej...  teropongmetro  \n",
      "93881  PKS Inginkan Banyak Tokoh Berkualitas Ikut dal...     ninovendri  \n",
      "Index(['Unnamed: 0', 'date', 'id', 'tweet', 'username'], dtype='object')\n"
     ]
    }
   ],
   "source": [
    "pilpres = pd.read_csv('2022pilpres.csv')\n",
    "print(pilpres.head())\n",
    "print(pilpres.tail())\n",
    "print(pilpres.columns)"
   ]
  },
  {
   "cell_type": "code",
   "execution_count": 3,
   "metadata": {},
   "outputs": [
    {
     "data": {
      "text/plain": [
       "93882"
      ]
     },
     "execution_count": 3,
     "metadata": {},
     "output_type": "execute_result"
    }
   ],
   "source": [
    "len(pilpres)"
   ]
  },
  {
   "cell_type": "code",
   "execution_count": 4,
   "metadata": {},
   "outputs": [
    {
     "data": {
      "text/plain": [
       "'Megawati Soekarnoputri, diyakini bakal tetap mencalonkan Ketua DPR RI Puan Maharani sebagai capres di Pilpres 2024. Puan akan melaju menjadi capres &amp; berhadapan DGN Anies Baswedan.\\n\\nPuan Capres PDIP\\nhttps://t.co/g367x0BM1P'"
      ]
     },
     "execution_count": 4,
     "metadata": {},
     "output_type": "execute_result"
    }
   ],
   "source": [
    "pilpres.loc[45,'tweet']"
   ]
  },
  {
   "cell_type": "code",
   "execution_count": 5,
   "metadata": {},
   "outputs": [
    {
     "name": "stdout",
     "output_type": "stream",
     "text": [
      "megawati soekarnoputri, diyakini bakal tetap mencalonkan ketua dpr ri puan maharani sebagai capres di pilpres 2024. puan akan melaju menjadi capres &amp; berhadapan dgn anies baswedan.\n",
      "\n",
      "puan capres pdip\n",
      "https://t.co/g367x0bm1p\n"
     ]
    }
   ],
   "source": [
    "x = 'Megawati Soekarnoputri, diyakini bakal tetap mencalonkan Ketua DPR RI Puan Maharani sebagai capres di Pilpres 2024. Puan akan melaju menjadi capres &amp; berhadapan DGN Anies Baswedan.\\n\\nPuan Capres PDIP\\nhttps://t.co/g367x0BM1P'\n",
    "print(x.lower())"
   ]
  },
  {
   "cell_type": "code",
   "execution_count": 6,
   "metadata": {},
   "outputs": [
    {
     "name": "stdout",
     "output_type": "stream",
     "text": [
      "<class 'pandas.core.frame.DataFrame'>\n",
      "RangeIndex: 93882 entries, 0 to 93881\n",
      "Data columns (total 5 columns):\n",
      " #   Column      Non-Null Count  Dtype  \n",
      "---  ------      --------------  -----  \n",
      " 0   Unnamed: 0  93882 non-null  object \n",
      " 1   date        93882 non-null  object \n",
      " 2   id          93879 non-null  float64\n",
      " 3   tweet       93879 non-null  object \n",
      " 4   username    93876 non-null  object \n",
      "dtypes: float64(1), object(4)\n",
      "memory usage: 3.6+ MB\n",
      "None\n"
     ]
    }
   ],
   "source": [
    "print(pilpres.info())"
   ]
  },
  {
   "cell_type": "code",
   "execution_count": 7,
   "metadata": {},
   "outputs": [],
   "source": [
    "del pilpres['Unnamed: 0']\n"
   ]
  },
  {
   "cell_type": "code",
   "execution_count": 8,
   "metadata": {},
   "outputs": [
    {
     "name": "stdout",
     "output_type": "stream",
     "text": [
      "<class 'pandas.core.frame.DataFrame'>\n",
      "RangeIndex: 93882 entries, 0 to 93881\n",
      "Data columns (total 4 columns):\n",
      " #   Column    Non-Null Count  Dtype  \n",
      "---  ------    --------------  -----  \n",
      " 0   date      93882 non-null  object \n",
      " 1   id        93879 non-null  float64\n",
      " 2   tweet     93879 non-null  object \n",
      " 3   username  93876 non-null  object \n",
      "dtypes: float64(1), object(3)\n",
      "memory usage: 2.9+ MB\n",
      "None\n"
     ]
    },
    {
     "data": {
      "text/plain": [
       "93882"
      ]
     },
     "execution_count": 8,
     "metadata": {},
     "output_type": "execute_result"
    }
   ],
   "source": [
    "print(pilpres.info())\n",
    "len(pilpres)"
   ]
  },
  {
   "cell_type": "code",
   "execution_count": 9,
   "metadata": {},
   "outputs": [
    {
     "data": {
      "text/plain": [
       "date        30\n",
       "id          30\n",
       "tweet       30\n",
       "username    30\n",
       "dtype: int64"
      ]
     },
     "execution_count": 9,
     "metadata": {},
     "output_type": "execute_result"
    }
   ],
   "source": [
    "pilpres[pilpres['username']=='jo_anezt'].count()"
   ]
  },
  {
   "cell_type": "code",
   "execution_count": 10,
   "metadata": {},
   "outputs": [
    {
     "name": "stdout",
     "output_type": "stream",
     "text": [
      "                             date            id  \\\n",
      "count                       93882  9.387900e+04   \n",
      "unique                      90553           NaN   \n",
      "top     2022-04-21 08:00:02+00:00           NaN   \n",
      "freq                          218           NaN   \n",
      "mean                          NaN  1.557322e+18   \n",
      "std                           NaN  3.586852e+16   \n",
      "min                           NaN  1.477076e+18   \n",
      "25%                           NaN  1.529718e+18   \n",
      "50%                           NaN  1.565171e+18   \n",
      "75%                           NaN  1.586947e+18   \n",
      "max                           NaN  1.608974e+18   \n",
      "\n",
      "                                                    tweet username  \n",
      "count                                               93879    93876  \n",
      "unique                                              90724    21941  \n",
      "top     Indonesia menolak Capres dan Cawapres yang did...  jpnncom  \n",
      "freq                                                   48     1121  \n",
      "mean                                                  NaN      NaN  \n",
      "std                                                   NaN      NaN  \n",
      "min                                                   NaN      NaN  \n",
      "25%                                                   NaN      NaN  \n",
      "50%                                                   NaN      NaN  \n",
      "75%                                                   NaN      NaN  \n",
      "max                                                   NaN      NaN  \n"
     ]
    }
   ],
   "source": [
    "print(pilpres.describe(include='all'))"
   ]
  },
  {
   "cell_type": "code",
   "execution_count": 11,
   "metadata": {},
   "outputs": [
    {
     "data": {
      "text/plain": [
       "date        0\n",
       "id          3\n",
       "tweet       3\n",
       "username    6\n",
       "dtype: int64"
      ]
     },
     "execution_count": 11,
     "metadata": {},
     "output_type": "execute_result"
    }
   ],
   "source": [
    "pilpres.isna().sum()"
   ]
  },
  {
   "cell_type": "code",
   "execution_count": 12,
   "metadata": {},
   "outputs": [
    {
     "name": "stdout",
     "output_type": "stream",
     "text": [
      "['Fuad_Lha9' 'iwan_tata98' 'Lima8Satu' ... 'wahyu_minarno' 'Azhari25_'\n",
      " 'ninovendri']\n"
     ]
    }
   ],
   "source": [
    "print(pilpres.username.unique())"
   ]
  },
  {
   "cell_type": "code",
   "execution_count": 13,
   "metadata": {},
   "outputs": [
    {
     "name": "stdout",
     "output_type": "stream",
     "text": [
      "3157\n"
     ]
    }
   ],
   "source": [
    "print(pilpres.tweet.duplicated(keep='first').sum())"
   ]
  },
  {
   "attachments": {},
   "cell_type": "markdown",
   "metadata": {},
   "source": [
    "## CLEANING DATA\n",
    "untuk melakukan sentimen analisis yang benar maka harus melakukan pembersihan data agar bisa menghindari bias"
   ]
  },
  {
   "cell_type": "code",
   "execution_count": 14,
   "metadata": {},
   "outputs": [
    {
     "data": {
      "text/plain": [
       "93876"
      ]
     },
     "execution_count": 14,
     "metadata": {},
     "output_type": "execute_result"
    }
   ],
   "source": [
    "#karena yang null hanya ada 6 baris dari 92308 data, maka sebaiknya drop row karena hanya sekian persen dari data dan tidak memiliki pengaruh besar pada hasil sentiment nanti\n",
    "pil = pilpres.dropna()\n",
    "len(pil)"
   ]
  },
  {
   "cell_type": "code",
   "execution_count": 15,
   "metadata": {},
   "outputs": [
    {
     "name": "stdout",
     "output_type": "stream",
     "text": [
      "date        0\n",
      "id          0\n",
      "tweet       0\n",
      "username    0\n",
      "dtype: int64\n",
      "                        date            id  \\\n",
      "0  2022-12-30 23:50:32+00:00  1.608974e+18   \n",
      "1  2022-12-30 23:50:16+00:00  1.608974e+18   \n",
      "2  2022-12-30 23:40:27+00:00  1.608971e+18   \n",
      "3  2022-12-30 23:36:07+00:00  1.608970e+18   \n",
      "4  2022-12-30 23:26:47+00:00  1.608968e+18   \n",
      "\n",
      "                                               tweet         username  \n",
      "0  Berkat kinerja di BUMN, serta kedekatan dengan...        Fuad_Lha9  \n",
      "1  @ganjarpranowo menggandeng ulama hingga tokoh ...      iwan_tata98  \n",
      "2  Mantap 👍👍\\nElektabilitas Menteri BUMN Erick Th...        Lima8Satu  \n",
      "3  Baru Lolos Sebagai Peserta Pemilu 2024, Partai...  21BeritaTerkini  \n",
      "4  Agenda politik negara tuan rumah Piala Dunia 2...      rezakaisar3  \n"
     ]
    }
   ],
   "source": [
    "#pengecekan apakah masih ada baris yang null\n",
    "pil.isnull().sum()\n",
    "print(pil.isnull().sum())\n",
    "print(pil.head())"
   ]
  },
  {
   "attachments": {},
   "cell_type": "markdown",
   "metadata": {},
   "source": [
    "# MENGHAPUS TWEET MASSAL YANG SAMA #\n",
    "agar tidak mendapatkan bias maka harus menghapus tweet yang sama yang dilakukan oleh multi account"
   ]
  },
  {
   "cell_type": "code",
   "execution_count": 16,
   "metadata": {},
   "outputs": [
    {
     "name": "stdout",
     "output_type": "stream",
     "text": [
      "                        date            id  \\\n",
      "0  2022-12-30 23:50:32+00:00  1.608974e+18   \n",
      "1  2022-12-30 23:50:16+00:00  1.608974e+18   \n",
      "2  2022-12-30 23:40:27+00:00  1.608971e+18   \n",
      "3  2022-12-30 23:36:07+00:00  1.608970e+18   \n",
      "4  2022-12-30 23:26:47+00:00  1.608968e+18   \n",
      "\n",
      "                                               tweet         username  \n",
      "0  Berkat kinerja di BUMN, serta kedekatan dengan...        Fuad_Lha9  \n",
      "1  @ganjarpranowo menggandeng ulama hingga tokoh ...      iwan_tata98  \n",
      "2  Mantap 👍👍\\nElektabilitas Menteri BUMN Erick Th...        Lima8Satu  \n",
      "3  Baru Lolos Sebagai Peserta Pemilu 2024, Partai...  21BeritaTerkini  \n",
      "4  Agenda politik negara tuan rumah Piala Dunia 2...      rezakaisar3  \n"
     ]
    },
    {
     "data": {
      "text/plain": [
       "90723"
      ]
     },
     "execution_count": 16,
     "metadata": {},
     "output_type": "execute_result"
    }
   ],
   "source": [
    "pil1 = pil.drop_duplicates(subset='tweet')\n",
    "print(pil1.head())\n",
    "len(pil1)"
   ]
  },
  {
   "cell_type": "code",
   "execution_count": 17,
   "metadata": {},
   "outputs": [
    {
     "name": "stdout",
     "output_type": "stream",
     "text": [
      "0\n"
     ]
    }
   ],
   "source": [
    "type(pil1)\n",
    "print(pil1.tweet.duplicated().sum())"
   ]
  },
  {
   "cell_type": "code",
   "execution_count": 18,
   "metadata": {},
   "outputs": [],
   "source": [
    "import re\n",
    "import string\n",
    "\n",
    "def preprocess_tweet(tweet):\n",
    "    tweet = re.sub(r'[0-9]+','', str(tweet))\n",
    "    tweet = tweet.lower()\n",
    "    tweet = re.sub(r'http\\S+', '', tweet, flags=re.MULTILINE)\n",
    "    tweet = re.sub(r'@[A-Za-z0-9_]+', '', tweet)\n",
    "    tweet = re.sub(r'#[A-Za-z0-9_]+', '', tweet)\n",
    "    tweet = re.sub(r'\\d+', '', tweet)\n",
    "    tweet = tweet.translate(str.maketrans('', '', string.punctuation))\n",
    "    tweet = re.sub(r'\\s+', ' ', tweet)\n",
    "    tweet = tweet.strip()\n",
    "    return tweet"
   ]
  },
  {
   "cell_type": "code",
   "execution_count": 19,
   "metadata": {},
   "outputs": [],
   "source": [
    "pilpres['tweet'] = pilpres['tweet'].apply(preprocess_tweet)"
   ]
  },
  {
   "cell_type": "code",
   "execution_count": 20,
   "metadata": {},
   "outputs": [
    {
     "name": "stdout",
     "output_type": "stream",
     "text": [
      "0    berkat kinerja di bumn serta kedekatan dengan ...\n",
      "1    menggandeng ulama hingga tokoh agama dalam mem...\n",
      "2    mantap 👍👍 elektabilitas menteri bumn erick tho...\n",
      "3    baru lolos sebagai peserta pemilu partai ummat...\n",
      "4    agenda politik negara tuan rumah piala dunia j...\n",
      "Name: tweet, dtype: object\n"
     ]
    }
   ],
   "source": [
    "print(pilpres['tweet'].head())"
   ]
  },
  {
   "cell_type": "code",
   "execution_count": 47,
   "metadata": {},
   "outputs": [
    {
     "name": "stdout",
     "output_type": "stream",
     "text": [
      "<class 'pandas.core.frame.DataFrame'>\n",
      "0    berkat kinerja di bumn serta kedekatan dengan ...\n",
      "1    menggandeng ulama hingga tokoh agama dalam mem...\n",
      "2    mantap 👍👍 elektabilitas menteri bumn erick tho...\n",
      "3    baru lolos sebagai peserta pemilu partai ummat...\n",
      "4    agenda politik negara tuan rumah piala dunia j...\n",
      "Name: tweet, dtype: object\n"
     ]
    }
   ],
   "source": [
    "x = pilpres.head()\n",
    "print(type(x))\n",
    "print(x['tweet'])"
   ]
  },
  {
   "cell_type": "code",
   "execution_count": 52,
   "metadata": {},
   "outputs": [
    {
     "name": "stdout",
     "output_type": "stream",
     "text": [
      "Collecting TextBlob\n",
      "  Downloading textblob-0.17.1-py2.py3-none-any.whl (636 kB)\n",
      "\u001b[K     |████████████████████████████████| 636 kB 2.8 MB/s eta 0:00:01\n",
      "\u001b[?25hRequirement already satisfied: nltk>=3.1 in /opt/anaconda3/lib/python3.9/site-packages (from TextBlob) (3.7)\n",
      "Requirement already satisfied: tqdm in /opt/anaconda3/lib/python3.9/site-packages (from nltk>=3.1->TextBlob) (4.64.0)\n",
      "Requirement already satisfied: click in /opt/anaconda3/lib/python3.9/site-packages (from nltk>=3.1->TextBlob) (8.0.4)\n",
      "Requirement already satisfied: joblib in /opt/anaconda3/lib/python3.9/site-packages (from nltk>=3.1->TextBlob) (1.1.0)\n",
      "Requirement already satisfied: regex>=2021.8.3 in /opt/anaconda3/lib/python3.9/site-packages (from nltk>=3.1->TextBlob) (2022.3.15)\n",
      "Installing collected packages: TextBlob\n",
      "Successfully installed TextBlob-0.17.1\n"
     ]
    }
   ],
   "source": [
    "!pip install TextBlob\n"
   ]
  },
  {
   "cell_type": "code",
   "execution_count": 53,
   "metadata": {},
   "outputs": [],
   "source": [
    "from textblob import TextBlob"
   ]
  },
  {
   "cell_type": "code",
   "execution_count": 57,
   "metadata": {},
   "outputs": [],
   "source": [
    "def label_sentiment(text):\n",
    "    blob = TextBlob(text)\n",
    "    sentiment = blob.sentiment.polarity\n",
    "    if sentiment > 0:\n",
    "        return 'positive'\n",
    "    elif sentiment < 0:\n",
    "        return 'negative'\n",
    "    else:\n",
    "        return 'neutral'\n",
    "\n",
    "# menambahkan kolom sentiment pada dataset csv\n",
    "pilpres['sentiment'] = pilpres['tweet'].apply(label_sentiment)"
   ]
  },
  {
   "cell_type": "code",
   "execution_count": 58,
   "metadata": {},
   "outputs": [
    {
     "data": {
      "text/plain": [
       "neutral     90455\n",
       "positive     2303\n",
       "negative     1124\n",
       "Name: sentiment, dtype: int64"
      ]
     },
     "execution_count": 58,
     "metadata": {},
     "output_type": "execute_result"
    }
   ],
   "source": [
    "pilpres['sentiment'].value_counts()"
   ]
  },
  {
   "cell_type": "code",
   "execution_count": 62,
   "metadata": {},
   "outputs": [
    {
     "ename": "KeyError",
     "evalue": "'sentiment'",
     "output_type": "error",
     "traceback": [
      "\u001b[0;31m---------------------------------------------------------------------------\u001b[0m",
      "\u001b[0;31mKeyError\u001b[0m                                  Traceback (most recent call last)",
      "\u001b[1;32m/Users/fahdmuchammad/Documents/SENTIMENT PILPRES TA/pilpressentimen.ipynb Cell 29\u001b[0m in \u001b[0;36m<cell line: 1>\u001b[0;34m()\u001b[0m\n\u001b[0;32m----> <a href='vscode-notebook-cell:/Users/fahdmuchammad/Documents/SENTIMENT%20PILPRES%20TA/pilpressentimen.ipynb#X61sZmlsZQ%3D%3D?line=0'>1</a>\u001b[0m \u001b[39mprint\u001b[39m(pilpres\u001b[39m.\u001b[39;49mloc[\u001b[39m'\u001b[39;49m\u001b[39msentiment\u001b[39;49m\u001b[39m'\u001b[39;49m] \u001b[39m==\u001b[39m \u001b[39m'\u001b[39m\u001b[39mpositive\u001b[39m\u001b[39m'\u001b[39m)\n",
      "File \u001b[0;32m/opt/anaconda3/lib/python3.9/site-packages/pandas/core/indexing.py:967\u001b[0m, in \u001b[0;36m_LocationIndexer.__getitem__\u001b[0;34m(self, key)\u001b[0m\n\u001b[1;32m    964\u001b[0m axis \u001b[39m=\u001b[39m \u001b[39mself\u001b[39m\u001b[39m.\u001b[39maxis \u001b[39mor\u001b[39;00m \u001b[39m0\u001b[39m\n\u001b[1;32m    966\u001b[0m maybe_callable \u001b[39m=\u001b[39m com\u001b[39m.\u001b[39mapply_if_callable(key, \u001b[39mself\u001b[39m\u001b[39m.\u001b[39mobj)\n\u001b[0;32m--> 967\u001b[0m \u001b[39mreturn\u001b[39;00m \u001b[39mself\u001b[39;49m\u001b[39m.\u001b[39;49m_getitem_axis(maybe_callable, axis\u001b[39m=\u001b[39;49maxis)\n",
      "File \u001b[0;32m/opt/anaconda3/lib/python3.9/site-packages/pandas/core/indexing.py:1202\u001b[0m, in \u001b[0;36m_LocIndexer._getitem_axis\u001b[0;34m(self, key, axis)\u001b[0m\n\u001b[1;32m   1200\u001b[0m \u001b[39m# fall thru to straight lookup\u001b[39;00m\n\u001b[1;32m   1201\u001b[0m \u001b[39mself\u001b[39m\u001b[39m.\u001b[39m_validate_key(key, axis)\n\u001b[0;32m-> 1202\u001b[0m \u001b[39mreturn\u001b[39;00m \u001b[39mself\u001b[39;49m\u001b[39m.\u001b[39;49m_get_label(key, axis\u001b[39m=\u001b[39;49maxis)\n",
      "File \u001b[0;32m/opt/anaconda3/lib/python3.9/site-packages/pandas/core/indexing.py:1153\u001b[0m, in \u001b[0;36m_LocIndexer._get_label\u001b[0;34m(self, label, axis)\u001b[0m\n\u001b[1;32m   1151\u001b[0m \u001b[39mdef\u001b[39;00m \u001b[39m_get_label\u001b[39m(\u001b[39mself\u001b[39m, label, axis: \u001b[39mint\u001b[39m):\n\u001b[1;32m   1152\u001b[0m     \u001b[39m# GH#5667 this will fail if the label is not present in the axis.\u001b[39;00m\n\u001b[0;32m-> 1153\u001b[0m     \u001b[39mreturn\u001b[39;00m \u001b[39mself\u001b[39;49m\u001b[39m.\u001b[39;49mobj\u001b[39m.\u001b[39;49mxs(label, axis\u001b[39m=\u001b[39;49maxis)\n",
      "File \u001b[0;32m/opt/anaconda3/lib/python3.9/site-packages/pandas/core/generic.py:3864\u001b[0m, in \u001b[0;36mNDFrame.xs\u001b[0;34m(self, key, axis, level, drop_level)\u001b[0m\n\u001b[1;32m   3862\u001b[0m             new_index \u001b[39m=\u001b[39m index[loc]\n\u001b[1;32m   3863\u001b[0m \u001b[39melse\u001b[39;00m:\n\u001b[0;32m-> 3864\u001b[0m     loc \u001b[39m=\u001b[39m index\u001b[39m.\u001b[39;49mget_loc(key)\n\u001b[1;32m   3866\u001b[0m     \u001b[39mif\u001b[39;00m \u001b[39misinstance\u001b[39m(loc, np\u001b[39m.\u001b[39mndarray):\n\u001b[1;32m   3867\u001b[0m         \u001b[39mif\u001b[39;00m loc\u001b[39m.\u001b[39mdtype \u001b[39m==\u001b[39m np\u001b[39m.\u001b[39mbool_:\n",
      "File \u001b[0;32m/opt/anaconda3/lib/python3.9/site-packages/pandas/core/indexes/range.py:389\u001b[0m, in \u001b[0;36mRangeIndex.get_loc\u001b[0;34m(self, key, method, tolerance)\u001b[0m\n\u001b[1;32m    387\u001b[0m             \u001b[39mraise\u001b[39;00m \u001b[39mKeyError\u001b[39;00m(key) \u001b[39mfrom\u001b[39;00m \u001b[39merr\u001b[39;00m\n\u001b[1;32m    388\u001b[0m     \u001b[39mself\u001b[39m\u001b[39m.\u001b[39m_check_indexing_error(key)\n\u001b[0;32m--> 389\u001b[0m     \u001b[39mraise\u001b[39;00m \u001b[39mKeyError\u001b[39;00m(key)\n\u001b[1;32m    390\u001b[0m \u001b[39mreturn\u001b[39;00m \u001b[39msuper\u001b[39m()\u001b[39m.\u001b[39mget_loc(key, method\u001b[39m=\u001b[39mmethod, tolerance\u001b[39m=\u001b[39mtolerance)\n",
      "\u001b[0;31mKeyError\u001b[0m: 'sentiment'"
     ]
    }
   ],
   "source": [
    "print(pilpres.loc['sentiment'] == 'positive')"
   ]
  },
  {
   "cell_type": "code",
   "execution_count": 59,
   "metadata": {},
   "outputs": [],
   "source": [
    "pilpres.to_csv('labelled_data.csv',index=False)"
   ]
  },
  {
   "attachments": {},
   "cell_type": "markdown",
   "metadata": {},
   "source": [
    "DATA TWEET Duplicate sudah dihapus"
   ]
  }
 ],
 "metadata": {
  "kernelspec": {
   "display_name": "Python 3",
   "language": "python",
   "name": "python3"
  },
  "language_info": {
   "codemirror_mode": {
    "name": "ipython",
    "version": 3
   },
   "file_extension": ".py",
   "mimetype": "text/x-python",
   "name": "python",
   "nbconvert_exporter": "python",
   "pygments_lexer": "ipython3",
   "version": "3.9.12"
  },
  "orig_nbformat": 4,
  "vscode": {
   "interpreter": {
    "hash": "40d3a090f54c6569ab1632332b64b2c03c39dcf918b08424e98f38b5ae0af88f"
   }
  }
 },
 "nbformat": 4,
 "nbformat_minor": 2
}
