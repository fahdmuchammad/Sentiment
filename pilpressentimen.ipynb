{
 "cells": [
  {
   "attachments": {},
   "cell_type": "markdown",
   "metadata": {},
   "source": [
    "## SENTIMENT ANALYSIS PILPRES 2024 PADA MEDIA SOSIAL TWITTER DENGAN NAIVE BAYES CLASSIFIER\n",
    "\n",
    "**MUCHAMMAD FAHD ISHAMUUDIN**\n",
    "\n",
    "\n",
    "**41155050180048**"
   ]
  },
  {
   "cell_type": "code",
   "execution_count": 1,
   "metadata": {},
   "outputs": [],
   "source": [
    "%matplotlib inline\n",
    "\n",
    "import pandas as pd\n",
    "import numpy as np\n",
    "import matplotlib.pyplot as plt\n",
    "import seaborn as sns\n",
    "import collections\n",
    "import nltk\n",
    "from nltk.tokenize import word_tokenize\n",
    "from nltk.sentiment import SentimentIntensityAnalyzer\n"
   ]
  },
  {
   "cell_type": "code",
   "execution_count": 2,
   "metadata": {},
   "outputs": [
    {
     "name": "stdout",
     "output_type": "stream",
     "text": [
      "  Unnamed: 0                       date            id  \\\n",
      "0          0  2022-12-30 23:50:32+00:00  1.608974e+18   \n",
      "1          1  2022-12-30 23:50:16+00:00  1.608974e+18   \n",
      "2          2  2022-12-30 23:40:27+00:00  1.608971e+18   \n",
      "3          3  2022-12-30 23:36:07+00:00  1.608970e+18   \n",
      "4          4  2022-12-30 23:26:47+00:00  1.608968e+18   \n",
      "\n",
      "                                               tweet         username  \n",
      "0  Berkat kinerja di BUMN, serta kedekatan dengan...        Fuad_Lha9  \n",
      "1  @ganjarpranowo menggandeng ulama hingga tokoh ...      iwan_tata98  \n",
      "2  Mantap 👍👍\\nElektabilitas Menteri BUMN Erick Th...        Lima8Satu  \n",
      "3  Baru Lolos Sebagai Peserta Pemilu 2024, Partai...  21BeritaTerkini  \n",
      "4  Agenda politik negara tuan rumah Piala Dunia 2...      rezakaisar3  \n",
      "      Unnamed: 0                       date            id  \\\n",
      "93877      93874  2022-01-01 03:05:00+00:00  1.477114e+18   \n",
      "93878      93875  2022-01-01 02:24:46+00:00  1.477103e+18   \n",
      "93879      93876  2022-01-01 02:08:17+00:00  1.477099e+18   \n",
      "93880      93877  2022-01-01 00:38:55+00:00  1.477077e+18   \n",
      "93881      93878  2022-01-01 00:37:00+00:00  1.477076e+18   \n",
      "\n",
      "                                                   tweet       username  \n",
      "93877  PA 212  Novel Bamukmin mengaku sudah mantap ma...        sjahtie  \n",
      "93878  PKS Ingin Ada 3 Poros Koalisi di Pilpres 2024 ...        jawapos  \n",
      "93879  @Listy9021 @BNPTRI @BPIPRI MET tahun baru Sis,...  BANGSAygSUJUD  \n",
      "93880  Bursa Pilpres 2024, Anies Baswedan Makin Melej...  teropongmetro  \n",
      "93881  PKS Inginkan Banyak Tokoh Berkualitas Ikut dal...     ninovendri  \n",
      "Index(['Unnamed: 0', 'date', 'id', 'tweet', 'username'], dtype='object')\n"
     ]
    }
   ],
   "source": [
    "pilpres = pd.read_csv('2022pilpres.csv')\n",
    "print(pilpres.head())\n",
    "print(pilpres.tail())\n",
    "print(pilpres.columns)"
   ]
  },
  {
   "cell_type": "code",
   "execution_count": 3,
   "metadata": {},
   "outputs": [
    {
     "data": {
      "text/plain": [
       "93882"
      ]
     },
     "execution_count": 3,
     "metadata": {},
     "output_type": "execute_result"
    }
   ],
   "source": [
    "len(pilpres)"
   ]
  },
  {
   "cell_type": "code",
   "execution_count": 13,
   "metadata": {},
   "outputs": [
    {
     "data": {
      "text/plain": [
       "'Megawati Soekarnoputri, diyakini bakal tetap mencalonkan Ketua DPR RI Puan Maharani sebagai capres di Pilpres 2024. Puan akan melaju menjadi capres &amp; berhadapan DGN Anies Baswedan.\\n\\nPuan Capres PDIP\\nhttps://t.co/g367x0BM1P'"
      ]
     },
     "execution_count": 13,
     "metadata": {},
     "output_type": "execute_result"
    }
   ],
   "source": [
    "pilpres.loc[45,'tweet']"
   ]
  },
  {
   "cell_type": "code",
   "execution_count": 14,
   "metadata": {},
   "outputs": [
    {
     "name": "stdout",
     "output_type": "stream",
     "text": [
      "megawati soekarnoputri, diyakini bakal tetap mencalonkan ketua dpr ri puan maharani sebagai capres di pilpres 2024. puan akan melaju menjadi capres &amp; berhadapan dgn anies baswedan.\n",
      "\n",
      "puan capres pdip\n",
      "https://t.co/g367x0bm1p\n"
     ]
    }
   ],
   "source": [
    "x = 'Megawati Soekarnoputri, diyakini bakal tetap mencalonkan Ketua DPR RI Puan Maharani sebagai capres di Pilpres 2024. Puan akan melaju menjadi capres &amp; berhadapan DGN Anies Baswedan.\\n\\nPuan Capres PDIP\\nhttps://t.co/g367x0BM1P'\n",
    "print(x.lower())"
   ]
  },
  {
   "cell_type": "code",
   "execution_count": 20,
   "metadata": {},
   "outputs": [
    {
     "name": "stdout",
     "output_type": "stream",
     "text": [
      "<class 'pandas.core.frame.DataFrame'>\n",
      "RangeIndex: 92308 entries, 0 to 92307\n",
      "Data columns (total 5 columns):\n",
      " #   Column      Non-Null Count  Dtype  \n",
      "---  ------      --------------  -----  \n",
      " 0   Unnamed: 0  92308 non-null  object \n",
      " 1   date        92308 non-null  object \n",
      " 2   id          92305 non-null  float64\n",
      " 3   tweet       92305 non-null  object \n",
      " 4   username    92302 non-null  object \n",
      "dtypes: float64(1), object(4)\n",
      "memory usage: 3.5+ MB\n",
      "None\n"
     ]
    }
   ],
   "source": [
    "print(pilpres.info())"
   ]
  },
  {
   "cell_type": "code",
   "execution_count": 21,
   "metadata": {},
   "outputs": [],
   "source": [
    "del pilpres['Unnamed: 0']\n"
   ]
  },
  {
   "cell_type": "code",
   "execution_count": 39,
   "metadata": {},
   "outputs": [
    {
     "name": "stdout",
     "output_type": "stream",
     "text": [
      "<class 'pandas.core.frame.DataFrame'>\n",
      "RangeIndex: 92308 entries, 0 to 92307\n",
      "Data columns (total 4 columns):\n",
      " #   Column    Non-Null Count  Dtype  \n",
      "---  ------    --------------  -----  \n",
      " 0   date      92308 non-null  object \n",
      " 1   id        92305 non-null  float64\n",
      " 2   tweet     92305 non-null  object \n",
      " 3   username  92302 non-null  object \n",
      "dtypes: float64(1), object(3)\n",
      "memory usage: 2.8+ MB\n",
      "None\n"
     ]
    },
    {
     "data": {
      "text/plain": [
       "92308"
      ]
     },
     "execution_count": 39,
     "metadata": {},
     "output_type": "execute_result"
    }
   ],
   "source": [
    "print(pilpres.info())\n",
    "len(pilpres)"
   ]
  },
  {
   "cell_type": "code",
   "execution_count": 34,
   "metadata": {},
   "outputs": [
    {
     "data": {
      "text/plain": [
       "date        25\n",
       "id          25\n",
       "tweet       25\n",
       "username    25\n",
       "dtype: int64"
      ]
     },
     "execution_count": 34,
     "metadata": {},
     "output_type": "execute_result"
    }
   ],
   "source": [
    "pilpres[pilpres['username']=='jo_anezt'].count()"
   ]
  },
  {
   "cell_type": "code",
   "execution_count": 23,
   "metadata": {},
   "outputs": [
    {
     "name": "stdout",
     "output_type": "stream",
     "text": [
      "                             date            id  \\\n",
      "count                       92308  9.230500e+04   \n",
      "unique                      88907           NaN   \n",
      "top     2022-04-21 08:00:02+00:00           NaN   \n",
      "freq                          228           NaN   \n",
      "mean                          NaN  1.552239e+18   \n",
      "std                           NaN  3.309102e+16   \n",
      "min                           NaN  1.477076e+18   \n",
      "25%                           NaN  1.527496e+18   \n",
      "50%                           NaN  1.559446e+18   \n",
      "75%                           NaN  1.580639e+18   \n",
      "max                           NaN  1.597741e+18   \n",
      "\n",
      "                                                    tweet username  \n",
      "count                                               92305    92302  \n",
      "unique                                              90675    22391  \n",
      "top     Anggota DPR Fraksi PDIP Johan Budi menilai sos...  jpnncom  \n",
      "freq                                                   30     1069  \n",
      "mean                                                  NaN      NaN  \n",
      "std                                                   NaN      NaN  \n",
      "min                                                   NaN      NaN  \n",
      "25%                                                   NaN      NaN  \n",
      "50%                                                   NaN      NaN  \n",
      "75%                                                   NaN      NaN  \n",
      "max                                                   NaN      NaN  \n"
     ]
    }
   ],
   "source": [
    "print(pilpres.describe(include='all'))"
   ]
  },
  {
   "cell_type": "code",
   "execution_count": 36,
   "metadata": {},
   "outputs": [
    {
     "data": {
      "text/plain": [
       "date        0\n",
       "id          3\n",
       "tweet       3\n",
       "username    6\n",
       "dtype: int64"
      ]
     },
     "execution_count": 36,
     "metadata": {},
     "output_type": "execute_result"
    }
   ],
   "source": [
    "pilpres.isna().sum()"
   ]
  },
  {
   "cell_type": "code",
   "execution_count": 37,
   "metadata": {},
   "outputs": [
    {
     "name": "stdout",
     "output_type": "stream",
     "text": [
      "['Aprilia_wiji' 'GRANDFATHER_71' 'jo_anezt' ... 'wahyu_minarno'\n",
      " 'Azhari25_' 'ninovendri']\n"
     ]
    }
   ],
   "source": [
    "print(pilpres.username.unique())"
   ]
  },
  {
   "cell_type": "code",
   "execution_count": 38,
   "metadata": {},
   "outputs": [
    {
     "name": "stdout",
     "output_type": "stream",
     "text": [
      "1632\n"
     ]
    }
   ],
   "source": [
    "print(pilpres.tweet.duplicated(keep='first').sum())"
   ]
  },
  {
   "attachments": {},
   "cell_type": "markdown",
   "metadata": {},
   "source": [
    "## CLEANING DATA\n",
    "untuk melakukan sentimen analisis yang benar maka harus melakukan pembersihan data agar bisa menghindari bias"
   ]
  },
  {
   "cell_type": "code",
   "execution_count": 40,
   "metadata": {},
   "outputs": [
    {
     "data": {
      "text/plain": [
       "92302"
      ]
     },
     "execution_count": 40,
     "metadata": {},
     "output_type": "execute_result"
    }
   ],
   "source": [
    "#karena yang null hanya ada 6 baris dari 92308 data, maka sebaiknya drop row karena hanya sekian persen dari data dan tidak memiliki pengaruh besar pada hasil sentiment nanti\n",
    "pil = pilpres.dropna()\n",
    "len(pil)"
   ]
  },
  {
   "cell_type": "code",
   "execution_count": 41,
   "metadata": {},
   "outputs": [
    {
     "name": "stdout",
     "output_type": "stream",
     "text": [
      "date        0\n",
      "id          0\n",
      "tweet       0\n",
      "username    0\n",
      "dtype: int64\n",
      "                        date            id  \\\n",
      "0  2022-11-29 23:54:52+00:00  1.597741e+18   \n",
      "1  2022-11-29 23:54:24+00:00  1.597741e+18   \n",
      "2  2022-11-29 23:46:58+00:00  1.597739e+18   \n",
      "3  2022-11-29 23:44:12+00:00  1.597738e+18   \n",
      "4  2022-11-29 23:39:45+00:00  1.597737e+18   \n",
      "\n",
      "                                               tweet        username  \n",
      "0  Menurut Andi Septa Wijaya, yang merupakan Deka...    Aprilia_wiji  \n",
      "1  Presiden : \"Biarin aja. Kita tambah penderitaa...  GRANDFATHER_71  \n",
      "2  Rekam jejak Menteri BUMN Erick Thohir sebagai ...        jo_anezt  \n",
      "3  @cagubnyinyir2 @aniesbaswedan @suryasena53 @ka...         AtukKe3  \n",
      "4  Dr. KH. Haedar Nashir :\\n\\nPak Jokowi, negara ...       Utero2022  \n"
     ]
    }
   ],
   "source": [
    "#pengecekan apakah masih ada baris yang null\n",
    "pil.isnull().sum()\n",
    "print(pil.isnull().sum())\n",
    "print(pil.head())"
   ]
  },
  {
   "attachments": {},
   "cell_type": "markdown",
   "metadata": {},
   "source": [
    "# MENGHAPUS TWEET MASSAL YANG SAMA #\n",
    "agar tidak mendapatkan bias maka harus menghapus tweet yang sama yang dilakukan oleh multi account"
   ]
  },
  {
   "cell_type": "code",
   "execution_count": 42,
   "metadata": {},
   "outputs": [
    {
     "name": "stdout",
     "output_type": "stream",
     "text": [
      "                        date            id  \\\n",
      "0  2022-11-29 23:54:52+00:00  1.597741e+18   \n",
      "1  2022-11-29 23:54:24+00:00  1.597741e+18   \n",
      "2  2022-11-29 23:46:58+00:00  1.597739e+18   \n",
      "3  2022-11-29 23:44:12+00:00  1.597738e+18   \n",
      "4  2022-11-29 23:39:45+00:00  1.597737e+18   \n",
      "\n",
      "                                               tweet        username  \n",
      "0  Menurut Andi Septa Wijaya, yang merupakan Deka...    Aprilia_wiji  \n",
      "1  Presiden : \"Biarin aja. Kita tambah penderitaa...  GRANDFATHER_71  \n",
      "2  Rekam jejak Menteri BUMN Erick Thohir sebagai ...        jo_anezt  \n",
      "3  @cagubnyinyir2 @aniesbaswedan @suryasena53 @ka...         AtukKe3  \n",
      "4  Dr. KH. Haedar Nashir :\\n\\nPak Jokowi, negara ...       Utero2022  \n"
     ]
    },
    {
     "data": {
      "text/plain": [
       "90674"
      ]
     },
     "execution_count": 42,
     "metadata": {},
     "output_type": "execute_result"
    }
   ],
   "source": [
    "pil1 = pil.drop_duplicates(subset='tweet')\n",
    "print(pil1.head())\n",
    "len(pil1)"
   ]
  },
  {
   "cell_type": "code",
   "execution_count": 99,
   "metadata": {},
   "outputs": [
    {
     "name": "stdout",
     "output_type": "stream",
     "text": [
      "0\n"
     ]
    }
   ],
   "source": [
    "type(pil1)\n",
    "print(pil1.tweet.duplicated().sum())"
   ]
  },
  {
   "cell_type": "code",
   "execution_count": null,
   "metadata": {},
   "outputs": [],
   "source": []
  },
  {
   "attachments": {},
   "cell_type": "markdown",
   "metadata": {},
   "source": [
    "DATA TWEET Duplicate sudah dihapus"
   ]
  }
 ],
 "metadata": {
  "kernelspec": {
   "display_name": "Python 3",
   "language": "python",
   "name": "python3"
  },
  "language_info": {
   "codemirror_mode": {
    "name": "ipython",
    "version": 3
   },
   "file_extension": ".py",
   "mimetype": "text/x-python",
   "name": "python",
   "nbconvert_exporter": "python",
   "pygments_lexer": "ipython3",
   "version": "3.9.12"
  },
  "orig_nbformat": 4,
  "vscode": {
   "interpreter": {
    "hash": "40d3a090f54c6569ab1632332b64b2c03c39dcf918b08424e98f38b5ae0af88f"
   }
  }
 },
 "nbformat": 4,
 "nbformat_minor": 2
}
