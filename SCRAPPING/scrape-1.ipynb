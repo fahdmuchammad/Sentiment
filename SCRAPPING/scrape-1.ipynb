{
 "cells": [
  {
   "cell_type": "code",
   "execution_count": 1,
   "metadata": {},
   "outputs": [
    {
     "name": "stdout",
     "output_type": "stream",
     "text": [
      "Collecting tweepy\n",
      "  Downloading tweepy-4.14.0-py3-none-any.whl (98 kB)\n",
      "\u001b[2K     \u001b[90m━━━━━━━━━━━━━━━━━━━━━━━━━━━━━━━━━━━━━━━━\u001b[0m \u001b[32m98.5/98.5 kB\u001b[0m \u001b[31m1.7 MB/s\u001b[0m eta \u001b[36m0:00:00\u001b[0ma \u001b[36m0:00:01\u001b[0m\n",
      "\u001b[?25hCollecting oauthlib<4,>=3.2.0 (from tweepy)\n",
      "  Downloading oauthlib-3.2.2-py3-none-any.whl (151 kB)\n",
      "\u001b[2K     \u001b[90m━━━━━━━━━━━━━━━━━━━━━━━━━━━━━━━━━━━━━━━\u001b[0m \u001b[32m151.7/151.7 kB\u001b[0m \u001b[31m2.6 MB/s\u001b[0m eta \u001b[36m0:00:00\u001b[0ma \u001b[36m0:00:01\u001b[0m\n",
      "\u001b[?25hRequirement already satisfied: requests<3,>=2.27.0 in /Library/Frameworks/Python.framework/Versions/3.10/lib/python3.10/site-packages (from tweepy) (2.30.0)\n",
      "Collecting requests-oauthlib<2,>=1.2.0 (from tweepy)\n",
      "  Downloading requests_oauthlib-1.3.1-py2.py3-none-any.whl (23 kB)\n",
      "Requirement already satisfied: charset-normalizer<4,>=2 in /Library/Frameworks/Python.framework/Versions/3.10/lib/python3.10/site-packages (from requests<3,>=2.27.0->tweepy) (3.1.0)\n",
      "Requirement already satisfied: idna<4,>=2.5 in /Library/Frameworks/Python.framework/Versions/3.10/lib/python3.10/site-packages (from requests<3,>=2.27.0->tweepy) (3.4)\n",
      "Requirement already satisfied: urllib3<3,>=1.21.1 in /Library/Frameworks/Python.framework/Versions/3.10/lib/python3.10/site-packages (from requests<3,>=2.27.0->tweepy) (2.0.2)\n",
      "Requirement already satisfied: certifi>=2017.4.17 in /Library/Frameworks/Python.framework/Versions/3.10/lib/python3.10/site-packages (from requests<3,>=2.27.0->tweepy) (2023.5.7)\n",
      "Installing collected packages: oauthlib, requests-oauthlib, tweepy\n",
      "Successfully installed oauthlib-3.2.2 requests-oauthlib-1.3.1 tweepy-4.14.0\n",
      "Note: you may need to restart the kernel to use updated packages.\n"
     ]
    }
   ],
   "source": [
    "%pip install tweepy"
   ]
  },
  {
   "cell_type": "code",
   "execution_count": 1,
   "metadata": {},
   "outputs": [],
   "source": [
    "import tweepy\n",
    "\n",
    "# Set up your Twitter API credentials\n",
    "consumer_key = \"IDebCcr2GYxTWZ1iaDefzBRZu\"\n",
    "consumer_secret = \"KOBBgFFPNt73UO6MOmnqmxBLtbew7A1CRmGnWiJpPdcPaGRDJw\"\n",
    "access_token = \"983499146651885568-RZTTgko7VLBScgSUkfjmuXjT6C24z0q\"\n",
    "access_token_secret = \"GgZEqcBCJ4L3p5GL6OLexOYAv3fDFlBxd7BPAzF6JrhY2\"\n",
    "\n",
    "# Authenticate with the Twitter API\n",
    "auth = tweepy.OAuthHandler(consumer_key, consumer_secret)\n",
    "auth.set_access_token(access_token, access_token_secret)\n"
   ]
  },
  {
   "cell_type": "code",
   "execution_count": 13,
   "metadata": {},
   "outputs": [],
   "source": [
    "# Create a Tweepy API object\n",
    "from tqdm.notebook import tqdm\n",
    "import pandas as pd\n",
    "import time\n",
    "api = tweepy.API(auth)\n",
    "\n",
    "# Define the search query\n",
    "query = \"pilpres 2024 OR Prabowo OR Ganjar OR Anies -vcs lang:id since:2023-01-01 until:2023-02-20\"\n",
    "\n",
    "# Set the number of tweets to retrieve\n",
    "num_tweets = 100000\n",
    "\n",
    "# Retrieve the tweets\n",
    "tweets = tweepy.Cursor(api.search_tweets, q=query, tweet_mode='extended').items(num_tweets)\n",
    "\n",
    "# Process the tweets\n",
    "fields = ['date', 'username', 'tweet']\n",
    "data = []\n",
    "\n",
    "# Counter for tracking the number of tweets\n",
    "tweet_counter = 0\n",
    "\n",
    "for tweet in tweets:\n",
    "    # Append tweet data to the list\n",
    "    data.append([tweet.created_at, tweet.user.screen_name, tweet.full_text])\n",
    "    \n",
    "    # Increment the tweet counter\n",
    "    tweet_counter += 1\n",
    "    print(tweet_counter)\n",
    "    \n",
    "    # Check if the tweet counter reaches the delay interval\n",
    "    if tweet_counter % 900 == 0:\n",
    "        # Add time delay of 15 minutes\n",
    "        tweets_df = pd.DataFrame(data,columns=fields)\n",
    "        tweets_df.to_csv('2023senbgtnext.csv')\n",
    "        time.sleep(900)  # 900 seconds = 15 minutes\n",
    "\n"
   ]
  },
  {
   "cell_type": "code",
   "execution_count": 9,
   "metadata": {},
   "outputs": [],
   "source": [
    "tweets_df.to_csv('2023sennext.csv')"
   ]
  },
  {
   "cell_type": "code",
   "execution_count": 13,
   "metadata": {},
   "outputs": [
    {
     "data": {
      "text/plain": [
       "0    @ReflyHZ @YouTube Resmi!!! Presiden Joko Widod...\n",
       "1    @tifsembiring Ini paling ada hubunganx dg pilp...\n",
       "2    @PDemokrat Sepertinya pak jokowi head to head ...\n",
       "3    Elite Golkar Bicara Kans Duet Prabowo-Airlangg...\n",
       "4    @dennyindrayana @KataBewe @nazaqistsha Terusla...\n",
       "Name: tweet, dtype: object"
      ]
     },
     "execution_count": 13,
     "metadata": {},
     "output_type": "execute_result"
    }
   ],
   "source": [
    "tweets_df.tweet.head()"
   ]
  },
  {
   "cell_type": "code",
   "execution_count": 12,
   "metadata": {},
   "outputs": [
    {
     "data": {
      "text/plain": [
       "900"
      ]
     },
     "execution_count": 12,
     "metadata": {},
     "output_type": "execute_result"
    }
   ],
   "source": [
    "len(tweets_df)"
   ]
  }
 ],
 "metadata": {
  "kernelspec": {
   "display_name": "Python 3",
   "language": "python",
   "name": "python3"
  },
  "language_info": {
   "codemirror_mode": {
    "name": "ipython",
    "version": 3
   },
   "file_extension": ".py",
   "mimetype": "text/x-python",
   "name": "python",
   "nbconvert_exporter": "python",
   "pygments_lexer": "ipython3",
   "version": "3.9.12"
  },
  "orig_nbformat": 4
 },
 "nbformat": 4,
 "nbformat_minor": 2
}
