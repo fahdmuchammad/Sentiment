{
 "cells": [
  {
   "cell_type": "code",
   "execution_count": 1,
   "id": "14c47fc8",
   "metadata": {},
   "outputs": [
    {
     "name": "stdout",
     "output_type": "stream",
     "text": [
      "3.10.8\n"
     ]
    }
   ],
   "source": [
    "from platform import python_version\n",
    "\n",
    "print(python_version())"
   ]
  },
  {
   "cell_type": "code",
   "execution_count": 23,
   "id": "82471539",
   "metadata": {},
   "outputs": [
    {
     "name": "stdout",
     "output_type": "stream",
     "text": [
      "Collecting git+https://github.com/JustAnotherArchivist/snscrape.git\n",
      "  Cloning https://github.com/JustAnotherArchivist/snscrape.git to /private/var/folders/md/n3wx2h2116zfry84m6sz4k5w0000gn/T/pip-req-build-u8vsq5zi\n",
      "  Running command git clone --filter=blob:none --quiet https://github.com/JustAnotherArchivist/snscrape.git /private/var/folders/md/n3wx2h2116zfry84m6sz4k5w0000gn/T/pip-req-build-u8vsq5zi\n",
      "  Resolved https://github.com/JustAnotherArchivist/snscrape.git to commit 614d4c2029a62d348ca56598f87c425966aaec66\n",
      "  Installing build dependencies ... \u001b[?25ldone\n",
      "\u001b[?25h  Getting requirements to build wheel ... \u001b[?25ldone\n",
      "\u001b[?25h  Installing backend dependencies ... \u001b[?25ldone\n",
      "\u001b[?25h  Preparing metadata (pyproject.toml) ... \u001b[?25ldone\n",
      "\u001b[?25hRequirement already satisfied: requests[socks] in /Library/Frameworks/Python.framework/Versions/3.10/lib/python3.10/site-packages (from snscrape==0.7.0.20230622) (2.30.0)\n",
      "Requirement already satisfied: lxml in /Library/Frameworks/Python.framework/Versions/3.10/lib/python3.10/site-packages (from snscrape==0.7.0.20230622) (4.9.2)\n",
      "Requirement already satisfied: beautifulsoup4 in /Library/Frameworks/Python.framework/Versions/3.10/lib/python3.10/site-packages (from snscrape==0.7.0.20230622) (4.12.2)\n",
      "Requirement already satisfied: filelock in /Library/Frameworks/Python.framework/Versions/3.10/lib/python3.10/site-packages (from snscrape==0.7.0.20230622) (3.12.0)\n",
      "Requirement already satisfied: soupsieve>1.2 in /Library/Frameworks/Python.framework/Versions/3.10/lib/python3.10/site-packages (from beautifulsoup4->snscrape==0.7.0.20230622) (2.4.1)\n",
      "Requirement already satisfied: charset-normalizer<4,>=2 in /Library/Frameworks/Python.framework/Versions/3.10/lib/python3.10/site-packages (from requests[socks]->snscrape==0.7.0.20230622) (3.1.0)\n",
      "Requirement already satisfied: idna<4,>=2.5 in /Library/Frameworks/Python.framework/Versions/3.10/lib/python3.10/site-packages (from requests[socks]->snscrape==0.7.0.20230622) (3.4)\n",
      "Requirement already satisfied: urllib3<3,>=1.21.1 in /Library/Frameworks/Python.framework/Versions/3.10/lib/python3.10/site-packages (from requests[socks]->snscrape==0.7.0.20230622) (2.0.2)\n",
      "Requirement already satisfied: certifi>=2017.4.17 in /Library/Frameworks/Python.framework/Versions/3.10/lib/python3.10/site-packages (from requests[socks]->snscrape==0.7.0.20230622) (2023.5.7)\n",
      "Requirement already satisfied: PySocks!=1.5.7,>=1.5.6 in /Library/Frameworks/Python.framework/Versions/3.10/lib/python3.10/site-packages (from requests[socks]->snscrape==0.7.0.20230622) (1.7.1)\n",
      "Note: you may need to restart the kernel to use updated packages.\n"
     ]
    }
   ],
   "source": [
    "%pip install git+https://github.com/JustAnotherArchivist/snscrape.git"
   ]
  },
  {
   "cell_type": "code",
   "execution_count": 3,
   "id": "6505771f",
   "metadata": {},
   "outputs": [
    {
     "name": "stdout",
     "output_type": "stream",
     "text": [
      "Requirement already satisfied: pandas in /Library/Frameworks/Python.framework/Versions/3.10/lib/python3.10/site-packages (2.0.1)\n",
      "Requirement already satisfied: python-dateutil>=2.8.2 in /Users/fahdmuchammad/Library/Python/3.10/lib/python/site-packages (from pandas) (2.8.2)\n",
      "Requirement already satisfied: pytz>=2020.1 in /Library/Frameworks/Python.framework/Versions/3.10/lib/python3.10/site-packages (from pandas) (2023.3)\n",
      "Requirement already satisfied: tzdata>=2022.1 in /Library/Frameworks/Python.framework/Versions/3.10/lib/python3.10/site-packages (from pandas) (2023.3)\n",
      "Requirement already satisfied: numpy>=1.21.0 in /Library/Frameworks/Python.framework/Versions/3.10/lib/python3.10/site-packages (from pandas) (1.24.3)\n",
      "Requirement already satisfied: six>=1.5 in /Users/fahdmuchammad/Library/Python/3.10/lib/python/site-packages (from python-dateutil>=2.8.2->pandas) (1.16.0)\n",
      "Note: you may need to restart the kernel to use updated packages.\n",
      "Requirement already satisfied: tqdm in /Library/Frameworks/Python.framework/Versions/3.10/lib/python3.10/site-packages (4.65.0)\n",
      "Note: you may need to restart the kernel to use updated packages.\n"
     ]
    }
   ],
   "source": [
    "%pip install pandas\n",
    "%pip install tqdm"
   ]
  },
  {
   "cell_type": "code",
   "execution_count": 4,
   "id": "8bcef425",
   "metadata": {},
   "outputs": [
    {
     "name": "stdout",
     "output_type": "stream",
     "text": [
      "Requirement already satisfied: datetime in /Library/Frameworks/Python.framework/Versions/3.10/lib/python3.10/site-packages (5.1)\n",
      "Requirement already satisfied: zope.interface in /Library/Frameworks/Python.framework/Versions/3.10/lib/python3.10/site-packages (from datetime) (6.0)\n",
      "Requirement already satisfied: pytz in /Library/Frameworks/Python.framework/Versions/3.10/lib/python3.10/site-packages (from datetime) (2023.3)\n",
      "Requirement already satisfied: setuptools in /Library/Frameworks/Python.framework/Versions/3.10/lib/python3.10/site-packages (from zope.interface->datetime) (63.2.0)\n",
      "Note: you may need to restart the kernel to use updated packages.\n"
     ]
    }
   ],
   "source": [
    "%pip install datetime"
   ]
  },
  {
   "cell_type": "code",
   "execution_count": 24,
   "id": "c75e41fa",
   "metadata": {},
   "outputs": [],
   "source": [
    "import pandas as pd\n",
    "from tqdm.notebook import tqdm\n",
    "import snscrape.modules.twitter as sntwitter"
   ]
  },
  {
   "cell_type": "code",
   "execution_count": 27,
   "id": "f3cf0169",
   "metadata": {},
   "outputs": [],
   "source": [
    "import datetime\n",
    "\n",
    "scraper = sntwitter.TwitterSearchScraper('jokowi', maxEmptyPages=2000)\n"
   ]
  },
  {
   "cell_type": "code",
   "execution_count": 28,
   "id": "ef66a649",
   "metadata": {},
   "outputs": [
    {
     "name": "stderr",
     "output_type": "stream",
     "text": [
      "Error retrieving https://twitter.com/i/api/graphql/7jT5GT59P8IFjgxwqnEdQw/SearchTimeline?variables=%7B%22rawQuery%22%3A%22jokowi%22%2C%22count%22%3A20%2C%22product%22%3A%22Latest%22%2C%22withDownvotePerspective%22%3Afalse%2C%22withReactionsMetadata%22%3Afalse%2C%22withReactionsPerspective%22%3Afalse%7D&features=%7B%22rweb_lists_timeline_redesign_enabled%22%3Afalse%2C%22blue_business_profile_image_shape_enabled%22%3Afalse%2C%22responsive_web_graphql_exclude_directive_enabled%22%3Atrue%2C%22verified_phone_label_enabled%22%3Afalse%2C%22creator_subscriptions_tweet_preview_api_enabled%22%3Afalse%2C%22responsive_web_graphql_timeline_navigation_enabled%22%3Atrue%2C%22responsive_web_graphql_skip_user_profile_image_extensions_enabled%22%3Afalse%2C%22tweetypie_unmention_optimization_enabled%22%3Atrue%2C%22vibe_api_enabled%22%3Atrue%2C%22responsive_web_edit_tweet_api_enabled%22%3Atrue%2C%22graphql_is_translatable_rweb_tweet_is_translatable_enabled%22%3Atrue%2C%22view_counts_everywhere_api_enabled%22%3Atrue%2C%22longform_notetweets_consumption_enabled%22%3Atrue%2C%22tweet_awards_web_tipping_enabled%22%3Afalse%2C%22freedom_of_speech_not_reach_fetch_enabled%22%3Afalse%2C%22standardized_nudges_misinfo%22%3Atrue%2C%22tweet_with_visibility_results_prefer_gql_limited_actions_policy_enabled%22%3Afalse%2C%22interactive_text_enabled%22%3Atrue%2C%22responsive_web_text_conversations_enabled%22%3Afalse%2C%22longform_notetweets_rich_text_read_enabled%22%3Afalse%2C%22longform_notetweets_inline_media_enabled%22%3Afalse%2C%22responsive_web_enhance_cards_enabled%22%3Afalse%2C%22responsive_web_twitter_blue_verified_badge_is_enabled%22%3Atrue%7D: blocked (404)\n",
      "4 requests to https://twitter.com/i/api/graphql/7jT5GT59P8IFjgxwqnEdQw/SearchTimeline?variables=%7B%22rawQuery%22%3A%22jokowi%22%2C%22count%22%3A20%2C%22product%22%3A%22Latest%22%2C%22withDownvotePerspective%22%3Afalse%2C%22withReactionsMetadata%22%3Afalse%2C%22withReactionsPerspective%22%3Afalse%7D&features=%7B%22rweb_lists_timeline_redesign_enabled%22%3Afalse%2C%22blue_business_profile_image_shape_enabled%22%3Afalse%2C%22responsive_web_graphql_exclude_directive_enabled%22%3Atrue%2C%22verified_phone_label_enabled%22%3Afalse%2C%22creator_subscriptions_tweet_preview_api_enabled%22%3Afalse%2C%22responsive_web_graphql_timeline_navigation_enabled%22%3Atrue%2C%22responsive_web_graphql_skip_user_profile_image_extensions_enabled%22%3Afalse%2C%22tweetypie_unmention_optimization_enabled%22%3Atrue%2C%22vibe_api_enabled%22%3Atrue%2C%22responsive_web_edit_tweet_api_enabled%22%3Atrue%2C%22graphql_is_translatable_rweb_tweet_is_translatable_enabled%22%3Atrue%2C%22view_counts_everywhere_api_enabled%22%3Atrue%2C%22longform_notetweets_consumption_enabled%22%3Atrue%2C%22tweet_awards_web_tipping_enabled%22%3Afalse%2C%22freedom_of_speech_not_reach_fetch_enabled%22%3Afalse%2C%22standardized_nudges_misinfo%22%3Atrue%2C%22tweet_with_visibility_results_prefer_gql_limited_actions_policy_enabled%22%3Afalse%2C%22interactive_text_enabled%22%3Atrue%2C%22responsive_web_text_conversations_enabled%22%3Afalse%2C%22longform_notetweets_rich_text_read_enabled%22%3Afalse%2C%22longform_notetweets_inline_media_enabled%22%3Afalse%2C%22responsive_web_enhance_cards_enabled%22%3Afalse%2C%22responsive_web_twitter_blue_verified_badge_is_enabled%22%3Atrue%7D failed, giving up.\n",
      "Errors: blocked (404), blocked (404), blocked (404), blocked (404)\n"
     ]
    },
    {
     "ename": "ScraperException",
     "evalue": "4 requests to https://twitter.com/i/api/graphql/7jT5GT59P8IFjgxwqnEdQw/SearchTimeline?variables=%7B%22rawQuery%22%3A%22jokowi%22%2C%22count%22%3A20%2C%22product%22%3A%22Latest%22%2C%22withDownvotePerspective%22%3Afalse%2C%22withReactionsMetadata%22%3Afalse%2C%22withReactionsPerspective%22%3Afalse%7D&features=%7B%22rweb_lists_timeline_redesign_enabled%22%3Afalse%2C%22blue_business_profile_image_shape_enabled%22%3Afalse%2C%22responsive_web_graphql_exclude_directive_enabled%22%3Atrue%2C%22verified_phone_label_enabled%22%3Afalse%2C%22creator_subscriptions_tweet_preview_api_enabled%22%3Afalse%2C%22responsive_web_graphql_timeline_navigation_enabled%22%3Atrue%2C%22responsive_web_graphql_skip_user_profile_image_extensions_enabled%22%3Afalse%2C%22tweetypie_unmention_optimization_enabled%22%3Atrue%2C%22vibe_api_enabled%22%3Atrue%2C%22responsive_web_edit_tweet_api_enabled%22%3Atrue%2C%22graphql_is_translatable_rweb_tweet_is_translatable_enabled%22%3Atrue%2C%22view_counts_everywhere_api_enabled%22%3Atrue%2C%22longform_notetweets_consumption_enabled%22%3Atrue%2C%22tweet_awards_web_tipping_enabled%22%3Afalse%2C%22freedom_of_speech_not_reach_fetch_enabled%22%3Afalse%2C%22standardized_nudges_misinfo%22%3Atrue%2C%22tweet_with_visibility_results_prefer_gql_limited_actions_policy_enabled%22%3Afalse%2C%22interactive_text_enabled%22%3Atrue%2C%22responsive_web_text_conversations_enabled%22%3Afalse%2C%22longform_notetweets_rich_text_read_enabled%22%3Afalse%2C%22longform_notetweets_inline_media_enabled%22%3Afalse%2C%22responsive_web_enhance_cards_enabled%22%3Afalse%2C%22responsive_web_twitter_blue_verified_badge_is_enabled%22%3Atrue%7D failed, giving up.",
     "output_type": "error",
     "traceback": [
      "\u001b[0;31m---------------------------------------------------------------------------\u001b[0m",
      "\u001b[0;31mScraperException\u001b[0m                          Traceback (most recent call last)",
      "\u001b[1;32m/Users/fahdmuchammad/Documents/SENTIMENT_PILPRES_TA/SCRAPPING/Untitled copy.ipynb Cell 7\u001b[0m in \u001b[0;36m1\n\u001b[0;32m----> <a href='vscode-notebook-cell:/Users/fahdmuchammad/Documents/SENTIMENT_PILPRES_TA/SCRAPPING/Untitled%20copy.ipynb#W6sZmlsZQ%3D%3D?line=0'>1</a>\u001b[0m \u001b[39mfor\u001b[39;00m tweet \u001b[39min\u001b[39;00m scraper\u001b[39m.\u001b[39mget_items():\n\u001b[1;32m      <a href='vscode-notebook-cell:/Users/fahdmuchammad/Documents/SENTIMENT_PILPRES_TA/SCRAPPING/Untitled%20copy.ipynb#W6sZmlsZQ%3D%3D?line=1'>2</a>\u001b[0m   \u001b[39mbreak\u001b[39;00m\n",
      "File \u001b[0;32m/Library/Frameworks/Python.framework/Versions/3.10/lib/python3.10/site-packages/snscrape/modules/twitter.py:1763\u001b[0m, in \u001b[0;36mTwitterSearchScraper.get_items\u001b[0;34m(self)\u001b[0m\n\u001b[1;32m   1760\u001b[0m params \u001b[39m=\u001b[39m {\u001b[39m'\u001b[39m\u001b[39mvariables\u001b[39m\u001b[39m'\u001b[39m: variables, \u001b[39m'\u001b[39m\u001b[39mfeatures\u001b[39m\u001b[39m'\u001b[39m: features}\n\u001b[1;32m   1761\u001b[0m paginationParams \u001b[39m=\u001b[39m {\u001b[39m'\u001b[39m\u001b[39mvariables\u001b[39m\u001b[39m'\u001b[39m: paginationVariables, \u001b[39m'\u001b[39m\u001b[39mfeatures\u001b[39m\u001b[39m'\u001b[39m: features}\n\u001b[0;32m-> 1763\u001b[0m \u001b[39mfor\u001b[39;00m obj \u001b[39min\u001b[39;00m \u001b[39mself\u001b[39m\u001b[39m.\u001b[39m_iter_api_data(\u001b[39m'\u001b[39m\u001b[39mhttps://twitter.com/i/api/graphql/7jT5GT59P8IFjgxwqnEdQw/SearchTimeline\u001b[39m\u001b[39m'\u001b[39m, _TwitterAPIType\u001b[39m.\u001b[39mGRAPHQL, params, paginationParams, cursor \u001b[39m=\u001b[39m \u001b[39mself\u001b[39m\u001b[39m.\u001b[39m_cursor, instructionsPath \u001b[39m=\u001b[39m [\u001b[39m'\u001b[39m\u001b[39mdata\u001b[39m\u001b[39m'\u001b[39m, \u001b[39m'\u001b[39m\u001b[39msearch_by_raw_query\u001b[39m\u001b[39m'\u001b[39m, \u001b[39m'\u001b[39m\u001b[39msearch_timeline\u001b[39m\u001b[39m'\u001b[39m, \u001b[39m'\u001b[39m\u001b[39mtimeline\u001b[39m\u001b[39m'\u001b[39m, \u001b[39m'\u001b[39m\u001b[39minstructions\u001b[39m\u001b[39m'\u001b[39m]):\n\u001b[1;32m   1764\u001b[0m \t\u001b[39myield from\u001b[39;00m \u001b[39mself\u001b[39m\u001b[39m.\u001b[39m_graphql_timeline_instructions_to_tweets(obj[\u001b[39m'\u001b[39m\u001b[39mdata\u001b[39m\u001b[39m'\u001b[39m][\u001b[39m'\u001b[39m\u001b[39msearch_by_raw_query\u001b[39m\u001b[39m'\u001b[39m][\u001b[39m'\u001b[39m\u001b[39msearch_timeline\u001b[39m\u001b[39m'\u001b[39m][\u001b[39m'\u001b[39m\u001b[39mtimeline\u001b[39m\u001b[39m'\u001b[39m][\u001b[39m'\u001b[39m\u001b[39minstructions\u001b[39m\u001b[39m'\u001b[39m])\n",
      "File \u001b[0;32m/Library/Frameworks/Python.framework/Versions/3.10/lib/python3.10/site-packages/snscrape/modules/twitter.py:915\u001b[0m, in \u001b[0;36m_TwitterAPIScraper._iter_api_data\u001b[0;34m(self, endpoint, apiType, params, paginationParams, cursor, direction, instructionsPath)\u001b[0m\n\u001b[1;32m    913\u001b[0m \u001b[39mwhile\u001b[39;00m \u001b[39mTrue\u001b[39;00m:\n\u001b[1;32m    914\u001b[0m \t_logger\u001b[39m.\u001b[39minfo(\u001b[39mf\u001b[39m\u001b[39m'\u001b[39m\u001b[39mRetrieving scroll page \u001b[39m\u001b[39m{\u001b[39;00mcursor\u001b[39m}\u001b[39;00m\u001b[39m'\u001b[39m)\n\u001b[0;32m--> 915\u001b[0m \tobj \u001b[39m=\u001b[39m \u001b[39mself\u001b[39;49m\u001b[39m.\u001b[39;49m_get_api_data(endpoint, apiType, reqParams, instructionsPath \u001b[39m=\u001b[39;49m instructionsPath)\n\u001b[1;32m    916\u001b[0m \t\u001b[39myield\u001b[39;00m obj\n\u001b[1;32m    918\u001b[0m \t\u001b[39m# No data format test, just a hard and loud crash if anything's wrong :-)\u001b[39;00m\n",
      "File \u001b[0;32m/Library/Frameworks/Python.framework/Versions/3.10/lib/python3.10/site-packages/snscrape/modules/twitter.py:886\u001b[0m, in \u001b[0;36m_TwitterAPIScraper._get_api_data\u001b[0;34m(self, endpoint, apiType, params, instructionsPath)\u001b[0m\n\u001b[1;32m    884\u001b[0m \u001b[39mif\u001b[39;00m apiType \u001b[39mis\u001b[39;00m _TwitterAPIType\u001b[39m.\u001b[39mGRAPHQL:\n\u001b[1;32m    885\u001b[0m \tparams \u001b[39m=\u001b[39m urllib\u001b[39m.\u001b[39mparse\u001b[39m.\u001b[39murlencode({k: json\u001b[39m.\u001b[39mdumps(v, separators \u001b[39m=\u001b[39m (\u001b[39m'\u001b[39m\u001b[39m,\u001b[39m\u001b[39m'\u001b[39m, \u001b[39m'\u001b[39m\u001b[39m:\u001b[39m\u001b[39m'\u001b[39m)) \u001b[39mfor\u001b[39;00m k, v \u001b[39min\u001b[39;00m params\u001b[39m.\u001b[39mitems()}, quote_via \u001b[39m=\u001b[39m urllib\u001b[39m.\u001b[39mparse\u001b[39m.\u001b[39mquote)\n\u001b[0;32m--> 886\u001b[0m r \u001b[39m=\u001b[39m \u001b[39mself\u001b[39;49m\u001b[39m.\u001b[39;49m_get(endpoint, params \u001b[39m=\u001b[39;49m params, headers \u001b[39m=\u001b[39;49m \u001b[39mself\u001b[39;49m\u001b[39m.\u001b[39;49m_apiHeaders, responseOkCallback \u001b[39m=\u001b[39;49m functools\u001b[39m.\u001b[39;49mpartial(\u001b[39mself\u001b[39;49m\u001b[39m.\u001b[39;49m_check_api_response, apiType \u001b[39m=\u001b[39;49m apiType, instructionsPath \u001b[39m=\u001b[39;49m instructionsPath))\n\u001b[1;32m    887\u001b[0m \u001b[39mreturn\u001b[39;00m r\u001b[39m.\u001b[39m_snscrapeObj\n",
      "File \u001b[0;32m/Library/Frameworks/Python.framework/Versions/3.10/lib/python3.10/site-packages/snscrape/base.py:275\u001b[0m, in \u001b[0;36mScraper._get\u001b[0;34m(self, *args, **kwargs)\u001b[0m\n\u001b[1;32m    274\u001b[0m \u001b[39mdef\u001b[39;00m \u001b[39m_get\u001b[39m(\u001b[39mself\u001b[39m, \u001b[39m*\u001b[39margs, \u001b[39m*\u001b[39m\u001b[39m*\u001b[39mkwargs):\n\u001b[0;32m--> 275\u001b[0m \t\u001b[39mreturn\u001b[39;00m \u001b[39mself\u001b[39;49m\u001b[39m.\u001b[39;49m_request(\u001b[39m'\u001b[39;49m\u001b[39mGET\u001b[39;49m\u001b[39m'\u001b[39;49m, \u001b[39m*\u001b[39;49margs, \u001b[39m*\u001b[39;49m\u001b[39m*\u001b[39;49mkwargs)\n",
      "File \u001b[0;32m/Library/Frameworks/Python.framework/Versions/3.10/lib/python3.10/site-packages/snscrape/base.py:271\u001b[0m, in \u001b[0;36mScraper._request\u001b[0;34m(self, method, url, params, data, headers, timeout, responseOkCallback, allowRedirects, proxies)\u001b[0m\n\u001b[1;32m    269\u001b[0m \t_logger\u001b[39m.\u001b[39mfatal(msg)\n\u001b[1;32m    270\u001b[0m \t_logger\u001b[39m.\u001b[39mfatal(\u001b[39mf\u001b[39m\u001b[39m'\u001b[39m\u001b[39mErrors: \u001b[39m\u001b[39m{\u001b[39;00m\u001b[39m\"\u001b[39m\u001b[39m, \u001b[39m\u001b[39m\"\u001b[39m\u001b[39m.\u001b[39mjoin(errors)\u001b[39m}\u001b[39;00m\u001b[39m'\u001b[39m)\n\u001b[0;32m--> 271\u001b[0m \t\u001b[39mraise\u001b[39;00m ScraperException(msg)\n\u001b[1;32m    272\u001b[0m \u001b[39mraise\u001b[39;00m \u001b[39mRuntimeError\u001b[39;00m(\u001b[39m'\u001b[39m\u001b[39mReached unreachable code\u001b[39m\u001b[39m'\u001b[39m)\n",
      "\u001b[0;31mScraperException\u001b[0m: 4 requests to https://twitter.com/i/api/graphql/7jT5GT59P8IFjgxwqnEdQw/SearchTimeline?variables=%7B%22rawQuery%22%3A%22jokowi%22%2C%22count%22%3A20%2C%22product%22%3A%22Latest%22%2C%22withDownvotePerspective%22%3Afalse%2C%22withReactionsMetadata%22%3Afalse%2C%22withReactionsPerspective%22%3Afalse%7D&features=%7B%22rweb_lists_timeline_redesign_enabled%22%3Afalse%2C%22blue_business_profile_image_shape_enabled%22%3Afalse%2C%22responsive_web_graphql_exclude_directive_enabled%22%3Atrue%2C%22verified_phone_label_enabled%22%3Afalse%2C%22creator_subscriptions_tweet_preview_api_enabled%22%3Afalse%2C%22responsive_web_graphql_timeline_navigation_enabled%22%3Atrue%2C%22responsive_web_graphql_skip_user_profile_image_extensions_enabled%22%3Afalse%2C%22tweetypie_unmention_optimization_enabled%22%3Atrue%2C%22vibe_api_enabled%22%3Atrue%2C%22responsive_web_edit_tweet_api_enabled%22%3Atrue%2C%22graphql_is_translatable_rweb_tweet_is_translatable_enabled%22%3Atrue%2C%22view_counts_everywhere_api_enabled%22%3Atrue%2C%22longform_notetweets_consumption_enabled%22%3Atrue%2C%22tweet_awards_web_tipping_enabled%22%3Afalse%2C%22freedom_of_speech_not_reach_fetch_enabled%22%3Afalse%2C%22standardized_nudges_misinfo%22%3Atrue%2C%22tweet_with_visibility_results_prefer_gql_limited_actions_policy_enabled%22%3Afalse%2C%22interactive_text_enabled%22%3Atrue%2C%22responsive_web_text_conversations_enabled%22%3Afalse%2C%22longform_notetweets_rich_text_read_enabled%22%3Afalse%2C%22longform_notetweets_inline_media_enabled%22%3Afalse%2C%22responsive_web_enhance_cards_enabled%22%3Afalse%2C%22responsive_web_twitter_blue_verified_badge_is_enabled%22%3Atrue%7D failed, giving up."
     ]
    }
   ],
   "source": [
    "for tweet in scraper.get_items():\n",
    "  break"
   ]
  },
  {
   "cell_type": "code",
   "execution_count": null,
   "id": "ddfb2c1a",
   "metadata": {},
   "outputs": [
    {
     "ename": "NameError",
     "evalue": "name 'tweet' is not defined",
     "output_type": "error",
     "traceback": [
      "\u001b[0;31m---------------------------------------------------------------------------\u001b[0m",
      "\u001b[0;31mNameError\u001b[0m                                 Traceback (most recent call last)",
      "\u001b[1;32m/Users/fahdmuchammad/Documents/SENTIMENT_PILPRES_TA/SCRAPPING/Untitled copy.ipynb Cell 8\u001b[0m in \u001b[0;36m1\n\u001b[0;32m----> <a href='vscode-notebook-cell:/Users/fahdmuchammad/Documents/SENTIMENT_PILPRES_TA/SCRAPPING/Untitled%20copy.ipynb#X10sZmlsZQ%3D%3D?line=0'>1</a>\u001b[0m tweet\n",
      "\u001b[0;31mNameError\u001b[0m: name 'tweet' is not defined"
     ]
    }
   ],
   "source": [
    "tweet"
   ]
  },
  {
   "cell_type": "code",
   "execution_count": null,
   "id": "7be69029",
   "metadata": {},
   "outputs": [
    {
     "name": "stderr",
     "output_type": "stream",
     "text": [
      "Error retrieving https://twitter.com/i/api/graphql/7jT5GT59P8IFjgxwqnEdQw/SearchTimeline?variables=%7B%22rawQuery%22%3A%22pilpres%202024%20OR%20prabowo%20OR%20anies%20OR%20ganjar%22%2C%22count%22%3A20%2C%22product%22%3A%22Latest%22%2C%22withDownvotePerspective%22%3Afalse%2C%22withReactionsMetadata%22%3Afalse%2C%22withReactionsPerspective%22%3Afalse%7D&features=%7B%22rweb_lists_timeline_redesign_enabled%22%3Afalse%2C%22blue_business_profile_image_shape_enabled%22%3Afalse%2C%22responsive_web_graphql_exclude_directive_enabled%22%3Atrue%2C%22verified_phone_label_enabled%22%3Afalse%2C%22creator_subscriptions_tweet_preview_api_enabled%22%3Afalse%2C%22responsive_web_graphql_timeline_navigation_enabled%22%3Atrue%2C%22responsive_web_graphql_skip_user_profile_image_extensions_enabled%22%3Afalse%2C%22tweetypie_unmention_optimization_enabled%22%3Atrue%2C%22vibe_api_enabled%22%3Atrue%2C%22responsive_web_edit_tweet_api_enabled%22%3Atrue%2C%22graphql_is_translatable_rweb_tweet_is_translatable_enabled%22%3Atrue%2C%22view_counts_everywhere_api_enabled%22%3Atrue%2C%22longform_notetweets_consumption_enabled%22%3Atrue%2C%22tweet_awards_web_tipping_enabled%22%3Afalse%2C%22freedom_of_speech_not_reach_fetch_enabled%22%3Afalse%2C%22standardized_nudges_misinfo%22%3Atrue%2C%22tweet_with_visibility_results_prefer_gql_limited_actions_policy_enabled%22%3Afalse%2C%22interactive_text_enabled%22%3Atrue%2C%22responsive_web_text_conversations_enabled%22%3Afalse%2C%22longform_notetweets_rich_text_read_enabled%22%3Afalse%2C%22longform_notetweets_inline_media_enabled%22%3Afalse%2C%22responsive_web_enhance_cards_enabled%22%3Afalse%2C%22responsive_web_twitter_blue_verified_badge_is_enabled%22%3Atrue%7D: blocked (404)\n",
      "4 requests to https://twitter.com/i/api/graphql/7jT5GT59P8IFjgxwqnEdQw/SearchTimeline?variables=%7B%22rawQuery%22%3A%22pilpres%202024%20OR%20prabowo%20OR%20anies%20OR%20ganjar%22%2C%22count%22%3A20%2C%22product%22%3A%22Latest%22%2C%22withDownvotePerspective%22%3Afalse%2C%22withReactionsMetadata%22%3Afalse%2C%22withReactionsPerspective%22%3Afalse%7D&features=%7B%22rweb_lists_timeline_redesign_enabled%22%3Afalse%2C%22blue_business_profile_image_shape_enabled%22%3Afalse%2C%22responsive_web_graphql_exclude_directive_enabled%22%3Atrue%2C%22verified_phone_label_enabled%22%3Afalse%2C%22creator_subscriptions_tweet_preview_api_enabled%22%3Afalse%2C%22responsive_web_graphql_timeline_navigation_enabled%22%3Atrue%2C%22responsive_web_graphql_skip_user_profile_image_extensions_enabled%22%3Afalse%2C%22tweetypie_unmention_optimization_enabled%22%3Atrue%2C%22vibe_api_enabled%22%3Atrue%2C%22responsive_web_edit_tweet_api_enabled%22%3Atrue%2C%22graphql_is_translatable_rweb_tweet_is_translatable_enabled%22%3Atrue%2C%22view_counts_everywhere_api_enabled%22%3Atrue%2C%22longform_notetweets_consumption_enabled%22%3Atrue%2C%22tweet_awards_web_tipping_enabled%22%3Afalse%2C%22freedom_of_speech_not_reach_fetch_enabled%22%3Afalse%2C%22standardized_nudges_misinfo%22%3Atrue%2C%22tweet_with_visibility_results_prefer_gql_limited_actions_policy_enabled%22%3Afalse%2C%22interactive_text_enabled%22%3Atrue%2C%22responsive_web_text_conversations_enabled%22%3Afalse%2C%22longform_notetweets_rich_text_read_enabled%22%3Afalse%2C%22longform_notetweets_inline_media_enabled%22%3Afalse%2C%22responsive_web_enhance_cards_enabled%22%3Afalse%2C%22responsive_web_twitter_blue_verified_badge_is_enabled%22%3Atrue%7D failed, giving up.\n",
      "Errors: blocked (404), blocked (404), blocked (404), blocked (404)\n"
     ]
    },
    {
     "ename": "ScraperException",
     "evalue": "4 requests to https://twitter.com/i/api/graphql/7jT5GT59P8IFjgxwqnEdQw/SearchTimeline?variables=%7B%22rawQuery%22%3A%22pilpres%202024%20OR%20prabowo%20OR%20anies%20OR%20ganjar%22%2C%22count%22%3A20%2C%22product%22%3A%22Latest%22%2C%22withDownvotePerspective%22%3Afalse%2C%22withReactionsMetadata%22%3Afalse%2C%22withReactionsPerspective%22%3Afalse%7D&features=%7B%22rweb_lists_timeline_redesign_enabled%22%3Afalse%2C%22blue_business_profile_image_shape_enabled%22%3Afalse%2C%22responsive_web_graphql_exclude_directive_enabled%22%3Atrue%2C%22verified_phone_label_enabled%22%3Afalse%2C%22creator_subscriptions_tweet_preview_api_enabled%22%3Afalse%2C%22responsive_web_graphql_timeline_navigation_enabled%22%3Atrue%2C%22responsive_web_graphql_skip_user_profile_image_extensions_enabled%22%3Afalse%2C%22tweetypie_unmention_optimization_enabled%22%3Atrue%2C%22vibe_api_enabled%22%3Atrue%2C%22responsive_web_edit_tweet_api_enabled%22%3Atrue%2C%22graphql_is_translatable_rweb_tweet_is_translatable_enabled%22%3Atrue%2C%22view_counts_everywhere_api_enabled%22%3Atrue%2C%22longform_notetweets_consumption_enabled%22%3Atrue%2C%22tweet_awards_web_tipping_enabled%22%3Afalse%2C%22freedom_of_speech_not_reach_fetch_enabled%22%3Afalse%2C%22standardized_nudges_misinfo%22%3Atrue%2C%22tweet_with_visibility_results_prefer_gql_limited_actions_policy_enabled%22%3Afalse%2C%22interactive_text_enabled%22%3Atrue%2C%22responsive_web_text_conversations_enabled%22%3Afalse%2C%22longform_notetweets_rich_text_read_enabled%22%3Afalse%2C%22longform_notetweets_inline_media_enabled%22%3Afalse%2C%22responsive_web_enhance_cards_enabled%22%3Afalse%2C%22responsive_web_twitter_blue_verified_badge_is_enabled%22%3Atrue%7D failed, giving up.",
     "output_type": "error",
     "traceback": [
      "\u001b[0;31m---------------------------------------------------------------------------\u001b[0m",
      "\u001b[0;31mScraperException\u001b[0m                          Traceback (most recent call last)",
      "\u001b[1;32m/Users/fahdmuchammad/Documents/SENTIMENT_PILPRES_TA/SCRAPPING/Untitled copy.ipynb Cell 9\u001b[0m in \u001b[0;36m3\n\u001b[1;32m      <a href='vscode-notebook-cell:/Users/fahdmuchammad/Documents/SENTIMENT_PILPRES_TA/SCRAPPING/Untitled%20copy.ipynb#X11sZmlsZQ%3D%3D?line=0'>1</a>\u001b[0m tweets \u001b[39m=\u001b[39m []\n\u001b[1;32m      <a href='vscode-notebook-cell:/Users/fahdmuchammad/Documents/SENTIMENT_PILPRES_TA/SCRAPPING/Untitled%20copy.ipynb#X11sZmlsZQ%3D%3D?line=1'>2</a>\u001b[0m n_tweet \u001b[39m=\u001b[39m \u001b[39m1000000\u001b[39m\n\u001b[0;32m----> <a href='vscode-notebook-cell:/Users/fahdmuchammad/Documents/SENTIMENT_PILPRES_TA/SCRAPPING/Untitled%20copy.ipynb#X11sZmlsZQ%3D%3D?line=2'>3</a>\u001b[0m \u001b[39mfor\u001b[39;00m i, tweet \u001b[39min\u001b[39;00m \u001b[39mzip\u001b[39m(\u001b[39mrange\u001b[39m(n_tweet), scraper\u001b[39m.\u001b[39mget_items()):\n\u001b[1;32m      <a href='vscode-notebook-cell:/Users/fahdmuchammad/Documents/SENTIMENT_PILPRES_TA/SCRAPPING/Untitled%20copy.ipynb#X11sZmlsZQ%3D%3D?line=3'>4</a>\u001b[0m   data \u001b[39m=\u001b[39m [tweet\u001b[39m.\u001b[39mdate, tweet\u001b[39m.\u001b[39mrawContent, tweet\u001b[39m.\u001b[39muser\u001b[39m.\u001b[39musername]\n\u001b[1;32m      <a href='vscode-notebook-cell:/Users/fahdmuchammad/Documents/SENTIMENT_PILPRES_TA/SCRAPPING/Untitled%20copy.ipynb#X11sZmlsZQ%3D%3D?line=4'>5</a>\u001b[0m   tweets\u001b[39m.\u001b[39mappend(data)\n",
      "File \u001b[0;32m/Library/Frameworks/Python.framework/Versions/3.10/lib/python3.10/site-packages/snscrape/modules/twitter.py:1763\u001b[0m, in \u001b[0;36mTwitterSearchScraper.get_items\u001b[0;34m(self)\u001b[0m\n\u001b[1;32m   1760\u001b[0m params \u001b[39m=\u001b[39m {\u001b[39m'\u001b[39m\u001b[39mvariables\u001b[39m\u001b[39m'\u001b[39m: variables, \u001b[39m'\u001b[39m\u001b[39mfeatures\u001b[39m\u001b[39m'\u001b[39m: features}\n\u001b[1;32m   1761\u001b[0m paginationParams \u001b[39m=\u001b[39m {\u001b[39m'\u001b[39m\u001b[39mvariables\u001b[39m\u001b[39m'\u001b[39m: paginationVariables, \u001b[39m'\u001b[39m\u001b[39mfeatures\u001b[39m\u001b[39m'\u001b[39m: features}\n\u001b[0;32m-> 1763\u001b[0m \u001b[39mfor\u001b[39;00m obj \u001b[39min\u001b[39;00m \u001b[39mself\u001b[39m\u001b[39m.\u001b[39m_iter_api_data(\u001b[39m'\u001b[39m\u001b[39mhttps://twitter.com/i/api/graphql/7jT5GT59P8IFjgxwqnEdQw/SearchTimeline\u001b[39m\u001b[39m'\u001b[39m, _TwitterAPIType\u001b[39m.\u001b[39mGRAPHQL, params, paginationParams, cursor \u001b[39m=\u001b[39m \u001b[39mself\u001b[39m\u001b[39m.\u001b[39m_cursor, instructionsPath \u001b[39m=\u001b[39m [\u001b[39m'\u001b[39m\u001b[39mdata\u001b[39m\u001b[39m'\u001b[39m, \u001b[39m'\u001b[39m\u001b[39msearch_by_raw_query\u001b[39m\u001b[39m'\u001b[39m, \u001b[39m'\u001b[39m\u001b[39msearch_timeline\u001b[39m\u001b[39m'\u001b[39m, \u001b[39m'\u001b[39m\u001b[39mtimeline\u001b[39m\u001b[39m'\u001b[39m, \u001b[39m'\u001b[39m\u001b[39minstructions\u001b[39m\u001b[39m'\u001b[39m]):\n\u001b[1;32m   1764\u001b[0m \t\u001b[39myield from\u001b[39;00m \u001b[39mself\u001b[39m\u001b[39m.\u001b[39m_graphql_timeline_instructions_to_tweets(obj[\u001b[39m'\u001b[39m\u001b[39mdata\u001b[39m\u001b[39m'\u001b[39m][\u001b[39m'\u001b[39m\u001b[39msearch_by_raw_query\u001b[39m\u001b[39m'\u001b[39m][\u001b[39m'\u001b[39m\u001b[39msearch_timeline\u001b[39m\u001b[39m'\u001b[39m][\u001b[39m'\u001b[39m\u001b[39mtimeline\u001b[39m\u001b[39m'\u001b[39m][\u001b[39m'\u001b[39m\u001b[39minstructions\u001b[39m\u001b[39m'\u001b[39m])\n",
      "File \u001b[0;32m/Library/Frameworks/Python.framework/Versions/3.10/lib/python3.10/site-packages/snscrape/modules/twitter.py:915\u001b[0m, in \u001b[0;36m_TwitterAPIScraper._iter_api_data\u001b[0;34m(self, endpoint, apiType, params, paginationParams, cursor, direction, instructionsPath)\u001b[0m\n\u001b[1;32m    913\u001b[0m \u001b[39mwhile\u001b[39;00m \u001b[39mTrue\u001b[39;00m:\n\u001b[1;32m    914\u001b[0m \t_logger\u001b[39m.\u001b[39minfo(\u001b[39mf\u001b[39m\u001b[39m'\u001b[39m\u001b[39mRetrieving scroll page \u001b[39m\u001b[39m{\u001b[39;00mcursor\u001b[39m}\u001b[39;00m\u001b[39m'\u001b[39m)\n\u001b[0;32m--> 915\u001b[0m \tobj \u001b[39m=\u001b[39m \u001b[39mself\u001b[39;49m\u001b[39m.\u001b[39;49m_get_api_data(endpoint, apiType, reqParams, instructionsPath \u001b[39m=\u001b[39;49m instructionsPath)\n\u001b[1;32m    916\u001b[0m \t\u001b[39myield\u001b[39;00m obj\n\u001b[1;32m    918\u001b[0m \t\u001b[39m# No data format test, just a hard and loud crash if anything's wrong :-)\u001b[39;00m\n",
      "File \u001b[0;32m/Library/Frameworks/Python.framework/Versions/3.10/lib/python3.10/site-packages/snscrape/modules/twitter.py:886\u001b[0m, in \u001b[0;36m_TwitterAPIScraper._get_api_data\u001b[0;34m(self, endpoint, apiType, params, instructionsPath)\u001b[0m\n\u001b[1;32m    884\u001b[0m \u001b[39mif\u001b[39;00m apiType \u001b[39mis\u001b[39;00m _TwitterAPIType\u001b[39m.\u001b[39mGRAPHQL:\n\u001b[1;32m    885\u001b[0m \tparams \u001b[39m=\u001b[39m urllib\u001b[39m.\u001b[39mparse\u001b[39m.\u001b[39murlencode({k: json\u001b[39m.\u001b[39mdumps(v, separators \u001b[39m=\u001b[39m (\u001b[39m'\u001b[39m\u001b[39m,\u001b[39m\u001b[39m'\u001b[39m, \u001b[39m'\u001b[39m\u001b[39m:\u001b[39m\u001b[39m'\u001b[39m)) \u001b[39mfor\u001b[39;00m k, v \u001b[39min\u001b[39;00m params\u001b[39m.\u001b[39mitems()}, quote_via \u001b[39m=\u001b[39m urllib\u001b[39m.\u001b[39mparse\u001b[39m.\u001b[39mquote)\n\u001b[0;32m--> 886\u001b[0m r \u001b[39m=\u001b[39m \u001b[39mself\u001b[39;49m\u001b[39m.\u001b[39;49m_get(endpoint, params \u001b[39m=\u001b[39;49m params, headers \u001b[39m=\u001b[39;49m \u001b[39mself\u001b[39;49m\u001b[39m.\u001b[39;49m_apiHeaders, responseOkCallback \u001b[39m=\u001b[39;49m functools\u001b[39m.\u001b[39;49mpartial(\u001b[39mself\u001b[39;49m\u001b[39m.\u001b[39;49m_check_api_response, apiType \u001b[39m=\u001b[39;49m apiType, instructionsPath \u001b[39m=\u001b[39;49m instructionsPath))\n\u001b[1;32m    887\u001b[0m \u001b[39mreturn\u001b[39;00m r\u001b[39m.\u001b[39m_snscrapeObj\n",
      "File \u001b[0;32m/Library/Frameworks/Python.framework/Versions/3.10/lib/python3.10/site-packages/snscrape/base.py:275\u001b[0m, in \u001b[0;36mScraper._get\u001b[0;34m(self, *args, **kwargs)\u001b[0m\n\u001b[1;32m    274\u001b[0m \u001b[39mdef\u001b[39;00m \u001b[39m_get\u001b[39m(\u001b[39mself\u001b[39m, \u001b[39m*\u001b[39margs, \u001b[39m*\u001b[39m\u001b[39m*\u001b[39mkwargs):\n\u001b[0;32m--> 275\u001b[0m \t\u001b[39mreturn\u001b[39;00m \u001b[39mself\u001b[39;49m\u001b[39m.\u001b[39;49m_request(\u001b[39m'\u001b[39;49m\u001b[39mGET\u001b[39;49m\u001b[39m'\u001b[39;49m, \u001b[39m*\u001b[39;49margs, \u001b[39m*\u001b[39;49m\u001b[39m*\u001b[39;49mkwargs)\n",
      "File \u001b[0;32m/Library/Frameworks/Python.framework/Versions/3.10/lib/python3.10/site-packages/snscrape/base.py:271\u001b[0m, in \u001b[0;36mScraper._request\u001b[0;34m(self, method, url, params, data, headers, timeout, responseOkCallback, allowRedirects, proxies)\u001b[0m\n\u001b[1;32m    269\u001b[0m \t_logger\u001b[39m.\u001b[39mfatal(msg)\n\u001b[1;32m    270\u001b[0m \t_logger\u001b[39m.\u001b[39mfatal(\u001b[39mf\u001b[39m\u001b[39m'\u001b[39m\u001b[39mErrors: \u001b[39m\u001b[39m{\u001b[39;00m\u001b[39m\"\u001b[39m\u001b[39m, \u001b[39m\u001b[39m\"\u001b[39m\u001b[39m.\u001b[39mjoin(errors)\u001b[39m}\u001b[39;00m\u001b[39m'\u001b[39m)\n\u001b[0;32m--> 271\u001b[0m \t\u001b[39mraise\u001b[39;00m ScraperException(msg)\n\u001b[1;32m    272\u001b[0m \u001b[39mraise\u001b[39;00m \u001b[39mRuntimeError\u001b[39;00m(\u001b[39m'\u001b[39m\u001b[39mReached unreachable code\u001b[39m\u001b[39m'\u001b[39m)\n",
      "\u001b[0;31mScraperException\u001b[0m: 4 requests to https://twitter.com/i/api/graphql/7jT5GT59P8IFjgxwqnEdQw/SearchTimeline?variables=%7B%22rawQuery%22%3A%22pilpres%202024%20OR%20prabowo%20OR%20anies%20OR%20ganjar%22%2C%22count%22%3A20%2C%22product%22%3A%22Latest%22%2C%22withDownvotePerspective%22%3Afalse%2C%22withReactionsMetadata%22%3Afalse%2C%22withReactionsPerspective%22%3Afalse%7D&features=%7B%22rweb_lists_timeline_redesign_enabled%22%3Afalse%2C%22blue_business_profile_image_shape_enabled%22%3Afalse%2C%22responsive_web_graphql_exclude_directive_enabled%22%3Atrue%2C%22verified_phone_label_enabled%22%3Afalse%2C%22creator_subscriptions_tweet_preview_api_enabled%22%3Afalse%2C%22responsive_web_graphql_timeline_navigation_enabled%22%3Atrue%2C%22responsive_web_graphql_skip_user_profile_image_extensions_enabled%22%3Afalse%2C%22tweetypie_unmention_optimization_enabled%22%3Atrue%2C%22vibe_api_enabled%22%3Atrue%2C%22responsive_web_edit_tweet_api_enabled%22%3Atrue%2C%22graphql_is_translatable_rweb_tweet_is_translatable_enabled%22%3Atrue%2C%22view_counts_everywhere_api_enabled%22%3Atrue%2C%22longform_notetweets_consumption_enabled%22%3Atrue%2C%22tweet_awards_web_tipping_enabled%22%3Afalse%2C%22freedom_of_speech_not_reach_fetch_enabled%22%3Afalse%2C%22standardized_nudges_misinfo%22%3Atrue%2C%22tweet_with_visibility_results_prefer_gql_limited_actions_policy_enabled%22%3Afalse%2C%22interactive_text_enabled%22%3Atrue%2C%22responsive_web_text_conversations_enabled%22%3Afalse%2C%22longform_notetweets_rich_text_read_enabled%22%3Afalse%2C%22longform_notetweets_inline_media_enabled%22%3Afalse%2C%22responsive_web_enhance_cards_enabled%22%3Afalse%2C%22responsive_web_twitter_blue_verified_badge_is_enabled%22%3Atrue%7D failed, giving up."
     ]
    }
   ],
   "source": [
    "tweets = []\n",
    "n_tweet = 1000000\n",
    "for i, tweet in zip(range(n_tweet), scraper.get_items()):\n",
    "  data = [tweet.date, tweet.rawContent, tweet.user.username]\n",
    "  tweets.append(data)\n",
    "  if i > n_tweet:\n",
    "    break"
   ]
  },
  {
   "cell_type": "code",
   "execution_count": null,
   "id": "8eb87970",
   "metadata": {},
   "outputs": [
    {
     "data": {
      "text/plain": [
       "95"
      ]
     },
     "execution_count": 36,
     "metadata": {},
     "output_type": "execute_result"
    }
   ],
   "source": [
    "len(tweets)"
   ]
  },
  {
   "cell_type": "code",
   "execution_count": null,
   "id": "f2679659",
   "metadata": {},
   "outputs": [
    {
     "data": {
      "text/plain": [
       "[[datetime.datetime(2022, 12, 30, 23, 50, 32, tzinfo=datetime.timezone.utc),\n",
       "  'Berkat kinerja di BUMN, serta kedekatan dengan pemerintah, membuat elektabilitas terus meningkat. Atas dasar itu, dinilai jadi Cawapres terkuat di Pilpres 2024.\\n\\n@erickthohir\\n#BangkitBersamaET https://t.co/1kxqJpwT66',\n",
       "  'Fuad_Lha9'],\n",
       " [datetime.datetime(2022, 12, 30, 23, 50, 16, tzinfo=datetime.timezone.utc),\n",
       "  \"@ganjarpranowo menggandeng\\xa0ulama\\xa0hingga\\xa0tokoh agama\\xa0dalam memberikan suasana 'adem' menjelang\\xa0Pemilu\\xa02024 di Jateng. Menurut Ganjar, peran mereka sangat penting untuk mengedukasi masyarakat menjelang Pilpres 2024. https://t.co/x0DARLOxzG\",\n",
       "  'iwan_tata98'],\n",
       " [datetime.datetime(2022, 12, 30, 23, 40, 27, tzinfo=datetime.timezone.utc),\n",
       "  'Mantap 👍👍\\nElektabilitas Menteri BUMN Erick Thohir menempati posisi teratas sebagai bakal calon wakil presiden menjelang Pilpres 2024.\\n#BangkitBersamaET https://t.co/h3M1HU0pXe',\n",
       "  'Lima8Satu'],\n",
       " [datetime.datetime(2022, 12, 30, 23, 23, 54, tzinfo=datetime.timezone.utc),\n",
       "  'Yuhuu ✊ \"ETHO satu step lebih maju untuk menjadi RI dua.\"\\n\\nDilihat dari kinerjanya yang sangat memuaskan publik, tak heran bila menjadi Menteri yang konsisten didukung sebagai cawapres di Pilpres 2024.\\n@erickthohir\\n#BangkitBersamaET https://t.co/Y1HZfNnQtv',\n",
       "  'denni_sauya'],\n",
       " [datetime.datetime(2022, 12, 30, 23, 5, 47, tzinfo=datetime.timezone.utc),\n",
       "  'PKS Dorong Terwujudnya 3 Paslon di Pilpres 2024\\n\\n #Sindonews #BukanBeritaBiasa .nasional.sindonews.com/read/983417/12…',\n",
       "  'Niki_Mirzaaa'],\n",
       " [datetime.datetime(2022, 12, 30, 22, 55, 15, tzinfo=datetime.timezone.utc),\n",
       "  'PKS Dorong Terwujudnya 3 Paslon di Pilpres 2024\\n\\n #Sindonews #BukanBeritaBiasa .nasional.sindonews.com/read/983417/12…',\n",
       "  'ricko_liquid'],\n",
       " [datetime.datetime(2022, 12, 30, 22, 44, 2, tzinfo=datetime.timezone.utc),\n",
       "  'PKS Dorong Terwujudnya 3 Paslon di Pilpres 2024\\n\\n #Sindonews #BukanBeritaBiasa .nasional.sindonews.com/read/983417/12…',\n",
       "  'SINDOnews'],\n",
       " [datetime.datetime(2022, 12, 30, 22, 3, 6, tzinfo=datetime.timezone.utc),\n",
       "  '@KaRdinYaaSaman Kalau pilpres 2014 dan 2019 dgn memilih prabowo itu suatu kesalahan maka pilpres 2024 saya bertaubat dgn taubatan nasuha 🤣',\n",
       "  'Nhahwa1'],\n",
       " [datetime.datetime(2022, 12, 30, 21, 45, 18, tzinfo=datetime.timezone.utc),\n",
       "  'Ada 17 Parpol yang akan bersaing pada Pileg 2024 selanjutnya Pilpres. Amati, cermati dari sekarang untuk menentukan pilihan anda secara tepat, baik dan benar..',\n",
       "  'UhirdariatmanA'],\n",
       " [datetime.datetime(2022, 12, 30, 21, 34, 24, tzinfo=datetime.timezone.utc),\n",
       "  'Tahun 2023 besok adalah awal tahun politik. Satu tahun bukan waktu yang panjang, dimana tahun 2024 ada 27 Parpol yang akan memperebutkan simpati rakyat baik pileg maupun Pilpres ...',\n",
       "  'UhirdariatmanA'],\n",
       " [datetime.datetime(2022, 12, 30, 21, 25, 30, tzinfo=datetime.timezone.utc),\n",
       "  'Banyak orang berbondong-bondong menjadi relawan Anies Baswedan pada Pilpres 2024. Begitu juga yang terjadi Kabupaten Blitar, Jawa Timur.\\n\\nDi Blitar ini, relawannya justru paling banyak dari kalangan pensiunan ASN dan tenaga pendidik atau guru… kbanews.com/geliat-daerah/…',\n",
       "  'BangUmar_'],\n",
       " [datetime.datetime(2022, 12, 30, 20, 59, 13, tzinfo=datetime.timezone.utc),\n",
       "  '#rk24\\n#rkri124\\nPrediksi Pilpres Tahun 2024 akan diikuti 4 (empat ) Capres, Yaitu :\\n\\n1. Prabowo Subianto\\n (Gerindra+PKB)\\n\\n2. Anies Baswedan\\n(Nasdem+PKS+perindo+Hanura)\\n\\n3. Ganjar Pranowo\\n(PDIP+PSI)\\n\\n4. Ridwan Kamil\\n(GOLKAR+PAN+PPP) https://t.co/QxTz71Yra3',\n",
       "  'TEABOBI'],\n",
       " [datetime.datetime(2022, 12, 30, 20, 58, 19, tzinfo=datetime.timezone.utc),\n",
       "  '#rk24\\n#rkri124\\nPrediksi Pilpres Tahun 2024 akan diikuti 4 (empat ) Capres, Yaitu :\\n\\n1. Prabowo Subianto\\n (Gerindra+PKB)\\n\\n2. Anies Baswedan\\n(Nasdem+PKS+perindo+Hanura)\\n\\n3. Ganjar Pranowo\\n(PDIP+PSI)\\n\\n4. Ridwan Kamil\\n(GOLKAR+PAN+PPP) https://t.co/xVniDEaZon',\n",
       "  'ArahResikInd'],\n",
       " [datetime.datetime(2022, 12, 30, 19, 35, 4, tzinfo=datetime.timezone.utc),\n",
       "  'Dorong 3 Poros di Pilpres 2024, PKS: Bisa\\xa0Mitigasi Terjadinya Polarisasi\\xa0 dlvr.it/Sg91LK',\n",
       "  'liputan6dotcom'],\n",
       " [datetime.datetime(2022, 12, 30, 19, 27, 10, tzinfo=datetime.timezone.utc),\n",
       "  '@Fahrihamzah Sudah ada capres kah kaka untuk pilpres di 2024? Atau bang fahri yg ingin diusung jadi capres?',\n",
       "  'alexcandriya'],\n",
       " [datetime.datetime(2022, 12, 30, 19, 5, 18, tzinfo=datetime.timezone.utc),\n",
       "  'Pengamat Politik Adi Prayitno menilai, PDIP nampaknya tetap ngotot akan mengusung Puan Maharani di Pilpres 2024 meski elektabilitasnya rendah.\\n\\nPuan Capres PDIP\\nhttps://t.co/MlQYYuV9KI',\n",
       "  'gladinscot'],\n",
       " [datetime.datetime(2022, 12, 30, 19, 0, 11, tzinfo=datetime.timezone.utc),\n",
       "  'Salah satu keputusan yang disepakati yakni kesiapan DPD Lingkar PUAN Sumut untuk mendeklarasikan Puan Maharani sebagai Capres di Pilpres 2024.\\n\\nPuan Capres PDIP\\nift.tt/rRJ7hz4',\n",
       "  'jericodoloroso'],\n",
       " [datetime.datetime(2022, 12, 30, 18, 46, 34, tzinfo=datetime.timezone.utc),\n",
       "  'Gelagapan Cak Nun Ungkit Pilpres 2014, Prabowo: Saya Dukung Pak Jokowi solopos.com/gelagapan-cak-…',\n",
       "  'soloposdotcom'],\n",
       " [datetime.datetime(2022, 12, 30, 18, 43, 55, tzinfo=datetime.timezone.utc),\n",
       "  'Resolusi 2023.. \\n\\nSemoga Indonesia bisa ngadain Pilpres yg beneran jujur ga banyak drama .. \\n\\nBiar 2024 Indonesia punya Presiden baru pilihan Rakyatnya bukan titipan pejabat .. yg Amanah ga dzalim..ga tamak ma kekayaan Alam indonesia ga hobi ngumpulin upeti buat hura\" ..',\n",
       "  'p_vanillasky'],\n",
       " [datetime.datetime(2022, 12, 30, 18, 39, 49, tzinfo=datetime.timezone.utc),\n",
       "  'Jenderal TNI Andika Perkasa Dinilai Penuhi Syarat Proporsi dan Harmoni Maju Pilpres 2024 bekasi.inews.id/read/232575/je…',\n",
       "  'bacalagersmedia'],\n",
       " [datetime.datetime(2022, 12, 30, 18, 4, 8, tzinfo=datetime.timezone.utc),\n",
       "  'Berkat kinerjanya yg baik ,mrmbuat @erickthohir semakin melaju menuju pilpres 2024.\\n#Bangkit BersamaET https://t.co/r9LmB8osTS',\n",
       "  'yudianto99'],\n",
       " [datetime.datetime(2022, 12, 30, 18, 3, 33, tzinfo=datetime.timezone.utc),\n",
       "  '@ELBenny_10 Org ini pernah diundang gerindra, sandi uno, n radikalis pendukung prabowo waktu pilpres lalu. \\nDia mengaku medianya memanipulasi berita n penghasilannya 25-30 jt sebulan.',\n",
       "  'subbejjo']]"
      ]
     },
     "execution_count": 10,
     "metadata": {},
     "output_type": "execute_result"
    }
   ],
   "source": [
    "tweets"
   ]
  },
  {
   "cell_type": "code",
   "execution_count": null,
   "id": "ce13c918",
   "metadata": {},
   "outputs": [],
   "source": [
    "tweet_df = pd.DataFrame(tweets, columns=['date','tweet','username'])"
   ]
  },
  {
   "cell_type": "code",
   "execution_count": null,
   "id": "57edb458",
   "metadata": {},
   "outputs": [
    {
     "name": "stdout",
     "output_type": "stream",
     "text": [
      "                        date  \\\n",
      "0  2023-05-30 23:59:44+00:00   \n",
      "1  2023-05-30 23:59:24+00:00   \n",
      "2  2023-05-30 23:53:44+00:00   \n",
      "3  2023-05-30 23:53:03+00:00   \n",
      "4  2023-05-30 23:52:08+00:00   \n",
      "..                       ...   \n",
      "63 2023-05-30 18:03:17+00:00   \n",
      "64 2023-05-30 17:59:48+00:00   \n",
      "65 2023-05-30 17:59:13+00:00   \n",
      "66 2023-05-30 17:57:35+00:00   \n",
      "67 2023-05-30 17:56:23+00:00   \n",
      "\n",
      "                                                tweet         username  \n",
      "0   @ReflyHZ @YouTube Resmi!!! Presiden Joko Widod...         AdeSaung  \n",
      "1   @tifsembiring Ini paling ada hubunganx dg pilp...      DewaSudana9  \n",
      "2   @PDemokrat Sepertinya pak jokowi head to head ...       maha_sakti  \n",
      "3   Cawe-cawe di Pilpres 2024, Jokowi Dinilai Meru...        GoRiauCom  \n",
      "4   @vanc1Bozz Makanya jgn lupa pilpres 2024, hrs ...  rahmaniarbaftim  \n",
      "..                                                ...              ...  \n",
      "63  @Ganjaran_app kami semua optimis kalau pak gan...      ArrivaldiHd  \n",
      "64  Pramono Anung..\\nMana ini Pramono Anung..?\\n\\n...         auliamed  \n",
      "65  Sebulan yg lalu, beberapa alumni HMI lintas pa...     porosprabowo  \n",
      "66  mungkin maksudnya demi kepentingan ibukota neg...    datukpancilok  \n",
      "67  Setuju Presiden Cawe-cawe Pilpres, Gerindra Te...       haelamarie  \n",
      "\n",
      "[68 rows x 3 columns]\n"
     ]
    }
   ],
   "source": [
    "print(tweet_df)"
   ]
  },
  {
   "cell_type": "code",
   "execution_count": null,
   "id": "1a4a7f50",
   "metadata": {},
   "outputs": [
    {
     "name": "stdout",
     "output_type": "stream",
     "text": [
      "                        date                   id  \\\n",
      "54 2023-05-30 16:00:14+00:00  1663576056056668161   \n",
      "55 2023-05-30 15:58:55+00:00  1663575724459184128   \n",
      "56 2023-05-30 15:33:17+00:00  1663569274005487616   \n",
      "57 2023-05-30 15:29:31+00:00  1663568326055047169   \n",
      "58 2023-05-30 15:27:27+00:00  1663567806531772419   \n",
      "\n",
      "                                                tweet         username  \n",
      "54  @__AnakKolong @gibran_tweet Semalam, seorang i...  Pt0nks1matupang  \n",
      "55  @Leonita_Lestari Kayak ngga tahu aja kebiasaan...        aswin2211  \n",
      "56  @__AnakKolong @gibran_tweet Gibran bukan siapa...      SingoYudho_  \n",
      "57  @Lembayung071 @jokowi @prabowo Ane sich yes......      curutonline  \n",
      "58  @lordran44 @aniesbaswedan Bapa Anies Baswedan ...      TunayVallen  \n"
     ]
    }
   ],
   "source": [
    "print(tweet_df.tail())"
   ]
  }
 ],
 "metadata": {
  "kernelspec": {
   "display_name": "Python 3",
   "language": "python",
   "name": "python3"
  },
  "language_info": {
   "codemirror_mode": {
    "name": "ipython",
    "version": 3
   },
   "file_extension": ".py",
   "mimetype": "text/x-python",
   "name": "python",
   "nbconvert_exporter": "python",
   "pygments_lexer": "ipython3",
   "version": "3.10.8"
  },
  "vscode": {
   "interpreter": {
    "hash": "a0ab23ae73b02e2789f3f8b81f004edfa8850c045f12b430a36d57ca70809240"
   }
  }
 },
 "nbformat": 4,
 "nbformat_minor": 5
}
