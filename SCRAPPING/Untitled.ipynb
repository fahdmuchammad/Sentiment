{
 "cells": [
  {
   "cell_type": "code",
   "execution_count": 1,
   "id": "14c47fc8",
   "metadata": {},
   "outputs": [
    {
     "name": "stdout",
     "output_type": "stream",
     "text": [
      "3.9.12\n"
     ]
    }
   ],
   "source": [
    "from platform import python_version\n",
    "\n",
    "print(python_version())"
   ]
  },
  {
   "cell_type": "code",
   "execution_count": 2,
   "id": "82471539",
   "metadata": {},
   "outputs": [
    {
     "name": "stdout",
     "output_type": "stream",
     "text": [
      "Collecting git+https://github.com/JustAnotherArchivist/snscrape.git\n",
      "  Cloning https://github.com/JustAnotherArchivist/snscrape.git to /private/var/folders/md/n3wx2h2116zfry84m6sz4k5w0000gn/T/pip-req-build-dxe9_1jo\n",
      "  Running command git clone -q https://github.com/JustAnotherArchivist/snscrape.git /private/var/folders/md/n3wx2h2116zfry84m6sz4k5w0000gn/T/pip-req-build-dxe9_1jo\n",
      "  Resolved https://github.com/JustAnotherArchivist/snscrape.git to commit c3b216c3cb8593513a018eb3ec4fd6f18d3aba5b\n",
      "  Installing build dependencies ... \u001b[?25ldone\n",
      "\u001b[?25h  Getting requirements to build wheel ... \u001b[?25ldone\n",
      "\u001b[?25h  Installing backend dependencies ... \u001b[?25ldone\n",
      "\u001b[?25h    Preparing wheel metadata ... \u001b[?25ldone\n",
      "\u001b[?25hRequirement already satisfied: beautifulsoup4 in /opt/anaconda3/lib/python3.9/site-packages (from snscrape==0.6.2.20230321.dev39+gc3b216c) (4.11.1)\n",
      "Requirement already satisfied: lxml in /opt/anaconda3/lib/python3.9/site-packages (from snscrape==0.6.2.20230321.dev39+gc3b216c) (4.8.0)\n",
      "Requirement already satisfied: filelock in /opt/anaconda3/lib/python3.9/site-packages (from snscrape==0.6.2.20230321.dev39+gc3b216c) (3.6.0)\n",
      "Requirement already satisfied: requests[socks] in /opt/anaconda3/lib/python3.9/site-packages (from snscrape==0.6.2.20230321.dev39+gc3b216c) (2.27.1)\n",
      "Requirement already satisfied: soupsieve>1.2 in /opt/anaconda3/lib/python3.9/site-packages (from beautifulsoup4->snscrape==0.6.2.20230321.dev39+gc3b216c) (2.3.1)\n",
      "Requirement already satisfied: idna<4,>=2.5 in /opt/anaconda3/lib/python3.9/site-packages (from requests[socks]->snscrape==0.6.2.20230321.dev39+gc3b216c) (3.3)\n",
      "Requirement already satisfied: charset-normalizer~=2.0.0 in /opt/anaconda3/lib/python3.9/site-packages (from requests[socks]->snscrape==0.6.2.20230321.dev39+gc3b216c) (2.0.4)\n",
      "Requirement already satisfied: urllib3<1.27,>=1.21.1 in /opt/anaconda3/lib/python3.9/site-packages (from requests[socks]->snscrape==0.6.2.20230321.dev39+gc3b216c) (1.26.9)\n",
      "Requirement already satisfied: certifi>=2017.4.17 in /opt/anaconda3/lib/python3.9/site-packages (from requests[socks]->snscrape==0.6.2.20230321.dev39+gc3b216c) (2021.10.8)\n",
      "Requirement already satisfied: PySocks!=1.5.7,>=1.5.6 in /opt/anaconda3/lib/python3.9/site-packages (from requests[socks]->snscrape==0.6.2.20230321.dev39+gc3b216c) (1.7.1)\n",
      "Building wheels for collected packages: snscrape\n",
      "  Building wheel for snscrape (PEP 517) ... \u001b[?25ldone\n",
      "\u001b[?25h  Created wheel for snscrape: filename=snscrape-0.6.2.20230321.dev39+gc3b216c-py3-none-any.whl size=73725 sha256=c7b1d7b77b9f8d546647ad9875244ef2d043aa83fe87f509a276e836aa27516b\n",
      "  Stored in directory: /private/var/folders/md/n3wx2h2116zfry84m6sz4k5w0000gn/T/pip-ephem-wheel-cache-brnbc3y3/wheels/1a/ba/e2/39fa3a11802c4a622f2efc8be3f5ff854481051d0b4c95c1fd\n",
      "Successfully built snscrape\n",
      "\u001b[33mWARNING: Error parsing requirements for platformdirs: [Errno 2] No such file or directory: '/Users/fahdmuchammad/.local/lib/python3.9/site-packages/platformdirs-2.6.0.dist-info/METADATA'\u001b[0m\n",
      "Installing collected packages: snscrape\n",
      "  Attempting uninstall: snscrape\n",
      "    Found existing installation: snscrape 0.6.2.20230321.dev32+gb76f485\n",
      "    Uninstalling snscrape-0.6.2.20230321.dev32+gb76f485:\n",
      "      Successfully uninstalled snscrape-0.6.2.20230321.dev32+gb76f485\n",
      "Successfully installed snscrape-0.6.2.20230321.dev39+gc3b216c\n"
     ]
    }
   ],
   "source": [
    "%!pip install git+https://github.com/JustAnotherArchivist/snscrape.git"
   ]
  },
  {
   "cell_type": "code",
   "execution_count": 3,
   "id": "6505771f",
   "metadata": {},
   "outputs": [
    {
     "name": "stdout",
     "output_type": "stream",
     "text": [
      "Requirement already satisfied: pandas in /opt/anaconda3/lib/python3.9/site-packages (1.4.2)\n",
      "Requirement already satisfied: python-dateutil>=2.8.1 in /opt/anaconda3/lib/python3.9/site-packages (from pandas) (2.8.2)\n",
      "Requirement already satisfied: pytz>=2020.1 in /opt/anaconda3/lib/python3.9/site-packages (from pandas) (2021.3)\n",
      "Requirement already satisfied: numpy>=1.18.5 in /opt/anaconda3/lib/python3.9/site-packages (from pandas) (1.21.5)\n",
      "Requirement already satisfied: six>=1.5 in /opt/anaconda3/lib/python3.9/site-packages (from python-dateutil>=2.8.1->pandas) (1.16.0)\n",
      "\u001b[33mWARNING: Error parsing requirements for platformdirs: [Errno 2] No such file or directory: '/Users/fahdmuchammad/.local/lib/python3.9/site-packages/platformdirs-2.6.0.dist-info/METADATA'\u001b[0m\n",
      "Requirement already satisfied: tqdm in /opt/anaconda3/lib/python3.9/site-packages (4.64.0)\n",
      "\u001b[33mWARNING: Error parsing requirements for platformdirs: [Errno 2] No such file or directory: '/Users/fahdmuchammad/.local/lib/python3.9/site-packages/platformdirs-2.6.0.dist-info/METADATA'\u001b[0m\n"
     ]
    }
   ],
   "source": [
    "%pip install pandas\n",
    "%pip install tqdm"
   ]
  },
  {
   "cell_type": "code",
   "execution_count": 4,
   "id": "8bcef425",
   "metadata": {},
   "outputs": [
    {
     "name": "stdout",
     "output_type": "stream",
     "text": [
      "Collecting datetime\n",
      "  Downloading DateTime-5.1-py3-none-any.whl (52 kB)\n",
      "\u001b[K     |████████████████████████████████| 52 kB 908 kB/s eta 0:00:01\n",
      "\u001b[?25hRequirement already satisfied: pytz in /opt/anaconda3/lib/python3.9/site-packages (from datetime) (2021.3)\n",
      "Requirement already satisfied: zope.interface in /opt/anaconda3/lib/python3.9/site-packages (from datetime) (5.4.0)\n",
      "Requirement already satisfied: setuptools in /opt/anaconda3/lib/python3.9/site-packages (from zope.interface->datetime) (61.2.0)\n",
      "\u001b[33mWARNING: Error parsing requirements for platformdirs: [Errno 2] No such file or directory: '/Users/fahdmuchammad/.local/lib/python3.9/site-packages/platformdirs-2.6.0.dist-info/METADATA'\u001b[0m\n",
      "Installing collected packages: datetime\n",
      "Successfully installed datetime-5.1\n"
     ]
    }
   ],
   "source": [
    "%pip install datetime"
   ]
  },
  {
   "cell_type": "code",
   "execution_count": 5,
   "id": "c75e41fa",
   "metadata": {},
   "outputs": [],
   "source": [
    "import pandas as pd\n",
    "from tqdm.notebook import tqdm\n",
    "import snscrape.modules.twitter as sntwitter"
   ]
  },
  {
   "cell_type": "code",
   "execution_count": 6,
   "id": "f3cf0169",
   "metadata": {},
   "outputs": [],
   "source": [
    "import datetime\n",
    "\n",
    "scraper = sntwitter.TwitterSearchScraper('pilpres 2024 OR prabowo OR anies OR ganjar since:2022-01-01 until:2022-12-31')\n"
   ]
  },
  {
   "cell_type": "code",
   "execution_count": 7,
   "id": "ef66a649",
   "metadata": {},
   "outputs": [],
   "source": [
    "for tweet in scraper.get_items():\n",
    "  break"
   ]
  },
  {
   "cell_type": "code",
   "execution_count": 8,
   "id": "ddfb2c1a",
   "metadata": {},
   "outputs": [
    {
     "data": {
      "text/plain": [
       "Tweet(url='https://twitter.com/AdeSaung/status/1663696725553590274', date=datetime.datetime(2023, 5, 30, 23, 59, 44, tzinfo=datetime.timezone.utc), rawContent='@ReflyHZ @YouTube Resmi!!! Presiden Joko Widodo  cawe cawe, katanya sih cawe cawe nya dipake meng endors Prabowo bukan Ganjar. Kenapa gak sekalian saja ya, presiden memberdayakan kembali tukang survey Qodari meng endors dirinya?\\nJika Jokowi ikut lagi kontestasi Pilpres 2024 , siapa pilihan anda?', renderedContent='@ReflyHZ @YouTube Resmi!!! Presiden Joko Widodo  cawe cawe, katanya sih cawe cawe nya dipake meng endors Prabowo bukan Ganjar. Kenapa gak sekalian saja ya, presiden memberdayakan kembali tukang survey Qodari meng endors dirinya?\\nJika Jokowi ikut lagi kontestasi Pilpres 2024 , siapa pilihan anda?', id=1663696725553590274, user=User(username='AdeSaung', id=1587278698532995072, displayname='Kawan main buzzerrp', rawDescription='Pedagang nasi, golput permanen sejak 1990', renderedDescription='Pedagang nasi, golput permanen sejak 1990', descriptionLinks=None, verified=False, created=datetime.datetime(2022, 11, 1, 3, 2, 49, tzinfo=datetime.timezone.utc), followersCount=38, friendsCount=150, statusesCount=3139, favouritesCount=785, listedCount=0, mediaCount=476, location='', protected=None, link=None, profileImageUrl='https://pbs.twimg.com/profile_images/1587278963071930368/cTnl6MUu_normal.png', profileBannerUrl=None, label=None, blue=False, blueType=None), replyCount=0, retweetCount=0, likeCount=0, quoteCount=0, conversationId=1507954068601585664, lang='in', source=None, sourceUrl=None, sourceLabel=None, links=None, media=None, retweetedTweet=None, quotedTweet=None, inReplyToTweetId=1507954068601585664, inReplyToUser=User(username='ReflyHZ', id=185116088, displayname='Refly Harun', rawDescription=None, renderedDescription=None, descriptionLinks=None, verified=None, created=None, followersCount=None, friendsCount=None, statusesCount=None, favouritesCount=None, listedCount=None, mediaCount=None, location=None, protected=None, link=None, profileImageUrl=None, profileBannerUrl=None, label=None, blue=None, blueType=None), mentionedUsers=[User(username='ReflyHZ', id=185116088, displayname='Refly Harun', rawDescription=None, renderedDescription=None, descriptionLinks=None, verified=None, created=None, followersCount=None, friendsCount=None, statusesCount=None, favouritesCount=None, listedCount=None, mediaCount=None, location=None, protected=None, link=None, profileImageUrl=None, profileBannerUrl=None, label=None, blue=None, blueType=None), User(username='YouTube', id=10228272, displayname='YouTube', rawDescription=None, renderedDescription=None, descriptionLinks=None, verified=None, created=None, followersCount=None, friendsCount=None, statusesCount=None, favouritesCount=None, listedCount=None, mediaCount=None, location=None, protected=None, link=None, profileImageUrl=None, profileBannerUrl=None, label=None, blue=None, blueType=None)], coordinates=None, place=None, hashtags=None, cashtags=None, card=PollCard(options=[PollOption(label='Joko Widodo', count=0), PollOption(label='Ganjar Pranowo', count=0), PollOption(label='Prabowo Subianto', count=0), PollOption(label='Anies Baswedan', count=1)], endDate=datetime.datetime(2023, 6, 3, 23, 59, 43, tzinfo=datetime.timezone.utc), duration=5760, finalResults=True, lastUpdateDate=datetime.datetime(2023, 6, 3, 23, 59, 46, tzinfo=datetime.timezone.utc), medium=None), viewCount=11, vibe=None, bookmarkCount=0, pinned=None)"
      ]
     },
     "execution_count": 8,
     "metadata": {},
     "output_type": "execute_result"
    }
   ],
   "source": [
    "tweet"
   ]
  },
  {
   "cell_type": "code",
   "execution_count": 9,
   "id": "7be69029",
   "metadata": {},
   "outputs": [
    {
     "data": {
      "application/vnd.jupyter.widget-view+json": {
       "model_id": "ba0443fd042f4dfa95f508325e3b972e",
       "version_major": 2,
       "version_minor": 0
      },
      "text/plain": [
       "  0%|          | 0/1000 [00:00<?, ?it/s]"
      ]
     },
     "metadata": {},
     "output_type": "display_data"
    },
    {
     "name": "stderr",
     "output_type": "stream",
     "text": [
      "Skipping unrecognised entry ID: 'promoted-tweet-1666150461756555264-d29766cd730ed68'\n",
      "Skipping unrecognised entry ID: 'promoted-tweet-1666699125356924929-d296f0bc28d4cf1'\n",
      "Skipping unrecognised entry ID: 'promoted-tweet-1665629535692369921-d294f93e4d6a649'\n",
      "Skipping unrecognised entry ID: 'promoted-tweet-1655120302186086400-d290ae7033794a1'\n",
      "Skipping unrecognised entry ID: 'promoted-tweet-1666150461756555264-d29dad7120ab90b'\n",
      "Skipping unrecognised entry ID: 'promoted-tweet-1665629535692369921-d29956f31ffab7d'\n",
      "Skipping unrecognised entry ID: 'promoted-tweet-1666150461756555264-d2916841b711176'\n",
      "Skipping unrecognised entry ID: 'promoted-tweet-1648959705727787008-d29e596381edb0c'\n",
      "Skipping unrecognised entry ID: 'promoted-tweet-1666699125356924929-d29244b610e37cd'\n",
      "Skipping unrecognised entry ID: 'promoted-tweet-1665629535692369921-d299fb01d3594db'\n",
      "Skipping unrecognised entry ID: 'promoted-tweet-1666699125356924929-d2909c0875c5d57'\n",
      "Stopping after 20 empty pages\n"
     ]
    }
   ],
   "source": [
    "tweets = []\n",
    "n_tweet = 1000000\n",
    "for i, tweet in tqdm(enumerate(scraper.get_items()),total=n_tweet):\n",
    "  data = [tweet.date, tweet.renderedContent, tweet.user.username]\n",
    "  tweets.append(data)\n",
    "  if i > n_tweet:\n",
    "    break"
   ]
  },
  {
   "cell_type": "code",
   "execution_count": 10,
   "id": "8eb87970",
   "metadata": {},
   "outputs": [
    {
     "data": {
      "text/plain": [
       "68"
      ]
     },
     "execution_count": 10,
     "metadata": {},
     "output_type": "execute_result"
    }
   ],
   "source": [
    "len(tweets)"
   ]
  },
  {
   "cell_type": "code",
   "execution_count": 11,
   "id": "f2679659",
   "metadata": {},
   "outputs": [
    {
     "data": {
      "text/plain": [
       "[[datetime.datetime(2023, 5, 30, 23, 59, 44, tzinfo=datetime.timezone.utc),\n",
       "  '@ReflyHZ @YouTube Resmi!!! Presiden Joko Widodo  cawe cawe, katanya sih cawe cawe nya dipake meng endors Prabowo bukan Ganjar. Kenapa gak sekalian saja ya, presiden memberdayakan kembali tukang survey Qodari meng endors dirinya?\\nJika Jokowi ikut lagi kontestasi Pilpres 2024 , siapa pilihan anda?',\n",
       "  'AdeSaung'],\n",
       " [datetime.datetime(2023, 5, 30, 23, 59, 24, tzinfo=datetime.timezone.utc),\n",
       "  '@tifsembiring Ini paling ada hubunganx dg pilpres Indonesia 2024 nanti dmn eliktabilitas Mas Anies dlm survey itu turun dibandingkan dg kandidat lain, tpi blm t3nty kalah nanti dlm pemilu kan ??\\nMantaaaap jiwa!!\\nTapi spa gk tw klo bola itu bundar ???',\n",
       "  'DewaSudana9'],\n",
       " [datetime.datetime(2023, 5, 30, 23, 53, 44, tzinfo=datetime.timezone.utc),\n",
       "  '@PDemokrat Sepertinya pak jokowi head to head dg pak sby di pilpres 2024, demokrat bisa aja',\n",
       "  'maha_sakti'],\n",
       " [datetime.datetime(2023, 5, 30, 23, 53, 3, tzinfo=datetime.timezone.utc),\n",
       "  'Cawe-cawe di Pilpres 2024, Jokowi Dinilai Merusak Demokrasi Terang-terangan goriau.com/berita/baca/ca…',\n",
       "  'GoRiauCom'],\n",
       " [datetime.datetime(2023, 5, 30, 23, 52, 8, tzinfo=datetime.timezone.utc),\n",
       "  '@vanc1Bozz Makanya jgn lupa pilpres 2024, hrs pilih pemimpin yg cerdas, agar rakyat tdk dibuat gila dgn kebijakan yg tdk populer. \\n\\nSelamat pagi Indonesia https://t.co/65G7eoxnwQ',\n",
       "  'rahmaniarbaftim'],\n",
       " [datetime.datetime(2023, 5, 30, 23, 49, 13, tzinfo=datetime.timezone.utc),\n",
       "  '@TxtdariHI Yang ginian viral, Pejabat I*do kuras uang rakyat nyantai aja tuh',\n",
       "  'InfoPilpres2024'],\n",
       " [datetime.datetime(2023, 5, 30, 23, 48, 29, tzinfo=datetime.timezone.utc),\n",
       "  '@dennyindrayana @KataBewe @nazaqistsha Teruslah perjuangkan  arah yg benar menuju  pilpres yg jurdil di 2024.  Satukan kekuatan dg tokoh nasional.',\n",
       "  'WiyonoHw'],\n",
       " [datetime.datetime(2023, 5, 30, 23, 35, 33, tzinfo=datetime.timezone.utc),\n",
       "  'Prabowo Mania 08 Sebut Prabowo-Ganjar Cocok Jadi Pesaing Anies pada Pilpres 2024 - Kompas.com - Nasional Kompas.com #Prabowo #PrabowoUnggul dlvr.it/Sptqss',\n",
       "  'fathw25'],\n",
       " [datetime.datetime(2023, 5, 30, 23, 33, 51, tzinfo=datetime.timezone.utc),\n",
       "  '@KakekHalal Makin ngaco dan makin panik para cebong kurap liat Anis, makin ditingkatkan semburan caci maki kepada Anis🤤🤣🤣🤣 maklum bakul nasi mereka akan segera tutup setelah pilpres 2024',\n",
       "  'Irawan15758608'],\n",
       " [datetime.datetime(2023, 5, 30, 23, 32, 11, tzinfo=datetime.timezone.utc),\n",
       "  'Bagaimana MPR dapat menjelaskan pada masyarakat  hal yg menjadi  plus minus 2 system Pilpres dan Pileg 2024 ini ?\\n\\n[TALK] Wakil Ketua MPR ( Fraksi PAN ), Yandri Susanto &amp; Pengamat Politik dari Univ Andalas, Asrinaldi Asril https://t.co/RRP7U318bK',\n",
       "  'RadioElshinta'],\n",
       " [datetime.datetime(2023, 5, 30, 23, 26, 34, tzinfo=datetime.timezone.utc),\n",
       "  'youtu.be/m31ERJ-Um_k \\n\\nSaya terhormat diwawancara (lagi) oleh dua legend ini, Mas BW (@KataBewe) dan Mas Novel (@nazaqistsha) Kami menolak hukum dimanfaatkan untuk ketidakadilan perebutan kuasa dan Pilpres 2024.\\n\\nMari terus rawat kewarasan dan integritas tak terbeli. https://t.co/Pz5TFiB89o',\n",
       "  'dennyindrayana'],\n",
       " [datetime.datetime(2023, 5, 30, 23, 26, 31, tzinfo=datetime.timezone.utc),\n",
       "  'Wow.. semangat sekali pak.. 👍👍\\n\\nPrabowo Anggap Anies dan Ganjar Bukan Lawan jika Bertarung di Pilpres 2024\\nnasional.sindonews.com/read/1113139/1…',\n",
       "  'is_pelssy'],\n",
       " [datetime.datetime(2023, 5, 30, 23, 25, 17, tzinfo=datetime.timezone.utc),\n",
       "  '@BosPurwa @PartaiSocmed Mau ada seribu Anies atau seribu Surya Paloh dibelakangmu kalau Alloh SWT gak berkehendak, gak akan kau jadi Presiden.\\nKalau ngomongin jasa, bagaimana dg para Ulama dan kyai  yg tiap Pilpres selalu kalian dekati. Politik itu transaksi kepentingan gak perlu ngomogin jasa.',\n",
       "  'Ijoroyo21'],\n",
       " [datetime.datetime(2023, 5, 30, 23, 19, 58, tzinfo=datetime.timezone.utc),\n",
       "  '*Percakapan Soal Pilpres 2024 dan Alumni Pittsburgh*\\n\\njatim.telusur.co.id/detail/percaka…',\n",
       "  'arianto_tolib'],\n",
       " [datetime.datetime(2023, 5, 30, 23, 12, 3, tzinfo=datetime.timezone.utc),\n",
       "  '@budiawandki @vit_sapipa @notrespawn @QuartyRudiq @denismalhotra Pantesan pak Anies menang di jakarta ya, soalnya rakyat mayoritas masih suka dikasih pencitraan, gimmick, dan polesan luar. Bisa jadi kalau rakyat masih kayak gini aja pak Anies menang pilpres juga nih',\n",
       "  'hezmaan'],\n",
       " [datetime.datetime(2023, 5, 30, 23, 6, 33, tzinfo=datetime.timezone.utc),\n",
       "  'Dan ini terjadi lagi di Pilpres 2024. Kali ini, Nasdem dan Demokrat sama-sama berusaha mem-framing bahwa mereka dan Pak Anies ditindas. Mereka menuding pemerintah menzalimi mereka. Tapi, acting mereka terlalu jelek. Permainan mereka sangat terlihat kasar dan tidak natural. https://t.co/Q4iMMDZ0Kz',\n",
       "  'jason_cahya'],\n",
       " [datetime.datetime(2023, 5, 30, 23, 6, 26, tzinfo=datetime.timezone.utc),\n",
       "  'Ini membuahkan kejadian-kejadian palsu yang dirancang secara tidak organik demi mendulang simpati.\\n\\nPernah terjadi di Pilpres 2019 lalu, di mana Bu Ratna Sarumpaet mengaku diserang saat mendukung Pak Prabowo. Buahnya, Pak Prabowo mendulang simpati. Untung saja tak lama terungkap. https://t.co/ZgAK6Q8fwN',\n",
       "  'jason_cahya'],\n",
       " [datetime.datetime(2023, 5, 30, 23, 4, 8, tzinfo=datetime.timezone.utc),\n",
       "  'Gaji PNS Naik Jelang Pilpres 2024, Pengamat Nilai Langkah Jokowi Sangat Kental Bermuatan Politik dlvr.it/SptmxZ',\n",
       "  'tvOneNews'],\n",
       " [datetime.datetime(2023, 5, 30, 23, 3, 48, tzinfo=datetime.timezone.utc),\n",
       "  'Jadi gini, kalau misalkan Anies gagal di pilpres, Para Ketum Partai Tinggalkan anies, Para Penjilat/Pendukungnya bunuh diri beramai-ramai. Maka Pemilu akan Aman, Karena tdk ada lagi barok negri ini karna mereka. Sehingga Indonesia Akan Aman dari keruwetan mereka.\\nIya ga sih? https://t.co/vreWn38GXu',\n",
       "  'GRANDFATHER_71'],\n",
       " [datetime.datetime(2023, 5, 30, 22, 59, 50, tzinfo=datetime.timezone.utc),\n",
       "  '@tvOneNews Utk persiapan Capres Thn 2024,,para kader2 Gerindra memuji memuja LAWAN DEBAT PilPres 2019...tp para kami pendukung diakar rumput.. hingga saah ini blm mampu melupakannya..apapun alasan Bpk PS dlm meredam kekecawaan pemilih..tetap blm mampu..\\nKami ingin mendgr pendpt Fadli Zoon..',\n",
       "  'MalikAbdul30041'],\n",
       " [datetime.datetime(2023, 5, 30, 22, 59, 13, tzinfo=datetime.timezone.utc),\n",
       "  \"@tifsembiring Pilpres'24.....anda catat..PRABOWO menang mutlak\",\n",
       "  'BudiSps'],\n",
       " [datetime.datetime(2023, 5, 30, 22, 57, tzinfo=datetime.timezone.utc),\n",
       "  'Rekayasa Narasi Dukungan Mahfud MD Jadi Cawapres Anies Baswedan di Pilpres dengan Pakai Foto Keluarga Gus Dur\\n\\njawapos.com/ternyata-hoax/…',\n",
       "  'jawapos'],\n",
       " [datetime.datetime(2023, 5, 30, 22, 51, 13, tzinfo=datetime.timezone.utc),\n",
       "  '@tifsembiring Pa Anies Baswedan tidak aneh kalah disurvei, pilkada DKI beliau kalah disurvei menang di pilkada DKI, sama dengan pilpres 2024',\n",
       "  'ADANGSUGANDA11'],\n",
       " [datetime.datetime(2023, 5, 30, 22, 49, 49, tzinfo=datetime.timezone.utc),\n",
       "  '@mohmahfudmd Pak @mohmahfudmd Sebagai rakyat boleh ya measumsi Politik, bahwa ada pihak yg ketakutan luwar biasa karna sadar mereka akn kalah di Pilpres 2024 makanya ingin menentukan kekuatannya di @DPR_RI sesuai keinginan ketua Partai untuk mempengaruhi berbagai macam produk UU &amp; Kebijakan.',\n",
       "  'Hb_Atim'],\n",
       " [datetime.datetime(2023, 5, 30, 22, 45, 10, tzinfo=datetime.timezone.utc),\n",
       "  '@Leonita_Lestari Pakde tolong jangan pilih Prabowo jejak digitalnya waktu pilpres 2019 jangan pernah dilupakan apapun dia lakukan buat menang',\n",
       "  'HendarwatiH'],\n",
       " [datetime.datetime(2023, 5, 30, 22, 37, 26, tzinfo=datetime.timezone.utc),\n",
       "  '@hc_poirot Strategi politik memoles citra Gibran memang sudah diploting sejak pelantikan menjadi walikota Solo 2021 untuk tujuan Jurkam Pilpres 2024.\\n\\nItu sebabnya upaya eksplorasi simpati bagi Gibran didukung tidak hanya lewat pemerintah pusat bagi pembangunan kota Solo,',\n",
       "  'Hanwen98780070'],\n",
       " [datetime.datetime(2023, 5, 30, 22, 34, 3, tzinfo=datetime.timezone.utc),\n",
       "  'Pilpres paling kentut ya 2024, I can already sense it. Crazy iblis 🤌',\n",
       "  'dimzaladim'],\n",
       " [datetime.datetime(2023, 5, 30, 22, 33, 17, tzinfo=datetime.timezone.utc),\n",
       "  'nyerangnya tipe beginian lagi, kagak asik lah\\n\\n-bapak menang 100% pemilu yang dia ikutin\\n-tingkat kepuasan &gt;80%\\n-ga punya partai tp jadi kingmaker pilpres\\n-2024 kemungkinan orang dia lagi yang menang\\n-bawa lawan politiknya ke kabinet\\n\\nobjektif dong ah kalo dia one of the best',\n",
       "  'vincentprathama'],\n",
       " [datetime.datetime(2023, 5, 30, 22, 27, 32, tzinfo=datetime.timezone.utc),\n",
       "  '@democrazymedia Pak ketipak ketipung suara pujian bertalu talu. \\nPak Mahfud gagal jadi Cawapres di Pilpres yg lalu.\\nSiapa tahu 2024 ingin kembali maju !',\n",
       "  'y_yumnan'],\n",
       " [datetime.datetime(2023, 5, 30, 22, 24, 34, tzinfo=datetime.timezone.utc),\n",
       "  '@tifsembiring Akankah kecurangan terulang di pilpres 2024... Hanya Allah lah yg tahu, melihat ucapannya AKAN IKUT CAWE-CAWE menandakan akan terulangnya Pilpres 2019 yg penuh tipu muslihat... https://t.co/QOzivxd8Wb',\n",
       "  'OmboBeny'],\n",
       " [datetime.datetime(2023, 5, 30, 22, 13, 45, tzinfo=datetime.timezone.utc),\n",
       "  'Dulu ada partai yang mengkritik pak SBY agar netral di pilpres, sekarang ada presiden yang terang-terangan tidak netral dalam pilpres 2024 kenapa mereka pura-pura bisu &amp; tuli? https://t.co/iKblPsHRYc',\n",
       "  'aly_benzema'],\n",
       " [datetime.datetime(2023, 5, 30, 22, 5, 32, tzinfo=datetime.timezone.utc),\n",
       "  'Berita Populer 30 Mei, Jokowi Cawe-Cawe Pilpres hingga Peluang Anies Gagal Nyapres dlvr.it/SpthHC',\n",
       "  'KompasTV'],\n",
       " [datetime.datetime(2023, 5, 30, 22, 4, 30, tzinfo=datetime.timezone.utc),\n",
       "  '@VeelaaRhie @jokowi Rupanya ketakutan sekali kalau sampai Anies menang Pilpres 2024 maka tamatlah riwayat Jokowi sibongkar habis kasus Proyek Infrastruktur yg bobrok spt video dlm Podcast Akbar Faisal https://t.co/UVN3XBauE6',\n",
       "  'muttaqien1962y1'],\n",
       " [datetime.datetime(2023, 5, 30, 21, 49, 31, tzinfo=datetime.timezone.utc),\n",
       "  'Betapa bebasnya pak Jokowi saat lengser sebagai presiden dan menikmati perhelatan pilpres 2024 nanti, dimana beliau sudah tidak terlibat kepentingan politik lagi',\n",
       "  'Wisnuprdt_'],\n",
       " [datetime.datetime(2023, 5, 30, 21, 39, 23, tzinfo=datetime.timezone.utc),\n",
       "  '@abwnews_ Gassss\\nIngat para relawan... 2024 KPU, Bawaslu, Rezim adalah musuh nyata pilkada, pilpres.. so wajib dan harus benar benar waspada para saksi, KPPS untuk menjaga diri kalian dari musibah apa yg terjadi di 2019....\\nJangan makan dan minum dari orang orang yg tidak dikenal',\n",
       "  'Thoyib83928012'],\n",
       " [datetime.datetime(2023, 5, 30, 21, 36, 24, tzinfo=datetime.timezone.utc),\n",
       "  'Apa bedanya Ahok di Pilkada DKI 2017 ( isu agama ) dengan Jusuf Kalla menjelang Pilpres 2024 ( isu rasis ) ???',\n",
       "  'SoumokilWillem'],\n",
       " [datetime.datetime(2023, 5, 30, 21, 35, 1, tzinfo=datetime.timezone.utc),\n",
       "  'Blak-blakan Mau Cawe-cawe di Pilpres 2024, Jokowi Telah Jujur Ingin Jegal Anies Baswedan? Demokrat Tegas: Jangan Salahkan Publik Jika... wartaekonomi.co.id/read501869/bla…',\n",
       "  'WartaEkonomi'],\n",
       " [datetime.datetime(2023, 5, 30, 21, 33, 18, tzinfo=datetime.timezone.utc),\n",
       "  '@KompasTV Takut banget sih jagoan capresnya kalah di pilpres 2024 sampe harus ikut campur urusan copras capres segala.',\n",
       "  'Yedi_ExTKI'],\n",
       " [datetime.datetime(2023, 5, 30, 21, 16, 22, tzinfo=datetime.timezone.utc),\n",
       "  '@tifsembiring Indonesia,Pilpres Kardus digembok.\\n2019-2024,itu Presidennya Prabowo,tp Napa bisa Jokowi yg menjabat.\\n#padamkanpdip',\n",
       "  'lip_family'],\n",
       " [datetime.datetime(2023, 5, 30, 20, 58, 35, tzinfo=datetime.timezone.utc),\n",
       "  '@KompasTV Klo karena gak ketakutan jagoan capresnya akan kalah di pilpres ya gak akan ikut campur urusan copras capres segala. Akankah PEMILU 2024 bisa JURDIL ?',\n",
       "  'Yedi_ExTKI'],\n",
       " [datetime.datetime(2023, 5, 30, 20, 45, 11, tzinfo=datetime.timezone.utc),\n",
       "  'Cak Imin Khawatir Bila Tak Jadi Cawapres di Pilpres 2024, PKB akan Goyang - Info Indonesia - iNFO iNDONESIA #Prabowo #BangkitBersama dlvr.it/SptXZ1',\n",
       "  'haelamarie'],\n",
       " [datetime.datetime(2023, 5, 30, 20, 45, 8, tzinfo=datetime.timezone.utc),\n",
       "  'Ganjalan Besar Wacana Duet Ganjar dan Prabowo di Pilpres 2024... - Kompas.com - Nasional Kompas.com #Prabowo #PrabowoUnggul dlvr.it/SptXWn',\n",
       "  'Akubknultramen'],\n",
       " [datetime.datetime(2023, 5, 30, 20, 45, 6, tzinfo=datetime.timezone.utc),\n",
       "  'Pilpres 2024: Ganjar - Prabowo atau Sebaliknya, Ini Dia Faktor Penentunya versi Pengamat - Tribun Jogja #Prabowo #PrabowoUnggul dlvr.it/SptXW3',\n",
       "  'Akubknultramen'],\n",
       " [datetime.datetime(2023, 5, 30, 20, 45, 2, tzinfo=datetime.timezone.utc),\n",
       "  'Terkini! Peta Kekuatan Prabowo dan Anies Jelang Pilpres 2024 - detikJateng #Prabowo #PrabowoUnggul dlvr.it/SptXTF',\n",
       "  'Akubknultramen'],\n",
       " [datetime.datetime(2023, 5, 30, 20, 16, 26, tzinfo=datetime.timezone.utc),\n",
       "  'Ini pertanda telunjuk dan suara Pak Jokowi pada Pilpres 2024 masih sangat menakutkan lawan2 Politiknya..',\n",
       "  'Opiniku95098012'],\n",
       " [datetime.datetime(2023, 5, 30, 19, 56, 10, tzinfo=datetime.timezone.utc),\n",
       "  '@Tuti_embeeeeer @AntiPekines @DrEvaChaniago @Nurmantyo_Gatot Covid 19 bermula dr china. Strain galur murni C19 pasti ada di lab mikrobiologi china. Tinggal order tinggal request jenis C19 yg lbh mematikan maka pilpres ditiadakan krn pandemi C19 apalagi kalok strain C19 dibuat paten utk kaum manula @prabowo n Megawati urrrraaaa',\n",
       "  'driveronline_17'],\n",
       " [datetime.datetime(2023, 5, 30, 19, 38, 25, tzinfo=datetime.timezone.utc),\n",
       "  '@Opposite6B90 Jika Prabowo-Muhaimin menang Pilpres 2024, itu membuktikan bahwa bangsa ini kalo bukan bangsa pemaaf ya bangsa pelupa',\n",
       "  'HILARlO'],\n",
       " [datetime.datetime(2023, 5, 30, 19, 26, 11, tzinfo=datetime.timezone.utc),\n",
       "  'Firman Soebagyo tak menepis agar Airlangga Hartarto bisa menjadi bakal cawapres Prabowo Subianto di Pilpres 2024 mendatang. pilpres2024 dekade08 mendingprabowo terusmajubersamaprabowo',\n",
       "  'diahmhran1'],\n",
       " [datetime.datetime(2023, 5, 30, 19, 9, 54, tzinfo=datetime.timezone.utc),\n",
       "  '\"Sebagaimana kalian ketahui saya sudah dicalonkan oleh Partai Gerakan Indonesia Raya untuk maju lagi di Pilpres 2024,\" kata Prabowo. pilpres2024 dekade08 mendingprabowo terusmajubersamaprabowo',\n",
       "  'ikblrmdhn4'],\n",
       " [datetime.datetime(2023, 5, 30, 18, 58, 33, tzinfo=datetime.timezone.utc),\n",
       "  '@IMCMushroom Ganjar atuhhhh yg satu radikal yg satu langganan kalah pilpres dan tdk mau ngaku kalah inget 22 mei 2019',\n",
       "  'josephrizal810'],\n",
       " [datetime.datetime(2023, 5, 30, 18, 54, 46, tzinfo=datetime.timezone.utc),\n",
       "  \"Berbagai cara di lakukan untuk menjegal pak Anies untuk maju pilpres. \\nSemoga Allah SWT menggagalkan penjegalan ini...aamiin ya Rabbal'alamiin relawananies.id/2023/05/26/mer…\",\n",
       "  'lil00555'],\n",
       " [datetime.datetime(2023, 5, 30, 18, 46, 18, tzinfo=datetime.timezone.utc),\n",
       "  'Oalah media Arab Yaman kurang ajar, bangsat, bedebah !!!\\nMedia teroris Ikhwanul muslimin\\n\\nWoy Kadrun Pak @jokowi tidak pernah mengakui apalagi berkata kalau dia tidak netral dlm pilpres 2024. Tapi dia mengatakan akan cawe² utk hal yg positif dan kebaikan bagi bangsa.',\n",
       "  'Kaki_Langith'],\n",
       " [datetime.datetime(2023, 5, 30, 18, 45, 58, tzinfo=datetime.timezone.utc),\n",
       "  'Wih, elite Golkar lagi bahas duet Prabowo-Airlangga di Pilpres 2024. pilpres2024 dekade08 mendingprabowo terusmajubersamaprabowo',\n",
       "  'ApreliHeni'],\n",
       " [datetime.datetime(2023, 5, 30, 18, 35, 2, tzinfo=datetime.timezone.utc),\n",
       "  '\"Sebagaimana kalian ketahui saya sudah dicalonkan oleh Partai Gerakan Indonesia Raya untuk maju lagi di Pilpres 2024,\" ujar Prabowo. pilpres2024 dekade08 mendingprabowo terusmajubersamaprabowo',\n",
       "  'zarasyazakia'],\n",
       " [datetime.datetime(2023, 5, 30, 18, 34, 18, tzinfo=datetime.timezone.utc),\n",
       "  'Jawaban Prabowo Ketika Diejek Gak Pernah Menang di Pilpres: Prajurit Dididik Untuk Tidak Pantang Menyerah!. pilpres2024 dekade08 mendingprabowo terusmajubersamaprabowo',\n",
       "  'DeaYunit_'],\n",
       " [datetime.datetime(2023, 5, 30, 18, 28, 32, tzinfo=datetime.timezone.utc),\n",
       "  '@PDI_Perjuangan @ganjarnesia Ganjar adlh satunya pilihan bagi kita yg nasionalis dan rasionalisasi, sebab kita menolak calon yg di dlm ya ada org yg pro radikalisme dn calon dgn rekam jejak orba yg sgt kental (yg suka ngambek krn kalah Pilpres) #GanjarPranowo #GanjarMenangTotal',\n",
       "  'josephrizal810'],\n",
       " [datetime.datetime(2023, 5, 30, 18, 28, 18, tzinfo=datetime.timezone.utc),\n",
       "  'Hm, Jokowi Bilang Tak Akan Netral di Pilpres 2024, Katanya Demi Bangsa dan Negara disq.us/t/4gomuli',\n",
       "  'PostingnewsId'],\n",
       " [datetime.datetime(2023, 5, 30, 18, 23, 22, tzinfo=datetime.timezone.utc),\n",
       "  '@Ganjaran_app Mudah-mudahan di pilpres 2024 nanti pak ganjar terpilih menjadi presiden',\n",
       "  'DinaMrvina'],\n",
       " [datetime.datetime(2023, 5, 30, 18, 19, 54, tzinfo=datetime.timezone.utc),\n",
       "  '@sutanmangara Bener yg selama ini menang survey kan anies, semoga kalah pilpres amiiinnn',\n",
       "  'Stevan_03jr'],\n",
       " [datetime.datetime(2023, 5, 30, 18, 15, 50, tzinfo=datetime.timezone.utc),\n",
       "  'Elite Golkar Bicara Kans Duet Prabowo-Airlangga di Pilpres 2024 mendatang. pilpres2024 dekade08 mendingprabowo terusmajubersamaprabowo',\n",
       "  'IndaniyahS'],\n",
       " [datetime.datetime(2023, 5, 30, 18, 10, 4, tzinfo=datetime.timezone.utc),\n",
       "  'Kemenangan @prabowo pada Pilpres 2024, justru karena beliau bersikap netral. Sehingga justru mampu menyatukan kedua kubu yang berseberangan tsb, baik kubu @ganjarpranowo maupun kubu @aniesbaswedan.',\n",
       "  'porosprabowo'],\n",
       " [datetime.datetime(2023, 5, 30, 18, 4, 6, tzinfo=datetime.timezone.utc),\n",
       "  'Dari survey independen tsb diketahui bahwa 65% pendukung @aniesbaswedan akan berbalik memilih @prabowo. Sementara 40% pendukung presiden @jokowi akan mengalihkan dukungan ke @prabowo. \\n\\nInilah yang sebenarnya diinginkan rakyat. Pilpres 2024 akan berlangsung aman tanpa konflik.',\n",
       "  'porosprabowo'],\n",
       " [datetime.datetime(2023, 5, 30, 18, 3, 53, tzinfo=datetime.timezone.utc),\n",
       "  '@ricuhrd @Sofwan2310 @Aggiladitia @denismalhotra Maunya langsung anies mas ga usah pilpres. 🤣🤣🤣🤣',\n",
       "  'rendi078'],\n",
       " [datetime.datetime(2023, 5, 30, 18, 3, 17, tzinfo=datetime.timezone.utc),\n",
       "  '@Ganjaran_app kami semua optimis kalau pak ganjar akan memenangkan pilpres 2024 nanti',\n",
       "  'ArrivaldiHd'],\n",
       " [datetime.datetime(2023, 5, 30, 17, 59, 48, tzinfo=datetime.timezone.utc),\n",
       "  'Pramono Anung..\\nMana ini Pramono Anung..?\\n\\nAnda Orang dekat nya Jokowi saat ini...\\nTolong anda sampai kan ke Jokowi,\\nspt bgmn LANTANG NYA ANDA sampai hal penting ini ke SBY.. \\nthn 2014 dulu.\\n\\nPRAMONO : JOKOWI HARUS NETRAL DI PILPRES 2024,\\nSAMA SPT YG DI LAKUKAN SBY THN 2014.. https://t.co/NJZrzas59j',\n",
       "  'auliamed'],\n",
       " [datetime.datetime(2023, 5, 30, 17, 59, 13, tzinfo=datetime.timezone.utc),\n",
       "  'Sebulan yg lalu, beberapa alumni HMI lintas partai dan non partai berkumpul di Jakarta. Mereka patungan untuk membuat survey scr independen. Disepakati, hasil survey tdk untuk konsumsi media, jadi sekedar ingin mengetahui kemana arah Pilpres 2024. Hasilnya sungguh mengejutkan!',\n",
       "  'porosprabowo'],\n",
       " [datetime.datetime(2023, 5, 30, 17, 57, 35, tzinfo=datetime.timezone.utc),\n",
       "  'mungkin maksudnya demi kepentingan ibukota negara ya\\n\\nPresiden Jokowi Akui Tak Akan Netral Pada Pilpres 2024 nasional.tempo.co/read/1731263/p…',\n",
       "  'datukpancilok'],\n",
       " [datetime.datetime(2023, 5, 30, 17, 56, 23, tzinfo=datetime.timezone.utc),\n",
       "  'Setuju Presiden Cawe-cawe Pilpres, Gerindra Tegur Jokowi jika Melampaui Batas - Solopos.com #Prabowo #BangkitBersama dlvr.it/Spt8yC',\n",
       "  'haelamarie']]"
      ]
     },
     "execution_count": 11,
     "metadata": {},
     "output_type": "execute_result"
    }
   ],
   "source": [
    "tweets"
   ]
  },
  {
   "cell_type": "code",
   "execution_count": 13,
   "id": "ce13c918",
   "metadata": {},
   "outputs": [],
   "source": [
    "tweet_df = pd.DataFrame(tweets, columns=['date','tweet','username'])"
   ]
  },
  {
   "cell_type": "code",
   "execution_count": 14,
   "id": "57edb458",
   "metadata": {},
   "outputs": [
    {
     "name": "stdout",
     "output_type": "stream",
     "text": [
      "                        date  \\\n",
      "0  2023-05-30 23:59:44+00:00   \n",
      "1  2023-05-30 23:59:24+00:00   \n",
      "2  2023-05-30 23:53:44+00:00   \n",
      "3  2023-05-30 23:53:03+00:00   \n",
      "4  2023-05-30 23:52:08+00:00   \n",
      "..                       ...   \n",
      "63 2023-05-30 18:03:17+00:00   \n",
      "64 2023-05-30 17:59:48+00:00   \n",
      "65 2023-05-30 17:59:13+00:00   \n",
      "66 2023-05-30 17:57:35+00:00   \n",
      "67 2023-05-30 17:56:23+00:00   \n",
      "\n",
      "                                                tweet         username  \n",
      "0   @ReflyHZ @YouTube Resmi!!! Presiden Joko Widod...         AdeSaung  \n",
      "1   @tifsembiring Ini paling ada hubunganx dg pilp...      DewaSudana9  \n",
      "2   @PDemokrat Sepertinya pak jokowi head to head ...       maha_sakti  \n",
      "3   Cawe-cawe di Pilpres 2024, Jokowi Dinilai Meru...        GoRiauCom  \n",
      "4   @vanc1Bozz Makanya jgn lupa pilpres 2024, hrs ...  rahmaniarbaftim  \n",
      "..                                                ...              ...  \n",
      "63  @Ganjaran_app kami semua optimis kalau pak gan...      ArrivaldiHd  \n",
      "64  Pramono Anung..\\nMana ini Pramono Anung..?\\n\\n...         auliamed  \n",
      "65  Sebulan yg lalu, beberapa alumni HMI lintas pa...     porosprabowo  \n",
      "66  mungkin maksudnya demi kepentingan ibukota neg...    datukpancilok  \n",
      "67  Setuju Presiden Cawe-cawe Pilpres, Gerindra Te...       haelamarie  \n",
      "\n",
      "[68 rows x 3 columns]\n"
     ]
    }
   ],
   "source": [
    "print(tweet_df)"
   ]
  },
  {
   "cell_type": "code",
   "execution_count": 18,
   "id": "1a4a7f50",
   "metadata": {},
   "outputs": [
    {
     "name": "stdout",
     "output_type": "stream",
     "text": [
      "                        date                   id  \\\n",
      "54 2023-05-30 16:00:14+00:00  1663576056056668161   \n",
      "55 2023-05-30 15:58:55+00:00  1663575724459184128   \n",
      "56 2023-05-30 15:33:17+00:00  1663569274005487616   \n",
      "57 2023-05-30 15:29:31+00:00  1663568326055047169   \n",
      "58 2023-05-30 15:27:27+00:00  1663567806531772419   \n",
      "\n",
      "                                                tweet         username  \n",
      "54  @__AnakKolong @gibran_tweet Semalam, seorang i...  Pt0nks1matupang  \n",
      "55  @Leonita_Lestari Kayak ngga tahu aja kebiasaan...        aswin2211  \n",
      "56  @__AnakKolong @gibran_tweet Gibran bukan siapa...      SingoYudho_  \n",
      "57  @Lembayung071 @jokowi @prabowo Ane sich yes......      curutonline  \n",
      "58  @lordran44 @aniesbaswedan Bapa Anies Baswedan ...      TunayVallen  \n"
     ]
    }
   ],
   "source": [
    "print(tweet_df.tail())"
   ]
  }
 ],
 "metadata": {
  "kernelspec": {
   "display_name": "Python 3",
   "language": "python",
   "name": "python3"
  },
  "language_info": {
   "codemirror_mode": {
    "name": "ipython",
    "version": 3
   },
   "file_extension": ".py",
   "mimetype": "text/x-python",
   "name": "python",
   "nbconvert_exporter": "python",
   "pygments_lexer": "ipython3",
   "version": "3.9.12"
  },
  "vscode": {
   "interpreter": {
    "hash": "a0ab23ae73b02e2789f3f8b81f004edfa8850c045f12b430a36d57ca70809240"
   }
  }
 },
 "nbformat": 4,
 "nbformat_minor": 5
}
