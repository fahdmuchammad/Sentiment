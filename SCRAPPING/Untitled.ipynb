{
 "cells": [
  {
   "cell_type": "code",
   "execution_count": 1,
   "id": "14c47fc8",
   "metadata": {},
   "outputs": [
    {
     "name": "stdout",
     "output_type": "stream",
     "text": [
      "3.9.12\n"
     ]
    }
   ],
   "source": [
    "from platform import python_version\n",
    "\n",
    "print(python_version())"
   ]
  },
  {
   "cell_type": "code",
   "execution_count": 2,
   "id": "82471539",
   "metadata": {},
   "outputs": [
    {
     "name": "stdout",
     "output_type": "stream",
     "text": [
      "Collecting git+https://github.com/JustAnotherArchivist/snscrape.git\n",
      "  Cloning https://github.com/JustAnotherArchivist/snscrape.git to /private/var/folders/md/n3wx2h2116zfry84m6sz4k5w0000gn/T/pip-req-build-ap97khjb\n",
      "  Running command git clone -q https://github.com/JustAnotherArchivist/snscrape.git /private/var/folders/md/n3wx2h2116zfry84m6sz4k5w0000gn/T/pip-req-build-ap97khjb\n",
      "  Resolved https://github.com/JustAnotherArchivist/snscrape.git to commit b76f485208016f337ce36a3c6c0c6573502693a7\n",
      "  Installing build dependencies ... \u001b[?25ldone\n",
      "\u001b[?25h  Getting requirements to build wheel ... \u001b[?25ldone\n",
      "\u001b[?25h  Installing backend dependencies ... \u001b[?25ldone\n",
      "\u001b[?25h    Preparing wheel metadata ... \u001b[?25ldone\n",
      "\u001b[?25hRequirement already satisfied: beautifulsoup4 in /opt/anaconda3/lib/python3.9/site-packages (from snscrape==0.6.2.20230321.dev32+gb76f485) (4.11.1)\n",
      "Requirement already satisfied: filelock in /opt/anaconda3/lib/python3.9/site-packages (from snscrape==0.6.2.20230321.dev32+gb76f485) (3.6.0)\n",
      "Requirement already satisfied: lxml in /opt/anaconda3/lib/python3.9/site-packages (from snscrape==0.6.2.20230321.dev32+gb76f485) (4.8.0)\n",
      "Requirement already satisfied: requests[socks] in /opt/anaconda3/lib/python3.9/site-packages (from snscrape==0.6.2.20230321.dev32+gb76f485) (2.27.1)\n",
      "Requirement already satisfied: soupsieve>1.2 in /opt/anaconda3/lib/python3.9/site-packages (from beautifulsoup4->snscrape==0.6.2.20230321.dev32+gb76f485) (2.3.1)\n",
      "Requirement already satisfied: charset-normalizer~=2.0.0 in /opt/anaconda3/lib/python3.9/site-packages (from requests[socks]->snscrape==0.6.2.20230321.dev32+gb76f485) (2.0.4)\n",
      "Requirement already satisfied: urllib3<1.27,>=1.21.1 in /opt/anaconda3/lib/python3.9/site-packages (from requests[socks]->snscrape==0.6.2.20230321.dev32+gb76f485) (1.26.9)\n",
      "Requirement already satisfied: certifi>=2017.4.17 in /opt/anaconda3/lib/python3.9/site-packages (from requests[socks]->snscrape==0.6.2.20230321.dev32+gb76f485) (2021.10.8)\n",
      "Requirement already satisfied: idna<4,>=2.5 in /opt/anaconda3/lib/python3.9/site-packages (from requests[socks]->snscrape==0.6.2.20230321.dev32+gb76f485) (3.3)\n",
      "Requirement already satisfied: PySocks!=1.5.7,>=1.5.6 in /opt/anaconda3/lib/python3.9/site-packages (from requests[socks]->snscrape==0.6.2.20230321.dev32+gb76f485) (1.7.1)\n",
      "Building wheels for collected packages: snscrape\n",
      "  Building wheel for snscrape (PEP 517) ... \u001b[?25ldone\n",
      "\u001b[?25h  Created wheel for snscrape: filename=snscrape-0.6.2.20230321.dev32+gb76f485-py3-none-any.whl size=73275 sha256=89d8fb9d482c1064499b367a340e812eb3f8b4b8af00ecbfc201ee8aa5f79716\n",
      "  Stored in directory: /private/var/folders/md/n3wx2h2116zfry84m6sz4k5w0000gn/T/pip-ephem-wheel-cache-i4s5oyf6/wheels/1a/ba/e2/39fa3a11802c4a622f2efc8be3f5ff854481051d0b4c95c1fd\n",
      "Successfully built snscrape\n",
      "\u001b[33mWARNING: Error parsing requirements for platformdirs: [Errno 2] No such file or directory: '/Users/fahdmuchammad/.local/lib/python3.9/site-packages/platformdirs-2.6.0.dist-info/METADATA'\u001b[0m\n",
      "Installing collected packages: snscrape\n",
      "  Attempting uninstall: snscrape\n",
      "    Found existing installation: snscrape 0.3.4\n",
      "    Uninstalling snscrape-0.3.4:\n",
      "      Successfully uninstalled snscrape-0.3.4\n",
      "Successfully installed snscrape-0.6.2.20230321.dev32+gb76f485\n"
     ]
    }
   ],
   "source": [
    "!pip install git+https://github.com/JustAnotherArchivist/snscrape.git"
   ]
  },
  {
   "cell_type": "code",
   "execution_count": 6,
   "id": "6505771f",
   "metadata": {},
   "outputs": [
    {
     "name": "stdout",
     "output_type": "stream",
     "text": [
      "Collecting pandas\n",
      "  Downloading pandas-1.5.3-cp38-cp38-macosx_10_9_x86_64.whl (11.9 MB)\n",
      "\u001b[2K     \u001b[90m━━━━━━━━━━━━━━━━━━━━━━━━━━━━━━━━━━━━━━━━\u001b[0m \u001b[32m11.9/11.9 MB\u001b[0m \u001b[31m61.0 kB/s\u001b[0m eta \u001b[36m0:00:00\u001b[0m00:01\u001b[0m00:06\u001b[0m\n",
      "\u001b[?25hRequirement already satisfied: python-dateutil>=2.8.1 in /opt/anaconda3/envs/scrapping/lib/python3.8/site-packages (from pandas) (2.8.2)\n",
      "Collecting numpy>=1.20.3\n",
      "  Downloading numpy-1.24.1-cp38-cp38-macosx_10_9_x86_64.whl (19.8 MB)\n",
      "\u001b[2K     \u001b[90m━━━━━━━━━━━━━━━━━━━━━━━━━━━━━━━━━━━━━━━\u001b[0m \u001b[32m19.8/19.8 MB\u001b[0m \u001b[31m163.9 kB/s\u001b[0m eta \u001b[36m0:00:00\u001b[0m00:01\u001b[0m00:04\u001b[0m\n",
      "\u001b[?25hRequirement already satisfied: pytz>=2020.1 in /opt/anaconda3/envs/scrapping/lib/python3.8/site-packages (from pandas) (2022.7.1)\n",
      "Requirement already satisfied: six>=1.5 in /opt/anaconda3/envs/scrapping/lib/python3.8/site-packages (from python-dateutil>=2.8.1->pandas) (1.16.0)\n",
      "Installing collected packages: numpy, pandas\n",
      "Successfully installed numpy-1.24.1 pandas-1.5.3\n",
      "Collecting tqdm\n",
      "  Downloading tqdm-4.64.1-py2.py3-none-any.whl (78 kB)\n",
      "\u001b[2K     \u001b[90m━━━━━━━━━━━━━━━━━━━━━━━━━━━━━━━━━━━━━━━━\u001b[0m \u001b[32m78.5/78.5 kB\u001b[0m \u001b[31m22.3 kB/s\u001b[0m eta \u001b[36m0:00:00\u001b[0ma \u001b[36m0:00:01\u001b[0m\n",
      "\u001b[?25hInstalling collected packages: tqdm\n",
      "Successfully installed tqdm-4.64.1\n"
     ]
    }
   ],
   "source": [
    "!pip install pandas\n",
    "!pip install tqdm"
   ]
  },
  {
   "cell_type": "code",
   "execution_count": 7,
   "id": "8bcef425",
   "metadata": {},
   "outputs": [
    {
     "name": "stdout",
     "output_type": "stream",
     "text": [
      "Collecting datetime\n",
      "  Downloading DateTime-5.0-py3-none-any.whl (52 kB)\n",
      "\u001b[2K     \u001b[90m━━━━━━━━━━━━━━━━━━━━━━━━━━━━━━━━━━━━━━━━\u001b[0m \u001b[32m52.1/52.1 kB\u001b[0m \u001b[31m26.7 kB/s\u001b[0m eta \u001b[36m0:00:00\u001b[0m00:01\u001b[0m00:01\u001b[0m\n",
      "\u001b[?25hRequirement already satisfied: pytz in /opt/anaconda3/envs/scrapping/lib/python3.8/site-packages (from datetime) (2022.7.1)\n",
      "Collecting zope.interface\n",
      "  Downloading zope.interface-5.5.2-cp38-cp38-macosx_10_9_x86_64.whl (209 kB)\n",
      "\u001b[2K     \u001b[90m━━━━━━━━━━━━━━━━━━━━━━━━━━━━━━━━━━━━━\u001b[0m \u001b[32m210.0/210.0 kB\u001b[0m \u001b[31m742.0 kB/s\u001b[0m eta \u001b[36m0:00:00\u001b[0m00:01\u001b[0m00:01\u001b[0m\n",
      "\u001b[?25hRequirement already satisfied: setuptools in /opt/anaconda3/envs/scrapping/lib/python3.8/site-packages (from zope.interface->datetime) (65.6.3)\n",
      "Installing collected packages: zope.interface, datetime\n",
      "Successfully installed datetime-5.0 zope.interface-5.5.2\n"
     ]
    }
   ],
   "source": [
    "!pip install datetime"
   ]
  },
  {
   "cell_type": "code",
   "execution_count": 1,
   "id": "c75e41fa",
   "metadata": {},
   "outputs": [],
   "source": [
    "import pandas as pd\n",
    "from tqdm.notebook import tqdm\n",
    "import snscrape.modules.twitter as sntwitter"
   ]
  },
  {
   "cell_type": "code",
   "execution_count": 2,
   "id": "f3cf0169",
   "metadata": {},
   "outputs": [],
   "source": [
    "import datetime\n",
    "\n",
    "scraper = sntwitter.TwitterSearchScraper('pilpres 2024 since:2023-01-01 until:2023-05-31')\n"
   ]
  },
  {
   "cell_type": "code",
   "execution_count": 3,
   "id": "ef66a649",
   "metadata": {},
   "outputs": [],
   "source": [
    "for tweet in scraper.get_items():\n",
    "  break"
   ]
  },
  {
   "cell_type": "code",
   "execution_count": 4,
   "id": "ddfb2c1a",
   "metadata": {},
   "outputs": [
    {
     "data": {
      "text/plain": [
       "Tweet(url='https://twitter.com/sumutpride/status/1663696790749851648', date=datetime.datetime(2023, 5, 30, 23, 59, 59, tzinfo=datetime.timezone.utc), rawContent='Ganjar Pranowo siap melanjutkan program program Presiden Jokowi untuk jadikan Indonesia maju\\n#GanjarPranowo #GanjarCapres #GanjarPresiden #GanjarMenangTotal #Presiden2024 #GanjarPresiden2024 #Pilpres2024 #Pemilu2024 https://t.co/9nJJMKjdYz', renderedContent='Ganjar Pranowo siap melanjutkan program program Presiden Jokowi untuk jadikan Indonesia maju\\n#GanjarPranowo #GanjarCapres #GanjarPresiden #GanjarMenangTotal #Presiden2024 #GanjarPresiden2024 #Pilpres2024 #Pemilu2024 https://t.co/9nJJMKjdYz', id=1663696790749851648, user=User(username='sumutpride', id=1566386888688095233, displayname='Ganjar Presiden 2024 #GanjarMenangTotal', rawDescription='Bersama Ganjar Majukan Indonesia\\n#Indonesia #GanjarPranowo #GanjarCapres #GanjarCapres2024 🇲🇨🇲🇨🇲🇨🇲🇨', renderedDescription='Bersama Ganjar Majukan Indonesia\\n#Indonesia #GanjarPranowo #GanjarCapres #GanjarCapres2024 🇲🇨🇲🇨🇲🇨🇲🇨', descriptionLinks=None, verified=False, created=datetime.datetime(2022, 9, 4, 11, 25, 43, tzinfo=datetime.timezone.utc), followersCount=1391, friendsCount=3743, statusesCount=556, favouritesCount=166, listedCount=3, mediaCount=472, location='Indonesia', protected=None, link=TextLink(text='facebook.com/groups/9234889…', url='https://www.facebook.com/groups/923488915555796/?ref=share&mibextid=NSMWBT', tcourl='https://t.co/RQNr4I39xR', indices=(0, 23)), profileImageUrl='https://pbs.twimg.com/profile_images/1657871377880481792/3u2QbWqd_normal.jpg', profileBannerUrl='https://pbs.twimg.com/profile_banners/1566386888688095233/1684756889', label=None, blue=False, blueType=None), replyCount=0, retweetCount=0, likeCount=2, quoteCount=0, conversationId=1663696790749851648, lang='in', source=None, sourceUrl=None, sourceLabel=None, links=None, media=[Video(thumbnailUrl='https://pbs.twimg.com/ext_tw_video_thumb/1663696732004425728/pu/img/r4WVH3RT2bR46iBp.jpg', variants=[VideoVariant(url='https://video.twimg.com/ext_tw_video/1663696732004425728/pu/vid/240x426/SeOP2v5qBRmsnre5.mp4?tag=12', contentType='video/mp4', bitrate=632000), VideoVariant(url='https://video.twimg.com/ext_tw_video/1663696732004425728/pu/pl/D9dpGLjeqh6Qtc36.m3u8?tag=12&container=fmp4', contentType='application/x-mpegURL', bitrate=None)], duration=44.998, views=7, altText=None)], retweetedTweet=None, quotedTweet=None, inReplyToTweetId=None, inReplyToUser=None, mentionedUsers=None, coordinates=None, place=None, hashtags=['GanjarPranowo', 'GanjarCapres', 'GanjarPresiden', 'GanjarMenangTotal', 'Presiden2024', 'GanjarPresiden2024', 'Pilpres2024', 'Pemilu2024'], cashtags=None, card=None, viewCount=27, vibe=None, bookmarkCount=0, pinned=None)"
      ]
     },
     "execution_count": 4,
     "metadata": {},
     "output_type": "execute_result"
    }
   ],
   "source": [
    "tweet"
   ]
  },
  {
   "cell_type": "code",
   "execution_count": 5,
   "id": "7be69029",
   "metadata": {},
   "outputs": [
    {
     "data": {
      "application/vnd.jupyter.widget-view+json": {
       "model_id": "a4f67a6cbc2f4f1d921815a206c02a5a",
       "version_major": 2,
       "version_minor": 0
      },
      "text/plain": [
       "  0%|          | 0/1000 [00:00<?, ?it/s]"
      ]
     },
     "metadata": {},
     "output_type": "display_data"
    },
    {
     "name": "stderr",
     "output_type": "stream",
     "text": [
      "Skipping unrecognised entry ID: 'promoted-tweet-1162310547909632000-e77c0cc5d4f36'\n",
      "Skipping unrecognised entry ID: 'promoted-tweet-1663027227267858438-e54ec5d899c99'\n",
      "Skipping unrecognised entry ID: 'promoted-tweet-1162310547909632000-e08030b498b47'\n",
      "Skipping unrecognised entry ID: 'promoted-tweet-1663027227267858438-e43b2cd4ce11d'\n",
      "Skipping unrecognised entry ID: 'promoted-tweet-1663027227267858438-e8ef95dc05a0d'\n",
      "Skipping unrecognised entry ID: 'promoted-tweet-1162310547909632000-e6a280a827cf2'\n",
      "Skipping unrecognised entry ID: 'promoted-tweet-1663027227267858438-eb435a1d02af8'\n",
      "Skipping unrecognised entry ID: 'promoted-tweet-1663027227267858438-ed4d149a6c981'\n",
      "Stopping after 20 empty pages\n"
     ]
    }
   ],
   "source": [
    "tweets = []\n",
    "n_tweet = 1000\n",
    "for i, tweet in tqdm(enumerate(scraper.get_items()),total=n_tweet):\n",
    "  data = [tweet.date, tweet.renderedContent, tweet.user.username]\n",
    "  tweets.append(data)\n",
    "  if i > n_tweet:\n",
    "    break"
   ]
  },
  {
   "cell_type": "code",
   "execution_count": 52,
   "id": "8eb87970",
   "metadata": {},
   "outputs": [
    {
     "data": {
      "text/plain": [
       "61"
      ]
     },
     "execution_count": 52,
     "metadata": {},
     "output_type": "execute_result"
    }
   ],
   "source": [
    "len(tweets)"
   ]
  },
  {
   "cell_type": "code",
   "execution_count": 43,
   "id": "f2679659",
   "metadata": {},
   "outputs": [
    {
     "data": {
      "text/plain": [
       "[['Ganjar Pranowo siap melanjutkan program program Presiden Jokowi untuk jadikan Indonesia maju\\n#GanjarPranowo #GanjarCapres #GanjarPresiden #GanjarMenangTotal #Presiden2024 #GanjarPresiden2024 #Pilpres2024 #Pemilu2024 https://t.co/9nJJMKjdYz'],\n",
       " ['@ReflyHZ @YouTube Resmi!!! Presiden Joko Widodo  cawe cawe, katanya sih cawe cawe nya dipake meng endors Prabowo bukan Ganjar. Kenapa gak sekalian saja ya, presiden memberdayakan kembali tukang survey Qodari meng endors dirinya?\\nJika Jokowi ikut lagi kontestasi Pilpres 2024 , siapa pilihan anda?'],\n",
       " ['@tifsembiring Ini paling ada hubunganx dg pilpres Indonesia 2024 nanti dmn eliktabilitas Mas Anies dlm survey itu turun dibandingkan dg kandidat lain, tpi blm t3nty kalah nanti dlm pemilu kan ??\\nMantaaaap jiwa!!\\nTapi spa gk tw klo bola itu bundar ???'],\n",
       " ['Ganjar Pranowo pemimpin idaman rakyat \\n#GanjarPranowo #GanjarCapres #GanjarPresiden #GanjarMenangTotal #Presiden2024 #GanjarPresiden2024 #Pilpres2024 #Pemilu2024 https://t.co/gfV0Fw89rS'],\n",
       " ['Ganjar Pranowo ajak HIPMI dampingi start up dan entrepreneur baru \\n#GanjarPranowo #GanjarCapres #GanjarPresiden #GanjarMenangTotal #Presiden2024 #GanjarPresiden2024 #Pilpres2024 #Pemilu2024 https://t.co/1dhc5a3jzb'],\n",
       " ['Elektabilitas Ganjar selalu unggul untuk jadi Presiden 2024 \\n#GanjarPranowo #GanjarCapres #GanjarPresiden #GanjarMenangTotal #Presiden2024 #GanjarPresiden2024 #Pilpres2024 #Pemilu2024 https://t.co/BwS7BJeqPD'],\n",
       " ['Ganjar Pranowo dinilai jadi Capres yang paling mampu lanjutkan program Jokowi \\n#GanjarPranowo #GanjarCapres #GanjarPresiden #GanjarMenangTotal #Presiden2024 #GanjarPresiden2024 #Pilpres2024 #Pemilu2024 https://t.co/C1PSe1HnJF'],\n",
       " ['Ganjar Pranowo optimis Indonesia jadi negara ekonomi terkuat di dunia\\n#GanjarPranowo #GanjarCapres #GanjarPresiden #GanjarMenangTotal #Presiden2024 #GanjarPresiden2024 #Pilpres2024 #Pemilu2024 https://t.co/o3S8xiJBXZ'],\n",
       " ['GMC NTB Mantapkan dukungan Ganjar Calon Presiden 2024\\n#GanjarPranowo #GanjarCapres #GanjarPresiden #GanjarMenangTotal #Presiden2024 #GanjarPresiden2024 #Pilpres2024 #Pemilu2024 https://t.co/Vr5qCHXtHB'],\n",
       " ['@PDemokrat Sepertinya pak jokowi head to head dg pak sby di pilpres 2024, demokrat bisa aja'],\n",
       " ['Cawe-cawe di Pilpres 2024, Jokowi Dinilai Merusak Demokrasi Terang-terangan goriau.com/berita/baca/ca…'],\n",
       " ['@vanc1Bozz Makanya jgn lupa pilpres 2024, hrs pilih pemimpin yg cerdas, agar rakyat tdk dibuat gila dgn kebijakan yg tdk populer. \\n\\nSelamat pagi Indonesia https://t.co/65G7eoxnwQ'],\n",
       " ['@TxtdariHI Yang ginian viral, Pejabat I*do kuras uang rakyat nyantai aja tuh'],\n",
       " ['@dennyindrayana @KataBewe @nazaqistsha Teruslah perjuangkan  arah yg benar menuju  pilpres yg jurdil di 2024.  Satukan kekuatan dg tokoh nasional.'],\n",
       " ['Sedangkan di pemilih yang mempunyai akun Twitter, Prabowo dengan dukungan sebesar 27,2 persen. pilpres2024 dekade08 mendingprabowo terusmajubersamaprabowo'],\n",
       " ['Elite Golkar Bicara Kans Duet Prabowo-Airlangga di Pilpres 2024. pilpres2024 dekade08 mendingprabowo terusmajubersamaprabowo'],\n",
       " ['\"Prabowo menang di Facebook dan Email,\" kata Adrian. pilpres2024 dekade08 mendingprabowo terusmajubersamaprabowo'],\n",
       " ['Untuk pemilih yang mempunyai akun TikTok, Prabowo dengan dukungan sebesar 29,8 persen. pilpres2024 dekade08 mendingprabowo terusmajubersamaprabowo'],\n",
       " ['Untuk pemilih dari Instagram, Prabowo dengan dukungan sebesar 30,5 persen. pilpres2024 dekade08 mendingprabowo terusmajubersamaprabowo'],\n",
       " ['Di pemilih yang mempunyai email, Prabowo mendapatkan dukungan tertinggi sebesar 31,0 persen. pilpres2024 dekade08 mendingprabowo terusmajubersamaprabowo'],\n",
       " ['Pemilih yang mempunyai akun facebook, Prabowo mendapatkan dukungan tertinggi sebesar 32,2 persen. pilpres2024 dekade08 mendingprabowo terusmajubersamaprabowo'],\n",
       " ['Nah, di antara tiga capres, Prabowo yang lebih mengesankan strong leader yang menumbuhkan ekonomi dengan 56,2 persen. pilpres2024 dekade08 mendingprabowo terusmajubersamaprabowo'],\n",
       " ['Prabowo lebih diuntungkan dibandingkan capres lain. pilpres2024 dekade08 mendingprabowo terusmajubersamaprabowo'],\n",
       " ['\"Prabowo menang di isu membangkitkan ekonomi,\" kata Peneliti LSI Denny JA Adrian. pilpres2024 dekade08 mendingprabowo terusmajubersamaprabowo'],\n",
       " ['Di empat arena inilah, Prabowo Subianto, Ganjar Pranowo dan Anies saling mengalahkan. pilpres2024 dekade08 mendingprabowo terusmajubersamaprabowo'],\n",
       " ['Prabowo Mania 08 Sebut Prabowo-Ganjar Cocok Jadi Pesaing Anies pada Pilpres 2024 - Kompas.com - Nasional Kompas.com #Prabowo #PrabowoUnggul dlvr.it/Sptqss'],\n",
       " ['@KakekHalal Makin ngaco dan makin panik para cebong kurap liat Anis, makin ditingkatkan semburan caci maki kepada Anis🤤🤣🤣🤣 maklum bakul nasi mereka akan segera tutup setelah pilpres 2024'],\n",
       " ['Bagaimana MPR dapat menjelaskan pada masyarakat  hal yg menjadi  plus minus 2 system Pilpres dan Pileg 2024 ini ?\\n\\n[TALK] Wakil Ketua MPR ( Fraksi PAN ), Yandri Susanto &amp; Pengamat Politik dari Univ Andalas, Asrinaldi Asril https://t.co/RRP7U318bK'],\n",
       " ['youtu.be/m31ERJ-Um_k \\n\\nSaya terhormat diwawancara (lagi) oleh dua legend ini, Mas BW (@KataBewe) dan Mas Novel (@nazaqistsha) Kami menolak hukum dimanfaatkan untuk ketidakadilan perebutan kuasa dan Pilpres 2024.\\n\\nMari terus rawat kewarasan dan integritas tak terbeli. https://t.co/Pz5TFiB89o'],\n",
       " ['Wow.. semangat sekali pak.. 👍👍\\n\\nPrabowo Anggap Anies dan Ganjar Bukan Lawan jika Bertarung di Pilpres 2024\\nnasional.sindonews.com/read/1113139/1…'],\n",
       " ['KELIRUMULAGI - edisi Argumentum ad Misercordiam\\nArgumentasi berdasar belas kasihan supaya orang mau membenarkan kesimpulan tersebut. \\n#Pilpres2024'],\n",
       " ['Denny Indrayana Bisa Disanksi tapi Tak Bisa Dijerat Pidana, Ini Kata Mantan Ketua MK dan Pakar Hukum\\n\\n#TribunKaltim #DennyIndrayana #ProporsionalTertutup #Pilpres2024\\n \\nkaltim.tribunnews.com/2023/05/31/den… lewat @tribunkaltim'],\n",
       " ['*Percakapan Soal Pilpres 2024 dan Alumni Pittsburgh*\\n\\njatim.telusur.co.id/detail/percaka…'],\n",
       " ['Kami sangat yakin Anies Baswedan akan menang dalam Pilpres 2024 karena rakyat sudah cerdas dan banyak dapat informasi kinerjanya selama memimpin jakarta. #AngkaSurveyWaniPiro🤭\\ninternational.sindonews.com/read/1112381/4…'],\n",
       " ['Dan ini terjadi lagi di Pilpres 2024. Kali ini, Nasdem dan Demokrat sama-sama berusaha mem-framing bahwa mereka dan Pak Anies ditindas. Mereka menuding pemerintah menzalimi mereka. Tapi, acting mereka terlalu jelek. Permainan mereka sangat terlihat kasar dan tidak natural. https://t.co/Q4iMMDZ0Kz'],\n",
       " ['Gaji PNS Naik Jelang Pilpres 2024, Pengamat Nilai Langkah Jokowi Sangat Kental Bermuatan Politik dlvr.it/SptmxZ'],\n",
       " ['@tvOneNews Utk persiapan Capres Thn 2024,,para kader2 Gerindra memuji memuja LAWAN DEBAT PilPres 2019...tp para kami pendukung diakar rumput.. hingga saah ini blm mampu melupakannya..apapun alasan Bpk PS dlm meredam kekecawaan pemilih..tetap blm mampu..\\nKami ingin mendgr pendpt Fadli Zoon..'],\n",
       " ['@tifsembiring Pa Anies Baswedan tidak aneh kalah disurvei, pilkada DKI beliau kalah disurvei menang di pilkada DKI, sama dengan pilpres 2024'],\n",
       " ['@mohmahfudmd Pak @mohmahfudmd Sebagai rakyat boleh ya measumsi Politik, bahwa ada pihak yg ketakutan luwar biasa karna sadar mereka akn kalah di Pilpres 2024 makanya ingin menentukan kekuatannya di @DPR_RI sesuai keinginan ketua Partai untuk mempengaruhi berbagai macam produk UU &amp; Kebijakan.'],\n",
       " ['Sosok Kejutan yang Bakal Jadi Cawapres Anies Baswedan, Nasdem: Muncul 1-2 Hari Ini\\n\\n#TribunKaltim #AniesBaswedan #Pilpres2024\\n \\nkaltim.tribunnews.com/2023/05/31/sos… lewat @tribunkaltim'],\n",
       " ['@hc_poirot Strategi politik memoles citra Gibran memang sudah diploting sejak pelantikan menjadi walikota Solo 2021 untuk tujuan Jurkam Pilpres 2024.\\n\\nItu sebabnya upaya eksplorasi simpati bagi Gibran didukung tidak hanya lewat pemerintah pusat bagi pembangunan kota Solo,'],\n",
       " ['Pilpres paling kentut ya 2024, I can already sense it. Crazy iblis 🤌'],\n",
       " ['nyerangnya tipe beginian lagi, kagak asik lah\\n\\n-bapak menang 100% pemilu yang dia ikutin\\n-tingkat kepuasan &gt;80%\\n-ga punya partai tp jadi kingmaker pilpres\\n-2024 kemungkinan orang dia lagi yang menang\\n-bawa lawan politiknya ke kabinet\\n\\nobjektif dong ah kalo dia one of the best'],\n",
       " ['@democrazymedia Pak ketipak ketipung suara pujian bertalu talu. \\nPak Mahfud gagal jadi Cawapres di Pilpres yg lalu.\\nSiapa tahu 2024 ingin kembali maju !'],\n",
       " ['@tifsembiring Akankah kecurangan terulang di pilpres 2024... Hanya Allah lah yg tahu, melihat ucapannya AKAN IKUT CAWE-CAWE menandakan akan terulangnya Pilpres 2019 yg penuh tipu muslihat... https://t.co/QOzivxd8Wb'],\n",
       " ['Cawe-cawe Pilpres, Sikap Jokowi Disebut Bukan Negarawan, Ini Komentar Nasdem, Demokrat, dan PKS\\n\\n#TribunKaltim #Pilpres2024 #Jokowi\\n \\nkaltim.tribunnews.com/2023/05/31/caw… lewat @tribunkaltim'],\n",
       " ['Dulu ada partai yang mengkritik pak SBY agar netral di pilpres, sekarang ada presiden yang terang-terangan tidak netral dalam pilpres 2024 kenapa mereka pura-pura bisu &amp; tuli? https://t.co/iKblPsHRYc'],\n",
       " ['@VeelaaRhie @jokowi Rupanya ketakutan sekali kalau sampai Anies menang Pilpres 2024 maka tamatlah riwayat Jokowi sibongkar habis kasus Proyek Infrastruktur yg bobrok spt video dlm Podcast Akbar Faisal https://t.co/UVN3XBauE6'],\n",
       " ['Betapa bebasnya pak Jokowi saat lengser sebagai presiden dan menikmati perhelatan pilpres 2024 nanti, dimana beliau sudah tidak terlibat kepentingan politik lagi'],\n",
       " ['@abwnews_ Gassss\\nIngat para relawan... 2024 KPU, Bawaslu, Rezim adalah musuh nyata pilkada, pilpres.. so wajib dan harus benar benar waspada para saksi, KPPS untuk menjaga diri kalian dari musibah apa yg terjadi di 2019....\\nJangan makan dan minum dari orang orang yg tidak dikenal'],\n",
       " ['Apa bedanya Ahok di Pilkada DKI 2017 ( isu agama ) dengan Jusuf Kalla menjelang Pilpres 2024 ( isu rasis ) ???'],\n",
       " ['Blak-blakan Mau Cawe-cawe di Pilpres 2024, Jokowi Telah Jujur Ingin Jegal Anies Baswedan? Demokrat Tegas: Jangan Salahkan Publik Jika... wartaekonomi.co.id/read501869/bla…'],\n",
       " ['@KompasTV Takut banget sih jagoan capresnya kalah di pilpres 2024 sampe harus ikut campur urusan copras capres segala.'],\n",
       " ['Presiden Jokowi cawe-cawe jelang Pemilu 2024, Jusuf Kalla sebut untuk demokrasi berjalan baik, kita dukung.\\n\\n#TribunKaltim #Jokowi #JK #Pilpres2024\\n \\nkaltim.tribunnews.com/2023/05/31/jok… lewat @tribunkaltim'],\n",
       " ['@tifsembiring Indonesia,Pilpres Kardus digembok.\\n2019-2024,itu Presidennya Prabowo,tp Napa bisa Jokowi yg menjabat.\\n#padamkanpdip'],\n",
       " ['@KompasTV Klo karena gak ketakutan jagoan capresnya akan kalah di pilpres ya gak akan ikut campur urusan copras capres segala. Akankah PEMILU 2024 bisa JURDIL ?'],\n",
       " ['Cak Imin Khawatir Bila Tak Jadi Cawapres di Pilpres 2024, PKB akan Goyang - Info Indonesia - iNFO iNDONESIA #Prabowo #BangkitBersama dlvr.it/SptXZ1'],\n",
       " ['Ganjalan Besar Wacana Duet Ganjar dan Prabowo di Pilpres 2024... - Kompas.com - Nasional Kompas.com #Prabowo #PrabowoUnggul dlvr.it/SptXWn'],\n",
       " ['Pilpres 2024: Ganjar - Prabowo atau Sebaliknya, Ini Dia Faktor Penentunya versi Pengamat - Tribun Jogja #Prabowo #PrabowoUnggul dlvr.it/SptXW3'],\n",
       " ['Terkini! Peta Kekuatan Prabowo dan Anies Jelang Pilpres 2024 - detikJateng #Prabowo #PrabowoUnggul dlvr.it/SptXTF'],\n",
       " ['Ini pertanda telunjuk dan suara Pak Jokowi pada Pilpres 2024 masih sangat menakutkan lawan2 Politiknya..']]"
      ]
     },
     "execution_count": 43,
     "metadata": {},
     "output_type": "execute_result"
    }
   ],
   "source": [
    "tweets"
   ]
  },
  {
   "cell_type": "code",
   "execution_count": 44,
   "id": "ce13c918",
   "metadata": {},
   "outputs": [],
   "source": [
    "tweet_df = pd.DataFrame(tweets, columns=['tweet'])"
   ]
  },
  {
   "cell_type": "code",
   "execution_count": 45,
   "id": "57edb458",
   "metadata": {},
   "outputs": [
    {
     "name": "stdout",
     "output_type": "stream",
     "text": [
      "                                                tweet\n",
      "0   Ganjar Pranowo siap melanjutkan program progra...\n",
      "1   @ReflyHZ @YouTube Resmi!!! Presiden Joko Widod...\n",
      "2   @tifsembiring Ini paling ada hubunganx dg pilp...\n",
      "3   Ganjar Pranowo pemimpin idaman rakyat \\n#Ganja...\n",
      "4   Ganjar Pranowo ajak HIPMI dampingi start up da...\n",
      "..                                                ...\n",
      "56  Cak Imin Khawatir Bila Tak Jadi Cawapres di Pi...\n",
      "57  Ganjalan Besar Wacana Duet Ganjar dan Prabowo ...\n",
      "58  Pilpres 2024: Ganjar - Prabowo atau Sebaliknya...\n",
      "59  Terkini! Peta Kekuatan Prabowo dan Anies Jelan...\n",
      "60  Ini pertanda telunjuk dan suara Pak Jokowi pad...\n",
      "\n",
      "[61 rows x 1 columns]\n"
     ]
    }
   ],
   "source": [
    "print(tweet_df)"
   ]
  },
  {
   "cell_type": "code",
   "execution_count": 18,
   "id": "1a4a7f50",
   "metadata": {},
   "outputs": [
    {
     "name": "stdout",
     "output_type": "stream",
     "text": [
      "                        date                   id  \\\n",
      "54 2023-05-30 16:00:14+00:00  1663576056056668161   \n",
      "55 2023-05-30 15:58:55+00:00  1663575724459184128   \n",
      "56 2023-05-30 15:33:17+00:00  1663569274005487616   \n",
      "57 2023-05-30 15:29:31+00:00  1663568326055047169   \n",
      "58 2023-05-30 15:27:27+00:00  1663567806531772419   \n",
      "\n",
      "                                                tweet         username  \n",
      "54  @__AnakKolong @gibran_tweet Semalam, seorang i...  Pt0nks1matupang  \n",
      "55  @Leonita_Lestari Kayak ngga tahu aja kebiasaan...        aswin2211  \n",
      "56  @__AnakKolong @gibran_tweet Gibran bukan siapa...      SingoYudho_  \n",
      "57  @Lembayung071 @jokowi @prabowo Ane sich yes......      curutonline  \n",
      "58  @lordran44 @aniesbaswedan Bapa Anies Baswedan ...      TunayVallen  \n"
     ]
    }
   ],
   "source": [
    "print(tweet_df.tail())"
   ]
  }
 ],
 "metadata": {
  "kernelspec": {
   "display_name": "Python 3",
   "language": "python",
   "name": "python3"
  },
  "language_info": {
   "codemirror_mode": {
    "name": "ipython",
    "version": 3
   },
   "file_extension": ".py",
   "mimetype": "text/x-python",
   "name": "python",
   "nbconvert_exporter": "python",
   "pygments_lexer": "ipython3",
   "version": "3.9.12"
  },
  "vscode": {
   "interpreter": {
    "hash": "a0ab23ae73b02e2789f3f8b81f004edfa8850c045f12b430a36d57ca70809240"
   }
  }
 },
 "nbformat": 4,
 "nbformat_minor": 5
}
