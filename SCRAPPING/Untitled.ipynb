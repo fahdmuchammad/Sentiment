{
 "cells": [
  {
   "cell_type": "code",
   "execution_count": 1,
   "id": "14c47fc8",
   "metadata": {},
   "outputs": [
    {
     "name": "stdout",
     "output_type": "stream",
     "text": [
      "3.8.16\n"
     ]
    }
   ],
   "source": [
    "from platform import python_version\n",
    "\n",
    "print(python_version())"
   ]
  },
  {
   "cell_type": "code",
   "execution_count": 2,
   "id": "82471539",
   "metadata": {},
   "outputs": [
    {
     "name": "stdout",
     "output_type": "stream",
     "text": [
      "Collecting snscrape\n",
      "  Downloading snscrape-0.5.0.20230113-py3-none-any.whl (69 kB)\n",
      "\u001b[2K     \u001b[90m━━━━━━━━━━━━━━━━━━━━━━━━━━━━━━━━━━━━━━━━\u001b[0m \u001b[32m69.2/69.2 kB\u001b[0m \u001b[31m98.2 kB/s\u001b[0m eta \u001b[36m0:00:00\u001b[0ma \u001b[36m0:00:01\u001b[0m\n",
      "\u001b[?25hCollecting filelock\n",
      "  Downloading filelock-3.9.0-py3-none-any.whl (9.7 kB)\n",
      "Collecting requests[socks]\n",
      "  Downloading requests-2.28.2-py3-none-any.whl (62 kB)\n",
      "\u001b[2K     \u001b[90m━━━━━━━━━━━━━━━━━━━━━━━━━━━━━━━━━━━━━━━━\u001b[0m \u001b[32m62.8/62.8 kB\u001b[0m \u001b[31m87.9 kB/s\u001b[0m eta \u001b[36m0:00:00\u001b[0m00:01\u001b[0m00:01\u001b[0m\n",
      "\u001b[?25hCollecting beautifulsoup4\n",
      "  Downloading beautifulsoup4-4.11.2-py3-none-any.whl (129 kB)\n",
      "\u001b[2K     \u001b[90m━━━━━━━━━━━━━━━━━━━━━━━━━━━━━━━━━━━━━━\u001b[0m \u001b[32m129.4/129.4 kB\u001b[0m \u001b[31m50.6 kB/s\u001b[0m eta \u001b[36m0:00:00\u001b[0ma \u001b[36m0:00:01\u001b[0m\n",
      "\u001b[?25hCollecting pytz\n",
      "  Downloading pytz-2022.7.1-py2.py3-none-any.whl (499 kB)\n",
      "\u001b[2K     \u001b[90m━━━━━━━━━━━━━━━━━━━━━━━━━━━━━━━━━━━━━━\u001b[0m \u001b[32m499.4/499.4 kB\u001b[0m \u001b[31m75.9 kB/s\u001b[0m eta \u001b[36m0:00:00\u001b[0m00:01\u001b[0m00:01\u001b[0m\n",
      "\u001b[?25hCollecting lxml\n",
      "  Downloading lxml-4.9.2-cp38-cp38-macosx_10_15_x86_64.whl (4.7 MB)\n",
      "\u001b[2K     \u001b[90m━━━━━━━━━━━━━━━━━━━━━━━━━━━━━━━━━━━━━━━━\u001b[0m \u001b[32m4.7/4.7 MB\u001b[0m \u001b[31m89.5 kB/s\u001b[0m eta \u001b[36m0:00:00\u001b[0m00:01\u001b[0m00:02\u001b[0m\n",
      "\u001b[?25hCollecting soupsieve>1.2\n",
      "  Downloading soupsieve-2.3.2.post1-py3-none-any.whl (37 kB)\n",
      "Collecting idna<4,>=2.5\n",
      "  Downloading idna-3.4-py3-none-any.whl (61 kB)\n",
      "\u001b[2K     \u001b[90m━━━━━━━━━━━━━━━━━━━━━━━━━━━━━━━━━━━━━━━\u001b[0m \u001b[32m61.5/61.5 kB\u001b[0m \u001b[31m171.9 kB/s\u001b[0m eta \u001b[36m0:00:00\u001b[0m00:01\u001b[0m00:01\u001b[0m\n",
      "\u001b[?25hRequirement already satisfied: certifi>=2017.4.17 in /opt/anaconda3/envs/scrapping/lib/python3.8/site-packages (from requests[socks]->snscrape) (2022.12.7)\n",
      "Collecting urllib3<1.27,>=1.21.1\n",
      "  Downloading urllib3-1.26.14-py2.py3-none-any.whl (140 kB)\n",
      "\u001b[2K     \u001b[90m━━━━━━━━━━━━━━━━━━━━━━━━━━━━━━━━━━━━━\u001b[0m \u001b[32m140.6/140.6 kB\u001b[0m \u001b[31m137.6 kB/s\u001b[0m eta \u001b[36m0:00:00\u001b[0ma \u001b[36m0:00:01\u001b[0m\n",
      "\u001b[?25hCollecting charset-normalizer<4,>=2\n",
      "  Downloading charset_normalizer-3.0.1-cp38-cp38-macosx_10_9_x86_64.whl (122 kB)\n",
      "\u001b[2K     \u001b[90m━━━━━━━━━━━━━━━━━━━━━━━━━━━━━━━━━━━━━\u001b[0m \u001b[32m122.9/122.9 kB\u001b[0m \u001b[31m136.7 kB/s\u001b[0m eta \u001b[36m0:00:00\u001b[0ma \u001b[36m0:00:01\u001b[0m\n",
      "\u001b[?25hCollecting PySocks!=1.5.7,>=1.5.6\n",
      "  Downloading PySocks-1.7.1-py3-none-any.whl (16 kB)\n",
      "Installing collected packages: pytz, charset-normalizer, urllib3, soupsieve, PySocks, lxml, idna, filelock, requests, beautifulsoup4, snscrape\n",
      "Successfully installed PySocks-1.7.1 beautifulsoup4-4.11.2 charset-normalizer-3.0.1 filelock-3.9.0 idna-3.4 lxml-4.9.2 pytz-2022.7.1 requests-2.28.2 snscrape-0.5.0.20230113 soupsieve-2.3.2.post1 urllib3-1.26.14\n"
     ]
    }
   ],
   "source": [
    "!pip install snscrape"
   ]
  },
  {
   "cell_type": "code",
   "execution_count": 6,
   "id": "6505771f",
   "metadata": {},
   "outputs": [
    {
     "name": "stdout",
     "output_type": "stream",
     "text": [
      "Collecting pandas\n",
      "  Downloading pandas-1.5.3-cp38-cp38-macosx_10_9_x86_64.whl (11.9 MB)\n",
      "\u001b[2K     \u001b[90m━━━━━━━━━━━━━━━━━━━━━━━━━━━━━━━━━━━━━━━━\u001b[0m \u001b[32m11.9/11.9 MB\u001b[0m \u001b[31m61.0 kB/s\u001b[0m eta \u001b[36m0:00:00\u001b[0m00:01\u001b[0m00:06\u001b[0m\n",
      "\u001b[?25hRequirement already satisfied: python-dateutil>=2.8.1 in /opt/anaconda3/envs/scrapping/lib/python3.8/site-packages (from pandas) (2.8.2)\n",
      "Collecting numpy>=1.20.3\n",
      "  Downloading numpy-1.24.1-cp38-cp38-macosx_10_9_x86_64.whl (19.8 MB)\n",
      "\u001b[2K     \u001b[90m━━━━━━━━━━━━━━━━━━━━━━━━━━━━━━━━━━━━━━━\u001b[0m \u001b[32m19.8/19.8 MB\u001b[0m \u001b[31m163.9 kB/s\u001b[0m eta \u001b[36m0:00:00\u001b[0m00:01\u001b[0m00:04\u001b[0m\n",
      "\u001b[?25hRequirement already satisfied: pytz>=2020.1 in /opt/anaconda3/envs/scrapping/lib/python3.8/site-packages (from pandas) (2022.7.1)\n",
      "Requirement already satisfied: six>=1.5 in /opt/anaconda3/envs/scrapping/lib/python3.8/site-packages (from python-dateutil>=2.8.1->pandas) (1.16.0)\n",
      "Installing collected packages: numpy, pandas\n",
      "Successfully installed numpy-1.24.1 pandas-1.5.3\n",
      "Collecting tqdm\n",
      "  Downloading tqdm-4.64.1-py2.py3-none-any.whl (78 kB)\n",
      "\u001b[2K     \u001b[90m━━━━━━━━━━━━━━━━━━━━━━━━━━━━━━━━━━━━━━━━\u001b[0m \u001b[32m78.5/78.5 kB\u001b[0m \u001b[31m22.3 kB/s\u001b[0m eta \u001b[36m0:00:00\u001b[0ma \u001b[36m0:00:01\u001b[0m\n",
      "\u001b[?25hInstalling collected packages: tqdm\n",
      "Successfully installed tqdm-4.64.1\n"
     ]
    }
   ],
   "source": [
    "!pip install pandas\n",
    "!pip install tqdm"
   ]
  },
  {
   "cell_type": "code",
   "execution_count": 7,
   "id": "8bcef425",
   "metadata": {},
   "outputs": [
    {
     "name": "stdout",
     "output_type": "stream",
     "text": [
      "Collecting datetime\n",
      "  Downloading DateTime-5.0-py3-none-any.whl (52 kB)\n",
      "\u001b[2K     \u001b[90m━━━━━━━━━━━━━━━━━━━━━━━━━━━━━━━━━━━━━━━━\u001b[0m \u001b[32m52.1/52.1 kB\u001b[0m \u001b[31m26.7 kB/s\u001b[0m eta \u001b[36m0:00:00\u001b[0m00:01\u001b[0m00:01\u001b[0m\n",
      "\u001b[?25hRequirement already satisfied: pytz in /opt/anaconda3/envs/scrapping/lib/python3.8/site-packages (from datetime) (2022.7.1)\n",
      "Collecting zope.interface\n",
      "  Downloading zope.interface-5.5.2-cp38-cp38-macosx_10_9_x86_64.whl (209 kB)\n",
      "\u001b[2K     \u001b[90m━━━━━━━━━━━━━━━━━━━━━━━━━━━━━━━━━━━━━\u001b[0m \u001b[32m210.0/210.0 kB\u001b[0m \u001b[31m742.0 kB/s\u001b[0m eta \u001b[36m0:00:00\u001b[0m00:01\u001b[0m00:01\u001b[0m\n",
      "\u001b[?25hRequirement already satisfied: setuptools in /opt/anaconda3/envs/scrapping/lib/python3.8/site-packages (from zope.interface->datetime) (65.6.3)\n",
      "Installing collected packages: zope.interface, datetime\n",
      "Successfully installed datetime-5.0 zope.interface-5.5.2\n"
     ]
    }
   ],
   "source": [
    "!pip install datetime"
   ]
  },
  {
   "cell_type": "code",
   "execution_count": 8,
   "id": "c75e41fa",
   "metadata": {},
   "outputs": [],
   "source": [
    "import pandas as pd\n",
    "from tqdm.notebook import tqdm\n",
    "import snscrape.modules.twitter as sntwitter"
   ]
  },
  {
   "cell_type": "code",
   "execution_count": 9,
   "id": "f3cf0169",
   "metadata": {},
   "outputs": [],
   "source": [
    "import datetime\n",
    "\n",
    "scraper = sntwitter.TwitterSearchScraper('pilpres 2024 since:2022-01-01 until:2022-12-31',top = True)\n"
   ]
  },
  {
   "cell_type": "code",
   "execution_count": 10,
   "id": "ef66a649",
   "metadata": {},
   "outputs": [],
   "source": [
    "for tweet in scraper.get_items():\n",
    "  break"
   ]
  },
  {
   "cell_type": "code",
   "execution_count": 11,
   "id": "ddfb2c1a",
   "metadata": {},
   "outputs": [
    {
     "data": {
      "text/plain": [
       "Tweet(url='https://twitter.com/Mustopa54537862/status/1608301434579324929', date=datetime.datetime(2022, 12, 29, 3, 18, 37, tzinfo=datetime.timezone.utc), rawContent='WASPADA..... PILPRES CURANG TERULANG KEMBALI DI 2024 !!! https://t.co/06NgPbtxLo', renderedContent='WASPADA..... PILPRES CURANG TERULANG KEMBALI DI 2024 !!! https://t.co/06NgPbtxLo', id=1608301434579324929, user=User(username='Mustopa54537862', id=1379712301826076672, displayname='Siap Berjuang Tegap Di Jalan Allah', rawDescription='Aku hanya berlindung kepada Allah dari ģodaan iblis yg terkutuk, Dengan menyebut asma Allah yg maha pengasih maha penyayang', renderedDescription='Aku hanya berlindung kepada Allah dari ģodaan iblis yg terkutuk, Dengan menyebut asma Allah yg maha pengasih maha penyayang', descriptionLinks=None, verified=False, created=datetime.datetime(2021, 4, 7, 8, 27, 26, tzinfo=datetime.timezone.utc), followersCount=808, friendsCount=176, statusesCount=460, favouritesCount=1355, listedCount=0, mediaCount=80, location='Indonesia', protected=False, link=None, profileImageUrl='https://pbs.twimg.com/profile_images/1443193018975068162/1t6IPoi0_normal.jpg', profileBannerUrl='https://pbs.twimg.com/profile_banners/1379712301826076672/1634965830', label=None), replyCount=0, retweetCount=35, likeCount=58, quoteCount=4, conversationId=1608301434579324929, lang='in', source='<a href=\"http://twitter.com/download/android\" rel=\"nofollow\">Twitter for Android</a>', sourceUrl='http://twitter.com/download/android', sourceLabel='Twitter for Android', links=None, media=[Photo(previewUrl='https://pbs.twimg.com/media/FlHVoYAakAQZod9?format=jpg&name=small', fullUrl='https://pbs.twimg.com/media/FlHVoYAakAQZod9?format=jpg&name=large', altText=None)], retweetedTweet=None, quotedTweet=None, inReplyToTweetId=None, inReplyToUser=None, mentionedUsers=None, coordinates=None, place=None, hashtags=None, cashtags=None, card=None, viewCount=2068, vibe=None)"
      ]
     },
     "execution_count": 11,
     "metadata": {},
     "output_type": "execute_result"
    }
   ],
   "source": [
    "tweet"
   ]
  },
  {
   "cell_type": "code",
   "execution_count": null,
   "id": "7be69029",
   "metadata": {},
   "outputs": [
    {
     "ename": "",
     "evalue": "",
     "output_type": "error",
     "traceback": [
      "\u001b[1;31mRunning cells with '/opt/anaconda3/envs/scrapping/bin/python' requires ipykernel package.\n",
      "\u001b[1;31mRun the following command to install 'ipykernel' into the Python environment. \n",
      "\u001b[1;31mCommand: 'conda install -p /opt/anaconda3/envs/scrapping ipykernel --update-deps --force-reinstall'"
     ]
    }
   ],
   "source": [
    "tweets = []\n",
    "n_tweet = 230000\n",
    "for i, tweet in tqdm(enumerate(scraper.get_items()),total=n_tweet):\n",
    "  data = [tweet.date, tweet.id, tweet.content, tweet.user.username]\n",
    "  tweets.append(data)\n",
    "  if i > n_tweet:\n",
    "    break"
   ]
  },
  {
   "cell_type": "code",
   "execution_count": null,
   "id": "8eb87970",
   "metadata": {},
   "outputs": [
    {
     "ename": "",
     "evalue": "",
     "output_type": "error",
     "traceback": [
      "\u001b[1;31mRunning cells with '/opt/anaconda3/envs/scrapping/bin/python' requires ipykernel package.\n",
      "\u001b[1;31mRun the following command to install 'ipykernel' into the Python environment. \n",
      "\u001b[1;31mCommand: 'conda install -p /opt/anaconda3/envs/scrapping ipykernel --update-deps --force-reinstall'"
     ]
    }
   ],
   "source": [
    "len(tweets)"
   ]
  },
  {
   "cell_type": "code",
   "execution_count": null,
   "id": "ce13c918",
   "metadata": {},
   "outputs": [
    {
     "ename": "",
     "evalue": "",
     "output_type": "error",
     "traceback": [
      "\u001b[1;31mRunning cells with '/opt/anaconda3/envs/scrapping/bin/python' requires ipykernel package.\n",
      "\u001b[1;31mRun the following command to install 'ipykernel' into the Python environment. \n",
      "\u001b[1;31mCommand: 'conda install -p /opt/anaconda3/envs/scrapping ipykernel --update-deps --force-reinstall'"
     ]
    }
   ],
   "source": [
    "tweet_df = pd.DataFrame(tweets, columns=['date','id','tweet','username'])"
   ]
  },
  {
   "cell_type": "code",
   "execution_count": null,
   "id": "57edb458",
   "metadata": {},
   "outputs": [
    {
     "ename": "",
     "evalue": "",
     "output_type": "error",
     "traceback": [
      "\u001b[1;31mRunning cells with '/opt/anaconda3/envs/scrapping/bin/python' requires ipykernel package.\n",
      "\u001b[1;31mRun the following command to install 'ipykernel' into the Python environment. \n",
      "\u001b[1;31mCommand: 'conda install -p /opt/anaconda3/envs/scrapping ipykernel --update-deps --force-reinstall'"
     ]
    }
   ],
   "source": [
    "print(tweet_df)"
   ]
  },
  {
   "cell_type": "code",
   "execution_count": null,
   "id": "1a4a7f50",
   "metadata": {},
   "outputs": [
    {
     "ename": "",
     "evalue": "",
     "output_type": "error",
     "traceback": [
      "\u001b[1;31mRunning cells with '/opt/anaconda3/envs/scrapping/bin/python' requires ipykernel package.\n",
      "\u001b[1;31mRun the following command to install 'ipykernel' into the Python environment. \n",
      "\u001b[1;31mCommand: 'conda install -p /opt/anaconda3/envs/scrapping ipykernel --update-deps --force-reinstall'"
     ]
    }
   ],
   "source": [
    "print(tweet_df.tail())"
   ]
  },
  {
   "cell_type": "code",
   "execution_count": null,
   "id": "e8a365f8",
   "metadata": {},
   "outputs": [
    {
     "ename": "",
     "evalue": "",
     "output_type": "error",
     "traceback": [
      "\u001b[1;31mRunning cells with '/opt/anaconda3/envs/scrapping/bin/python' requires ipykernel package.\n",
      "\u001b[1;31mRun the following command to install 'ipykernel' into the Python environment. \n",
      "\u001b[1;31mCommand: 'conda install -p /opt/anaconda3/envs/scrapping ipykernel --update-deps --force-reinstall'"
     ]
    }
   ],
   "source": [
    "tweet_df.to_csv('testba.csv')"
   ]
  },
  {
   "cell_type": "code",
   "execution_count": null,
   "id": "9930ec52",
   "metadata": {},
   "outputs": [
    {
     "ename": "",
     "evalue": "",
     "output_type": "error",
     "traceback": [
      "\u001b[1;31mRunning cells with '/opt/anaconda3/envs/scrapping/bin/python' requires ipykernel package.\n",
      "\u001b[1;31mRun the following command to install 'ipykernel' into the Python environment. \n",
      "\u001b[1;31mCommand: 'conda install -p /opt/anaconda3/envs/scrapping ipykernel --update-deps --force-reinstall'"
     ]
    }
   ],
   "source": []
  }
 ],
 "metadata": {
  "kernelspec": {
   "display_name": "Python 3",
   "language": "python",
   "name": "python3"
  },
  "language_info": {
   "codemirror_mode": {
    "name": "ipython",
    "version": 3
   },
   "file_extension": ".py",
   "mimetype": "text/x-python",
   "name": "python",
   "nbconvert_exporter": "python",
   "pygments_lexer": "ipython3",
   "version": "3.8.16"
  },
  "vscode": {
   "interpreter": {
    "hash": "a0ab23ae73b02e2789f3f8b81f004edfa8850c045f12b430a36d57ca70809240"
   }
  }
 },
 "nbformat": 4,
 "nbformat_minor": 5
}
