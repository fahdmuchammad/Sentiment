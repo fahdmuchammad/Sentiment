{
 "cells": [
  {
   "cell_type": "code",
   "execution_count": 1,
   "id": "14c47fc8",
   "metadata": {},
   "outputs": [
    {
     "name": "stdout",
     "output_type": "stream",
     "text": [
      "3.9.12\n"
     ]
    }
   ],
   "source": [
    "from platform import python_version\n",
    "\n",
    "print(python_version())"
   ]
  },
  {
   "cell_type": "code",
   "execution_count": 3,
   "id": "82471539",
   "metadata": {},
   "outputs": [
    {
     "name": "stdout",
     "output_type": "stream",
     "text": [
      "Collecting git+https://github.com/JustAnotherArchivist/snscrape.git\n",
      "  Cloning https://github.com/JustAnotherArchivist/snscrape.git to /private/var/folders/md/n3wx2h2116zfry84m6sz4k5w0000gn/T/pip-req-build-ffa99e1y\n",
      "  Running command git clone -q https://github.com/JustAnotherArchivist/snscrape.git /private/var/folders/md/n3wx2h2116zfry84m6sz4k5w0000gn/T/pip-req-build-ffa99e1y\n",
      "  Resolved https://github.com/JustAnotherArchivist/snscrape.git to commit 614d4c2029a62d348ca56598f87c425966aaec66\n",
      "  Installing build dependencies ... \u001b[?25ldone\n",
      "\u001b[?25h  Getting requirements to build wheel ... \u001b[?25ldone\n",
      "\u001b[?25h  Installing backend dependencies ... \u001b[?25ldone\n",
      "\u001b[?25h    Preparing wheel metadata ... \u001b[?25ldone\n",
      "\u001b[?25hRequirement already satisfied: lxml in /opt/anaconda3/lib/python3.9/site-packages (from snscrape==0.7.0.20230622) (4.8.0)\n",
      "Requirement already satisfied: beautifulsoup4 in /opt/anaconda3/lib/python3.9/site-packages (from snscrape==0.7.0.20230622) (4.11.1)\n",
      "Requirement already satisfied: filelock in /opt/anaconda3/lib/python3.9/site-packages (from snscrape==0.7.0.20230622) (3.6.0)\n",
      "Requirement already satisfied: requests[socks] in /opt/anaconda3/lib/python3.9/site-packages (from snscrape==0.7.0.20230622) (2.27.1)\n",
      "Requirement already satisfied: soupsieve>1.2 in /opt/anaconda3/lib/python3.9/site-packages (from beautifulsoup4->snscrape==0.7.0.20230622) (2.3.1)\n",
      "Requirement already satisfied: urllib3<1.27,>=1.21.1 in /opt/anaconda3/lib/python3.9/site-packages (from requests[socks]->snscrape==0.7.0.20230622) (1.26.9)\n",
      "Requirement already satisfied: idna<4,>=2.5 in /opt/anaconda3/lib/python3.9/site-packages (from requests[socks]->snscrape==0.7.0.20230622) (3.3)\n",
      "Requirement already satisfied: certifi>=2017.4.17 in /opt/anaconda3/lib/python3.9/site-packages (from requests[socks]->snscrape==0.7.0.20230622) (2021.10.8)\n",
      "Requirement already satisfied: charset-normalizer~=2.0.0 in /opt/anaconda3/lib/python3.9/site-packages (from requests[socks]->snscrape==0.7.0.20230622) (2.0.4)\n",
      "Requirement already satisfied: PySocks!=1.5.7,>=1.5.6 in /opt/anaconda3/lib/python3.9/site-packages (from requests[socks]->snscrape==0.7.0.20230622) (1.7.1)\n",
      "Building wheels for collected packages: snscrape\n",
      "  Building wheel for snscrape (PEP 517) ... \u001b[?25ldone\n",
      "\u001b[?25h  Created wheel for snscrape: filename=snscrape-0.7.0.20230622-py3-none-any.whl size=74814 sha256=8d8045617d0709ae28353fd16ad1ae10b1bc56eb62d5e56f08209941ed8d373c\n",
      "  Stored in directory: /private/var/folders/md/n3wx2h2116zfry84m6sz4k5w0000gn/T/pip-ephem-wheel-cache-ceeli2i2/wheels/1a/ba/e2/39fa3a11802c4a622f2efc8be3f5ff854481051d0b4c95c1fd\n",
      "Successfully built snscrape\n",
      "\u001b[33mWARNING: Error parsing requirements for platformdirs: [Errno 2] No such file or directory: '/Users/fahdmuchammad/.local/lib/python3.9/site-packages/platformdirs-2.6.0.dist-info/METADATA'\u001b[0m\n",
      "Installing collected packages: snscrape\n",
      "  Attempting uninstall: snscrape\n",
      "    Found existing installation: snscrape 0.6.2.20230321.dev50+g0d824ab\n",
      "    Uninstalling snscrape-0.6.2.20230321.dev50+g0d824ab:\n",
      "      Successfully uninstalled snscrape-0.6.2.20230321.dev50+g0d824ab\n",
      "Successfully installed snscrape-0.7.0.20230622\n",
      "Note: you may need to restart the kernel to use updated packages.\n"
     ]
    }
   ],
   "source": [
    "%pip install git+https://github.com/JustAnotherArchivist/snscrape.git"
   ]
  },
  {
   "cell_type": "code",
   "execution_count": 3,
   "id": "6505771f",
   "metadata": {},
   "outputs": [
    {
     "name": "stdout",
     "output_type": "stream",
     "text": [
      "Requirement already satisfied: pandas in /opt/anaconda3/lib/python3.9/site-packages (1.4.2)\n",
      "Requirement already satisfied: python-dateutil>=2.8.1 in /opt/anaconda3/lib/python3.9/site-packages (from pandas) (2.8.2)\n",
      "Requirement already satisfied: pytz>=2020.1 in /opt/anaconda3/lib/python3.9/site-packages (from pandas) (2021.3)\n",
      "Requirement already satisfied: numpy>=1.18.5 in /opt/anaconda3/lib/python3.9/site-packages (from pandas) (1.21.5)\n",
      "Requirement already satisfied: six>=1.5 in /opt/anaconda3/lib/python3.9/site-packages (from python-dateutil>=2.8.1->pandas) (1.16.0)\n",
      "\u001b[33mWARNING: Error parsing requirements for platformdirs: [Errno 2] No such file or directory: '/Users/fahdmuchammad/.local/lib/python3.9/site-packages/platformdirs-2.6.0.dist-info/METADATA'\u001b[0m\n",
      "Requirement already satisfied: tqdm in /opt/anaconda3/lib/python3.9/site-packages (4.64.0)\n",
      "\u001b[33mWARNING: Error parsing requirements for platformdirs: [Errno 2] No such file or directory: '/Users/fahdmuchammad/.local/lib/python3.9/site-packages/platformdirs-2.6.0.dist-info/METADATA'\u001b[0m\n"
     ]
    }
   ],
   "source": [
    "%pip install pandas\n",
    "%pip install tqdm"
   ]
  },
  {
   "cell_type": "code",
   "execution_count": 4,
   "id": "8bcef425",
   "metadata": {},
   "outputs": [
    {
     "name": "stdout",
     "output_type": "stream",
     "text": [
      "Collecting datetime\n",
      "  Downloading DateTime-5.1-py3-none-any.whl (52 kB)\n",
      "\u001b[K     |████████████████████████████████| 52 kB 908 kB/s eta 0:00:01\n",
      "\u001b[?25hRequirement already satisfied: pytz in /opt/anaconda3/lib/python3.9/site-packages (from datetime) (2021.3)\n",
      "Requirement already satisfied: zope.interface in /opt/anaconda3/lib/python3.9/site-packages (from datetime) (5.4.0)\n",
      "Requirement already satisfied: setuptools in /opt/anaconda3/lib/python3.9/site-packages (from zope.interface->datetime) (61.2.0)\n",
      "\u001b[33mWARNING: Error parsing requirements for platformdirs: [Errno 2] No such file or directory: '/Users/fahdmuchammad/.local/lib/python3.9/site-packages/platformdirs-2.6.0.dist-info/METADATA'\u001b[0m\n",
      "Installing collected packages: datetime\n",
      "Successfully installed datetime-5.1\n"
     ]
    }
   ],
   "source": [
    "%pip install datetime"
   ]
  },
  {
   "cell_type": "code",
   "execution_count": 4,
   "id": "c75e41fa",
   "metadata": {},
   "outputs": [],
   "source": [
    "import pandas as pd\n",
    "from tqdm.notebook import tqdm\n",
    "import snscrape.modules.twitter as sntwitter"
   ]
  },
  {
   "cell_type": "code",
   "execution_count": 5,
   "id": "f3cf0169",
   "metadata": {},
   "outputs": [],
   "source": [
    "import datetime\n",
    "\n",
    "scraper = sntwitter.TwitterSearchScraper('pilpres 2024 OR prabowo OR anies OR ganjar since:2022-01-01 until:2022-12-31')\n"
   ]
  },
  {
   "cell_type": "code",
   "execution_count": 6,
   "id": "ef66a649",
   "metadata": {},
   "outputs": [],
   "source": [
    "for tweet in scraper.get_items():\n",
    "  break"
   ]
  },
  {
   "cell_type": "code",
   "execution_count": 7,
   "id": "ddfb2c1a",
   "metadata": {},
   "outputs": [
    {
     "data": {
      "text/plain": [
       "Tweet(url='https://twitter.com/Fuad_Lha9/status/1608973846308360192', date=datetime.datetime(2022, 12, 30, 23, 50, 32, tzinfo=datetime.timezone.utc), rawContent='Berkat kinerja di BUMN, serta kedekatan dengan pemerintah, membuat elektabilitas terus meningkat. Atas dasar itu, dinilai jadi Cawapres terkuat di Pilpres 2024.\\n\\n@erickthohir\\n#BangkitBersamaET https://t.co/1kxqJpwT66', renderedContent='Berkat kinerja di BUMN, serta kedekatan dengan pemerintah, membuat elektabilitas terus meningkat. Atas dasar itu, dinilai jadi Cawapres terkuat di Pilpres 2024.\\n\\n@erickthohir\\n#BangkitBersamaET https://t.co/1kxqJpwT66', id=1608973846308360192, user=User(username='Fuad_Lha9', id=1442133858338496512, displayname='Tukang Push', rawDescription='#ProPemerintah', renderedDescription='#ProPemerintah', descriptionLinks=None, verified=False, created=datetime.datetime(2021, 9, 26, 14, 29, 53, tzinfo=datetime.timezone.utc), followersCount=1476, friendsCount=1370, statusesCount=63224, favouritesCount=55478, listedCount=1, mediaCount=1174, location='', protected=None, link=None, profileImageUrl='https://pbs.twimg.com/profile_images/1442595270923935747/OOQMPndv_normal.jpg', profileBannerUrl='https://pbs.twimg.com/profile_banners/1442133858338496512/1632667153', label=None, blue=False, blueType=None, profileImageShape=None), replyCount=0, retweetCount=8, likeCount=9, quoteCount=0, conversationId=1608973846308360192, lang='in', source=None, sourceUrl=None, sourceLabel=None, links=None, media=[Photo(previewUrl='https://pbs.twimg.com/media/FlQ5LQ7agAEIQEe?format=jpg&name=small', fullUrl='https://pbs.twimg.com/media/FlQ5LQ7agAEIQEe?format=jpg&name=orig', altText=None)], retweetedTweet=None, quotedTweet=None, inReplyToTweetId=None, inReplyToUser=None, mentionedUsers=[User(username='erickthohir', id=43088704, displayname='Erick Thohir', rawDescription=None, renderedDescription=None, descriptionLinks=None, verified=None, created=None, followersCount=None, friendsCount=None, statusesCount=None, favouritesCount=None, listedCount=None, mediaCount=None, location=None, protected=None, link=None, profileImageUrl=None, profileBannerUrl=None, label=None, blue=None, blueType=None, profileImageShape=None)], coordinates=None, place=None, hashtags=['BangkitBersamaET'], cashtags=None, card=None, viewCount=109, vibe=None, bookmarkCount=0, pinned=None, editState=EditState(editTweetIds=[1608973846308360192], editableUntilDate=datetime.datetime(2022, 12, 31, 0, 20, 32, tzinfo=datetime.timezone.utc), editsRemaining=5), conversationControlPolicy=<ConversationControlPolicy.EVERYONE: 'everyone'>)"
      ]
     },
     "execution_count": 7,
     "metadata": {},
     "output_type": "execute_result"
    }
   ],
   "source": [
    "tweet"
   ]
  },
  {
   "cell_type": "code",
   "execution_count": 8,
   "id": "7be69029",
   "metadata": {},
   "outputs": [
    {
     "data": {
      "application/vnd.jupyter.widget-view+json": {
       "model_id": "9797ba0fcd5a401e856fb2000cde7918",
       "version_major": 2,
       "version_minor": 0
      },
      "text/plain": [
       "  0%|          | 0/1000000 [00:00<?, ?it/s]"
      ]
     },
     "metadata": {},
     "output_type": "display_data"
    },
    {
     "name": "stderr",
     "output_type": "stream",
     "text": [
      "Skipping unrecognised entry ID: 'promoted-tweet-1671732498685112330-32e8ce05edd8b39c'\n",
      "Skipping unrecognised entry ID: 'promoted-tweet-1665784808470089729-32e8271558bb0c01'\n",
      "Skipping unrecognised entry ID: 'promoted-tweet-1670672759792304128-32e8398350afd839'\n",
      "Skipping unrecognised entry ID: 'promoted-tweet-1671732498685112330-32e89a97a6503126'\n",
      "Stopping after 20 empty pages\n"
     ]
    }
   ],
   "source": [
    "tweets = []\n",
    "n_tweet = 1000000\n",
    "for i, tweet in tqdm(enumerate(scraper.get_items()),total=n_tweet):\n",
    "  data = [tweet.date, tweet.renderedContent, tweet.user.username]\n",
    "  tweets.append(data)\n",
    "  if i > n_tweet:\n",
    "    break"
   ]
  },
  {
   "cell_type": "code",
   "execution_count": 9,
   "id": "8eb87970",
   "metadata": {},
   "outputs": [
    {
     "data": {
      "text/plain": [
       "22"
      ]
     },
     "execution_count": 9,
     "metadata": {},
     "output_type": "execute_result"
    }
   ],
   "source": [
    "len(tweets)"
   ]
  },
  {
   "cell_type": "code",
   "execution_count": 10,
   "id": "f2679659",
   "metadata": {},
   "outputs": [
    {
     "data": {
      "text/plain": [
       "[[datetime.datetime(2022, 12, 30, 23, 50, 32, tzinfo=datetime.timezone.utc),\n",
       "  'Berkat kinerja di BUMN, serta kedekatan dengan pemerintah, membuat elektabilitas terus meningkat. Atas dasar itu, dinilai jadi Cawapres terkuat di Pilpres 2024.\\n\\n@erickthohir\\n#BangkitBersamaET https://t.co/1kxqJpwT66',\n",
       "  'Fuad_Lha9'],\n",
       " [datetime.datetime(2022, 12, 30, 23, 50, 16, tzinfo=datetime.timezone.utc),\n",
       "  \"@ganjarpranowo menggandeng\\xa0ulama\\xa0hingga\\xa0tokoh agama\\xa0dalam memberikan suasana 'adem' menjelang\\xa0Pemilu\\xa02024 di Jateng. Menurut Ganjar, peran mereka sangat penting untuk mengedukasi masyarakat menjelang Pilpres 2024. https://t.co/x0DARLOxzG\",\n",
       "  'iwan_tata98'],\n",
       " [datetime.datetime(2022, 12, 30, 23, 40, 27, tzinfo=datetime.timezone.utc),\n",
       "  'Mantap 👍👍\\nElektabilitas Menteri BUMN Erick Thohir menempati posisi teratas sebagai bakal calon wakil presiden menjelang Pilpres 2024.\\n#BangkitBersamaET https://t.co/h3M1HU0pXe',\n",
       "  'Lima8Satu'],\n",
       " [datetime.datetime(2022, 12, 30, 23, 23, 54, tzinfo=datetime.timezone.utc),\n",
       "  'Yuhuu ✊ \"ETHO satu step lebih maju untuk menjadi RI dua.\"\\n\\nDilihat dari kinerjanya yang sangat memuaskan publik, tak heran bila menjadi Menteri yang konsisten didukung sebagai cawapres di Pilpres 2024.\\n@erickthohir\\n#BangkitBersamaET https://t.co/Y1HZfNnQtv',\n",
       "  'denni_sauya'],\n",
       " [datetime.datetime(2022, 12, 30, 23, 5, 47, tzinfo=datetime.timezone.utc),\n",
       "  'PKS Dorong Terwujudnya 3 Paslon di Pilpres 2024\\n\\n #Sindonews #BukanBeritaBiasa .nasional.sindonews.com/read/983417/12…',\n",
       "  'Niki_Mirzaaa'],\n",
       " [datetime.datetime(2022, 12, 30, 22, 55, 15, tzinfo=datetime.timezone.utc),\n",
       "  'PKS Dorong Terwujudnya 3 Paslon di Pilpres 2024\\n\\n #Sindonews #BukanBeritaBiasa .nasional.sindonews.com/read/983417/12…',\n",
       "  'ricko_liquid'],\n",
       " [datetime.datetime(2022, 12, 30, 22, 44, 2, tzinfo=datetime.timezone.utc),\n",
       "  'PKS Dorong Terwujudnya 3 Paslon di Pilpres 2024\\n\\n #Sindonews #BukanBeritaBiasa .nasional.sindonews.com/read/983417/12…',\n",
       "  'SINDOnews'],\n",
       " [datetime.datetime(2022, 12, 30, 22, 3, 6, tzinfo=datetime.timezone.utc),\n",
       "  '@KaRdinYaaSaman Kalau pilpres 2014 dan 2019 dgn memilih prabowo itu suatu kesalahan maka pilpres 2024 saya bertaubat dgn taubatan nasuha 🤣',\n",
       "  'Nhahwa1'],\n",
       " [datetime.datetime(2022, 12, 30, 21, 45, 18, tzinfo=datetime.timezone.utc),\n",
       "  'Ada 17 Parpol yang akan bersaing pada Pileg 2024 selanjutnya Pilpres. Amati, cermati dari sekarang untuk menentukan pilihan anda secara tepat, baik dan benar..',\n",
       "  'UhirdariatmanA'],\n",
       " [datetime.datetime(2022, 12, 30, 21, 34, 24, tzinfo=datetime.timezone.utc),\n",
       "  'Tahun 2023 besok adalah awal tahun politik. Satu tahun bukan waktu yang panjang, dimana tahun 2024 ada 27 Parpol yang akan memperebutkan simpati rakyat baik pileg maupun Pilpres ...',\n",
       "  'UhirdariatmanA'],\n",
       " [datetime.datetime(2022, 12, 30, 21, 25, 30, tzinfo=datetime.timezone.utc),\n",
       "  'Banyak orang berbondong-bondong menjadi relawan Anies Baswedan pada Pilpres 2024. Begitu juga yang terjadi Kabupaten Blitar, Jawa Timur.\\n\\nDi Blitar ini, relawannya justru paling banyak dari kalangan pensiunan ASN dan tenaga pendidik atau guru… kbanews.com/geliat-daerah/…',\n",
       "  'BangUmar_'],\n",
       " [datetime.datetime(2022, 12, 30, 20, 59, 13, tzinfo=datetime.timezone.utc),\n",
       "  '#rk24\\n#rkri124\\nPrediksi Pilpres Tahun 2024 akan diikuti 4 (empat ) Capres, Yaitu :\\n\\n1. Prabowo Subianto\\n (Gerindra+PKB)\\n\\n2. Anies Baswedan\\n(Nasdem+PKS+perindo+Hanura)\\n\\n3. Ganjar Pranowo\\n(PDIP+PSI)\\n\\n4. Ridwan Kamil\\n(GOLKAR+PAN+PPP) https://t.co/QxTz71Yra3',\n",
       "  'TEABOBI'],\n",
       " [datetime.datetime(2022, 12, 30, 20, 58, 19, tzinfo=datetime.timezone.utc),\n",
       "  '#rk24\\n#rkri124\\nPrediksi Pilpres Tahun 2024 akan diikuti 4 (empat ) Capres, Yaitu :\\n\\n1. Prabowo Subianto\\n (Gerindra+PKB)\\n\\n2. Anies Baswedan\\n(Nasdem+PKS+perindo+Hanura)\\n\\n3. Ganjar Pranowo\\n(PDIP+PSI)\\n\\n4. Ridwan Kamil\\n(GOLKAR+PAN+PPP) https://t.co/xVniDEaZon',\n",
       "  'ArahResikInd'],\n",
       " [datetime.datetime(2022, 12, 30, 19, 35, 4, tzinfo=datetime.timezone.utc),\n",
       "  'Dorong 3 Poros di Pilpres 2024, PKS: Bisa\\xa0Mitigasi Terjadinya Polarisasi\\xa0 dlvr.it/Sg91LK',\n",
       "  'liputan6dotcom'],\n",
       " [datetime.datetime(2022, 12, 30, 19, 27, 10, tzinfo=datetime.timezone.utc),\n",
       "  '@Fahrihamzah Sudah ada capres kah kaka untuk pilpres di 2024? Atau bang fahri yg ingin diusung jadi capres?',\n",
       "  'alexcandriya'],\n",
       " [datetime.datetime(2022, 12, 30, 19, 5, 18, tzinfo=datetime.timezone.utc),\n",
       "  'Pengamat Politik Adi Prayitno menilai, PDIP nampaknya tetap ngotot akan mengusung Puan Maharani di Pilpres 2024 meski elektabilitasnya rendah.\\n\\nPuan Capres PDIP\\nhttps://t.co/MlQYYuV9KI',\n",
       "  'gladinscot'],\n",
       " [datetime.datetime(2022, 12, 30, 19, 0, 11, tzinfo=datetime.timezone.utc),\n",
       "  'Salah satu keputusan yang disepakati yakni kesiapan DPD Lingkar PUAN Sumut untuk mendeklarasikan Puan Maharani sebagai Capres di Pilpres 2024.\\n\\nPuan Capres PDIP\\nift.tt/rRJ7hz4',\n",
       "  'jericodoloroso'],\n",
       " [datetime.datetime(2022, 12, 30, 18, 46, 34, tzinfo=datetime.timezone.utc),\n",
       "  'Gelagapan Cak Nun Ungkit Pilpres 2014, Prabowo: Saya Dukung Pak Jokowi solopos.com/gelagapan-cak-…',\n",
       "  'soloposdotcom'],\n",
       " [datetime.datetime(2022, 12, 30, 18, 43, 55, tzinfo=datetime.timezone.utc),\n",
       "  'Resolusi 2023.. \\n\\nSemoga Indonesia bisa ngadain Pilpres yg beneran jujur ga banyak drama .. \\n\\nBiar 2024 Indonesia punya Presiden baru pilihan Rakyatnya bukan titipan pejabat .. yg Amanah ga dzalim..ga tamak ma kekayaan Alam indonesia ga hobi ngumpulin upeti buat hura\" ..',\n",
       "  'p_vanillasky'],\n",
       " [datetime.datetime(2022, 12, 30, 18, 39, 49, tzinfo=datetime.timezone.utc),\n",
       "  'Jenderal TNI Andika Perkasa Dinilai Penuhi Syarat Proporsi dan Harmoni Maju Pilpres 2024 bekasi.inews.id/read/232575/je…',\n",
       "  'bacalagersmedia'],\n",
       " [datetime.datetime(2022, 12, 30, 18, 4, 8, tzinfo=datetime.timezone.utc),\n",
       "  'Berkat kinerjanya yg baik ,mrmbuat @erickthohir semakin melaju menuju pilpres 2024.\\n#Bangkit BersamaET https://t.co/r9LmB8osTS',\n",
       "  'yudianto99'],\n",
       " [datetime.datetime(2022, 12, 30, 18, 3, 33, tzinfo=datetime.timezone.utc),\n",
       "  '@ELBenny_10 Org ini pernah diundang gerindra, sandi uno, n radikalis pendukung prabowo waktu pilpres lalu. \\nDia mengaku medianya memanipulasi berita n penghasilannya 25-30 jt sebulan.',\n",
       "  'subbejjo']]"
      ]
     },
     "execution_count": 10,
     "metadata": {},
     "output_type": "execute_result"
    }
   ],
   "source": [
    "tweets"
   ]
  },
  {
   "cell_type": "code",
   "execution_count": 13,
   "id": "ce13c918",
   "metadata": {},
   "outputs": [],
   "source": [
    "tweet_df = pd.DataFrame(tweets, columns=['date','tweet','username'])"
   ]
  },
  {
   "cell_type": "code",
   "execution_count": 14,
   "id": "57edb458",
   "metadata": {},
   "outputs": [
    {
     "name": "stdout",
     "output_type": "stream",
     "text": [
      "                        date  \\\n",
      "0  2023-05-30 23:59:44+00:00   \n",
      "1  2023-05-30 23:59:24+00:00   \n",
      "2  2023-05-30 23:53:44+00:00   \n",
      "3  2023-05-30 23:53:03+00:00   \n",
      "4  2023-05-30 23:52:08+00:00   \n",
      "..                       ...   \n",
      "63 2023-05-30 18:03:17+00:00   \n",
      "64 2023-05-30 17:59:48+00:00   \n",
      "65 2023-05-30 17:59:13+00:00   \n",
      "66 2023-05-30 17:57:35+00:00   \n",
      "67 2023-05-30 17:56:23+00:00   \n",
      "\n",
      "                                                tweet         username  \n",
      "0   @ReflyHZ @YouTube Resmi!!! Presiden Joko Widod...         AdeSaung  \n",
      "1   @tifsembiring Ini paling ada hubunganx dg pilp...      DewaSudana9  \n",
      "2   @PDemokrat Sepertinya pak jokowi head to head ...       maha_sakti  \n",
      "3   Cawe-cawe di Pilpres 2024, Jokowi Dinilai Meru...        GoRiauCom  \n",
      "4   @vanc1Bozz Makanya jgn lupa pilpres 2024, hrs ...  rahmaniarbaftim  \n",
      "..                                                ...              ...  \n",
      "63  @Ganjaran_app kami semua optimis kalau pak gan...      ArrivaldiHd  \n",
      "64  Pramono Anung..\\nMana ini Pramono Anung..?\\n\\n...         auliamed  \n",
      "65  Sebulan yg lalu, beberapa alumni HMI lintas pa...     porosprabowo  \n",
      "66  mungkin maksudnya demi kepentingan ibukota neg...    datukpancilok  \n",
      "67  Setuju Presiden Cawe-cawe Pilpres, Gerindra Te...       haelamarie  \n",
      "\n",
      "[68 rows x 3 columns]\n"
     ]
    }
   ],
   "source": [
    "print(tweet_df)"
   ]
  },
  {
   "cell_type": "code",
   "execution_count": 18,
   "id": "1a4a7f50",
   "metadata": {},
   "outputs": [
    {
     "name": "stdout",
     "output_type": "stream",
     "text": [
      "                        date                   id  \\\n",
      "54 2023-05-30 16:00:14+00:00  1663576056056668161   \n",
      "55 2023-05-30 15:58:55+00:00  1663575724459184128   \n",
      "56 2023-05-30 15:33:17+00:00  1663569274005487616   \n",
      "57 2023-05-30 15:29:31+00:00  1663568326055047169   \n",
      "58 2023-05-30 15:27:27+00:00  1663567806531772419   \n",
      "\n",
      "                                                tweet         username  \n",
      "54  @__AnakKolong @gibran_tweet Semalam, seorang i...  Pt0nks1matupang  \n",
      "55  @Leonita_Lestari Kayak ngga tahu aja kebiasaan...        aswin2211  \n",
      "56  @__AnakKolong @gibran_tweet Gibran bukan siapa...      SingoYudho_  \n",
      "57  @Lembayung071 @jokowi @prabowo Ane sich yes......      curutonline  \n",
      "58  @lordran44 @aniesbaswedan Bapa Anies Baswedan ...      TunayVallen  \n"
     ]
    }
   ],
   "source": [
    "print(tweet_df.tail())"
   ]
  }
 ],
 "metadata": {
  "kernelspec": {
   "display_name": "Python 3",
   "language": "python",
   "name": "python3"
  },
  "language_info": {
   "codemirror_mode": {
    "name": "ipython",
    "version": 3
   },
   "file_extension": ".py",
   "mimetype": "text/x-python",
   "name": "python",
   "nbconvert_exporter": "python",
   "pygments_lexer": "ipython3",
   "version": "3.9.12"
  },
  "vscode": {
   "interpreter": {
    "hash": "a0ab23ae73b02e2789f3f8b81f004edfa8850c045f12b430a36d57ca70809240"
   }
  }
 },
 "nbformat": 4,
 "nbformat_minor": 5
}
